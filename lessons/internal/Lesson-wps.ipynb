{
 "cells": [
  {
   "cell_type": "markdown",
   "metadata": {},
   "source": [
    "# Lesson - WPS\n",
    "# Defining the model domain and initial conditions using the WRF Preprocessing System (WPS) and associated tools\n",
    "\n",
    "## Overview\n",
    "This lesson covers creating your case-specific domain and defining static and initial conditions used for the land surface model within WRF-Hydro. \n",
    "\n",
    "### Software and conventions\n",
    "The lesson uses the [wrfhydro/wps:conus-training-v5.1.1](https://hub.docker.com/r/wrfhydro/wps) Docker container. There are both standard and training versions of the wrfhydro/wps container. The former run as a service using the directions posted on the [wrfhydro/wps DockerHub landing page](https://hub.docker.com/r/wrfhydro/wps) and the latter include the JupyterLab server allowing users to work with the container interactively and through training notebooks.\n",
    "\n",
    "The containers include the following:\n",
    "* Ubuntu base image\n",
    "* WRF and WPS v3.9 built with the GNU Fortran compiler ‘gfortran’\n",
    "* Python 3.6 command line utility for creating WRF-Hydro geogrid files using the WPS geogrid.exe program\n",
    "* R environment including all libraries for running create_wrfinput and create_soilproperties scripts\n",
    "* WRF-WPS geographical input data for the contiguous United States ONLY USGS+DEFAULT DATASETS ARE SUPPORTED, lai_modis_30s, nlcd2011_30m, and topo_30s are subsets for training purposes only\n",
    "\n",
    "To complete this tutorial you may either execute commands by running each cell of this notebook. Alternatively, you may open a terminal in JupyterLab by selecting `File -> New -> Terminal` in JupyterLab and input the commands manually if you prefer. You can also use your own terminal by logging into the container with the command `docker exec -it wps-training bash`\n",
    "\n",
    "All paths used in this lesson assume that the lesson materials are located under your home directory in a folder named `wrf-hydro-training`. If your materials are located in another directory, you will not be able to run the commands in this notebook inside Jupyter and will need to type them manually in your terminal session.\n",
    "\n",
    "## Defining the model domain and creating the geogrid file\n",
    "WRF-Hydro leverages the extensive domain generation and geophysical dataset processing tools available in the [WRF Preprocessing System (WPS)](http://www2.mmm.ucar.edu/wrf/users/) to define model domains and generate input files for the land surface model. In particular WRF-Hydro requires the geogrid and wrfinput files derived from these WPS utilities and in the case of wrfinput a utility within WRF as well. \n",
    "\n",
    "However, this requires that WRF-Hydro users build WRF and WPS on their systems, unpack the large datasets required for these utilties, and obtain meterological data required to run utilities intended to be used for the initialization of atmospheric models. Additionally, much of the functionality of WRF and WPS is not utilized for creating a geogrid file for WRF-Hydro, and many of the options in the *namelist.wps* are not relevant to this process. Therefore, we have created a Docker container, Python command line utility, and several script packages to abstract much of the WRF/WPS complexity and simplify the process of creating a these files for WRF-Hydro users.\n",
    "\n",
    "This tutorial walks users through the process of manually creating a geogrid file from an existing WPS installation and creating wrfinput files from provided script packages as well as using the Python utility to generate geogrid and wrfinput files for a more automated approach.  For those interested in the details of running the complete WPS system and generating wrfinput files through WRF this is covered in our Docker training on the coupled WRF and WRF-Hydro modeling system.\n",
    "\n",
    "### Data sources\n",
    "The WPS geographical input data (e.g. land cover, soil texture, and terrain height) are some of the primary datasets used by WRF-Hydro. The entire dataset collection can be obtained from the WPS geographical input data [download page](http://www2.mmm.ucar.edu/wrf/users/download/get_sources_wps_geog.html). However, these data are rather large (~50GB) and contain a number of datasets that are not used in most implementations of WRF-Hydro. \n",
    "\n",
    "To facilitate the domain generation process, the WRF-Hydro team has created a subset of the data by removing unnecessary data, removing resolutions of the data not commonly used, and limiting the areal extent of this subset. This is consistent with the availability of other datasets used in this tutorial. Thus, the dataset provided with the wrfhydro/wps Docker container is considerably smaller than the complete WRF-WPS dataset.\n",
    "\n",
    "### geogrid.exe\n",
    "The WPS program *geogrid.exe* is used to create the *geo_em.d01.nc* file, hereafter referred to as the 'geogrid' file. The *geogrid.exe* program takes a Fortran namelist (*namelist.wps*) defining the projection, resolution, and extent of the model domain as well as the desired input fields and the [WPS geographical input data](http://www2.mmm.ucar.edu/wrf/users/download/get_sources_wps_geog.html) as inputs and creates the geogrid file. \n",
    "\n",
    "### Defining domain boundaries\n",
    "The land surface model in WRF-Hydro operates on the domain defined within the geogrid file. The geogrid.exe program generates this file based upon input variables specified in the *namelist.wps* file. The first step to creating the geogrid file is to define our domain boundaries. The *geogrid.exe* program takes a centerpoint, x and y grid specifications, and other projection information to define a bounding box for the domain. If you do not already have coordinates, you can obtain them from Google Earth or a standard GIS system. However, for this tutorial we have supplied the coordinates for you and you may use the WRF-Hydro geogrid Python command line utility to visualize the domain location and create the geogrid file given these coordinates.\n",
    "\n",
    "### Exploring the WPS geogrid.exe utility and namelist.wps\n",
    "The WPS *geogrid.exe* utility is controlled by options set in the *namelist.wps*. As previously stated, there are many options in the *namelist.wps* file that are not relevant to most WRF-Hydro users. For educational purposes, we will take a quick look at a full *namelist.wps* file and then discuss the relevant options used by the WRF-Hydro geogrid utility in more detail.\n",
    "\n",
    "Both the full namelist and the shorter annotated version intended for the WRF-Hydro geogrid utility are included within the example case for each WRF-Hydro release so we first need to set up our lesson directory and then download and unpack our the files to view these namelists."
   ]
  },
  {
   "cell_type": "markdown",
   "metadata": {},
   "source": [
    "#### Setting up the lesson directory\n",
    "\n",
    "**Step 1: Setup the directory for this lesson**\n",
    "\n",
    "First, we need to create a directory to hold the inputs and outputs for this lesson."
   ]
  },
  {
   "cell_type": "code",
   "execution_count": null,
   "metadata": {
    "scrolled": true
   },
   "outputs": [],
   "source": [
    "%%bash\n",
    "mkdir -p $HOME/wrf-hydro-training/lesson-wps"
   ]
  },
  {
   "cell_type": "markdown",
   "metadata": {},
   "source": [
    "**Step 2: Download the example case.** \n",
    "    \n",
    "The example case can be obtained from the [WRF-Hydro release page](https://github.com/NCAR/wrf_hydro_nwm_public/releases)."
   ]
  },
  {
   "cell_type": "code",
   "execution_count": null,
   "metadata": {},
   "outputs": [],
   "source": [
    "%%bash\n",
    "cd $HOME/wrf-hydro-training\n",
    "\n",
    "wget https://github.com/NCAR/wrf_hydro_nwm_public/releases/download/v5.1.1-beta/croton_NY_example_testcase.tar.gz &> /dev/null\n",
    "tar -xf croton_NY_example_testcase.tar.gz"
   ]
  },
  {
   "cell_type": "code",
   "execution_count": null,
   "metadata": {},
   "outputs": [],
   "source": [
    "%%bash\n",
    "\n",
    "cat $HOME/wrf-hydro-training/example_case/supplemental/namelist.wps.FULL_VERSION"
   ]
  },
  {
   "cell_type": "markdown",
   "metadata": {},
   "source": [
    "A full description of these options can be found in the [WPS User Guide](http://www2.mmm.ucar.edu/wrf/users/docs/user_guide_V3.9/users_guide_chap3.html). \n",
    "\n",
    "The options that are of interest to most WRF-Hydro users are the following:\n",
    "\n",
    "**Table 1. WPS namelist options relevent to WRF-Hydro**\n",
    "\n",
    "|Option|Description|\n",
    "|------|-----------|\n",
    "| e_we | The number of grid edges in the west-east dimension. The number of grid centers will be e_we-1. |\n",
    "| e_sn | The number of grid edges in the south-north dimension. The number of grid centers will be e_sn-1. |\n",
    "| ref_lat | A real value specifying the latitude part of a (latitude, longitude) center-point of the domain. |\n",
    "| ref_lon | A real value specifying the longitude part of a (latitude, longitude) center-point of the domain. West longitudes are negative, and the value of ref_lon should be in the range [-180, 180]. |\n",
    "| dx | A real value specifying the grid distance in the x-direction where the map scale factor is 1. The grid distance is in meters for the 'polar', 'lambert', and 'mercator' projection, and in degrees longitude for the 'lat-lon' projection. |\n",
    "| dy | A real value specifying the grid distance in the y-direction where the map scale factor is 1. The grid distance is in meters for the 'polar', 'lambert', and 'mercator' projection, and in degrees latitude for the 'lat-lon' projection. |\n",
    "| map_proj | A character string specifying the projection of the simulation domain. Accepted projections are 'lambert', 'polar', 'mercator', and 'lat-lon'. Default value is 'lambert'. |\n",
    "| truelat1 | A real value specifying, the first true latitude for the Lambert conformal conic projection, or the only true latitude for the Mercator and polar stereographic projections. |\n",
    "| truelat2 | A real value specifying, the second true latitude for the Lambert conformal conic projection. For all other projections, truelat2 is ignored. No default value. |\n",
    "| stand_lon | A real value specifying, the longitude that is parallel with the y-axis in the Lambert conformal and polar stereographic projections. For the regular latitude-longitude projection, this value gives the rotation about the earth's geographic poles. No default value. |\n",
    "| geog_data_res | A character string specifying a corresponding resolution or list of resolutions separated by + symbols of source data to be used when interpolating static terrestrial data to the grid. This string should contain a resolution matching a string preceding a colon in a rel_path or abs_path specification (see the description of GEOGRID.TBL options) in the GEOGRID.TBL file for each field. If a resolution in the string does not match any such string in a rel_path or abs_path specification for a field in GEOGRID.TBL, a default resolution of data for that field, if one is specified, will be used. If multiple resolutions match, the first resolution to match a string in a rel_path or abs_path specification in the GEOGRID.TBL file will be used. Default value is 'default'. |\n",
    "| geog_data_path | A character string giving the path, either relative or absolute, to the directory where the geographical data directories may be found. This path is the one to which rel_path specifications in the GEOGRID.TBL file are given in relation to. No default value. |\n",
    "\n",
    "\n",
    "To simplify the process of creating the geogrid file, these options are the only ones needed when using the wrfhydro/wps Docker utility. \n",
    "\n",
    "Lets take a look at the namelist.wps file used by the `wrfhydro/wps` docker utility"
   ]
  },
  {
   "cell_type": "code",
   "execution_count": null,
   "metadata": {},
   "outputs": [],
   "source": [
    "%%bash\n",
    "\n",
    "cat $HOME/wrf-hydro-training/example_case/supplemental/namelist.wps.SHORT_ANNOTATED"
   ]
  },
  {
   "cell_type": "markdown",
   "metadata": {},
   "source": [
    "#### Changing the domain location and boundaries in WPS\n",
    "In this section we will make a few changes to the example case `namelist.wps` to demonstrate how to move the domain location and change the extent. \n",
    "\n",
    "**NOTE: Do not edit the *~/wrf-hydro-training/example_case/supplemental/namelist.wps* file because we will use this prepared namelist to create the example case geogrid file using WPS in a later section of this lesson**\n",
    "\n",
    "In general, users want to generate the largest, highest-resolution model domain possible. Unfortunately, we are often constrained by available computational power or drive storage. These contraints usually define the acceptable grid sizes for us (*e_we*, *e_sn*). Therefore, once we know our domain center, we can play with *dx* and *dy* to cover our interested area.\n",
    "\n",
    "We will edit the *dx* and *dy* options in the namelist to grow the size of the domain. We will leave all other options the same, which will simply increase the domain coverage but maintain the domain center and domain dimensions.\n",
    "\n",
    "**Step 1: Visualize the original domain location.**\n",
    "\n",
    "First let's create a basic map of the original example case domain location using the example case namelist.wps file *~/wrf-hydro-training/example_case/supplemental/namelist.wps* and the WRF-Hydro geogrid Python utility. You can get help on the arguments to the python utility by accessing its help."
   ]
  },
  {
   "cell_type": "code",
   "execution_count": null,
   "metadata": {
    "scrolled": true
   },
   "outputs": [],
   "source": [
    "%%bash\n",
    "python /home/docker/WRF_WPS/utilities/make_geogrid.py --help"
   ]
  },
  {
   "cell_type": "markdown",
   "metadata": {},
   "source": [
    "Note that the script takes 4 arguments, the first `--namelist_path` is the path to your *namelist.wps* file, the second `--output_dir` is the path to the directory to hold the output, and the third `--plot_only` is a boolean `True` or `False` indicating whether or not to plot the domain. If `plot_only` the utility will only plot the domain and not create the geogrid file. This option is useful for making changes to your domain location or extent. The fourth argument `--create_wrfinput` is a boolean `True` or `False` indicating whether or not to create a wrfinput initial conditions.\n",
    "\n",
    "Now, let's create a plot of the original example case domain location."
   ]
  },
  {
   "cell_type": "code",
   "execution_count": null,
   "metadata": {},
   "outputs": [],
   "source": [
    "%%bash\n",
    "python /home/docker/WRF_WPS/utilities/make_geogrid.py \\\n",
    "--namelist_path /home/docker/wrf-hydro-training/example_case/supplemental/namelist.wps.SHORT_ANNOTATED \\\n",
    "--output_dir /home/docker/wrf-hydro-training/lesson-wps/ \\\n",
    "--plot_only"
   ]
  },
  {
   "cell_type": "code",
   "execution_count": null,
   "metadata": {},
   "outputs": [],
   "source": [
    "from IPython.display import Image\n",
    "\n",
    "Image('/home/docker/wrf-hydro-training/lesson-wps/domain.png')"
   ]
  },
  {
   "cell_type": "markdown",
   "metadata": {},
   "source": [
    "**Step 2: Make a copy of the original domain namelist.wps**\n",
    "\n",
    "We will copy our original domain namelist.wps that was used to create the example case and edit it. It is located at `~/wrf-hydro-training/example_case/supplemental/namelist.wps.SHORT_ANNOTATED` \n",
    "\n",
    "**NOTE: Do not edit the original namelist.wps `~/wrf-hydro-training/example_case/supplemental/namelist.wps.SHORT_ANNOTATED` because we will use it later to create our geogrid file.** "
   ]
  },
  {
   "cell_type": "code",
   "execution_count": null,
   "metadata": {},
   "outputs": [],
   "source": [
    "%%bash\n",
    "cp ~/wrf-hydro-training/example_case/supplemental/namelist.wps.SHORT_ANNOTATED \\\n",
    "~/wrf-hydro-training/lesson-wps/namelist_edit.wps\n"
   ]
  },
  {
   "cell_type": "markdown",
   "metadata": {},
   "source": [
    "**Step 3: Edit the `~/wrf-hydro-training/lesson-wps/namelist_edit.wps`**\n",
    "\n",
    "Using your editor of choice (can be edited in Jupyter), open the `~/wrf-hydro-training/lesson-wps/namelist_edit.wps` file and change the *dx* and *dy* values to \n",
    "```\n",
    "dx=2000.0\n",
    "dy=2000.0\n",
    "```"
   ]
  },
  {
   "cell_type": "code",
   "execution_count": null,
   "metadata": {
    "scrolled": true
   },
   "outputs": [],
   "source": [
    "%%bash\n",
    "python /home/docker/WRF_WPS/utilities/make_geogrid.py \\\n",
    "--namelist_path /home/docker/wrf-hydro-training/lesson-wps/namelist_edit.wps \\\n",
    "--output_dir /home/docker/wrf-hydro-training/lesson-wps/ \\\n",
    "--plot_only"
   ]
  },
  {
   "cell_type": "code",
   "execution_count": null,
   "metadata": {},
   "outputs": [],
   "source": [
    "from IPython.display import Image\n",
    "\n",
    "Image('/home/docker/wrf-hydro-training/lesson-wps/domain.png')"
   ]
  },
  {
   "cell_type": "markdown",
   "metadata": {},
   "source": [
    "We can see that the domain coverage has expanded but the center and size are the same. You can change any of your domain set-up by editing the variables in `namelist.wps`.\n"
   ]
  },
  {
   "cell_type": "markdown",
   "metadata": {},
   "source": [
    "### Making the geogrid file\n",
    "In this section, we will create the geogrid file using the WRF-Hydro geogrid python utility. \n",
    "\n",
    "**Note: If you would like to use this utilitiy outside of this training, the utility and all required datasets for the Continental United States are available in the *wrfhydro/wps* Docker container at https://hub.docker.com/r/wrfhydro/wps/.**\n",
    "\n",
    "**Step 1: Copy the prepared *namelist.wps* file for the example case to the lesson-wps output folder**\n",
    "\n",
    "We will copy over the prepared namelist.wps file from the example case to create our geogrid file. We will also rename our edited namelist.wps from the previous domain location exercise, in case you want to retain for reference."
   ]
  },
  {
   "cell_type": "code",
   "execution_count": null,
   "metadata": {},
   "outputs": [],
   "source": [
    "%%bash\n",
    "cp /home/docker/wrf-hydro-training/example_case/supplemental/namelist.wps.SHORT_ANNOTATED \\\n",
    "~/wrf-hydro-training/lesson-wps/namelist.wps"
   ]
  },
  {
   "cell_type": "markdown",
   "metadata": {},
   "source": [
    "**Step 1: Check the domain boundaries**\n",
    "\n",
    "We will do a quick visual inspection to make sure our supplied domain boundary information is correct. "
   ]
  },
  {
   "cell_type": "code",
   "execution_count": null,
   "metadata": {},
   "outputs": [],
   "source": [
    "%%bash\n",
    "python /home/docker/WRF_WPS/utilities/make_geogrid.py \\\n",
    "--namelist_path /home/docker/wrf-hydro-training/lesson-wps/namelist_edit.wps \\\n",
    "--output_dir /home/docker/wrf-hydro-training/lesson-wps/ \\\n",
    "--plot_only"
   ]
  },
  {
   "cell_type": "code",
   "execution_count": null,
   "metadata": {},
   "outputs": [],
   "source": [
    "from IPython.display import Image\n",
    "\n",
    "Image('/home/docker/wrf-hydro-training/lesson-wps/domain.png')"
   ]
  },
  {
   "cell_type": "markdown",
   "metadata": {},
   "source": [
    "**Step 2: Create the geogrid and wrfinput files.**\n",
    "\n",
    "This time we will run the utility with `--plot_only` set to False. A plot of the domain will still be produced, but the geogrid.exe utility will also be executed to create the geogrid file.\n",
    "\n",
    "The wrfinput_d01.nc is a very basic WRF-Hydro initialization file (wrfinput) from a WRF geogrid file and a set of user-specified conditions. The file contains fields of spatially uniform initial model states of soil moisture, soil temperature, soil liquid water content and skin temperature among a few other variables necessary for model cold-start initialization. This file can be used as a 'cold start' for long-term model spin-up or users can overwrite the fields in the file created. Sophisticated and WRF-savvy users can bypass this script and use the WRF utility *real.exe* to create a wrfinput file from model or reanalysis products. \n",
    "\n",
    "The R script used to create this file can be downloaded at https://ral.ucar.edu/projects/wrf_hydro/pre-processing-tools.\n",
    "\n",
    "**NOTE: This R script will be replaced in the future with a Python command line utility to eliminate the R dependency.**"
   ]
  },
  {
   "cell_type": "code",
   "execution_count": null,
   "metadata": {},
   "outputs": [],
   "source": [
    "%%bash\n",
    "python /home/docker/WRF_WPS/utilities/make_geogrid.py \\\n",
    "--namelist_path /home/docker/wrf-hydro-training/lesson-wps/namelist_edit.wps \\\n",
    "--output_dir /home/docker/wrf-hydro-training/lesson-wps/ "
   ]
  },
  {
   "cell_type": "markdown",
   "metadata": {},
   "source": [
    "### Inspecting the geogrid file\n",
    "Now that we have created our geogrid file, we will quickly display the file header using the *ncdump* command line utility and open the file using the Python library `xarray` to visualize its contents. "
   ]
  },
  {
   "cell_type": "code",
   "execution_count": null,
   "metadata": {},
   "outputs": [],
   "source": [
    "%%bash\n",
    "\n",
    "ncdump -h ~/wrf-hydro-training/lesson-wps/geo_em.d01.nc"
   ]
  },
  {
   "cell_type": "code",
   "execution_count": null,
   "metadata": {},
   "outputs": [],
   "source": [
    "%matplotlib inline\n",
    "import xarray as xr\n",
    "\n",
    "geogrid = xr.open_dataset('~/wrf-hydro-training/lesson-wps/geo_em.d01.nc')\n",
    "geogrid.HGT_M.plot()"
   ]
  },
  {
   "cell_type": "markdown",
   "metadata": {},
   "source": [
    "**View the *wrfinput_d01.nc* file**"
   ]
  },
  {
   "cell_type": "code",
   "execution_count": null,
   "metadata": {},
   "outputs": [],
   "source": [
    "%%bash\n",
    "ncdump -h ~/wrf-hydro-training/lesson-wps/wrfinput_d01.nc"
   ]
  },
  {
   "cell_type": "markdown",
   "metadata": {},
   "source": [
    "## Generating wrfinput files for use in WRF-Hydro\n",
    "\n",
    "As mentioned above, the WRF-Hydro group also provides a script package to generate wrfinput files.  This section walks through how to download and run this script package."
   ]
  },
  {
   "cell_type": "code",
   "execution_count": null,
   "metadata": {},
   "outputs": [],
   "source": [
    "%%bash\n",
    "cd /home/docker/wrf-hydro-training/lesson-wps\n",
    "\n",
    "wget http://ral.ucar.edu/sites/default/files/public/create_wrfinput.zip &> /dev/null\n",
    "unzip create_wrfinput.zip"
   ]
  },
  {
   "cell_type": "code",
   "execution_count": null,
   "metadata": {},
   "outputs": [],
   "source": [
    "%%bash\n",
    "cat /home/docker/wrf-hydro-training/lesson-wps/create_wrfinput/README.txt"
   ]
  },
  {
   "cell_type": "code",
   "execution_count": null,
   "metadata": {},
   "outputs": [],
   "source": [
    "%%bash\n",
    "cd /home/docker/wrf-hydro-training/lesson-wps/create_wrfinput\n",
    "\n",
    "Rscript create_wrfinput.R --geogrid='/home/docker/wrf-hydro-training/lesson-wps/geo_em.d01.nc'"
   ]
  },
  {
   "cell_type": "markdown",
   "metadata": {},
   "source": [
    "This concludes the lesson on domain definition and initial conditions for WRF-Hydro. \n",
    "\n",
    "© UCAR 2018"
   ]
  }
 ],
 "metadata": {
  "kernelspec": {
   "display_name": "Python 3",
   "language": "python",
   "name": "python3"
  },
  "language_info": {
   "codemirror_mode": {
    "name": "ipython",
    "version": 3
   },
   "file_extension": ".py",
   "mimetype": "text/x-python",
   "name": "python",
   "nbconvert_exporter": "python",
   "pygments_lexer": "ipython3",
   "version": "3.7.3"
  },
  "toc": {
   "base_numbering": 1,
   "nav_menu": {},
   "number_sections": true,
   "sideBar": true,
   "skip_h1_title": true,
   "title_cell": "Table of Contents",
   "title_sidebar": "Contents",
   "toc_cell": true,
   "toc_position": {},
   "toc_section_display": true,
   "toc_window_display": true
  }
 },
 "nbformat": 4,
 "nbformat_minor": 4
}
