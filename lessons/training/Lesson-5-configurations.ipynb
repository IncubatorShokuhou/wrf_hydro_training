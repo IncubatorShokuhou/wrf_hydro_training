{
 "cells": [
  {
   "cell_type": "markdown",
   "metadata": {
    "toc": true
   },
   "source": [
    "<h1>Table of Contents<span class=\"tocSkip\"></span></h1>\n",
    "<div class=\"toc\"><ul class=\"toc-item\"><li><span><a href=\"#Overview\" data-toc-modified-id=\"Overview-1\"><span class=\"toc-item-num\">1&nbsp;&nbsp;</span>Overview</a></span><ul class=\"toc-item\"><li><span><a href=\"#Software-and-conventions\" data-toc-modified-id=\"Software-and-conventions-1.1\"><span class=\"toc-item-num\">1.1&nbsp;&nbsp;</span>Software and conventions</a></span></li></ul></li><li><span><a href=\"#Recap-of-lessons-1-and-2,-,-compiling-and-running-WRF-Hydro\" data-toc-modified-id=\"Recap-of-lessons-1-and-2,-,-compiling-and-running-WRF-Hydro-2\"><span class=\"toc-item-num\">2&nbsp;&nbsp;</span>Recap of lessons 1 and 2, , compiling and running WRF-Hydro</a></span><ul class=\"toc-item\"><li><span><a href=\"#Compiling-WRF-Hydro\" data-toc-modified-id=\"Compiling-WRF-Hydro-2.1\"><span class=\"toc-item-num\">2.1&nbsp;&nbsp;</span>Compiling WRF-Hydro</a></span></li><li><span><a href=\"#Creating-the-simulation-directory-and-running-a-baseline-WRF-Hydro-simulation\" data-toc-modified-id=\"Creating-the-simulation-directory-and-running-a-baseline-WRF-Hydro-simulation-2.2\"><span class=\"toc-item-num\">2.2&nbsp;&nbsp;</span>Creating the simulation directory and running a baseline WRF-Hydro simulation</a></span></li></ul></li><li><span><a href=\"#National-Water-Model-configuration-(NWM)\" data-toc-modified-id=\"National-Water-Model-configuration-(NWM)-3\"><span class=\"toc-item-num\">3&nbsp;&nbsp;</span>National Water Model configuration (NWM)</a></span><ul class=\"toc-item\"><li><span><a href=\"#Create-a-NWM-simulation-directory\" data-toc-modified-id=\"Create-a-NWM-simulation-directory-3.1\"><span class=\"toc-item-num\">3.1&nbsp;&nbsp;</span>Create a NWM simulation directory</a></span></li><li><span><a href=\"#Compare-the-contents-of-the-NWM-simulation-directory-to-the-Gridded-simulation-directory\" data-toc-modified-id=\"Compare-the-contents-of-the-NWM-simulation-directory-to-the-Gridded-simulation-directory-3.2\"><span class=\"toc-item-num\">3.2&nbsp;&nbsp;</span>Compare the contents of the NWM simulation directory to the Gridded simulation directory</a></span></li><li><span><a href=\"#Explore-the-namelist-differences-between-the-NWM-and-Gridded-configurations\" data-toc-modified-id=\"Explore-the-namelist-differences-between-the-NWM-and-Gridded-configurations-3.3\"><span class=\"toc-item-num\">3.3&nbsp;&nbsp;</span>Explore the namelist differences between the NWM and Gridded configurations</a></span></li><li><span><a href=\"#Run-the-default-Gridded-and-NWM-simulations\" data-toc-modified-id=\"Run-the-default-Gridded-and-NWM-simulations-3.4\"><span class=\"toc-item-num\">3.4&nbsp;&nbsp;</span>Run the default Gridded and NWM simulations</a></span></li><li><span><a href=\"#View-the-hydrographs\" data-toc-modified-id=\"View-the-hydrographs-3.5\"><span class=\"toc-item-num\">3.5&nbsp;&nbsp;</span>View the hydrographs</a></span></li></ul></li></ul></div>"
   ]
  },
  {
   "cell_type": "markdown",
   "metadata": {},
   "source": [
    "# Lesson 5 - Exploring other configurations\n",
    "## Overview\n",
    "In lesson 4 we covered editing namelist options to change WRF-Hydro run-time options. In this lesson, we will experiment with editing some parameter files and explore the *NWM* and *Reach* configuations. \n",
    "\n",
    "**NOTE: If you have not completed lessons 1 through 4, please stop and do so now.**\n",
    "\n",
    "### Software and conventions\n",
    "The easiest way to run these lessons is via the [wrfhydro/training](https://hub.docker.com/r/wrfhydro/training/) Docker container, which has all software dependencies and data pre-installed.\n",
    "\n",
    "For a complete description of the software environment used for this training please see [Getting started]().\n",
    "\n",
    "You may either execute commands by running each cell of this notebook. Alternatively, you may open a terminal in Jupyter Lab by selecting `New -> Terminal` in your `Home` tab of Jupyter Lab and input the commands manually if you prefer. You can also use your own terminal by logging into the container with the command `docker exec -it wrf-hydro-training bash`\n",
    "\n",
    "All paths used in this lesson assume that the lesson materials are located under your home directory in a folder named `wrf-hydro-training`. If your materials are located in another directory, you will not be able to run the commands in this notebook inside Jupyter and will need to type them manually in your terminal session. "
   ]
  },
  {
   "cell_type": "markdown",
   "metadata": {},
   "source": [
    "## Recap of lessons 1 and 2, , compiling and running WRF-Hydro\n",
    "In this section, we will quickly recap the commands issued in Lessons 1 and 2 to compile WRF-Hydro and create our simulation directory. We will use the prepared domain for the remaining lessons, but feel free to replace the prepared domain with the domain you created in the geospatial hands-on training session. **NOTE: Your domain directory structure and filenames must match the prepared domain EXACTLY**\n",
    "\n",
    "### Compiling WRF-Hydro\n",
    "Below are the commands to compile WRF-Hydro for the Gridded configuration."
   ]
  },
  {
   "cell_type": "code",
   "execution_count": null,
   "metadata": {},
   "outputs": [],
   "source": [
    "%%bash\n",
    "# Change to the trunk/NDHMS directory and configure for gfort\n",
    "cd ~/wrf-hydro-training/wrf_hydro_nwm_public/trunk/NDHMS/; ./configure 2\n",
    "\n",
    "# Make a copy of the template environment variable file, setEnvars.sh\n",
    "cp ~/wrf-hydro-training/wrf_hydro_nwm_public/trunk/NDHMS/template/setEnvar.sh \\\n",
    "~/wrf-hydro-training/wrf_hydro_nwm_public/trunk/NDHMS/configureEnvars.sh"
   ]
  },
  {
   "cell_type": "markdown",
   "metadata": {},
   "source": [
    "**Set compile-time options**\n",
    "\n",
    "Edit the `configureEnvars.sh` script to set environment variables required by the compile script. Your `configureEnvars.sh` should look like the bash script below when you are finished.  \n",
    "\n",
    "---\n",
    "\n",
    "```bash\n",
    "#!/bin/bash\n",
    "# WRF-Hydro compile time options\n",
    "\n",
    "# This is a WRF environment variable. Always set to 1=On for compiling WRF-Hydro.\n",
    "export WRF_HYDRO=1\n",
    "\n",
    "# Enhanced diagnostic output for debugging: 0=Off, 1=On.\n",
    "export HYDRO_D=1\n",
    "\n",
    "# Spatially distributed parameters for NoahMP: 0=Off, 1=On.\n",
    "export SPATIAL_SOIL=1  \n",
    "\n",
    "# RAPID model: 0=Off, 1=On.\n",
    "export WRF_HYDRO_RAPID=0\n",
    "\n",
    "# Large netcdf file support: 0=Off, 1=On.\n",
    "export WRFIO_NCD_LARGE_FILE_SUPPORT=1\n",
    "\n",
    "# WCOSS file units: 0=Off, 1=On. \n",
    "export NCEP_WCOSS=0\n",
    "\n",
    "# Streamflow nudging: 0=Off, 1=On.\n",
    "export WRF_HYDRO_NUDGING=0\n",
    "```\n",
    "\n",
    "---"
   ]
  },
  {
   "cell_type": "markdown",
   "metadata": {},
   "source": [
    "**Compile WRF-Hydro in uncoupled mode**"
   ]
  },
  {
   "cell_type": "code",
   "execution_count": null,
   "metadata": {},
   "outputs": [],
   "source": [
    "%%bash\n",
    "cd ~/wrf-hydro-training/wrf_hydro_nwm_public/trunk/NDHMS/; \\\n",
    "./compile_offline_NoahMP.sh configureEnvars.sh >> compile.log 2>&1\n",
    "\n",
    "tail -13 ~/wrf-hydro-training/wrf_hydro_nwm_public/trunk/NDHMS/compile.log"
   ]
  },
  {
   "cell_type": "markdown",
   "metadata": {},
   "source": [
    "**We have successfully compiled WRF-Hydro and we will use this binary and *.TBL files for the remaining simulations in this lesson**"
   ]
  },
  {
   "cell_type": "markdown",
   "metadata": {},
   "source": [
    "### Creating the simulation directory and running a baseline WRF-Hydro simulation\n",
    "Below are the commands from lesson 2 to create the simulation direcory and run a WRF-Hydro simulation. This simulation will be run exactly as was done in Lesson 2 and will serve as our baseline simulation. We will modify run-time options in subsequent simulations in the lesson and compare the outputs."
   ]
  },
  {
   "cell_type": "code",
   "execution_count": null,
   "metadata": {},
   "outputs": [],
   "source": [
    "%%bash\n",
    "# Make a new directory for our baseline simulation\n",
    "mkdir -p ~/wrf-hydro-training/output/lesson5/run_gridded_baseline\n",
    "\n",
    "# Copy our model files to the simulation directory\n",
    "cp ~/wrf-hydro-training/wrf_hydro_nwm_public/trunk/NDHMS/Run/*.TBL \\\n",
    "~/wrf-hydro-training/output/lesson5/run_gridded_baseline\n",
    "cp ~/wrf-hydro-training/wrf_hydro_nwm_public/trunk/NDHMS/Run/wrf_hydro.exe \\\n",
    "~/wrf-hydro-training/output/lesson5/run_gridded_baseline\n",
    "\n",
    "# Create symbolic links to large domain files\n",
    "cp -as $HOME/wrf-hydro-training/example_case/FORCING \\\n",
    "~/wrf-hydro-training/output/lesson5/run_gridded_baseline\n",
    "cp -as $HOME/wrf-hydro-training/example_case/Gridded/DOMAIN \\\n",
    "~/wrf-hydro-training/output/lesson5/run_gridded_baseline\n",
    "cp -as $HOME/wrf-hydro-training/example_case/Gridded/RESTART \\\n",
    "~/wrf-hydro-training/output/lesson5/run_gridded_baseline\n",
    "\n",
    "# Copy namelist files\n",
    "cp ~/wrf-hydro-training/example_case/Gridded/namelist.hrldas \\\n",
    "~/wrf-hydro-training/output/lesson5/run_gridded_baseline\n",
    "cp ~/wrf-hydro-training/example_case/Gridded/hydro.namelist \\\n",
    "~/wrf-hydro-training/output/lesson5/run_gridded_baseline"
   ]
  },
  {
   "cell_type": "markdown",
   "metadata": {},
   "source": [
    "## National Water Model configuration (NWM)\n",
    "In this section we will discuss the differences between the National Water Model (NWM) configuration and the baseline Gridded configuration. Afterwards, we will run a NWM simulation and visualize some of the differences. \n",
    "\n",
    "### Create a NWM simulation directory"
   ]
  },
  {
   "cell_type": "code",
   "execution_count": null,
   "metadata": {},
   "outputs": [],
   "source": [
    "%%bash\n",
    "# Make a new directory for our baseline simulation\n",
    "mkdir -p ~/wrf-hydro-training/output/lesson5/run_nwm\n",
    "\n",
    "# Copy our model files to the simulation directory\n",
    "cp ~/wrf-hydro-training/wrf_hydro_nwm_public/trunk/NDHMS/Run/*.TBL \\\n",
    "~/wrf-hydro-training/output/lesson5/run_nwm\n",
    "cp ~/wrf-hydro-training/wrf_hydro_nwm_public/trunk/NDHMS/Run/wrf_hydro.exe \\\n",
    "~/wrf-hydro-training/output/lesson5/run_nwm\n",
    "\n",
    "# Create symbolic links to large domain files\n",
    "cp -as $HOME/wrf-hydro-training/example_case/FORCING \\\n",
    "~/wrf-hydro-training/output/lesson5/run_nwm\n",
    "cp -as $HOME/wrf-hydro-training/example_case/NWM/DOMAIN \\\n",
    "~/wrf-hydro-training/output/lesson5/run_nwm\n",
    "cp -as $HOME/wrf-hydro-training/example_case/NWM/RESTART \\\n",
    "~/wrf-hydro-training/output/lesson5/run_nwm\n",
    "\n",
    "# Copy namelist files\n",
    "cp ~/wrf-hydro-training/example_case/NWM/namelist.hrldas \\\n",
    "~/wrf-hydro-training/output/lesson5/run_nwm\n",
    "cp ~/wrf-hydro-training/example_case/NWM/hydro.namelist \\\n",
    "~/wrf-hydro-training/output/lesson5/run_nwm"
   ]
  },
  {
   "cell_type": "markdown",
   "metadata": {},
   "source": [
    "### Compare the contents of the NWM simulation directory to the Gridded simulation directory\n",
    "In this section we will compare the files in the NWM simulation directory to those in the Gridded simulation directory.\n",
    "\n",
    "**View the contents of the NWM simulation directory**"
   ]
  },
  {
   "cell_type": "code",
   "execution_count": null,
   "metadata": {
    "scrolled": false
   },
   "outputs": [],
   "source": [
    "%%bash\n",
    "ls ~/wrf-hydro-training/output/lesson5/run_nwm"
   ]
  },
  {
   "cell_type": "markdown",
   "metadata": {},
   "source": [
    "**View the contents of the Gridded simulation directory**"
   ]
  },
  {
   "cell_type": "code",
   "execution_count": null,
   "metadata": {},
   "outputs": [],
   "source": [
    "%%bash\n",
    "ls ~/wrf-hydro-training/output/lesson5/run_gridded_baseline"
   ]
  },
  {
   "cell_type": "markdown",
   "metadata": {},
   "source": [
    "Here we can see that at the top level the directories contents look the same. However, there are differences in the *DOMAIN* and *RESTART* directories."
   ]
  },
  {
   "cell_type": "markdown",
   "metadata": {},
   "source": [
    "**View the contents of the *NWM/DOMAIN* directory**"
   ]
  },
  {
   "cell_type": "code",
   "execution_count": null,
   "metadata": {
    "scrolled": true
   },
   "outputs": [],
   "source": [
    "%%bash\n",
    "ls ~/wrf-hydro-training/output/lesson5/run_nwm/DOMAIN"
   ]
  },
  {
   "cell_type": "markdown",
   "metadata": {},
   "source": [
    "**View the contents of the *Gridded/DOMAIN* directory**"
   ]
  },
  {
   "cell_type": "code",
   "execution_count": null,
   "metadata": {},
   "outputs": [],
   "source": [
    "%%bash\n",
    "ls ~/wrf-hydro-training/output/lesson5/run_gridded_baseline/DOMAIN"
   ]
  },
  {
   "cell_type": "markdown",
   "metadata": {},
   "source": [
    "**Explore the differences**\n",
    "\n",
    "We can see that there are different files in the *NWM* directory compared to the *Gridded* directory. Below is a table of these files and a their description.\n",
    "\n",
    "| Filename | Description | Source | Required |\n",
    "| ------------- | ------------- | ------------- | ------------- |\n",
    "| GWBASINS.nc | 2D file defining the locations of groundwater basins | WRF-Hydro GIS pre-processing toolkit | When the baseflow bucket model is turned on and user defined mapping is off |\n",
    "|Route_Link.nc | Channel reach parameters (ComID,gage ID, bottom width, slope,roughness, order, etc.) | WRF-Hydro GIS pre-processing toolkit | When reach based routing is used (including user defined mapping) |\n",
    "|nudgingParams.nc| Parameters used for data assimilation streamflow nudging | User defined | No |\n",
    "| spatialweights.nc | Spatial weight file used to map fluxes to catchment objects | distributed with NWM domain files | When using user defined mapping |\n"
   ]
  },
  {
   "cell_type": "markdown",
   "metadata": {},
   "source": [
    "**NOTE: We can ignore the *Gridded/lake_shapes* directory, it simply contains geospatial data used for creating the domain**"
   ]
  },
  {
   "cell_type": "markdown",
   "metadata": {},
   "source": [
    "### Explore the namelist differences between the NWM and Gridded configurations\n",
    "In this section we will explore the namelists differences between the NWM and Gridded configurations"
   ]
  },
  {
   "cell_type": "markdown",
   "metadata": {},
   "source": [
    "**View the NWM namelist.hrldas**"
   ]
  },
  {
   "cell_type": "code",
   "execution_count": null,
   "metadata": {
    "scrolled": true
   },
   "outputs": [],
   "source": [
    "%%bash\n",
    "cat ~/wrf-hydro-training/output/lesson5/run_nwm/namelist.hrldas"
   ]
  },
  {
   "cell_type": "markdown",
   "metadata": {},
   "source": [
    "**View the Gridded namelist.hrldas**"
   ]
  },
  {
   "cell_type": "code",
   "execution_count": null,
   "metadata": {},
   "outputs": [],
   "source": [
    "%%bash\n",
    "cat ~/wrf-hydro-training/output/lesson5/run_gridded_baseline/namelist.hrldas"
   ]
  },
  {
   "cell_type": "markdown",
   "metadata": {},
   "source": [
    "**View the *NWM* hydro.namelist**"
   ]
  },
  {
   "cell_type": "code",
   "execution_count": null,
   "metadata": {},
   "outputs": [],
   "source": [
    "%%bash\n",
    "cat ~/wrf-hydro-training/output/lesson5/run_nwm/hydro.namelist"
   ]
  },
  {
   "cell_type": "markdown",
   "metadata": {},
   "source": [
    "**View the *Gridded* hydro.namelist**"
   ]
  },
  {
   "cell_type": "code",
   "execution_count": null,
   "metadata": {
    "scrolled": true
   },
   "outputs": [],
   "source": [
    "%%bash\n",
    "cat ~/wrf-hydro-training/output/lesson5/run_gridded_baseline/hydro.namelist"
   ]
  },
  {
   "cell_type": "markdown",
   "metadata": {},
   "source": [
    "### Run the default Gridded and NWM simulations\n",
    "In this section we will run default simulations for the NWM and Gridded configurations using our prepared simulation directories. "
   ]
  },
  {
   "cell_type": "markdown",
   "metadata": {},
   "source": [
    "**Step 1: Run the NWM simulation**"
   ]
  },
  {
   "cell_type": "code",
   "execution_count": null,
   "metadata": {},
   "outputs": [],
   "source": [
    "%%bash\n",
    "# Run the simulation\n",
    "cd ~/wrf-hydro-training/output/lesson5/run_nwm\n",
    "mpirun -np 2 ./wrf_hydro.exe >> run.log 2>&1"
   ]
  },
  {
   "cell_type": "code",
   "execution_count": null,
   "metadata": {},
   "outputs": [],
   "source": [
    "%%bash\n",
    "# Check that it finished successfully\n",
    "tail -1 ~/wrf-hydro-training/output/lesson5/run_nwm/diag_hydro.00000"
   ]
  },
  {
   "cell_type": "markdown",
   "metadata": {},
   "source": [
    "**Step 2: Run the gridded simulation**"
   ]
  },
  {
   "cell_type": "code",
   "execution_count": null,
   "metadata": {},
   "outputs": [],
   "source": [
    "%%bash\n",
    "# Run the simulation\n",
    "cd ~/wrf-hydro-training/output/lesson5/run_gridded_baseline\n",
    "mpirun -np 2 ./wrf_hydro.exe >> run.log 2>&1"
   ]
  },
  {
   "cell_type": "code",
   "execution_count": null,
   "metadata": {},
   "outputs": [],
   "source": [
    "%%bash\n",
    "# Check that it finished successfully\n",
    "tail -1 ~/wrf-hydro-training/output/lesson5/run_gridded_baseline/diag_hydro.00000"
   ]
  },
  {
   "cell_type": "markdown",
   "metadata": {},
   "source": [
    "### View the hydrographs\n",
    "**Load the xarray python package**"
   ]
  },
  {
   "cell_type": "code",
   "execution_count": null,
   "metadata": {},
   "outputs": [],
   "source": [
    "# Load the xarray package\n",
    "%matplotlib inline\n",
    "import xarray as xr\n",
    "import matplotlib.pyplot as plt\n",
    "import pandas as pd"
   ]
  },
  {
   "cell_type": "markdown",
   "metadata": {},
   "source": [
    "**Load the CHANOBS streamflow datasets**\n",
    "\n",
    "We are going to use the CHANOBS files because it will limit the number of grid cells to only those which we have specified have a gage."
   ]
  },
  {
   "cell_type": "code",
   "execution_count": null,
   "metadata": {},
   "outputs": [],
   "source": [
    "chanobs_gridded = xr.open_mfdataset('/home/docker/wrf-hydro-training/output/lesson5/run_gridded_baseline/*CHANOBS*',\n",
    "                            concat_dim='time')\n",
    "chanobs_nwm = xr.open_mfdataset('/home/docker/wrf-hydro-training/output/lesson5/run_nwm/*CHANOBS*',\n",
    "                            concat_dim='time')\n",
    "obs = pd.read_csv('/home/docker/wrf-hydro-training/example_case/USGS_obs.csv',dtype=str)\n",
    "obs['dateTime'] = pd.to_datetime(obs['dateTime'])\n",
    "obs['streamflow_cms'] = pd.to_numeric(obs['streamflow_cms'])"
   ]
  },
  {
   "cell_type": "markdown",
   "metadata": {},
   "source": [
    "**Plot the hydrographs**"
   ]
  },
  {
   "cell_type": "code",
   "execution_count": null,
   "metadata": {},
   "outputs": [],
   "source": [
    "fig, axes = plt.subplots(ncols=1,figsize=(12, 6))\n",
    "plt.suptitle('Hydrographs for NWM and gridded configurations',fontsize=24)\n",
    "chanobs_gridded.sel(feature_id = 2).streamflow.plot(label='Gridded',\n",
    "                                                     color='black',\n",
    "                                                     linestyle='--')\n",
    "chanobs_nwm.sel(feature_id = 6227008).streamflow.plot(label='NWM',\n",
    "                                                        color='blue',\n",
    "                                                        linestyle='-')\n",
    "obs[obs['site_no'] == '01374581'].plot(x='dateTime',\n",
    "                                       y='streamflow_cms',\n",
    "                                       ax=axes,\n",
    "                                       label='Observed',\n",
    "                                       color='grey')\n",
    "plt.legend()\n",
    "plt.show()"
   ]
  },
  {
   "cell_type": "markdown",
   "metadata": {},
   "source": [
    "# Next up- Bringing it all together!\n",
    "This concludes lesson 5. In the next lesson, we will use many of the concepts discussed so far to perform a more complicated simulation.\n",
    "\n",
    "**IT IS BEST TO EITHER SHUTDOWN THIS LESSON OR CLOSE IT BEFORE PROCEEDING TO THE NEXT LESSON TO AVOID POSSIBLY EXCEEDING ALLOCATED MEMORY. Shutdown the lesson be either closing the browser tab for the lesson or selecting `KERNAL->SHUTDOWN` in the jupyter notebook toolbar.**"
   ]
  }
 ],
 "metadata": {
  "kernelspec": {
   "display_name": "Python 3",
   "language": "python",
   "name": "python3"
  },
  "language_info": {
   "codemirror_mode": {
    "name": "ipython",
    "version": 3
   },
   "file_extension": ".py",
   "mimetype": "text/x-python",
   "name": "python",
   "nbconvert_exporter": "python",
   "pygments_lexer": "ipython3",
   "version": "3.6.5"
  },
  "toc": {
   "base_numbering": 1,
   "nav_menu": {},
   "number_sections": true,
   "sideBar": true,
   "skip_h1_title": true,
   "title_cell": "Table of Contents",
   "title_sidebar": "Contents",
   "toc_cell": true,
   "toc_position": {
    "height": "calc(100% - 180px)",
    "left": "10px",
    "top": "150px",
    "width": "414px"
   },
   "toc_section_display": true,
   "toc_window_display": true
  }
 },
 "nbformat": 4,
 "nbformat_minor": 2
}
