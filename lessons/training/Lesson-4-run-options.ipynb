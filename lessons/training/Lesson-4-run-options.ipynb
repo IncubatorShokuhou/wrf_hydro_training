{
 "cells": [
  {
   "cell_type": "markdown",
   "metadata": {
    "toc": true
   },
   "source": [
    "<h1>Table of Contents<span class=\"tocSkip\"></span></h1>\n",
    "<div class=\"toc\"><ul class=\"toc-item\"><li><span><a href=\"#Overview\" data-toc-modified-id=\"Overview-1\"><span class=\"toc-item-num\">1&nbsp;&nbsp;</span>Overview</a></span><ul class=\"toc-item\"><li><span><a href=\"#Software-and-conventions\" data-toc-modified-id=\"Software-and-conventions-1.1\"><span class=\"toc-item-num\">1.1&nbsp;&nbsp;</span>Software and conventions</a></span></li></ul></li><li><span><a href=\"#Recap-of-lessons-1-and-2,-,-compiling-and-running-WRF-Hydro\" data-toc-modified-id=\"Recap-of-lessons-1-and-2,-,-compiling-and-running-WRF-Hydro-2\"><span class=\"toc-item-num\">2&nbsp;&nbsp;</span>Recap of lessons 1 and 2, , compiling and running WRF-Hydro</a></span><ul class=\"toc-item\"><li><span><a href=\"#Compiling-WRF-Hydro\" data-toc-modified-id=\"Compiling-WRF-Hydro-2.1\"><span class=\"toc-item-num\">2.1&nbsp;&nbsp;</span>Compiling WRF-Hydro</a></span></li><li><span><a href=\"#Creating-the-simulation-directory-and-running-a-baseline-WRF-Hydro-simulation\" data-toc-modified-id=\"Creating-the-simulation-directory-and-running-a-baseline-WRF-Hydro-simulation-2.2\"><span class=\"toc-item-num\">2.2&nbsp;&nbsp;</span>Creating the simulation directory and running a baseline WRF-Hydro simulation</a></span></li></ul></li><li><span><a href=\"#Experimenting-with-run-time-options\" data-toc-modified-id=\"Experimenting-with-run-time-options-3\"><span class=\"toc-item-num\">3&nbsp;&nbsp;</span>Experimenting with run-time options</a></span><ul class=\"toc-item\"><li><span><a href=\"#Setup\" data-toc-modified-id=\"Setup-3.1\"><span class=\"toc-item-num\">3.1&nbsp;&nbsp;</span>Setup</a></span></li></ul></li><li><span><a href=\"#Experiment-1---Warm-vs-Cold-start\" data-toc-modified-id=\"Experiment-1---Warm-vs-Cold-start-4\"><span class=\"toc-item-num\">4&nbsp;&nbsp;</span>Experiment 1 - Warm vs Cold start</a></span><ul class=\"toc-item\"><li><span><a href=\"#Background\" data-toc-modified-id=\"Background-4.1\"><span class=\"toc-item-num\">4.1&nbsp;&nbsp;</span>Background</a></span></li><li><span><a href=\"#Objective\" data-toc-modified-id=\"Objective-4.2\"><span class=\"toc-item-num\">4.2&nbsp;&nbsp;</span>Objective</a></span></li><li><span><a href=\"#Create-experiment-simulation-directory\" data-toc-modified-id=\"Create-experiment-simulation-directory-4.3\"><span class=\"toc-item-num\">4.3&nbsp;&nbsp;</span>Create experiment simulation directory</a></span></li><li><span><a href=\"#Edit-the-namelists-and-run-the-simulation\" data-toc-modified-id=\"Edit-the-namelists-and-run-the-simulation-4.4\"><span class=\"toc-item-num\">4.4&nbsp;&nbsp;</span>Edit the namelists and run the simulation</a></span></li><li><span><a href=\"#Results\" data-toc-modified-id=\"Results-4.5\"><span class=\"toc-item-num\">4.5&nbsp;&nbsp;</span>Results</a></span><ul class=\"toc-item\"><li><span><a href=\"#Hydrographs\" data-toc-modified-id=\"Hydrographs-4.5.1\"><span class=\"toc-item-num\">4.5.1&nbsp;&nbsp;</span>Hydrographs</a></span></li><li><span><a href=\"#Soil-moisture-at-start-of-simulation\" data-toc-modified-id=\"Soil-moisture-at-start-of-simulation-4.5.2\"><span class=\"toc-item-num\">4.5.2&nbsp;&nbsp;</span>Soil moisture at start of simulation</a></span></li></ul></li><li><span><a href=\"#Discussion\" data-toc-modified-id=\"Discussion-4.6\"><span class=\"toc-item-num\">4.6&nbsp;&nbsp;</span>Discussion</a></span></li></ul></li><li><span><a href=\"#Experiment-2---Supplemental-Precipitation-Data\" data-toc-modified-id=\"Experiment-2---Supplemental-Precipitation-Data-5\"><span class=\"toc-item-num\">5&nbsp;&nbsp;</span>Experiment 2 - Supplemental Precipitation Data</a></span><ul class=\"toc-item\"><li><span><a href=\"#Background\" data-toc-modified-id=\"Background-5.1\"><span class=\"toc-item-num\">5.1&nbsp;&nbsp;</span>Background</a></span></li><li><span><a href=\"#Objective\" data-toc-modified-id=\"Objective-5.2\"><span class=\"toc-item-num\">5.2&nbsp;&nbsp;</span>Objective</a></span></li><li><span><a href=\"#Create-experiment-simulation-directory\" data-toc-modified-id=\"Create-experiment-simulation-directory-5.3\"><span class=\"toc-item-num\">5.3&nbsp;&nbsp;</span>Create experiment simulation directory</a></span></li><li><span><a href=\"#Edit-the-namelist-and-FORCING-data-and-run-the-simulation\" data-toc-modified-id=\"Edit-the-namelist-and-FORCING-data-and-run-the-simulation-5.4\"><span class=\"toc-item-num\">5.4&nbsp;&nbsp;</span>Edit the namelist and FORCING data and run the simulation</a></span></li><li><span><a href=\"#Results\" data-toc-modified-id=\"Results-5.5\"><span class=\"toc-item-num\">5.5&nbsp;&nbsp;</span>Results</a></span><ul class=\"toc-item\"><li><span><a href=\"#Hydrographs\" data-toc-modified-id=\"Hydrographs-5.5.1\"><span class=\"toc-item-num\">5.5.1&nbsp;&nbsp;</span>Hydrographs</a></span></li><li><span><a href=\"#Precipitation-data\" data-toc-modified-id=\"Precipitation-data-5.5.2\"><span class=\"toc-item-num\">5.5.2&nbsp;&nbsp;</span>Precipitation data</a></span></li></ul></li><li><span><a href=\"#Discussion\" data-toc-modified-id=\"Discussion-5.6\"><span class=\"toc-item-num\">5.6&nbsp;&nbsp;</span>Discussion</a></span></li></ul></li><li><span><a href=\"#Experiment-3---Groundwater-model-options\" data-toc-modified-id=\"Experiment-3---Groundwater-model-options-6\"><span class=\"toc-item-num\">6&nbsp;&nbsp;</span>Experiment 3 - Groundwater model options</a></span><ul class=\"toc-item\"><li><span><a href=\"#Background\" data-toc-modified-id=\"Background-6.1\"><span class=\"toc-item-num\">6.1&nbsp;&nbsp;</span>Background</a></span></li><li><span><a href=\"#Objective\" data-toc-modified-id=\"Objective-6.2\"><span class=\"toc-item-num\">6.2&nbsp;&nbsp;</span>Objective</a></span></li><li><span><a href=\"#Create-experiment-simulation-directory\" data-toc-modified-id=\"Create-experiment-simulation-directory-6.3\"><span class=\"toc-item-num\">6.3&nbsp;&nbsp;</span>Create experiment simulation directory</a></span></li><li><span><a href=\"#Edit-the-namelists-and-run-the-simulation-for-the-pass-through-model\" data-toc-modified-id=\"Edit-the-namelists-and-run-the-simulation-for-the-pass-through-model-6.4\"><span class=\"toc-item-num\">6.4&nbsp;&nbsp;</span>Edit the namelists and run the simulation for the pass through model</a></span></li><li><span><a href=\"#Edit-the-namelists-and-run-the-simulation-for-no-groundwater-routing\" data-toc-modified-id=\"Edit-the-namelists-and-run-the-simulation-for-no-groundwater-routing-6.5\"><span class=\"toc-item-num\">6.5&nbsp;&nbsp;</span>Edit the namelists and run the simulation for no groundwater routing</a></span></li><li><span><a href=\"#Results\" data-toc-modified-id=\"Results-6.6\"><span class=\"toc-item-num\">6.6&nbsp;&nbsp;</span>Results</a></span></li><li><span><a href=\"#Discussion\" data-toc-modified-id=\"Discussion-6.7\"><span class=\"toc-item-num\">6.7&nbsp;&nbsp;</span>Discussion</a></span></li></ul></li><li><span><a href=\"#Experiment-4---Removing-lakes-from-the-simulation\" data-toc-modified-id=\"Experiment-4---Removing-lakes-from-the-simulation-7\"><span class=\"toc-item-num\">7&nbsp;&nbsp;</span>Experiment 4 - Removing lakes from the simulation</a></span><ul class=\"toc-item\"><li><span><a href=\"#Background\" data-toc-modified-id=\"Background-7.1\"><span class=\"toc-item-num\">7.1&nbsp;&nbsp;</span>Background</a></span></li><li><span><a href=\"#Objective\" data-toc-modified-id=\"Objective-7.2\"><span class=\"toc-item-num\">7.2&nbsp;&nbsp;</span>Objective</a></span></li><li><span><a href=\"#Create-experiment-simulation-directory\" data-toc-modified-id=\"Create-experiment-simulation-directory-7.3\"><span class=\"toc-item-num\">7.3&nbsp;&nbsp;</span>Create experiment simulation directory</a></span></li><li><span><a href=\"#Review-the-differences-and-run-the-simulation\" data-toc-modified-id=\"Review-the-differences-and-run-the-simulation-7.4\"><span class=\"toc-item-num\">7.4&nbsp;&nbsp;</span>Review the differences and run the simulation</a></span></li><li><span><a href=\"#Results\" data-toc-modified-id=\"Results-7.5\"><span class=\"toc-item-num\">7.5&nbsp;&nbsp;</span>Results</a></span></li><li><span><a href=\"#Discussion\" data-toc-modified-id=\"Discussion-7.6\"><span class=\"toc-item-num\">7.6&nbsp;&nbsp;</span>Discussion</a></span></li></ul></li><li><span><a href=\"#Experiment-5---Modifying-lake-parameters-in-LAKEPARM.nc\" data-toc-modified-id=\"Experiment-5---Modifying-lake-parameters-in-LAKEPARM.nc-8\"><span class=\"toc-item-num\">8&nbsp;&nbsp;</span>Experiment 5 - Modifying lake parameters in <code>LAKEPARM.nc</code></a></span><ul class=\"toc-item\"><li><span><a href=\"#Background\" data-toc-modified-id=\"Background-8.1\"><span class=\"toc-item-num\">8.1&nbsp;&nbsp;</span>Background</a></span></li><li><span><a href=\"#Objective\" data-toc-modified-id=\"Objective-8.2\"><span class=\"toc-item-num\">8.2&nbsp;&nbsp;</span>Objective</a></span></li><li><span><a href=\"#Create-experiment-simulation-directory\" data-toc-modified-id=\"Create-experiment-simulation-directory-8.3\"><span class=\"toc-item-num\">8.3&nbsp;&nbsp;</span>Create experiment simulation directory</a></span></li><li><span><a href=\"#Edit-the-LAKEPARM.nc-file-and-run-the-simulation\" data-toc-modified-id=\"Edit-the-LAKEPARM.nc-file-and-run-the-simulation-8.4\"><span class=\"toc-item-num\">8.4&nbsp;&nbsp;</span>Edit the <code>LAKEPARM.nc</code> file and run the simulation</a></span></li><li><span><a href=\"#Results\" data-toc-modified-id=\"Results-8.5\"><span class=\"toc-item-num\">8.5&nbsp;&nbsp;</span>Results</a></span></li><li><span><a href=\"#Discussion\" data-toc-modified-id=\"Discussion-8.6\"><span class=\"toc-item-num\">8.6&nbsp;&nbsp;</span>Discussion</a></span></li></ul></li></ul></div>"
   ]
  },
  {
   "cell_type": "markdown",
   "metadata": {},
   "source": [
    "# Lesson 4 - Run-time options for NWM configuration\n",
    "## Overview\n",
    "In Lesson 2 we covered the basics of constructing and running a WRF-Hydro simulation using a prepared domain for the 'NWM' configuration. In this lesson, we will experiment with difference run-time options and do some basic visualization of the outputs using the Python library `xarray`.  \n",
    "\n",
    "**NOTE: If you have not completed Lessons 2 and 3, please stop and do so now.**\n",
    "\n",
    "### Software and conventions\n",
    "The easiest way to run these lessons is via the [wrfhydro/training](https://hub.docker.com/r/wrfhydro/training/) Docker container, which has all software dependencies and data pre-installed.\n",
    "\n",
    "For a complete description of the software environment used for this training please see [Getting started]().\n",
    "\n",
    "You may either execute commands by running each cell of this notebook. Alternatively, you may open a terminal in Jupyter Lab by selecting `New -> Terminal` in your `Home` tab of Jupyter Lab and input the commands manually if you prefer. You can also use your own terminal by logging into the container with the command `docker exec -it wrf-hydro-training bash`\n",
    "\n",
    "All paths used in this lesson assume that the lesson materials are located under your home directory in a folder named `wrf-hydro-training`. If your materials are located in another directory, you will not be able to run the commands in this notebook inside Jupyter and will need to type them manually in your terminal session. \n",
    "\n",
    "## Recap of Lessons 1 and 2, compiling and running WRF-Hydro\n",
    "In this section, we will quickly recap the commands issued in Lessons 1 and 2 to compile WRF-Hydro and create our simulation directory. We will use the prepared domain for the remaining lessons, but feel free to replace the prepared domain with the domain you created in the geospatial hands-on training session. **NOTE: Your domain directory structure and filenames must match the prepared domain EXACTLY**\n",
    "\n",
    "### Compiling WRF-Hydro\n",
    "Below are the commands to compile WRF-Hydro."
   ]
  },
  {
   "cell_type": "code",
   "execution_count": null,
   "metadata": {
    "scrolled": true
   },
   "outputs": [],
   "source": [
    "%%bash\n",
    "# Change to the trunk/NDHMS directory and configure for gfort\n",
    "cd ~/wrf-hydro-training/wrf_hydro_nwm_public/trunk/NDHMS/; ./configure 2\n",
    "\n",
    "# Make a copy of the template environment variable file, setEnvars.sh\n",
    "cp ~/wrf-hydro-training/wrf_hydro_nwm_public/trunk/NDHMS/template/setEnvar.sh \\\n",
    "~/wrf-hydro-training/wrf_hydro_nwm_public/trunk/NDHMS/configureEnvars.sh"
   ]
  },
  {
   "cell_type": "markdown",
   "metadata": {},
   "source": [
    "# **Set compile-time options**\n",
    "\n",
    "Edit the `configureEnvars.sh` script to set environment variables required by the compile script. Your `configureEnvars.sh` should look like the bash script below when you are finished. NOTE: We are compiling with spatial soils active for this exercise.\n",
    "\n",
    "---\n",
    "\n",
    "```bash\n",
    "#!/bin/bash\n",
    "# WRF-Hydro compile time options\n",
    "\n",
    "# This is a WRF environment variable. Always set to 1=On for compiling WRF-Hydro.\n",
    "export WRF_HYDRO=1\n",
    "\n",
    "# Enhanced diagnostic output for debugging: 0=Off, 1=On.\n",
    "export HYDRO_D=1\n",
    "\n",
    "# Spatially distributed parameters for NoahMP: 0=Off, 1=On.\n",
    "export SPATIAL_SOIL=1  \n",
    "\n",
    "# RAPID model: 0=Off, 1=On.\n",
    "export WRF_HYDRO_RAPID=0\n",
    "\n",
    "# Large netcdf file support: 0=Off, 1=On.\n",
    "export WRFIO_NCD_LARGE_FILE_SUPPORT=1\n",
    "\n",
    "# WCOSS file units: 0=Off, 1=On. \n",
    "export NCEP_WCOSS=0\n",
    "\n",
    "# Streamflow nudging: 0=Off, 1=On.\n",
    "export WRF_HYDRO_NUDGING=1\n",
    "```\n",
    "\n",
    "---\n"
   ]
  },
  {
   "cell_type": "markdown",
   "metadata": {},
   "source": [
    "**Compile WRF-Hydro in uncoupled mode**"
   ]
  },
  {
   "cell_type": "code",
   "execution_count": null,
   "metadata": {},
   "outputs": [],
   "source": [
    "%%bash\n",
    "module load gnu\n",
    "cd ~/wrf-hydro-training/wrf_hydro_nwm_public/trunk/NDHMS/; \\\n",
    "./compile_offline_NoahMP.sh configureEnvars.sh >> compile.log 2>&1\n",
    "\n",
    "tail -13 ~/wrf-hydro-training/wrf_hydro_nwm_public/trunk/NDHMS/compile.log"
   ]
  },
  {
   "cell_type": "markdown",
   "metadata": {},
   "source": [
    "**We have successfully compiled WRF-Hydro and we will use this binary and *.TBL files for the remaining simulations in this lesson**"
   ]
  },
  {
   "cell_type": "markdown",
   "metadata": {},
   "source": [
    "### Creating the simulation directory and running a baseline WRF-Hydro simulation\n",
    "Below are the commands from Lesson 2 to create the simulation directory and run a WRF-Hydro simulation. This simulation will be run exactly as was done in Lesson 2 and will serve as our baseline simulation. We will modify run-time options in subsequent simulations in the lesson and compare the outputs."
   ]
  },
  {
   "cell_type": "code",
   "execution_count": null,
   "metadata": {},
   "outputs": [],
   "source": [
    "%%bash\n",
    "# Make a new directory for our baseline simulation\n",
    "mkdir -p ~/wrf-hydro-training/output/lesson4/run_NWM_baseline\n",
    "\n",
    "# Copy our model files to the simulation directory\n",
    "cp ~/wrf-hydro-training/wrf_hydro_nwm_public/trunk/NDHMS/Run/*.TBL \\\n",
    "~/wrf-hydro-training/output/lesson4/run_NWM_baseline\n",
    "cp ~/wrf-hydro-training/wrf_hydro_nwm_public/trunk/NDHMS/Run/wrf_hydro.exe \\\n",
    "~/wrf-hydro-training/output/lesson4/run_NWM_baseline\n",
    "\n",
    "# Create symbolic links to large domain files\n",
    "cp -as $HOME/wrf-hydro-training/example_case/FORCING \\\n",
    "~/wrf-hydro-training/output/lesson4/run_NWM_baseline\n",
    "cp -as $HOME/wrf-hydro-training/example_case/NWM/DOMAIN \\\n",
    "~/wrf-hydro-training/output/lesson4/run_NWM_baseline\n",
    "cp -as $HOME/wrf-hydro-training/example_case/NWM/RESTART \\\n",
    "~/wrf-hydro-training/output/lesson4/run_NWM_baseline\n",
    "\n",
    "# Copy namelist files\n",
    "cp ~/wrf-hydro-training/example_case/NWM/namelist.hrldas \\\n",
    "~/wrf-hydro-training/output/lesson4/run_NWM_baseline\n",
    "cp ~/wrf-hydro-training/example_case/NWM/hydro.namelist \\\n",
    "~/wrf-hydro-training/output/lesson4/run_NWM_baseline\n",
    "\n",
    "# Run the simulation\n",
    "cd ~/wrf-hydro-training/output/lesson4/run_NWM_baseline\n",
    "mpirun -np 2 ./wrf_hydro.exe >> run.log 2>&1"
   ]
  },
  {
   "cell_type": "code",
   "execution_count": null,
   "metadata": {
    "scrolled": true
   },
   "outputs": [],
   "source": [
    "%%bash\n",
    "# Check that it finished successfully\n",
    "tail -1 ~/wrf-hydro-training/output/lesson4/run_NWM_baseline/diag_hydro.00000"
   ]
  },
  {
   "cell_type": "markdown",
   "metadata": {},
   "source": [
    "## Experimenting with run-time options\n",
    "### Setup\n",
    "In this section we will run a few different simulations with different run-time options and explore their effects on the model output.\n",
    "\n",
    "We will create a new simulation directory for each experiment. First, we will make a new simulation directory as we did with the baseline run above and use this as a template for creating multiple new simulation directories.\n",
    "\n",
    "**Step 1: Create a simulation directory to use as a template**"
   ]
  },
  {
   "cell_type": "code",
   "execution_count": null,
   "metadata": {},
   "outputs": [],
   "source": [
    "%%bash\n",
    "# Make a new directory for our baseline simulation\n",
    "mkdir -p ~/wrf-hydro-training/output/lesson4/run_NWM_template\n",
    "\n",
    "# Copy our model files to the simulation directory\n",
    "cp ~/wrf-hydro-training/wrf_hydro_nwm_public/trunk/NDHMS/Run/*.TBL \\\n",
    "~/wrf-hydro-training/output/lesson4/run_NWM_template\n",
    "cp ~/wrf-hydro-training/wrf_hydro_nwm_public/trunk/NDHMS/Run/wrf_hydro.exe \\\n",
    "~/wrf-hydro-training/output/lesson4/run_NWM_template\n",
    "\n",
    "# Create symbolic links to large domain files\n",
    "cp -as $HOME/wrf-hydro-training/example_case/FORCING \\\n",
    "~/wrf-hydro-training/output/lesson4/run_NWM_template\n",
    "cp -as $HOME/wrf-hydro-training/example_case/NWM/DOMAIN \\\n",
    "~/wrf-hydro-training/output/lesson4/run_NWM_template\n",
    "cp -as $HOME/wrf-hydro-training/example_case/NWM/RESTART \\\n",
    "~/wrf-hydro-training/output/lesson4/run_NWM_template\n",
    "\n",
    "# Copy namelist files\n",
    "cp ~/wrf-hydro-training/example_case/NWM/namelist.hrldas \\\n",
    "~/wrf-hydro-training/output/lesson4/run_NWM_template\n",
    "cp ~/wrf-hydro-training/example_case/NWM/hydro.namelist \\\n",
    "~/wrf-hydro-training/output/lesson4/run_NWM_template"
   ]
  },
  {
   "cell_type": "markdown",
   "metadata": {},
   "source": [
    "**Step 2: View the contents**"
   ]
  },
  {
   "cell_type": "code",
   "execution_count": null,
   "metadata": {},
   "outputs": [],
   "source": [
    "%%bash\n",
    "ls ~/wrf-hydro-training/output/lesson4/run_NWM_template"
   ]
  },
  {
   "cell_type": "markdown",
   "metadata": {},
   "source": [
    "We now have our template simulation directory ready to go. In each experiment we will copy this directory and edit the two namelist files *namelist.hrldas* and *hydro.namelist* to change run-time options."
   ]
  },
  {
   "cell_type": "markdown",
   "metadata": {},
   "source": [
    "## Experiment 1 - Warm vs Cold start\n",
    "### Background\n",
    "A model 'cold start' is when you start your simulation with default initial conditions. In this case, model states are initialized from the `wrfinput.nc` file (land surface states) and `GWBUCKPARM.nc` (groundwater bucket states, if active). Often these initial values are guesses at global, physically plausible starting values (e.g., global volumetric soil moisture content of 0.3). However, model states like soil moisture, groundwater levels, and stream levels need time to adjust to local climate and environment. So in most cases, we first 'spinup' the model to reach an equilibrium state before launching a model experiment and evaluating output. Model states at the end of this 'spinup' period can be used to 'warm start' a simulation. A ‘warm start’ is when the model simulation begins with the simulated values from a previous run. How long you need to 'spinup' your model varies based on the local climate (e.g., drier climates generally take longer than wetter climates), the variables you are interested in (e.g., a fast stabilizing state like shallow soil moisture vs. a slower evolving state like deep groundwater), and local topography and soil types (e.g., sands have shorter memory than clays). \n",
    "\n",
    "### Objective\n",
    "The goal of this experiment is to demonstrate the effect of starting a simulation from a 'cold stat' vs. a 'warm start'. The NWM baseline run was started from a 'warm start', so all we need to do is construct a simulation directory and edit the namelists to start from a cold start.\n",
    "\n",
    "### Create experiment simulation directory\n",
    "We will copy our template directory `~/wrf-hydro-training/output/lesson4/run_NWM_template` and edit the `namelist.hrldas` and `hydro.namelist` files to start the model from a cold start. "
   ]
  },
  {
   "cell_type": "code",
   "execution_count": null,
   "metadata": {},
   "outputs": [],
   "source": [
    "%%bash\n",
    "cp -r ~/wrf-hydro-training/output/lesson4/run_NWM_template ~/wrf-hydro-training/output/lesson4/run_cold_start"
   ]
  },
  {
   "cell_type": "markdown",
   "metadata": {},
   "source": [
    "### Edit the namelists and run the simulation\n",
    "If restart files are not provided in the *namelist.hrldas* and *hydro.namelist* files then the simulation will start from a cold start. \n",
    "\n",
    "**Step 1: Edit the *namelist.hrldas* file**\n",
    "Comment out this line `RESTART_FILENAME_REQUESTED = \"RESTART/RESTART.2011082700_DOMAIN1\"` in the *namelist.hrldas* by adding `!` to the start of the line. \n",
    "\n",
    "```\n",
    "!RESTART_FILENAME_REQUESTED = \"RESTART/RESTART.2011082700_DOMAIN1\"\n",
    "```\n",
    "\n",
    "**Step 2: Edit the *hydro.namelist* file**\n",
    "Comment out this line `RESTART_FILE  = 'RESTART/HYDRO_RST.2011-08-27_00_00_DOMAIN1'` in the *hydro.namelist* by adding `!` to the start of the line. \n",
    "\n",
    "```\n",
    "! Specify the name of the restart file if starting from restart...comment out with '!' if not...\n",
    "!RESTART_FILE  = 'RESTART/HYDRO_RST.2011-08-27_00_00_DOMAIN1'\n",
    "```\n",
    "Tell the code to use GWBUCKPARM.nc initialization values vs. the restart file starting states by editing the `GW_RESTART` option in the *hydro.namelist*. \n",
    "\n",
    "```\n",
    "! Specify baseflow/bucket model initialization...(0=cold start from table, 1=restart file)\n",
    "GW_RESTART = 0\n",
    "```\n",
    "\n",
    "**Step 3: Run the simulation**"
   ]
  },
  {
   "cell_type": "code",
   "execution_count": null,
   "metadata": {},
   "outputs": [],
   "source": [
    "%%bash\n",
    "cd ~/wrf-hydro-training/output/lesson4/run_cold_start\n",
    "mpirun -np 2 ./wrf_hydro.exe >> run.log 2>&1"
   ]
  },
  {
   "cell_type": "markdown",
   "metadata": {},
   "source": [
    "**Step 4: Check that the simulation finished successfully**"
   ]
  },
  {
   "cell_type": "code",
   "execution_count": null,
   "metadata": {
    "scrolled": true
   },
   "outputs": [],
   "source": [
    "%%bash\n",
    "tail -1 ~/wrf-hydro-training/output/lesson4/run_cold_start/diag_hydro.00000"
   ]
  },
  {
   "cell_type": "markdown",
   "metadata": {},
   "source": [
    "### Results\n",
    "We will now look at the differences in streamflow between our warm start simulation represented by the *run_NWM_baseline* simulation and our cold start simulation that we ran during this experiment.\n",
    "\n",
    "We will use Python and the `xarray` library to create hydrographs and 2d plots of soil moisture. For an intro to these tools, please see Lesson 3.\n",
    "\n",
    "**Load the xarray python package**"
   ]
  },
  {
   "cell_type": "code",
   "execution_count": null,
   "metadata": {},
   "outputs": [],
   "source": [
    "# Load the xarray package\n",
    "%matplotlib inline\n",
    "import xarray as xr\n",
    "import matplotlib.pyplot as plt\n",
    "import pandas as pd"
   ]
  },
  {
   "cell_type": "markdown",
   "metadata": {},
   "source": [
    "#### Hydrographs\n",
    "**Load the CHANOBS streamflow datasets**\n",
    "\n",
    "We are going to use the CHANOBS output files to extract the streamflow time series. CHANOBS output files contain information for only the grid cells where we have specified a gage is located."
   ]
  },
  {
   "cell_type": "code",
   "execution_count": null,
   "metadata": {},
   "outputs": [],
   "source": [
    "chanobs_baseline = xr.open_mfdataset('/home/docker/wrf-hydro-training/output/lesson4/run_NWM_baseline/*CHANOBS*',\n",
    "                            concat_dim='time')\n",
    "chanobs_cold = xr.open_mfdataset('/home/docker/wrf-hydro-training/output/lesson4/run_cold_start/*CHANOBS*',\n",
    "                            concat_dim='time')\n",
    "obs = pd.read_csv('/home/docker/wrf-hydro-training/example_case/USGS_obs.csv',dtype=str)\n",
    "obs['dateTime'] = pd.to_datetime(obs['dateTime'])\n",
    "obs['streamflow_cms'] = pd.to_numeric(obs['streamflow_cms'])"
   ]
  },
  {
   "cell_type": "markdown",
   "metadata": {},
   "source": [
    "**Plot the hydrographs**"
   ]
  },
  {
   "cell_type": "code",
   "execution_count": null,
   "metadata": {},
   "outputs": [],
   "source": [
    "fig, axes = plt.subplots(ncols=1,figsize=(12, 6))\n",
    "plt.suptitle('Hydrographs for warm and cold starts',fontsize=24)\n",
    "chanobs_baseline.sel(feature_id = 4185779).streamflow.plot(label='Warm start',\n",
    "                                                     color='black',\n",
    "                                                     linestyle='--')\n",
    "chanobs_cold.sel(feature_id = 4185779).streamflow.plot(label='Cold start',\n",
    "                                                        color='blue',\n",
    "                                                        linestyle='-')\n",
    "obs[obs['site_no'] == '01447720'].plot(x='dateTime',\n",
    "                                       y='streamflow_cms',\n",
    "                                       ax=axes,\n",
    "                                       label='Observed',\n",
    "                                       color='grey')\n",
    "plt.legend()\n",
    "plt.show()"
   ]
  },
  {
   "cell_type": "markdown",
   "metadata": {},
   "source": [
    "#### Soil moisture at start of simulation\n",
    "The option `t0OutputFlag` in the *hydro.namelist* can be used to output models states at the start of the simulation.\n",
    "\n",
    "```\n",
    "! Option to write output files at time 0 (restart cold start time): 0=no, 1=yes (default)\n",
    "t0OutputFlag = 1\n",
    "```\n",
    "We had this option set to 1 for both of our simulations so that we have outputs at the first timestep. \n",
    "\n",
    "**Load the LDASOUT datasets from the land surface model**"
   ]
  },
  {
   "cell_type": "code",
   "execution_count": null,
   "metadata": {},
   "outputs": [],
   "source": [
    "ldasout_baseline = xr.open_mfdataset('/home/docker/wrf-hydro-training/output/lesson4/run_NWM_baseline/201108270000.LDASOUT_DOMAIN1',\n",
    "                            concat_dim='time')\n",
    "ldasout_cold = xr.open_mfdataset('/home/docker/wrf-hydro-training/output/lesson4/run_cold_start/201108270000.LDASOUT_DOMAIN1',\n",
    "                            concat_dim='time')"
   ]
  },
  {
   "cell_type": "markdown",
   "metadata": {},
   "source": [
    "**Plot soil moisture at start of simulation**"
   ]
  },
  {
   "cell_type": "code",
   "execution_count": null,
   "metadata": {},
   "outputs": [],
   "source": [
    "# Select data for t=0 at surface layer\n",
    "ldasout_baseline_t0 = ldasout_baseline.sel(time = '2011-08-27T00:00:00').sel(soil_layers_stag = 0)\n",
    "ldasout_cold_t0 = ldasout_cold.sel(time = '2011-08-27T00:00:00').sel(soil_layers_stag = 0)\n",
    "\n",
    "fig, axes = plt.subplots(ncols=2,figsize=(12, 6))\n",
    "plt.suptitle('Surface soil moisture states at t=0 for warm and cold starts',fontsize=24)\n",
    "ldasout_baseline_t0.SOIL_M.plot(ax=axes[0],vmin=0.1,vmax=0.5)\n",
    "axes[0].set_title('Warm start')\n",
    "ldasout_cold_t0.SOIL_M.plot(ax=axes[1],vmin=0.1,vmax=0.5)\n",
    "axes[1].set_title('Cold start')\n",
    "plt.show()"
   ]
  },
  {
   "cell_type": "markdown",
   "metadata": {},
   "source": [
    "### Discussion"
   ]
  },
  {
   "cell_type": "markdown",
   "metadata": {},
   "source": [
    "Note that the streamflow for the cold start at the start of the simulation is 0 while the streamflow from the warm start (baseline) is > 0. Additionally, the cold start simulation begins with relatively low soil moisture while the warm start simulation begins with more saturated soils. As a result they have different responses to the rainfall event. Since the cold-start simulation soil is relatively drier, it has a higher capacity to store water and therefore more precipitation is partitioned to soil moisture (vs. runoff) compared to the warm-start simulation. This is a good example of why you almost always want to spinup your model prior to analyzing output."
   ]
  },
  {
   "cell_type": "markdown",
   "metadata": {},
   "source": [
    "## Experiment 2 - Supplemental Precipitation Data\n",
    "### Background\n",
    "Precipitation in commonly the most important driver of hydrologic response. In some applications, for example a flood simulation, you may want to combine atmospheric analyses from reanalysis products or other models with a separate analysis of precipitation (e.g. a gridded gauge product, radar QPE, nowcasts, satellite QPE, etc). To enable such behavior, WRF-Hydro has an option (forcing type 6) to pair standard HRLDAS atmospheric forcing files with supplemental precipitation files.\n",
    "\n",
    "### Objective\n",
    "Demonstrate the use of supplemental precipiation data for forcing our simulation.\n",
    "\n",
    "### Create experiment simulation directory\n",
    "First we will copy our template directory `~/wrf-hydro-training/output/lesson4/run_NWM_template` to create a new simulation directory for this experiment."
   ]
  },
  {
   "cell_type": "code",
   "execution_count": null,
   "metadata": {},
   "outputs": [],
   "source": [
    "%%bash\n",
    "cp -r ~/wrf-hydro-training/output/lesson4/run_NWM_template \\\n",
    "~/wrf-hydro-training/output/lesson4/run_supp_precip"
   ]
  },
  {
   "cell_type": "markdown",
   "metadata": {},
   "source": [
    "### Edit the namelist and FORCING data and run the simulation\n",
    "\n",
    "**Step 1: Edit the `namelist.hrldas`**\n",
    "\n",
    "The forcing data type is specified in the `namelist.hrldas` file with the variable `FORC_TYP`. We will change the value from `FORC_TYP=1` for standard HRLDAS hourly format data (all input variables combined into a single LDASIN file per timestep) to `FORC_TYP=6`, which reads both the standard HRLDAS hourly input files AND supplemental precipitation data files.\n",
    "\n",
    "```\n",
    "&WRF_HYDRO_OFFLINE\n",
    "\n",
    "! Specification of forcing data:  1=HRLDAS-hr format, 2=HRLDAS-min format, 3=WRF,\n",
    "!    4=Idealized, 5=Ideal w/ Spec.Precip., 6=HRLDAS-hrl y fomat w/ Spec. Precip,\n",
    "FORC_TYP = 6\n",
    "```\n",
    "**Step 2: Extract the supplemental precipitation data included with the example case**\n",
    "\n",
    "In the supplemental folder in the example case there is a tar file `supp_precip.tar.gz` containing regridded StageIV precipitation data. We will extract this to use for augmenting our FORCING data."
   ]
  },
  {
   "cell_type": "code",
   "execution_count": null,
   "metadata": {
    "scrolled": false
   },
   "outputs": [],
   "source": [
    "%%bash\n",
    "cd ~/wrf-hydro-training/example_case/supplemental/\n",
    "tar -xf ~/wrf-hydro-training/example_case/supplemental/supp_precip.tar.gz \n",
    "ls ~/wrf-hydro-training/example_case/supplemental/supp_precip | head -10"
   ]
  },
  {
   "cell_type": "markdown",
   "metadata": {},
   "source": [
    "**Step 3: Create a symlink to the supplemental precipitation data**\n",
    "\n",
    "We will add in our supplemental precipitation data to the FORCING folder. Since these data can be rather large we will create a symbolic link."
   ]
  },
  {
   "cell_type": "code",
   "execution_count": null,
   "metadata": {},
   "outputs": [],
   "source": [
    "%%bash\n",
    "ln -s ~/wrf-hydro-training/example_case/supplemental/supp_precip/20110* \\\n",
    "~/wrf-hydro-training/output/lesson4/run_supp_precip/FORCING/"
   ]
  },
  {
   "cell_type": "markdown",
   "metadata": {},
   "source": [
    "Lets take a look at the `FORCING` directory with the new data."
   ]
  },
  {
   "cell_type": "code",
   "execution_count": null,
   "metadata": {},
   "outputs": [],
   "source": [
    "%%bash\n",
    "ls ~/wrf-hydro-training/output/lesson4/run_supp_precip/FORCING/ | head -10"
   ]
  },
  {
   "cell_type": "markdown",
   "metadata": {},
   "source": [
    "Now you see two files per hour. The *PRECIP_FORCING* files will be used for precipitation inputs and *LDASIN_DOMAIN* files will be used for all other forcing fields (e.g., temperature, radiation, wind). Note that the supplemental *PRECIP_FORCING* files are always specified to the minute.\n",
    "\n",
    "**Step 3: Run the simulation**"
   ]
  },
  {
   "cell_type": "code",
   "execution_count": null,
   "metadata": {},
   "outputs": [],
   "source": [
    "%%bash\n",
    "cd ~/wrf-hydro-training/output/lesson4/run_supp_precip\n",
    "mpirun -np 2 ./wrf_hydro.exe >> run.log 2>&1"
   ]
  },
  {
   "cell_type": "markdown",
   "metadata": {},
   "source": [
    "### Results\n",
    "We will now look at the differences in streamflow between our baseline run with NLDAS precipitation and our experiment with supplemental StageIV precipitation.\n",
    "\n",
    "We will use Python and the *xarray* library to load the data and plot hydrographs. For an intro to these tools, please see lesson 3.\n",
    "\n",
    "**Load the xarray python package**"
   ]
  },
  {
   "cell_type": "code",
   "execution_count": null,
   "metadata": {},
   "outputs": [],
   "source": [
    "# Load the xarray package\n",
    "%matplotlib inline\n",
    "import xarray as xr\n",
    "import matplotlib.pyplot as plt\n",
    "import pandas as pd\n",
    "import numpy as np"
   ]
  },
  {
   "cell_type": "markdown",
   "metadata": {},
   "source": [
    "#### Hydrographs\n",
    "**Load the CHANOBS streamflow datasets**\n",
    "\n",
    "Again, we use the CHANOBS files to import the streamflow timeseries at specified gage locations."
   ]
  },
  {
   "cell_type": "code",
   "execution_count": null,
   "metadata": {},
   "outputs": [],
   "source": [
    "chanobs_baseline = xr.open_mfdataset('/home/docker/wrf-hydro-training/output/lesson4/run_NWM_baseline/*CHANOBS*',\n",
    "                            concat_dim='time')\n",
    "chanobs_supp_precip = xr.open_mfdataset('/home/docker/wrf-hydro-training/output/lesson4/run_supp_precip/*CHANOBS*',\n",
    "                            concat_dim='time')\n",
    "obs = pd.read_csv('/home/docker/wrf-hydro-training/example_case/USGS_obs.csv',dtype=str)\n",
    "obs['dateTime'] = pd.to_datetime(obs['dateTime'])\n",
    "obs['streamflow_cms'] = pd.to_numeric(obs['streamflow_cms'])"
   ]
  },
  {
   "cell_type": "markdown",
   "metadata": {},
   "source": [
    "**Plot the hydrographs**"
   ]
  },
  {
   "cell_type": "code",
   "execution_count": null,
   "metadata": {},
   "outputs": [],
   "source": [
    "fig, axes = plt.subplots(ncols=1,figsize=(12, 6))\n",
    "plt.suptitle('Hydrographs for NLDAS and Stage IV forcing',fontsize=24)\n",
    "chanobs_baseline.sel(feature_id = 4185779).streamflow.plot(label='NLDAS',\n",
    "                                                     color='black',\n",
    "                                                     linestyle='--')\n",
    "chanobs_supp_precip.sel(feature_id = 4185779).streamflow.plot(label='Stage IV',\n",
    "                                                        color='blue',\n",
    "                                                        linestyle='-')\n",
    "obs[obs['site_no'] == '01447720'].plot(x='dateTime',\n",
    "                                       y='streamflow_cms',\n",
    "                                       ax=axes,\n",
    "                                       label='Observed',\n",
    "                                       color='grey')\n",
    "plt.legend()\n",
    "plt.show()"
   ]
  },
  {
   "cell_type": "markdown",
   "metadata": {},
   "source": [
    "#### Precipitation data"
   ]
  },
  {
   "cell_type": "markdown",
   "metadata": {},
   "source": [
    "We read in the precipitation time series data from the two different products using xarray."
   ]
  },
  {
   "cell_type": "code",
   "execution_count": null,
   "metadata": {},
   "outputs": [],
   "source": [
    "ldasin = xr.open_mfdataset('/home/docker/wrf-hydro-training/output/lesson4/run_NWM_baseline/FORCING/*LDASIN*',\n",
    "                            concat_dim='Time')\n",
    "stageiv = xr.open_mfdataset('/home/docker/wrf-hydro-training/output/lesson4/run_supp_precip/FORCING/*PRECIP*',\n",
    "                            concat_dim='Time')"
   ]
  },
  {
   "cell_type": "markdown",
   "metadata": {},
   "source": [
    "Now we calculate a domain-wide mean precipitation time series and plots the two products."
   ]
  },
  {
   "cell_type": "code",
   "execution_count": null,
   "metadata": {
    "scrolled": false
   },
   "outputs": [],
   "source": [
    "# Calculate the mean precipitation rate (mm/hr) across the domain\n",
    "ldasin_avg = ldasin.RAINRATE.mean(dim=('south_north','west_east')) * 3600\n",
    "stageiv_avg = stageiv.precip.mean(dim=('south_north','west_east')) \n",
    "\n",
    "# Plot the precipitation time series\n",
    "fig, axes = plt.subplots(ncols=1,figsize=(12, 6))\n",
    "plt.suptitle('Hyetograph for NLDAS and Stage IV forcing',fontsize=24)\n",
    "ldasin_avg.plot(label='NLDAS', color='black', linestyle='--')\n",
    "stageiv_avg.plot(label='Stage IV', color='blue', linestyle='-')\n",
    "plt.legend()\n",
    "plt.show()"
   ]
  },
  {
   "cell_type": "markdown",
   "metadata": {},
   "source": [
    "While the domain-average precipitation time series is mostly consistent between the products, Stage IV shows somewhat lower precipitation towards the end of the event.\n",
    "\n",
    "Since the two products have different native spatial resolutions (NLDAS is ~13km while Stage IV is ~4km), we should also examine the spatial patterns of precipitation."
   ]
  },
  {
   "cell_type": "code",
   "execution_count": null,
   "metadata": {
    "scrolled": false
   },
   "outputs": [],
   "source": [
    "# Select data for roughly middle of event # the hour \n",
    "ldasin_tmid = ldasin.isel(Time = 29)\n",
    "stageiv_tmid = stageiv.isel(Time = 29)\n",
    "\n",
    "# Plot the 2D precipitation grids at hour 60.\n",
    "fig, axes = plt.subplots(ncols=2,figsize=(12, 6))\n",
    "plt.suptitle('Precipitation rate for nldas and stage IV',fontsize=24)\n",
    "ldasin_tmid['RAINRATE'] = ldasin_tmid.RAINRATE*3600\n",
    "ldasin_tmid.RAINRATE.plot(ax=axes[0],vmin=5,vmax=15)\n",
    "axes[0].set_title('NLDAS')\n",
    "stageiv_tmid['precip'] = stageiv_tmid.precip\n",
    "stageiv_tmid.precip.plot(ax=axes[1],vmin=5,vmax=15)\n",
    "axes[1].set_title('StageIV')\n",
    "plt.show()"
   ]
  },
  {
   "cell_type": "markdown",
   "metadata": {},
   "source": [
    "### Discussion \n",
    "The spatial pattern of the two precipitation forcing datasets is not hugely different. NLDAS-2 precipitation is more interse in the southeast of the domain compared to Stage IV. This results in higher streamflow simulations at the gage locations particulary the interior gage that the streamflow simulations is not shown here. "
   ]
  },
  {
   "cell_type": "markdown",
   "metadata": {},
   "source": [
    "## Experiment 4 - Removing lakes from the simulation\n",
    "### Background\n",
    "In the NWM channel routing configuration, WRF-Hydro can be run with lakes on or off because the network sees them as objects. Note: in the gridded simulation it is not as simple as flipping a switch because if lakes are to be included, then they need to be represented explicitly on the fine grid (i.e. in the `Fulldom_hires.nc` file).  \n",
    "The only modification needed between running with and without lakes is to edit the `hydro.namelist`. See below for details.\n",
    "\n",
    "### Objective\n",
    "Run a simulation for the NWM configuration without representing lakes and compare the resulting hydrographs at the outlet gage. \n",
    "\n"
   ]
  },
  {
   "cell_type": "markdown",
   "metadata": {},
   "source": [
    "**First: Turn lakes off in the `hydro.namelist` file**\n",
    "\n",
    "There are two changes necessary in the `hydro.namelist` to turn lakes off.\n",
    "\n",
    "First is commenting out the `route_lake_f` option by starting the line with `!`\n",
    "\n",
    "```\n",
    "! Specify the lake parameter file (e.g.: \"LAKEPARM.nc\" for netcdf or \"LAKEPARM.TBL\" for text).\n",
    "! Note REQUIRED if lakes are on.\n",
    "!route_lake_f = \"./DOMAIN/LAKEPARM.nc\"\n",
    "```\n",
    "\n",
    "Second is turning off the lakeout output files.\n",
    "\n",
    "```\n",
    "outlake  = 0                 ! Netcdf grid of lake values (1d)\n",
    "                             !      0 = no output, 1 = output\n",
    "```\n",
    "\n",
    "**Next: Run the simulation**"
   ]
  },
  {
   "cell_type": "code",
   "execution_count": null,
   "metadata": {},
   "outputs": [],
   "source": [
    "%%bash\n",
    "mkdir -p ~/wrf-hydro-training/output/lesson4/run_NWM_baseline/output_lakes_off"
   ]
  },
  {
   "cell_type": "code",
   "execution_count": null,
   "metadata": {},
   "outputs": [],
   "source": [
    "%%bash\n",
    "cd ~/wrf-hydro-training/output/lesson4/run_NWM_baseline\n",
    "mpirun -np 2 ./wrf_hydro.exe >> run.log 2>&1"
   ]
  },
  {
   "cell_type": "markdown",
   "metadata": {},
   "source": [
    "### Results\n",
    "We will now look at the differences in streamflow between our baseline run with lakes on and our experiment with lakes off.\n",
    "\n",
    "We will use Python and the `xarray` library to load the data and plot hydrographs. For an intro to these tools, please see lesson 3.\n",
    "\n",
    "**Load the xarray python package**"
   ]
  },
  {
   "cell_type": "code",
   "execution_count": null,
   "metadata": {},
   "outputs": [],
   "source": [
    "# Load the xarray package\n",
    "%matplotlib inline\n",
    "import xarray as xr\n",
    "import matplotlib.pyplot as plt"
   ]
  },
  {
   "cell_type": "markdown",
   "metadata": {},
   "source": [
    "**Load the CHANOBS streamflow datasets**\n",
    "\n",
    "We are going to use the CHANOBS files because it will limit the number of grid cells to only those which we have specified have a gage."
   ]
  },
  {
   "cell_type": "code",
   "execution_count": null,
   "metadata": {},
   "outputs": [],
   "source": [
    "chanobs_baseline = xr.open_mfdataset('/home/docker/wrf-hydro-training/output/lesson4/run_NWM_baseline/*CHANOBS*',\n",
    "                            concat_dim='time')\n",
    "chanobs_lakes_off = xr.open_mfdataset('/home/docker/wrf-hydro-training/output/lesson4/run_NWM_baseline/output_lakes_off/*CHANOBS*',\n",
    "                            concat_dim='time')\n",
    "obs = pd.read_csv('/home/docker/wrf-hydro-training/example_case/USGS_obs.csv',dtype=str)\n",
    "obs['dateTime'] = pd.to_datetime(obs['dateTime'])\n",
    "obs['streamflow_cms'] = pd.to_numeric(obs['streamflow_cms'])"
   ]
  },
  {
   "cell_type": "markdown",
   "metadata": {},
   "source": [
    "**Plot the hydrographs at the outlet gage location downstream of the lake**\n"
   ]
  },
  {
   "cell_type": "code",
   "execution_count": null,
   "metadata": {
    "scrolled": false
   },
   "outputs": [],
   "source": [
    "fig, axes = plt.subplots(ncols=1,figsize=(12, 6))\n",
    "plt.suptitle('Hydrographs for lakes on and off at stream location downstream of lake',fontsize=24)\n",
    "chanobs_lakes_off.sel(feature_id = 3).streamflow.plot(label='Lakes off',\n",
    "                                                        color='blue',\n",
    "                                                        linestyle='-')\n",
    "chanobs_baseline.sel(feature_id = 3).streamflow.plot(label='Lakes on',\n",
    "                                                        color='black',\n",
    "                                                        linestyle='--')\n",
    "obs[obs['site_no'] == '01447720'].plot(x='dateTime',\n",
    "                                         y='streamflow_cms',\n",
    "                                         ax=axes,\n",
    "                                         label='Observed',\n",
    "                                         color='grey')\n",
    "plt.legend()\n",
    "plt.show()"
   ]
  },
  {
   "cell_type": "markdown",
   "metadata": {},
   "source": [
    "### Discussion\n",
    "The streamflow values at the gauge downstream of both lakes show considerable differences between the two simulations. When the lakes are not included, streamflow is higher. This reflects the expected behavior of the lake attenuating streamflow at the outlet due to storage. "
   ]
  },
  {
   "cell_type": "markdown",
   "metadata": {},
   "source": [
    "## Experiment 5 - Modifying lake parameters in `LAKEPARM.nc`\n",
    "### Background\n",
    "The lake parameters populated into LAKEPARM.nc by the pre-processing tools are essentially placeholders for the user to replace with their own data. The accuracy of these parameters can have a significant impact on the storage and thus outflow of the lake. We will investigate the impact of modifying one of these parameters on streamflow and lake outflows.\n",
    "\n",
    "### Objective\n",
    "In this exercise, we will update one of these parameters, the maximum lake elevation, which controls the maximum depth - `LkMxE`, with an estimate from observations and explore the impact on the streamflow at the downstream gauge.\n",
    "\n",
    "### Create experiment simulation directory"
   ]
  },
  {
   "cell_type": "code",
   "execution_count": null,
   "metadata": {},
   "outputs": [],
   "source": [
    "%%bash\n",
    "cp -r ~/wrf-hydro-training/output/lesson4/run_NWM_baseline \\\n",
    "~/wrf-hydro-training/output/lesson4/run_lakeparm_edit\n"
   ]
  },
  {
   "cell_type": "markdown",
   "metadata": {},
   "source": [
    "### Edit the *LAKEPARM.nc* file and run the simulation\n",
    "**Step 1: Edit the *LAKEPARM.nc* file**\n",
    "\n",
    "NCO (NetCDF Operators, http://nco.sourceforge.net/) is a set of useful utilities to manipulate NetCDF files. We will use the NCO command `ncap2` to edit the LkMxE variable."
   ]
  },
  {
   "cell_type": "code",
   "execution_count": 2,
   "metadata": {
    "scrolled": false
   },
   "outputs": [],
   "source": [
    "%%bash\n",
    "ncap2 -s \"where(lake_id==4185089) LkMxE=553.75\" ~/wrf-hydro-training/output/lesson4/run_lakeparm_edit/DOMAIN/LAKEPARM.nc \\\n",
    "~/wrf-hydro-training/output/lesson4/run_lakeparm_edit/DOMAIN/LAKEPARM_LkMxE_edit.nc\n"
   ]
  },
  {
   "cell_type": "markdown",
   "metadata": {},
   "source": [
    "**Step 2: Verify that the change was made**\n",
    "\n",
    "We will check the value of the `LkMxE` variable in our new *LAKEPARM_LkMxE_edit.nc* file against the original *LAKEPARM.nc* file.\n",
    "\n",
    "*LAKEPARM_LkMxE_edit.nc*"
   ]
  },
  {
   "cell_type": "code",
   "execution_count": null,
   "metadata": {},
   "outputs": [],
   "source": [
    "%%bash\n",
    "ncdump -v LkMxE ~/wrf-hydro-training/output/lesson4/run_lakeparm_edit/DOMAIN/LAKEPARM_LkMxE_edit.nc"
   ]
  },
  {
   "cell_type": "markdown",
   "metadata": {},
   "source": [
    "*LAKEPARM.nc*"
   ]
  },
  {
   "cell_type": "code",
   "execution_count": null,
   "metadata": {
    "scrolled": true
   },
   "outputs": [],
   "source": [
    "%%bash\n",
    "ncdump -v LkMxE ~/wrf-hydro-training/output/lesson4/run_lakeparm_edit/DOMAIN/LAKEPARM.nc"
   ]
  },
  {
   "cell_type": "markdown",
   "metadata": {},
   "source": [
    "**Step 3: Edit the *hydro.namelist* to use the new *LAKEPARM_LkMxE_edit.nc***\n",
    "We will change the `route_lake_f` option in the *hydro.namelist* to use the edited lakeparm file. \n",
    "\n",
    "```\n",
    "! Specify the lake parameter file (e.g.: \"LAKEPARM.nc\").\n",
    "! Note REQUIRED if lakes are on.\n",
    "route_lake_f = \"./DOMAIN/LAKEPARM_LkMxE_edit.nc\"\n",
    "```\n",
    "\n",
    "**Step 3: Run the simulation**"
   ]
  },
  {
   "cell_type": "code",
   "execution_count": null,
   "metadata": {},
   "outputs": [],
   "source": [
    "%%bash\n",
    "cd ~/wrf-hydro-training/output/lesson4/run_lakeparm_edit\n",
    "mpirun -np 2 ./wrf_hydro.exe >> run.log 2>&1"
   ]
  },
  {
   "cell_type": "markdown",
   "metadata": {},
   "source": [
    "### Results\n",
    "We will now look at the differences in streamflow between our baseline run with the original LkMxE of 552.25m and our edited LkMxE of 553.75m.  We basically added 1.5m of available depth in the lake. \n",
    "\n",
    "We will use Python and the `xarray` library to load the data and plot hydrographs. For an intro to these tools, please see Lesson 3.\n",
    "\n",
    "**Load the xarray python package**"
   ]
  },
  {
   "cell_type": "code",
   "execution_count": 1,
   "metadata": {},
   "outputs": [],
   "source": [
    "# Load the xarray package\n",
    "%matplotlib inline\n",
    "import xarray as xr\n",
    "import matplotlib.pyplot as plt\n",
    "import pandas as pd"
   ]
  },
  {
   "cell_type": "markdown",
   "metadata": {},
   "source": [
    "**Load the LAKEOUT datasets.\n",
    "First we will examine how this modification changed the lake outflow and the water surface elevation of the modified lake (upstream lake, ID = 4185089**)\n",
    "\n",
    "To explore lake related outputs, we use the LAKEOUT files, which produce total inflow, outflow, and water surface elevation for each lake in the domain.  To generate these output files, ensure that outlake = 1 in the hydro.namelist file. Unfortunately, we do not have observations of the lake discharge nor is there a gauge downstream. "
   ]
  },
  {
   "cell_type": "code",
   "execution_count": 4,
   "metadata": {},
   "outputs": [],
   "source": [
    "lakeout_baseline = xr.open_mfdataset('/home/docker/wrf-hydro-training/output/lesson4/run_NWM_baseline/*LAKEOUT*',\n",
    "                            concat_dim='time')\n",
    "lakeout_lakeparm_edit = xr.open_mfdataset('/home/docker/wrf-hydro-training/output/lesson4/run_lakeparm_edit/*LAKEOUT*',\n",
    "                            concat_dim='time')\n"
   ]
  },
  {
   "cell_type": "markdown",
   "metadata": {},
   "source": [
    "**Plot the lake outflows, comparing baseline to the modified simulation**"
   ]
  },
  {
   "cell_type": "code",
   "execution_count": 6,
   "metadata": {
    "scrolled": false
   },
   "outputs": [
    {
     "data": {
      "image/png": "[encoded data removed]",
      "text/plain": [
       "<Figure size 864x432 with 1 Axes>"
      ]
     },
     "metadata": {
      "needs_background": "light"
     },
     "output_type": "display_data"
    }
   ],
   "source": [
    "fig, axes = plt.subplots(ncols=1,figsize=(12, 6))\n",
    "plt.suptitle('Lake Outflow ...',fontsize=24)\n",
    "lakeout_lakeparm_edit.sel(feature_id = 4185089).outflow.plot(label='LkMxE = 553.75m',\n",
    "                                                        color='blue',\n",
    "                                                        linestyle='-')\n",
    "lakeout_baseline.sel(feature_id = 4185089).outflow.plot(label='LkMxE = 552.25m',\n",
    "                                                        color='black',\n",
    "                                                        linestyle='--')\n",
    "\n",
    "plt.legend()\n",
    "plt.show()"
   ]
  },
  {
   "cell_type": "code",
   "execution_count": 7,
   "metadata": {
    "scrolled": false
   },
   "outputs": [
    {
     "data": {
      "image/png": "[encoded data removed]",
      "text/plain": [
       "<Figure size 864x432 with 1 Axes>"
      ]
     },
     "metadata": {
      "needs_background": "light"
     },
     "output_type": "display_data"
    }
   ],
   "source": [
    "fig, axes = plt.subplots(ncols=1,figsize=(12, 6))\n",
    "plt.suptitle('Water Surface Elevations ...',fontsize=24)\n",
    "lakeout_lakeparm_edit.sel(feature_id = 4185089).water_sfc_elev.plot(label='LkMxE = 553.75m',\n",
    "                                                        color='blue',\n",
    "                                                        linestyle='-')\n",
    "lakeout_baseline.sel(feature_id = 4185089).water_sfc_elev.plot(label='LkMxE = 552.25m',\n",
    "                                                        color='black',\n",
    "                                                        linestyle='--')\n",
    "\n",
    "plt.legend()\n",
    "plt.show()"
   ]
  },
  {
   "cell_type": "markdown",
   "metadata": {},
   "source": [
    "**Load the CHANOBS streamflow datasets**\n",
    "\n",
    "To visualize streamflow, we are going to use the CHANOBS files because it will limit the number of grid cells to only those which we have specified have a gage."
   ]
  },
  {
   "cell_type": "code",
   "execution_count": null,
   "metadata": {},
   "outputs": [],
   "source": [
    "chanobs_baseline = xr.open_mfdataset('/home/docker/wrf-hydro-training/output/lesson4/run_NWM_baseline/*CHANOBS*',\n",
    "                            concat_dim='time')\n",
    "chanobs_lakeparm_edit = xr.open_mfdataset('/home/docker/wrf-hydro-training/output/lesson4/run_lakeparm_edit/*CHANOBS*',\n",
    "                            concat_dim='time')\n",
    "obs = pd.read_csv('/home/docker/wrf-hydro-training/example_case/USGS_obs.csv',dtype=str)\n",
    "obs['dateTime'] = pd.to_datetime(obs['dateTime'])\n",
    "obs['streamflow_cms'] = pd.to_numeric(obs['streamflow_cms'])"
   ]
  },
  {
   "cell_type": "markdown",
   "metadata": {},
   "source": [
    "**Now let's plot the streamflow at the outlet gauge as a result of this change**"
   ]
  },
  {
   "cell_type": "code",
   "execution_count": 9,
   "metadata": {
    "scrolled": false
   },
   "outputs": [
    {
     "data": {
      "image/png": "[encoded data removed]",
      "text/plain": [
       "<Figure size 864x432 with 1 Axes>"
      ]
     },
     "metadata": {
      "needs_background": "light"
     },
     "output_type": "display_data"
    }
   ],
   "source": [
    "fig, axes = plt.subplots(ncols=1,figsize=(12, 6))\n",
    "plt.suptitle('Hydrograph ...',fontsize=24)\n",
    "chanobs_lakeparm_edit.sel(feature_id = 4185779).streamflow.plot(label='LkMxE = 553.75m',\n",
    "                                                        color='blue',\n",
    "                                                        linestyle='-')\n",
    "chanobs_baseline.sel(feature_id = 4185779).streamflow.plot(label='LkMxE = 552.25m',\n",
    "                                                        color='black',\n",
    "                                                        linestyle='--')\n",
    "obs[obs['site_no'] == '01447720'].plot(x='dateTime',\n",
    "                                       y='streamflow_cms',\n",
    "                                       ax=axes,\n",
    "                                       label='Observed',\n",
    "                                       color='grey')\n",
    "plt.legend()\n",
    "plt.show()"
   ]
  },
  {
   "cell_type": "markdown",
   "metadata": {},
   "source": [
    "### Discussion\n",
    "Adding depth to the upstream lake via changes to the `LkMxE` parameter has reduced streamflow in the first event because the lake is storing more water. We see this in the changes in lake outflow and water surface elevations, as well as streamflow at the outlet gauge. The second event is not as impacted, likely beacuse the lake downstream is simply spilling. "
   ]
  },
  {
   "cell_type": "markdown",
   "metadata": {},
   "source": [
    "# Next up - Exploring the NWM configuration\n",
    "This concludes lesson 4. In the next lesson, we will explore the differences between the NWM and Gridded configurations.\n",
    "\n",
    "**IT IS BEST TO EITHER SHUTDOWN THIS LESSON OR CLOSE IT BEFORE PROCEEDING TO THE NEXT LESSON TO AVOID POSSIBLY EXCEEDING ALLOCATED MEMORY. Shutdown the lesson be either closing the browser tab for the lesson or selecting `KERNAL->SHUTDOWN` in the jupyter notebook toolbar.**"
   ]
  }
 ],
 "metadata": {
  "kernelspec": {
   "display_name": "Python 3",
   "language": "python",
   "name": "python3"
  },
  "language_info": {
   "codemirror_mode": {
    "name": "ipython",
    "version": 3
   },
   "file_extension": ".py",
   "mimetype": "text/x-python",
   "name": "python",
   "nbconvert_exporter": "python",
   "pygments_lexer": "ipython3",
   "version": "3.6.8"
  },
  "toc": {
   "base_numbering": 1,
   "nav_menu": {},
   "number_sections": true,
   "sideBar": true,
   "skip_h1_title": true,
   "title_cell": "Table of Contents",
   "title_sidebar": "Contents",
   "toc_cell": true,
   "toc_position": {
    "height": "calc(100% - 180px)",
    "left": "10px",
    "top": "150px",
    "width": "414px"
   },
   "toc_section_display": true,
   "toc_window_display": true
  }
 },
 "nbformat": 4,
 "nbformat_minor": 2
}
