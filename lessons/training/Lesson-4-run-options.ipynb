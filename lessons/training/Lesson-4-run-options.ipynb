{
 "cells": [
  {
   "cell_type": "markdown",
   "metadata": {
    "toc": true
   },
   "source": [
    "<h1>Table of Contents<span class=\"tocSkip\"></span></h1>\n",
    "<div class=\"toc\"><ul class=\"toc-item\"><li><span><a href=\"#Overview\" data-toc-modified-id=\"Overview-1\"><span class=\"toc-item-num\">1&nbsp;&nbsp;</span>Overview</a></span><ul class=\"toc-item\"><li><span><a href=\"#Software-and-conventions\" data-toc-modified-id=\"Software-and-conventions-1.1\"><span class=\"toc-item-num\">1.1&nbsp;&nbsp;</span>Software and conventions</a></span></li></ul></li><li><span><a href=\"#Recap-of-lessons-1-and-2,-,-compiling-and-running-WRF-Hydro\" data-toc-modified-id=\"Recap-of-lessons-1-and-2,-,-compiling-and-running-WRF-Hydro-2\"><span class=\"toc-item-num\">2&nbsp;&nbsp;</span>Recap of lessons 1 and 2, , compiling and running WRF-Hydro</a></span><ul class=\"toc-item\"><li><span><a href=\"#Compiling-WRF-Hydro\" data-toc-modified-id=\"Compiling-WRF-Hydro-2.1\"><span class=\"toc-item-num\">2.1&nbsp;&nbsp;</span>Compiling WRF-Hydro</a></span></li><li><span><a href=\"#Creating-the-simulation-directory-and-running-a-baseline-WRF-Hydro-simulation\" data-toc-modified-id=\"Creating-the-simulation-directory-and-running-a-baseline-WRF-Hydro-simulation-2.2\"><span class=\"toc-item-num\">2.2&nbsp;&nbsp;</span>Creating the simulation directory and running a baseline WRF-Hydro simulation</a></span></li></ul></li><li><span><a href=\"#Experimenting-with-run-time-options\" data-toc-modified-id=\"Experimenting-with-run-time-options-3\"><span class=\"toc-item-num\">3&nbsp;&nbsp;</span>Experimenting with run-time options</a></span><ul class=\"toc-item\"><li><span><a href=\"#Setup\" data-toc-modified-id=\"Setup-3.1\"><span class=\"toc-item-num\">3.1&nbsp;&nbsp;</span>Setup</a></span></li></ul></li><li><span><a href=\"#Experiment-1---Warm-vs-Cold-start\" data-toc-modified-id=\"Experiment-1---Warm-vs-Cold-start-4\"><span class=\"toc-item-num\">4&nbsp;&nbsp;</span>Experiment 1 - Warm vs Cold start</a></span><ul class=\"toc-item\"><li><span><a href=\"#Background\" data-toc-modified-id=\"Background-4.1\"><span class=\"toc-item-num\">4.1&nbsp;&nbsp;</span>Background</a></span></li><li><span><a href=\"#Objective\" data-toc-modified-id=\"Objective-4.2\"><span class=\"toc-item-num\">4.2&nbsp;&nbsp;</span>Objective</a></span></li><li><span><a href=\"#Create-experiment-simulation-directory\" data-toc-modified-id=\"Create-experiment-simulation-directory-4.3\"><span class=\"toc-item-num\">4.3&nbsp;&nbsp;</span>Create experiment simulation directory</a></span></li><li><span><a href=\"#Edit-the-namelists-and-run-the-simulation\" data-toc-modified-id=\"Edit-the-namelists-and-run-the-simulation-4.4\"><span class=\"toc-item-num\">4.4&nbsp;&nbsp;</span>Edit the namelists and run the simulation</a></span></li><li><span><a href=\"#Results\" data-toc-modified-id=\"Results-4.5\"><span class=\"toc-item-num\">4.5&nbsp;&nbsp;</span>Results</a></span><ul class=\"toc-item\"><li><span><a href=\"#Hydrographs\" data-toc-modified-id=\"Hydrographs-4.5.1\"><span class=\"toc-item-num\">4.5.1&nbsp;&nbsp;</span>Hydrographs</a></span></li><li><span><a href=\"#Soil-moisture-at-start-of-simulation\" data-toc-modified-id=\"Soil-moisture-at-start-of-simulation-4.5.2\"><span class=\"toc-item-num\">4.5.2&nbsp;&nbsp;</span>Soil moisture at start of simulation</a></span></li></ul></li><li><span><a href=\"#Discussion\" data-toc-modified-id=\"Discussion-4.6\"><span class=\"toc-item-num\">4.6&nbsp;&nbsp;</span>Discussion</a></span></li></ul></li><li><span><a href=\"#Experiment-2---Supplemental-Precipitation-Data\" data-toc-modified-id=\"Experiment-2---Supplemental-Precipitation-Data-5\"><span class=\"toc-item-num\">5&nbsp;&nbsp;</span>Experiment 2 - Supplemental Precipitation Data</a></span><ul class=\"toc-item\"><li><span><a href=\"#Background\" data-toc-modified-id=\"Background-5.1\"><span class=\"toc-item-num\">5.1&nbsp;&nbsp;</span>Background</a></span></li><li><span><a href=\"#Objective\" data-toc-modified-id=\"Objective-5.2\"><span class=\"toc-item-num\">5.2&nbsp;&nbsp;</span>Objective</a></span></li><li><span><a href=\"#Create-experiment-simulation-directory\" data-toc-modified-id=\"Create-experiment-simulation-directory-5.3\"><span class=\"toc-item-num\">5.3&nbsp;&nbsp;</span>Create experiment simulation directory</a></span></li><li><span><a href=\"#Edit-the-namelist-and-FORCING-data-and-run-the-simulation\" data-toc-modified-id=\"Edit-the-namelist-and-FORCING-data-and-run-the-simulation-5.4\"><span class=\"toc-item-num\">5.4&nbsp;&nbsp;</span>Edit the namelist and FORCING data and run the simulation</a></span></li><li><span><a href=\"#Results\" data-toc-modified-id=\"Results-5.5\"><span class=\"toc-item-num\">5.5&nbsp;&nbsp;</span>Results</a></span><ul class=\"toc-item\"><li><span><a href=\"#Hydrographs\" data-toc-modified-id=\"Hydrographs-5.5.1\"><span class=\"toc-item-num\">5.5.1&nbsp;&nbsp;</span>Hydrographs</a></span></li><li><span><a href=\"#Precipitation-data\" data-toc-modified-id=\"Precipitation-data-5.5.2\"><span class=\"toc-item-num\">5.5.2&nbsp;&nbsp;</span>Precipitation data</a></span></li></ul></li><li><span><a href=\"#Discussion\" data-toc-modified-id=\"Discussion-5.6\"><span class=\"toc-item-num\">5.6&nbsp;&nbsp;</span>Discussion</a></span></li></ul></li><li><span><a href=\"#Experiment-3---Groundwater-model-options\" data-toc-modified-id=\"Experiment-3---Groundwater-model-options-6\"><span class=\"toc-item-num\">6&nbsp;&nbsp;</span>Experiment 3 - Groundwater model options</a></span><ul class=\"toc-item\"><li><span><a href=\"#Background\" data-toc-modified-id=\"Background-6.1\"><span class=\"toc-item-num\">6.1&nbsp;&nbsp;</span>Background</a></span></li><li><span><a href=\"#Objective\" data-toc-modified-id=\"Objective-6.2\"><span class=\"toc-item-num\">6.2&nbsp;&nbsp;</span>Objective</a></span></li><li><span><a href=\"#Create-experiment-simulation-directory\" data-toc-modified-id=\"Create-experiment-simulation-directory-6.3\"><span class=\"toc-item-num\">6.3&nbsp;&nbsp;</span>Create experiment simulation directory</a></span></li><li><span><a href=\"#Edit-the-namelists-and-run-the-simulation-for-the-pass-through-model\" data-toc-modified-id=\"Edit-the-namelists-and-run-the-simulation-for-the-pass-through-model-6.4\"><span class=\"toc-item-num\">6.4&nbsp;&nbsp;</span>Edit the namelists and run the simulation for the pass through model</a></span></li><li><span><a href=\"#Edit-the-namelists-and-run-the-simulation-for-no-groundwater-routing\" data-toc-modified-id=\"Edit-the-namelists-and-run-the-simulation-for-no-groundwater-routing-6.5\"><span class=\"toc-item-num\">6.5&nbsp;&nbsp;</span>Edit the namelists and run the simulation for no groundwater routing</a></span></li><li><span><a href=\"#Results\" data-toc-modified-id=\"Results-6.6\"><span class=\"toc-item-num\">6.6&nbsp;&nbsp;</span>Results</a></span></li><li><span><a href=\"#Discussion\" data-toc-modified-id=\"Discussion-6.7\"><span class=\"toc-item-num\">6.7&nbsp;&nbsp;</span>Discussion</a></span></li></ul></li><li><span><a href=\"#Experiment-4---Removing-lakes-from-the-simulation\" data-toc-modified-id=\"Experiment-4---Removing-lakes-from-the-simulation-7\"><span class=\"toc-item-num\">7&nbsp;&nbsp;</span>Experiment 4 - Removing lakes from the simulation</a></span><ul class=\"toc-item\"><li><span><a href=\"#Background\" data-toc-modified-id=\"Background-7.1\"><span class=\"toc-item-num\">7.1&nbsp;&nbsp;</span>Background</a></span></li><li><span><a href=\"#Objective\" data-toc-modified-id=\"Objective-7.2\"><span class=\"toc-item-num\">7.2&nbsp;&nbsp;</span>Objective</a></span></li><li><span><a href=\"#Create-experiment-simulation-directory\" data-toc-modified-id=\"Create-experiment-simulation-directory-7.3\"><span class=\"toc-item-num\">7.3&nbsp;&nbsp;</span>Create experiment simulation directory</a></span></li><li><span><a href=\"#Review-the-differences-and-run-the-simulation\" data-toc-modified-id=\"Review-the-differences-and-run-the-simulation-7.4\"><span class=\"toc-item-num\">7.4&nbsp;&nbsp;</span>Review the differences and run the simulation</a></span></li><li><span><a href=\"#Results\" data-toc-modified-id=\"Results-7.5\"><span class=\"toc-item-num\">7.5&nbsp;&nbsp;</span>Results</a></span></li><li><span><a href=\"#Discussion\" data-toc-modified-id=\"Discussion-7.6\"><span class=\"toc-item-num\">7.6&nbsp;&nbsp;</span>Discussion</a></span></li></ul></li><li><span><a href=\"#Experiment-5---Modifying-lake-parameters-in-LAKEPARM.nc\" data-toc-modified-id=\"Experiment-5---Modifying-lake-parameters-in-LAKEPARM.nc-8\"><span class=\"toc-item-num\">8&nbsp;&nbsp;</span>Experiment 5 - Modifying lake parameters in <code>LAKEPARM.nc</code></a></span><ul class=\"toc-item\"><li><span><a href=\"#Background\" data-toc-modified-id=\"Background-8.1\"><span class=\"toc-item-num\">8.1&nbsp;&nbsp;</span>Background</a></span></li><li><span><a href=\"#Objective\" data-toc-modified-id=\"Objective-8.2\"><span class=\"toc-item-num\">8.2&nbsp;&nbsp;</span>Objective</a></span></li><li><span><a href=\"#Create-experiment-simulation-directory\" data-toc-modified-id=\"Create-experiment-simulation-directory-8.3\"><span class=\"toc-item-num\">8.3&nbsp;&nbsp;</span>Create experiment simulation directory</a></span></li><li><span><a href=\"#Edit-the-LAKEPARM.nc-file-and-run-the-simulation\" data-toc-modified-id=\"Edit-the-LAKEPARM.nc-file-and-run-the-simulation-8.4\"><span class=\"toc-item-num\">8.4&nbsp;&nbsp;</span>Edit the <code>LAKEPARM.nc</code> file and run the simulation</a></span></li><li><span><a href=\"#Results\" data-toc-modified-id=\"Results-8.5\"><span class=\"toc-item-num\">8.5&nbsp;&nbsp;</span>Results</a></span></li><li><span><a href=\"#Discussion\" data-toc-modified-id=\"Discussion-8.6\"><span class=\"toc-item-num\">8.6&nbsp;&nbsp;</span>Discussion</a></span></li></ul></li></ul></div>"
   ]
  },
  {
   "cell_type": "markdown",
   "metadata": {},
   "source": [
    "# Lesson 4 - Run-time options for Gridded configuration\n",
    "## Overview\n",
    "In Lesson 2 we covered the basics of constructing and running a WRF-Hydro simulation using a prepared domain for the 'Gridded' configuration. In this lesson, we will experiment with difference run-time options and do some basic visualization of the outputs using the Python library `xarray`.  \n",
    "\n",
    "**NOTE: If you have not completed Lessons 2 and 3, please stop and do so now.**\n",
    "\n",
    "### Software and conventions\n",
    "The easiest way to run these lessons is via the [wrfhydro/training](https://hub.docker.com/r/wrfhydro/training/) Docker container, which has all software dependencies and data pre-installed.\n",
    "\n",
    "For a complete description of the software environment used for this training please see [Getting started]().\n",
    "\n",
    "You may either execute commands by running each cell of this notebook. Alternatively, you may open a terminal in Jupyter Lab by selecting `New -> Terminal` in your `Home` tab of Jupyter Lab and input the commands manually if you prefer. You can also use your own terminal by logging into the container with the command `docker exec -it wrf-hydro-training bash`\n",
    "\n",
    "All paths used in this lesson assume that the lesson materials are located under your home directory in a folder named `wrf-hydro-training`. If your materials are located in another directory, you will not be able to run the commands in this notebook inside Jupyter and will need to type them manually in your terminal session. \n",
    "\n",
    "## Recap of Lessons 1 and 2, compiling and running WRF-Hydro\n",
    "In this section, we will quickly recap the commands issued in Lessons 1 and 2 to compile WRF-Hydro and create our simulation directory. We will use the prepared domain for the remaining lessons, but feel free to replace the prepared domain with the domain you created in the geospatial hands-on training session. **NOTE: Your domain directory structure and filenames must match the prepared domain EXACTLY**\n",
    "\n",
    "### Compiling WRF-Hydro\n",
    "Below are the commands to compile WRF-Hydro."
   ]
  },
  {
   "cell_type": "code",
   "execution_count": null,
   "metadata": {
    "scrolled": true
   },
   "outputs": [],
   "source": [
    "%%bash\n",
    "# Change to the trunk/NDHMS directory and configure for gfort\n",
    "cd ~/wrf-hydro-training/wrf_hydro_nwm_public/trunk/NDHMS/; ./configure 2\n",
    "\n",
    "# Make a copy of the template environment variable file, setEnvars.sh\n",
    "cp ~/wrf-hydro-training/wrf_hydro_nwm_public/trunk/NDHMS/template/setEnvar.sh \\\n",
    "~/wrf-hydro-training/wrf_hydro_nwm_public/trunk/NDHMS/configureEnvars.sh"
   ]
  },
  {
   "cell_type": "markdown",
   "metadata": {},
   "source": [
    "**Set compile-time options**\n",
    "\n",
    "Edit the `configureEnvars.sh` script to set environment variables required by the compile script. Your `configureEnvars.sh` should look like the bash script below when you are finished. NOTE: We are compiling with spatial soils active for this exercise.\n",
    "\n",
    "---\n",
    "\n",
    "```bash\n",
    "#!/bin/bash\n",
    "# WRF-Hydro compile time options\n",
    "\n",
    "# This is a WRF environment variable. Always set to 1=On for compiling WRF-Hydro.\n",
    "export WRF_HYDRO=1\n",
    "\n",
    "# Enhanced diagnostic output for debugging: 0=Off, 1=On.\n",
    "export HYDRO_D=1\n",
    "\n",
    "# Spatially distributed parameters for NoahMP: 0=Off, 1=On.\n",
    "export SPATIAL_SOIL=1  \n",
    "\n",
    "# RAPID model: 0=Off, 1=On.\n",
    "export WRF_HYDRO_RAPID=0\n",
    "\n",
    "# Large netcdf file support: 0=Off, 1=On.\n",
    "export WRFIO_NCD_LARGE_FILE_SUPPORT=1\n",
    "\n",
    "# WCOSS file units: 0=Off, 1=On. \n",
    "export NCEP_WCOSS=0\n",
    "\n",
    "# Streamflow nudging: 0=Off, 1=On.\n",
    "export WRF_HYDRO_NUDGING=0\n",
    "```\n",
    "\n",
    "---\n"
   ]
  },
  {
   "cell_type": "markdown",
   "metadata": {},
   "source": [
    "**Compile WRF-Hydro in uncoupled mode**"
   ]
  },
  {
   "cell_type": "code",
   "execution_count": null,
   "metadata": {},
   "outputs": [],
   "source": [
    "%%bash\n",
    "cd ~/wrf-hydro-training/wrf_hydro_nwm_public/trunk/NDHMS/; \\\n",
    "./compile_offline_NoahMP.sh configureEnvars.sh >> compile.log 2>&1\n",
    "\n",
    "tail -13 ~/wrf-hydro-training/wrf_hydro_nwm_public/trunk/NDHMS/compile.log"
   ]
  },
  {
   "cell_type": "markdown",
   "metadata": {},
   "source": [
    "**We have successfully compiled WRF-Hydro and we will use this binary and *.TBL files for the remaining simulations in this lesson**"
   ]
  },
  {
   "cell_type": "markdown",
   "metadata": {},
   "source": [
    "### Creating the simulation directory and running a baseline WRF-Hydro simulation\n",
    "Below are the commands from Lesson 2 to create the simulation directory and run a WRF-Hydro simulation. This simulation will be run exactly as was done in Lesson 2 and will serve as our baseline simulation. We will modify run-time options in subsequent simulations in the lesson and compare the outputs."
   ]
  },
  {
   "cell_type": "code",
   "execution_count": null,
   "metadata": {},
   "outputs": [],
   "source": [
    "%%bash\n",
    "# Make a new directory for our baseline simulation\n",
    "mkdir -p ~/wrf-hydro-training/output/lesson4/run_gridded_baseline\n",
    "\n",
    "# Copy our model files to the simulation directory\n",
    "cp ~/wrf-hydro-training/wrf_hydro_nwm_public/trunk/NDHMS/Run/*.TBL \\\n",
    "~/wrf-hydro-training/output/lesson4/run_gridded_baseline\n",
    "cp ~/wrf-hydro-training/wrf_hydro_nwm_public/trunk/NDHMS/Run/wrf_hydro.exe \\\n",
    "~/wrf-hydro-training/output/lesson4/run_gridded_baseline\n",
    "\n",
    "# Create symbolic links to large domain files\n",
    "cp -as $HOME/wrf-hydro-training/example_case/FORCING \\\n",
    "~/wrf-hydro-training/output/lesson4/run_gridded_baseline\n",
    "cp -as $HOME/wrf-hydro-training/example_case/Gridded/DOMAIN \\\n",
    "~/wrf-hydro-training/output/lesson4/run_gridded_baseline\n",
    "cp -as $HOME/wrf-hydro-training/example_case/Gridded/RESTART \\\n",
    "~/wrf-hydro-training/output/lesson4/run_gridded_baseline\n",
    "\n",
    "# Copy namelist files\n",
    "cp ~/wrf-hydro-training/example_case/Gridded/namelist.hrldas \\\n",
    "~/wrf-hydro-training/output/lesson4/run_gridded_baseline\n",
    "cp ~/wrf-hydro-training/example_case/Gridded/hydro.namelist \\\n",
    "~/wrf-hydro-training/output/lesson4/run_gridded_baseline\n",
    "\n",
    "# Run the simulation\n",
    "cd ~/wrf-hydro-training/output/lesson4/run_gridded_baseline\n",
    "mpirun -np 2 ./wrf_hydro.exe >> run.log 2>&1"
   ]
  },
  {
   "cell_type": "code",
   "execution_count": null,
   "metadata": {
    "scrolled": true
   },
   "outputs": [],
   "source": [
    "%%bash\n",
    "# Check that it finished successfully\n",
    "tail -1 ~/wrf-hydro-training/output/lesson4/run_gridded_baseline/diag_hydro.00000"
   ]
  },
  {
   "cell_type": "markdown",
   "metadata": {},
   "source": [
    "## Experimenting with run-time options\n",
    "### Setup\n",
    "In this section we will run a few different simulations with different run-time options and explore their effects on the model output.\n",
    "\n",
    "We will create a new simulation directory for each experiment. First, we will make a new simulation directory as we did with the baseline run above and use this as a template for creating multiple new simulation directories.\n",
    "\n",
    "**Step 1: Create a simulation directory to use as a template**"
   ]
  },
  {
   "cell_type": "code",
   "execution_count": null,
   "metadata": {},
   "outputs": [],
   "source": [
    "%%bash\n",
    "# Make a new directory for our baseline simulation\n",
    "mkdir -p ~/wrf-hydro-training/output/lesson4/run_gridded_template\n",
    "\n",
    "# Copy our model files to the simulation directory\n",
    "cp ~/wrf-hydro-training/wrf_hydro_nwm_public/trunk/NDHMS/Run/*.TBL \\\n",
    "~/wrf-hydro-training/output/lesson4/run_gridded_template\n",
    "cp ~/wrf-hydro-training/wrf_hydro_nwm_public/trunk/NDHMS/Run/wrf_hydro.exe \\\n",
    "~/wrf-hydro-training/output/lesson4/run_gridded_template\n",
    "\n",
    "# Create symbolic links to large domain files\n",
    "cp -as $HOME/wrf-hydro-training/example_case/FORCING \\\n",
    "~/wrf-hydro-training/output/lesson4/run_gridded_template\n",
    "cp -as $HOME/wrf-hydro-training/example_case/Gridded/DOMAIN \\\n",
    "~/wrf-hydro-training/output/lesson4/run_gridded_template\n",
    "cp -as $HOME/wrf-hydro-training/example_case/Gridded/RESTART \\\n",
    "~/wrf-hydro-training/output/lesson4/run_gridded_template\n",
    "\n",
    "# Copy namelist files\n",
    "cp ~/wrf-hydro-training/example_case/Gridded/namelist.hrldas \\\n",
    "~/wrf-hydro-training/output/lesson4/run_gridded_template\n",
    "cp ~/wrf-hydro-training/example_case/Gridded/hydro.namelist \\\n",
    "~/wrf-hydro-training/output/lesson4/run_gridded_template"
   ]
  },
  {
   "cell_type": "markdown",
   "metadata": {},
   "source": [
    "**Step 2: View the contents**"
   ]
  },
  {
   "cell_type": "code",
   "execution_count": null,
   "metadata": {},
   "outputs": [],
   "source": [
    "%%bash\n",
    "ls ~/wrf-hydro-training/output/lesson4/run_gridded_template"
   ]
  },
  {
   "cell_type": "markdown",
   "metadata": {},
   "source": [
    "We now have our template simulation directory ready to go. In each experiment we will copy this directory and edit the two namelist files *namelist.hrldas* and *hydro.namelist* to change run-time options."
   ]
  },
  {
   "cell_type": "markdown",
   "metadata": {},
   "source": [
    "## Experiment 1 - Warm vs Cold start\n",
    "### Background\n",
    "A model 'cold start' is when you start your simulation with default initial conditions. In this case, model states are initialized from the `wrfinput.nc` file (land surface states) and `GWBUCKPARM.nc` (groundwater bucket states, if active). Often these initial values are guesses at global, physically plausible starting values (e.g., global volumetric soil moisture content of 0.3). However, model states like soil moisture, groundwater levels, and stream levels need time to adjust to local climate and environment. So in most cases, we first 'spinup' the model to reach an equilibrium state before launching a model experiment and evaluating output. Model states at the end of this 'spinup' period can be used to 'warm start' a simulation. A ‘warm start’ is when the model simulation begins with the simulated values from a previous run. How long you need to 'spinup' your model varies based on the local climate (e.g., drier climates generally take longer than wetter climates), the variables you are interested in (e.g., a fast stabilizing state like shallow soil moisture vs. a slower evolving state like deep groundwater), and local topography and soil types (e.g., sands have shorter memory than clays). \n",
    "\n",
    "### Objective\n",
    "The goal of this experiment is to demonstrate the effect of starting a simulation from a 'cold stat' vs. a 'warm start'. The Gridded baseline run was started from a 'warm start', so all we need to do is construct a simulation directory and edit the namelists to start from a cold start.\n",
    "\n",
    "### Create experiment simulation directory\n",
    "We will copy our template directory `~/wrf-hydro-training/output/lesson4/run_gridded_template` and edit the `namelist.hrldas` and `hydro.namelist` files to start the model from a cold start. "
   ]
  },
  {
   "cell_type": "code",
   "execution_count": null,
   "metadata": {},
   "outputs": [],
   "source": [
    "%%bash\n",
    "cp -r ~/wrf-hydro-training/output/lesson4/run_gridded_template ~/wrf-hydro-training/output/lesson4/run_cold_start"
   ]
  },
  {
   "cell_type": "markdown",
   "metadata": {},
   "source": [
    "### Edit the namelists and run the simulation\n",
    "If restart files are not provided in the *namelist.hrldas* and *hydro.namelist* files then the simulation will start from a cold start. \n",
    "\n",
    "**Step 1: Edit the *namelist.hrldas* file**\n",
    "Comment out this line `RESTART_FILENAME_REQUESTED = \"RESTART/RESTART.2011082600_DOMAIN1\"` in the *namelist.hrldas* by adding `!` to the start of the line. \n",
    "\n",
    "```\n",
    "!RESTART_FILENAME_REQUESTED = \"RESTART/RESTART.2011082600_DOMAIN1\"\n",
    "```\n",
    "\n",
    "**Step 2: Edit the *hydro.namelist* file**\n",
    "Comment out this line `RESTART_FILE  = 'RESTART/HYDRO_RST.2011-08-26_00_00_DOMAIN1'` in the *hydro.namelist* by adding `!` to the start of the line. \n",
    "\n",
    "```\n",
    "! Specify the name of the restart file if starting from restart...comment out with '!' if not...\n",
    "!RESTART_FILE  = 'RESTART/HYDRO_RST.2011-08-26_00_00_DOMAIN1'\n",
    "```\n",
    "Tell the code to use GWBUCKPARM.nc initialization values vs. the restart file starting states by editing the `GW_RESTART` option in the *hydro.namelist*. \n",
    "\n",
    "```\n",
    "! Specify baseflow/bucket model initialization...(0=cold start from table, 1=restart file)\n",
    "GW_RESTART = 0\n",
    "```\n",
    "\n",
    "**Step 3: Run the simulation**"
   ]
  },
  {
   "cell_type": "code",
   "execution_count": null,
   "metadata": {},
   "outputs": [],
   "source": [
    "%%bash\n",
    "cd ~/wrf-hydro-training/output/lesson4/run_cold_start\n",
    "mpirun -np 2 ./wrf_hydro.exe >> run.log 2>&1"
   ]
  },
  {
   "cell_type": "markdown",
   "metadata": {},
   "source": [
    "**Step 4: Check that the simulation finished successfully**"
   ]
  },
  {
   "cell_type": "code",
   "execution_count": null,
   "metadata": {
    "scrolled": true
   },
   "outputs": [],
   "source": [
    "%%bash\n",
    "tail -1 ~/wrf-hydro-training/output/lesson4/run_cold_start/diag_hydro.00000"
   ]
  },
  {
   "cell_type": "markdown",
   "metadata": {},
   "source": [
    "### Results\n",
    "We will now look at the differences in streamflow between our warm start simulation represented by the *run_gridded_baseline* simulation and our cold start simulation that we ran during this experiment.\n",
    "\n",
    "We will use Python and the `xarray` library to create hydrographs and 2d plots of soil moisture. For an intro to these tools, please see Lesson 3.\n",
    "\n",
    "**Load the xarray python package**"
   ]
  },
  {
   "cell_type": "code",
   "execution_count": null,
   "metadata": {},
   "outputs": [],
   "source": [
    "# Load the xarray package\n",
    "%matplotlib inline\n",
    "import xarray as xr\n",
    "import matplotlib.pyplot as plt\n",
    "import pandas as pd"
   ]
  },
  {
   "cell_type": "markdown",
   "metadata": {},
   "source": [
    "#### Hydrographs\n",
    "**Load the CHANOBS streamflow datasets**\n",
    "\n",
    "We are going to use the CHANOBS output files to extract the streamflow time series. CHANOBS output files contain information for only the grid cells where we have specified a gage is located."
   ]
  },
  {
   "cell_type": "code",
   "execution_count": null,
   "metadata": {},
   "outputs": [],
   "source": [
    "chanobs_baseline = xr.open_mfdataset('/home/docker/wrf-hydro-training/output/lesson4/run_gridded_baseline/*CHANOBS*',\n",
    "                            concat_dim='time')\n",
    "chanobs_cold = xr.open_mfdataset('/home/docker/wrf-hydro-training/output/lesson4/run_cold_start/*CHANOBS*',\n",
    "                            concat_dim='time')\n",
    "obs = pd.read_csv('/home/docker/wrf-hydro-training/example_case/USGS_obs.csv',dtype=str)\n",
    "obs['dateTime'] = pd.to_datetime(obs['dateTime'])\n",
    "obs['streamflow_cms'] = pd.to_numeric(obs['streamflow_cms'])"
   ]
  },
  {
   "cell_type": "markdown",
   "metadata": {},
   "source": [
    "**Plot the hydrographs**"
   ]
  },
  {
   "cell_type": "code",
   "execution_count": null,
   "metadata": {},
   "outputs": [],
   "source": [
    "fig, axes = plt.subplots(ncols=1,figsize=(12, 6))\n",
    "plt.suptitle('Hydrographs for warm and cold starts',fontsize=24)\n",
    "chanobs_baseline.sel(feature_id = 2).streamflow.plot(label='Warm start',\n",
    "                                                     color='black',\n",
    "                                                     linestyle='--')\n",
    "chanobs_cold.sel(feature_id = 2).streamflow.plot(label='Cold start',\n",
    "                                                        color='blue',\n",
    "                                                        linestyle='-')\n",
    "obs[obs['site_no'] == '01374581'].plot(x='dateTime',\n",
    "                                       y='streamflow_cms',\n",
    "                                       ax=axes,\n",
    "                                       label='Observed',\n",
    "                                       color='grey')\n",
    "plt.legend()\n",
    "plt.show()"
   ]
  },
  {
   "cell_type": "markdown",
   "metadata": {},
   "source": [
    "#### Soil moisture at start of simulation\n",
    "The option `t0OutputFlag` in the *hydro.namelist* can be used to output models states at the start of the simulation.\n",
    "\n",
    "```\n",
    "! Option to write output files at time 0 (restart cold start time): 0=no, 1=yes (default)\n",
    "t0OutputFlag = 1\n",
    "```\n",
    "We had this option set to 1 for both of our simulations so that we have outputs at the first timestep. \n",
    "\n",
    "**Load the LDASOUT datasets from the land surface model**"
   ]
  },
  {
   "cell_type": "code",
   "execution_count": null,
   "metadata": {},
   "outputs": [],
   "source": [
    "ldasout_baseline = xr.open_mfdataset('/home/docker/wrf-hydro-training/output/lesson4/run_gridded_baseline/*LDASOUT*',\n",
    "                            concat_dim='time')\n",
    "ldasout_cold = xr.open_mfdataset('/home/docker/wrf-hydro-training/output/lesson4/run_cold_start/*LDASOUT*',\n",
    "                            concat_dim='time')"
   ]
  },
  {
   "cell_type": "markdown",
   "metadata": {},
   "source": [
    "**Plot soil moisture at start of simulation**"
   ]
  },
  {
   "cell_type": "code",
   "execution_count": null,
   "metadata": {},
   "outputs": [],
   "source": [
    "# Select data for t=0 at surface layer\n",
    "ldasout_baseline_t0 = ldasout_baseline.sel(time = '2011-08-26T00:00:00').sel(soil_layers_stag = 0)\n",
    "ldasout_cold_t0 = ldasout_cold.sel(time = '2011-08-26T00:00:00').sel(soil_layers_stag = 0)\n",
    "\n",
    "fig, axes = plt.subplots(ncols=2,figsize=(12, 6))\n",
    "plt.suptitle('Surface soil moisture states at t=0 for warm and cold starts',fontsize=24)\n",
    "ldasout_baseline_t0.SOIL_M.plot(ax=axes[0],vmin=0.1,vmax=0.5)\n",
    "axes[0].set_title('Warm start')\n",
    "ldasout_cold_t0.SOIL_M.plot(ax=axes[1],vmin=0.1,vmax=0.5)\n",
    "axes[1].set_title('Cold start')\n",
    "plt.show()"
   ]
  },
  {
   "cell_type": "markdown",
   "metadata": {},
   "source": [
    "### Discussion"
   ]
  },
  {
   "cell_type": "markdown",
   "metadata": {},
   "source": [
    "Note that the streamflow for the cold start at the start of the simulation is 0 while the streamflow from the warm start (baseline) is > 0. Additionally, the cold start simulation begins with relatively low soil moisture while the warm start simulation begins with more saturated soils. As a result they have different responses to the rainfall event. Since the cold-start simulation soil is relatively drier, it has a higher capacity to store water and therefore more precipitation is partitioned to soil moisture (vs. runoff) compared to the warm-start simulation. This is a good example of why you almost always want to spinup your model prior to analyzing output."
   ]
  },
  {
   "cell_type": "markdown",
   "metadata": {},
   "source": [
    "## Experiment 2 - Supplemental Precipitation Data\n",
    "### Background\n",
    "Precipitation in commonly the most important driver of hydrologic response. In some applications, for example a flood simulation, you may want to combine atmospheric analyses from reanalysis products or other models with a separate analysis of precipitation (e.g. a gridded gauge product, radar QPE, nowcasts, satellite QPE, etc). To enable such behavior, WRF-Hydro has an option (forcing type 6) to pair standard HRLDAS atmospheric forcing files with supplemental precipitation files.\n",
    "\n",
    "### Objective\n",
    "Demonstrate the use of supplemental precipiation data for forcing our simulation.\n",
    "\n",
    "### Create experiment simulation directory\n",
    "First we will copy our template directory `~/wrf-hydro-training/output/lesson4/run_gridded_template` to create a new simulation directory for this experiment."
   ]
  },
  {
   "cell_type": "code",
   "execution_count": null,
   "metadata": {},
   "outputs": [],
   "source": [
    "%%bash\n",
    "cp -r ~/wrf-hydro-training/output/lesson4/run_gridded_template \\\n",
    "~/wrf-hydro-training/output/lesson4/run_supp_precip"
   ]
  },
  {
   "cell_type": "markdown",
   "metadata": {},
   "source": [
    "### Edit the namelist and FORCING data and run the simulation\n",
    "\n",
    "**Step 1: Edit the `namelist.hrldas`**\n",
    "\n",
    "The forcing data type is specified in the `namelist.hrldas` file with the variable `FORC_TYP`. We will change the value from `FORC_TYP=1` for standard HRLDAS hourly format data (all input variables combined into a single LDASIN file per timestep) to `FORC_TYP=6`, which reads both the standard HRLDAS hourly input files AND supplemental precipitation data files.\n",
    "\n",
    "```\n",
    "&WRF_HYDRO_OFFLINE\n",
    "\n",
    "! Specification of forcing data:  1=HRLDAS-hr format, 2=HRLDAS-min format, 3=WRF,\n",
    "!    4=Idealized, 5=Ideal w/ Spec.Precip., 6=HRLDAS-hrl y fomat w/ Spec. Precip,\n",
    "FORC_TYP = 6\n",
    "```\n",
    "**Step 2: Extract the supplemental precipitation data included with the example case**\n",
    "\n",
    "In the supplemental folder in the example case there is a tar file `supp_precip.tar.gz` containing regridded StageIV precipitation data. We will extract this to use for augmenting our FORCING data."
   ]
  },
  {
   "cell_type": "code",
   "execution_count": null,
   "metadata": {
    "scrolled": false
   },
   "outputs": [],
   "source": [
    "%%bash\n",
    "cd ~/wrf-hydro-training/example_case/supplemental/\n",
    "tar -xf ~/wrf-hydro-training/example_case/supplemental/supp_precip.tar.gz \n",
    "ls ~/wrf-hydro-training/example_case/supplemental/supp_precip | head -10"
   ]
  },
  {
   "cell_type": "markdown",
   "metadata": {},
   "source": [
    "**Step 3: Create a symlink to the supplemental precipitation data**\n",
    "\n",
    "We will add in our supplemental precipitation data to the FORCING folder. Since these data can be rather large we will create a symbolic link."
   ]
  },
  {
   "cell_type": "code",
   "execution_count": null,
   "metadata": {},
   "outputs": [],
   "source": [
    "%%bash\n",
    "ln -s ~/wrf-hydro-training/example_case/supplemental/supp_precip/20110* \\\n",
    "~/wrf-hydro-training/output/lesson4/run_supp_precip/FORCING/"
   ]
  },
  {
   "cell_type": "markdown",
   "metadata": {},
   "source": [
    "Lets take a look at the `FORCING` directory with the new data."
   ]
  },
  {
   "cell_type": "code",
   "execution_count": null,
   "metadata": {},
   "outputs": [],
   "source": [
    "%%bash\n",
    "ls ~/wrf-hydro-training/output/lesson4/run_supp_precip/FORCING/ | head -10"
   ]
  },
  {
   "cell_type": "markdown",
   "metadata": {},
   "source": [
    "Now you see two files per hour. The *PRECIP_FORCING* files will be used for precipitation inputs and *LDASIN_DOMAIN* files will be used for all other forcing fields (e.g., temperature, radiation, wind). Note that the supplemental *PRECIP_FORCING* files are always specified to the minute.\n",
    "\n",
    "**Step 3: Run the simulation**"
   ]
  },
  {
   "cell_type": "code",
   "execution_count": null,
   "metadata": {},
   "outputs": [],
   "source": [
    "%%bash\n",
    "cd ~/wrf-hydro-training/output/lesson4/run_supp_precip\n",
    "mpirun -np 2 ./wrf_hydro.exe >> run.log 2>&1"
   ]
  },
  {
   "cell_type": "markdown",
   "metadata": {},
   "source": [
    "### Results\n",
    "We will now look at the differences in streamflow between our baseline run with NLDAS precipitation and our experiment with supplemental StageIV precipitation.\n",
    "\n",
    "We will use Python and the *xarray* library to load the data and plot hydrographs. For an intro to these tools, please see lesson 3.\n",
    "\n",
    "**Load the xarray python package**"
   ]
  },
  {
   "cell_type": "code",
   "execution_count": null,
   "metadata": {},
   "outputs": [],
   "source": [
    "# Load the xarray package\n",
    "%matplotlib inline\n",
    "import xarray as xr\n",
    "import matplotlib.pyplot as plt\n",
    "import pandas as pd\n",
    "import numpy as np"
   ]
  },
  {
   "cell_type": "markdown",
   "metadata": {},
   "source": [
    "#### Hydrographs\n",
    "**Load the CHANOBS streamflow datasets**\n",
    "\n",
    "Again, we use the CHANOBS files to import the streamflow timeseries at specified gage locations."
   ]
  },
  {
   "cell_type": "code",
   "execution_count": null,
   "metadata": {},
   "outputs": [],
   "source": [
    "chanobs_baseline = xr.open_mfdataset('/home/docker/wrf-hydro-training/output/lesson4/run_gridded_baseline/*CHANOBS*',\n",
    "                            concat_dim='time')\n",
    "chanobs_supp_precip = xr.open_mfdataset('/home/docker/wrf-hydro-training/output/lesson4/run_supp_precip/*CHANOBS*',\n",
    "                            concat_dim='time')\n",
    "obs = pd.read_csv('/home/docker/wrf-hydro-training/example_case/USGS_obs.csv',dtype=str)\n",
    "obs['dateTime'] = pd.to_datetime(obs['dateTime'])\n",
    "obs['streamflow_cms'] = pd.to_numeric(obs['streamflow_cms'])"
   ]
  },
  {
   "cell_type": "markdown",
   "metadata": {},
   "source": [
    "**Plot the hydrographs**"
   ]
  },
  {
   "cell_type": "code",
   "execution_count": null,
   "metadata": {},
   "outputs": [],
   "source": [
    "fig, axes = plt.subplots(ncols=1,figsize=(12, 6))\n",
    "plt.suptitle('Hydrographs for NLDAS and Stage IV forcing',fontsize=24)\n",
    "chanobs_baseline.sel(feature_id = 2).streamflow.plot(label='NLDAS',\n",
    "                                                     color='black',\n",
    "                                                     linestyle='--')\n",
    "chanobs_supp_precip.sel(feature_id = 2).streamflow.plot(label='Stage IV',\n",
    "                                                        color='blue',\n",
    "                                                        linestyle='-')\n",
    "obs[obs['site_no'] == '01374581'].plot(x='dateTime',\n",
    "                                       y='streamflow_cms',\n",
    "                                       ax=axes,\n",
    "                                       label='Observed',\n",
    "                                       color='grey')\n",
    "plt.legend()\n",
    "plt.show()"
   ]
  },
  {
   "cell_type": "markdown",
   "metadata": {},
   "source": [
    "#### Precipitation data"
   ]
  },
  {
   "cell_type": "markdown",
   "metadata": {},
   "source": [
    "We read in the precipitation time series data from the two different products using xarray."
   ]
  },
  {
   "cell_type": "code",
   "execution_count": null,
   "metadata": {},
   "outputs": [],
   "source": [
    "ldasin = xr.open_mfdataset('/home/docker/wrf-hydro-training/output/lesson4/run_gridded_baseline/FORCING/*LDASIN*',\n",
    "                            concat_dim='Time')\n",
    "stageiv = xr.open_mfdataset('/home/docker/wrf-hydro-training/output/lesson4/run_supp_precip/FORCING/*PRECIP*',\n",
    "                            concat_dim='Time')"
   ]
  },
  {
   "cell_type": "markdown",
   "metadata": {},
   "source": [
    "Now we calculate a domain-wide mean precipitation time series and plots the two products."
   ]
  },
  {
   "cell_type": "code",
   "execution_count": null,
   "metadata": {
    "scrolled": false
   },
   "outputs": [],
   "source": [
    "# Calculate the mean precipitation rate (mm/hr) across the domain\n",
    "ldasin_avg = ldasin.RAINRATE.mean(dim=('south_north','west_east')) * 3600\n",
    "stageiv_avg = stageiv.precip_rate.mean(dim=('south_north','west_east')) * 3600\n",
    "\n",
    "# Plot the precipitation time series\n",
    "fig, axes = plt.subplots(ncols=1,figsize=(12, 6))\n",
    "plt.suptitle('Hyetograph for NLDAS and Stage IV forcing',fontsize=24)\n",
    "ldasin_avg.plot(label='NLDAS', color='black', linestyle='--')\n",
    "stageiv_avg.plot(label='Stage IV', color='blue', linestyle='-')\n",
    "plt.legend()\n",
    "plt.show()"
   ]
  },
  {
   "cell_type": "markdown",
   "metadata": {},
   "source": [
    "While the domain-average precipitation time series is mostly consistent between the products, Stage IV shows somewhat lower precipitation towards the end of the event.\n",
    "\n",
    "Since the two products have different native spatial resolutions (NLDAS is ~13km while Stage IV is ~4km), we should also examine the spatial patterns of precipitation."
   ]
  },
  {
   "cell_type": "code",
   "execution_count": null,
   "metadata": {
    "scrolled": false
   },
   "outputs": [],
   "source": [
    "# Select data for roughly middle of event\n",
    "ldasin_tmid = ldasin.isel(Time = 64)\n",
    "stageiv_tmid = stageiv.isel(Time = 64)\n",
    "\n",
    "# Plot the 2D precipitation grids at hour 60.\n",
    "fig, axes = plt.subplots(ncols=2,figsize=(12, 6))\n",
    "plt.suptitle('Precipitation rate for nldas and stage IV',fontsize=24)\n",
    "ldasin_tmid['RAINRATE'] = ldasin_tmid.RAINRATE*3600\n",
    "ldasin_tmid.RAINRATE.plot(ax=axes[0],vmin=5,vmax=15)\n",
    "axes[0].set_title('NLDAS')\n",
    "stageiv_tmid['precip_rate'] = stageiv_tmid.precip_rate*3600\n",
    "stageiv_tmid.precip_rate.plot(ax=axes[1],vmin=5,vmax=15)\n",
    "axes[1].set_title('StageIV')\n",
    "plt.show()"
   ]
  },
  {
   "cell_type": "markdown",
   "metadata": {},
   "source": [
    "### Discussion \n",
    "The spatial pattern of the two precipitation forcing datasets are very different. Stage IV peaks on the north-west part of the domain and does not contribute to streamflow generation. Additionally, the upstream contributing area has generally a higher mean precipitation rate in the NLDAS forcing compared to the StageIV, resulting in lower streamflow when using the StageIV precip."
   ]
  },
  {
   "cell_type": "markdown",
   "metadata": {},
   "source": [
    "## Experiment 3 - Groundwater model options\n",
    "### Background\n",
    "Aquifer processes contributing baseflow often operate at depths well below ground surface. As such, there are often conceptual shortcomings in current land surface models in their representation of groundwater processes. WRF-Hydro has implemented a conceptual baseflow model, and it is particularly useful when WRF-Hydro is used for long-term streamflow simulation/prediction and baseflow or “low flow” processes must be properly accounted for. For more detailed on the this topic please refer to [WRF-Hydro V5 Technical Description](https://ral.ucar.edu/sites/default/files/public/WRF-HydroV5TechnicalDescription.pdf). \n",
    "\n",
    "In WRF-Hydro, there are three options for treatment of groundwater that can be set in the namelist option `GWBASESWCRT`: *None*, *exponential bucket model*, and *pass-through*. Setting the option to *None* treats baseflow as a sink, and when using this option all water that is routed to groundwater will simply be removed from the model. Therefore, if using option *None* you most likely **WILL NOT** be able to close the water balance. The *exponential bucket model* option is used for representing groundwater using the exponential bucket model. The third option *pass-through* transmits all water that is routed to groundwater directly to the stream channel. \n",
    "\n",
    "### Objective\n",
    "Here, we would like to experiment the impact of turnning the groundwater bucket model on and off and also investigate the two available options of the groundwater bucket model. \n",
    "\n",
    "### Create experiment simulation directory\n",
    "We are running two simulations as part of this experiment so we will need to create 2 new directories"
   ]
  },
  {
   "cell_type": "code",
   "execution_count": null,
   "metadata": {},
   "outputs": [],
   "source": [
    "%%bash\n",
    "cp -r ~/wrf-hydro-training/output/lesson4/run_gridded_template \\\n",
    "~/wrf-hydro-training/output/lesson4/run_gw_passthrough\n",
    "\n",
    "cp -r ~/wrf-hydro-training/output/lesson4/run_gridded_template \\\n",
    "~/wrf-hydro-training/output/lesson4/run_gw_none"
   ]
  },
  {
   "cell_type": "markdown",
   "metadata": {},
   "source": [
    "### Edit the namelists and run the simulation for the pass through model\n",
    "\n",
    "**Step 1: Edit the *run_gw_passthrough/hydro.namelist* file**\n",
    "\n",
    "Change the option `GWBASESWCRT = 1` for exponential bucket model (the baseline case) to `GWBASESWCRT = 2` for the pass-through simulation\n",
    "\n",
    "```\n",
    "! Switch to activate baseflow bucket model...(0=none, 1=exp. bucket, 2=pass-through)\n",
    "GWBASESWCRT = 2\n",
    "```\n",
    "\n",
    "**Step 2: Run the simulation**"
   ]
  },
  {
   "cell_type": "code",
   "execution_count": null,
   "metadata": {},
   "outputs": [],
   "source": [
    "%%bash\n",
    "cd ~/wrf-hydro-training/output/lesson4/run_gw_passthrough\n",
    "mpirun -np 2 ./wrf_hydro.exe >> run.log 2>&1"
   ]
  },
  {
   "cell_type": "markdown",
   "metadata": {},
   "source": [
    "**Step 3: Check that the simulation finished successfully**"
   ]
  },
  {
   "cell_type": "code",
   "execution_count": null,
   "metadata": {
    "scrolled": true
   },
   "outputs": [],
   "source": [
    "%%bash\n",
    "tail -1 ~/wrf-hydro-training/output/lesson4/run_gw_passthrough/diag_hydro.00000"
   ]
  },
  {
   "cell_type": "markdown",
   "metadata": {},
   "source": [
    "### Edit the namelists and run the simulation for no groundwater routing\n",
    "\n",
    "**Step 1: Edit the *run_gw_none/hydro.namelist* file**\n",
    "\n",
    "Change the option `GWBASESWCRT = 1` for exponential bucket model (the baseline case) to `GWBASESWCRT = 0` for the no groundwater routing simulation.\n",
    "\n",
    "```\n",
    "! Switch to activate baseflow bucket model...(0=none, 1=exp. bucket, 2=pass-through)\n",
    "GWBASESWCRT = 0\n",
    "```\n",
    "\n",
    "**Step 2: Run the simulation**"
   ]
  },
  {
   "cell_type": "code",
   "execution_count": null,
   "metadata": {},
   "outputs": [],
   "source": [
    "%%bash\n",
    "cd ~/wrf-hydro-training/output/lesson4/run_gw_none\n",
    "mpirun -np 2 ./wrf_hydro.exe >> run.log 2>&1"
   ]
  },
  {
   "cell_type": "markdown",
   "metadata": {},
   "source": [
    "**Step 3: Check that the simulation finished successfully**"
   ]
  },
  {
   "cell_type": "code",
   "execution_count": null,
   "metadata": {
    "scrolled": true
   },
   "outputs": [],
   "source": [
    "%%bash\n",
    "tail -1 ~/wrf-hydro-training/output/lesson4/run_gw_none/diag_hydro.00000"
   ]
  },
  {
   "cell_type": "markdown",
   "metadata": {},
   "source": [
    "### Results\n",
    "We will now look at the differences in streamflow between our baseline run with the exponential groundwater bucket model on and our experiment with groundwater pass-through.\n",
    "\n",
    "We will use Python and the `xarray` library to load the data and plot hydrographs. For an intro to these tools, please see lesson 3.\n",
    "\n",
    "**Load the xarray python package**"
   ]
  },
  {
   "cell_type": "code",
   "execution_count": null,
   "metadata": {},
   "outputs": [],
   "source": [
    "# Load the xarray package\n",
    "%matplotlib inline\n",
    "import xarray as xr\n",
    "import matplotlib.pyplot as plt"
   ]
  },
  {
   "cell_type": "markdown",
   "metadata": {},
   "source": [
    "**Load the CHANOBS streamflow datasets**\n",
    "\n",
    "We are going to use the CHANOBS files because it will limit the number of grid cells to only those which we have specified have a gage."
   ]
  },
  {
   "cell_type": "code",
   "execution_count": null,
   "metadata": {},
   "outputs": [],
   "source": [
    "chanobs_baseline = xr.open_mfdataset('/home/docker/wrf-hydro-training/output/lesson4/run_gridded_baseline/*CHANOBS*',\n",
    "                            concat_dim='time')\n",
    "chanobs_gw_passthrough = xr.open_mfdataset('/home/docker/wrf-hydro-training/output/lesson4/run_gw_passthrough/*CHANOBS*',\n",
    "                            concat_dim='time')\n",
    "chanobs_gw_none = xr.open_mfdataset('/home/docker/wrf-hydro-training/output/lesson4/run_gw_none/*CHANOBS*',\n",
    "                            concat_dim='time')\n",
    "obs = pd.read_csv('/home/docker/wrf-hydro-training/example_case/USGS_obs.csv',dtype=str)\n",
    "obs['dateTime'] = pd.to_datetime(obs['dateTime'])\n",
    "obs['streamflow_cms'] = pd.to_numeric(obs['streamflow_cms'])"
   ]
  },
  {
   "cell_type": "markdown",
   "metadata": {},
   "source": [
    "**Plot the hydrographs**"
   ]
  },
  {
   "cell_type": "code",
   "execution_count": null,
   "metadata": {},
   "outputs": [],
   "source": [
    "fig, axes = plt.subplots(ncols=1,figsize=(12, 6))\n",
    "plt.suptitle('Hydrographs for groundwater exponential bucket model vs pass-through',fontsize=24)\n",
    "chanobs_gw_passthrough.sel(feature_id = 2).streamflow.plot(label='Pass-through',\n",
    "                                                        color='blue',\n",
    "                                                        linestyle='-')\n",
    "chanobs_gw_none.sel(feature_id = 2).streamflow.plot(label='None',\n",
    "                                                        color='red',\n",
    "                                                        linestyle='-')\n",
    "chanobs_baseline.sel(feature_id = 2).streamflow.plot(label='Exponential bucket model',\n",
    "                                                        color='black',\n",
    "                                                        linestyle='--')\n",
    "obs[obs['site_no'] == '01374581'].plot(x='dateTime',\n",
    "                                       y='streamflow_cms',\n",
    "                                       ax=axes,\n",
    "                                       label='Observed',\n",
    "                                       color='grey')\n",
    "plt.legend()\n",
    "plt.show()"
   ]
  },
  {
   "cell_type": "markdown",
   "metadata": {},
   "source": [
    "### Discussion\n",
    "With the groundwater model turned off using `GWBASESWCRT = 0`, water which exits the bottom of the LSM soil column is simply removed from the simulation. It most likely will not close the water balance using this option and simulated streamflow is often lower because there is no contribution from groundwater. In contrast, pass-through and exponential models, options `GWBASESWCRT = 1` and `GWBASESWCRT = 2`, respectively, honor the water mass balance but differ in their treatment of groundwater. The pass-through will place all the water that exits the bottom of the LSM soil column directly to the stream and therefore the hydrograph is sharper and peaks sooner than the exponential test case."
   ]
  },
  {
   "cell_type": "markdown",
   "metadata": {},
   "source": [
    "## Experiment 4 - Removing lakes from the simulation\n",
    "### Background\n",
    "In the gridded channel routing configuration, WRF-Hydro can be run with lakes on or off. However, it is not as simple as flipping a switch because if lakes are to be included, then they need to be represented on the fine grid (i.e. in the `Fulldom_hires.nc` file).  This is different from how\n",
    "lakes are represented in reach-based routing, where lakes are represented as objects connected by channel reaches, rather than explicitly defined on the grid.\n",
    "Therefore, if a user wants to run the gridded routing configuration without lakes, they should run the GIS pre-processing tools and NOT specify a lake polygon file. This will create a \"routing stack\" where the LAKEGRID variable in the `Fulldom_hires.nc` file is all -9999 values. \n",
    "We recommend that users setup two different domain directories to run with and without lakes, as is demonstrated in this training.  \n",
    "\n",
    "The only other differences between running with and without lakes is to edit the `hydro.namelist`. See below for details.\n",
    "\n",
    "### Objective\n",
    "Run a simulation for the Gridded configuration without representing lakes and compare the resulting hydrographs at a gage downstream of a represented lake. \n",
    "\n",
    "### Create experiment simulation directory\n",
    "We **WILL NOT** be able to use our `run_gridded_template` directory for this experiment because we have to use different geospatial data. These data are provided for you in the `example_case/Gridded_no_lakes` directory."
   ]
  },
  {
   "cell_type": "code",
   "execution_count": null,
   "metadata": {},
   "outputs": [],
   "source": [
    "%%bash\n",
    "# Make a new directory for our baseline simulation\n",
    "mkdir -p ~/wrf-hydro-training/output/lesson4/run_lakes_off\n",
    "\n",
    "# Copy our model files to the simulation directory\n",
    "cp ~/wrf-hydro-training/wrf_hydro_nwm_public/trunk/NDHMS/Run/*.TBL \\\n",
    "~/wrf-hydro-training/output/lesson4/run_lakes_off\n",
    "cp ~/wrf-hydro-training/wrf_hydro_nwm_public/trunk/NDHMS/Run/wrf_hydro.exe \\\n",
    "~/wrf-hydro-training/output/lesson4/run_lakes_off\n",
    "\n",
    "# Create symbolic links to large domain files\n",
    "cp -as $HOME/wrf-hydro-training/example_case/FORCING \\\n",
    "~/wrf-hydro-training/output/lesson4/run_lakes_off\n",
    "cp -as $HOME/wrf-hydro-training/example_case/Gridded_no_lakes/DOMAIN \\\n",
    "~/wrf-hydro-training/output/lesson4/run_lakes_off\n",
    "cp -as $HOME/wrf-hydro-training/example_case/Gridded_no_lakes/RESTART \\\n",
    "~/wrf-hydro-training/output/lesson4/run_lakes_off\n",
    "\n",
    "# Copy namelist files\n",
    "cp ~/wrf-hydro-training/example_case/Gridded_no_lakes/namelist.hrldas \\\n",
    "~/wrf-hydro-training/output/lesson4/run_lakes_off\n",
    "cp ~/wrf-hydro-training/example_case/Gridded_no_lakes/hydro.namelist \\\n",
    "~/wrf-hydro-training/output/lesson4/run_lakes_off"
   ]
  },
  {
   "cell_type": "markdown",
   "metadata": {},
   "source": [
    "### Review the differences and run the simulation\n",
    "\n",
    "**Step 1: Check that the `Fulldom_hires.nc` file in the `Gridded_no_lakes` dir is not representing lakes**\n",
    "\n",
    "You can use ncdump to check the values of the LAKEGRID variable.  They should all be -9999."
   ]
  },
  {
   "cell_type": "code",
   "execution_count": null,
   "metadata": {
    "scrolled": false
   },
   "outputs": [],
   "source": [
    "%%bash\n",
    "ncdump -v LAKEGRID ~/wrf-hydro-training/output/lesson4/run_lakes_off/DOMAIN/Fulldom_hires.nc | tail -10"
   ]
  },
  {
   "cell_type": "markdown",
   "metadata": {},
   "source": [
    "**Step 2: Check that lakes are off in the `hydro.namelist` file**\n",
    "\n",
    "**NOTE: You do not need to make changes. These edits have already been applied to the namelist included in the *Gridded_no_lakes* configuration directory.**\n",
    "\n",
    "There are two options in the `hydro.namelist` to turn lakes off.\n",
    "\n",
    "First is commenting out the `route_lake_f` option by starting the line with `!`\n",
    "\n",
    "```\n",
    "! Specify the lake parameter file (e.g.: \"LAKEPARM.nc\" for netcdf or \"LAKEPARM.TBL\" for text).\n",
    "! Note REQUIRED if lakes are on.\n",
    "!route_lake_f = \"./DOMAIN/LAKEPARM.nc\"\n",
    "```\n",
    "\n",
    "Second is turning off the lakeout output files.\n",
    "\n",
    "```\n",
    "outlake  = 0                 ! Netcdf grid of lake values (1d)\n",
    "                             !      0 = no output, 1 = output\n",
    "```\n",
    "\n",
    "**Step 2: Run the simulation**"
   ]
  },
  {
   "cell_type": "code",
   "execution_count": null,
   "metadata": {},
   "outputs": [],
   "source": [
    "%%bash\n",
    "cd ~/wrf-hydro-training/output/lesson4/run_lakes_off\n",
    "mpirun -np 2 ./wrf_hydro.exe >> run.log 2>&1"
   ]
  },
  {
   "cell_type": "markdown",
   "metadata": {},
   "source": [
    "**Step 3: Check that the simulation finished successfully**"
   ]
  },
  {
   "cell_type": "code",
   "execution_count": null,
   "metadata": {
    "scrolled": true
   },
   "outputs": [],
   "source": [
    "%%bash\n",
    "tail -1 ~/wrf-hydro-training/output/lesson4/run_lakes_off/diag_hydro.00000"
   ]
  },
  {
   "cell_type": "markdown",
   "metadata": {},
   "source": [
    "### Results\n",
    "We will now look at the differences in streamflow between our baseline run with lakes on and our experiment with lakes off.\n",
    "\n",
    "We will use Python and the `xarray` library to load the data and plot hydrographs. For an intro to these tools, please see lesson 3.\n",
    "\n",
    "**Load the xarray python package**"
   ]
  },
  {
   "cell_type": "code",
   "execution_count": null,
   "metadata": {},
   "outputs": [],
   "source": [
    "# Load the xarray package\n",
    "%matplotlib inline\n",
    "import xarray as xr\n",
    "import matplotlib.pyplot as plt"
   ]
  },
  {
   "cell_type": "markdown",
   "metadata": {},
   "source": [
    "**Load the CHANOBS streamflow datasets**\n",
    "\n",
    "We are going to use the CHANOBS files because it will limit the number of grid cells to only those which we have specified have a gage."
   ]
  },
  {
   "cell_type": "code",
   "execution_count": null,
   "metadata": {},
   "outputs": [],
   "source": [
    "chanobs_baseline = xr.open_mfdataset('/home/docker/wrf-hydro-training/output/lesson4/run_gridded_baseline/*CHANOBS*',\n",
    "                            concat_dim='time')\n",
    "chanobs_lakes_off = xr.open_mfdataset('/home/docker/wrf-hydro-training/output/lesson4/run_lakes_off/*CHANOBS*',\n",
    "                            concat_dim='time')\n",
    "obs = pd.read_csv('/home/docker/wrf-hydro-training/example_case/USGS_obs.csv',dtype=str)\n",
    "obs['dateTime'] = pd.to_datetime(obs['dateTime'])\n",
    "obs['streamflow_cms'] = pd.to_numeric(obs['streamflow_cms'])"
   ]
  },
  {
   "cell_type": "markdown",
   "metadata": {},
   "source": [
    "**Plot the hydrographs at the stream location upstream of the lake**"
   ]
  },
  {
   "cell_type": "code",
   "execution_count": null,
   "metadata": {
    "scrolled": false
   },
   "outputs": [],
   "source": [
    "fig, axes = plt.subplots(ncols=1,figsize=(12, 6))\n",
    "plt.suptitle('Hydrographs for lakes on and off at stream location upstream of lake',fontsize=24)\n",
    "chanobs_lakes_off.sel(feature_id = 2).streamflow.plot(label='Lakes off',\n",
    "                                                        color='blue',\n",
    "                                                        linestyle='-')\n",
    "chanobs_baseline.sel(feature_id = 2).streamflow.plot(label='Lakes on',\n",
    "                                                        color='black',\n",
    "                                                        linestyle='--')\n",
    "obs[obs['site_no'] == '01374581'].plot(x='dateTime',\n",
    "                                       y='streamflow_cms',\n",
    "                                       ax=axes,\n",
    "                                       label='Observed',\n",
    "                                       color='grey')\n",
    "plt.legend()\n",
    "plt.show()"
   ]
  },
  {
   "cell_type": "markdown",
   "metadata": {},
   "source": [
    "**Plot the hydrographs at the stream location downstream of the lake**\n",
    "\n",
    "**NOTE: we changed the `feature_id` to 3 to select a different stream location in the output files**"
   ]
  },
  {
   "cell_type": "code",
   "execution_count": null,
   "metadata": {
    "scrolled": false
   },
   "outputs": [],
   "source": [
    "fig, axes = plt.subplots(ncols=1,figsize=(12, 6))\n",
    "plt.suptitle('Hydrographs for lakes on and off at stream location downstream of lake',fontsize=24)\n",
    "chanobs_lakes_off.sel(feature_id = 3).streamflow.plot(label='Lakes off',\n",
    "                                                        color='blue',\n",
    "                                                        linestyle='-')\n",
    "chanobs_baseline.sel(feature_id = 3).streamflow.plot(label='Lakes on',\n",
    "                                                        color='black',\n",
    "                                                        linestyle='--')\n",
    "obs[obs['site_no'] == '0137462010'].plot(x='dateTime',\n",
    "                                         y='streamflow_cms',\n",
    "                                         ax=axes,\n",
    "                                         label='Observed',\n",
    "                                         color='grey')\n",
    "plt.legend()\n",
    "plt.show()"
   ]
  },
  {
   "cell_type": "markdown",
   "metadata": {},
   "source": [
    "### Discussion\n",
    "The streamflow values at the stream location upstream of the lake were identical between the simulation with lakes represented and the simulation without lakes represented. However, at the stream location downstream of a lake we see that streamflow is considerably higher in the simulation without lakes represented. This reflects the expected behavior of the lake attenuating streamflow at the outlet due to storage. "
   ]
  },
  {
   "cell_type": "markdown",
   "metadata": {},
   "source": [
    "## Experiment 5 - Modifying lake parameters in `LAKEPARM.nc`\n",
    "### Background\n",
    "The orifice and weir lake parameters populated into LAKEPARM.nc by the pre-processing tools are essentially placeholders for the user to replace with their own data. The accuracy of these parameters can have a significant impact on the storage and thus outflow of the lake.\n",
    "\n",
    "### Objective\n",
    "In this exercise, we will update one of these parameters, the weir length - `WeirL`, with an estimate from observations and explore the impact on the streamflow at the downstream gauge.\n",
    "\n",
    "### Create experiment simulation directory"
   ]
  },
  {
   "cell_type": "code",
   "execution_count": null,
   "metadata": {},
   "outputs": [],
   "source": [
    "%%bash\n",
    "cp -r ~/wrf-hydro-training/output/lesson4/run_gridded_template \\\n",
    "~/wrf-hydro-training/output/lesson4/run_lakeparm_edit"
   ]
  },
  {
   "cell_type": "markdown",
   "metadata": {},
   "source": [
    "### Edit the *LAKEPARM.nc* file and run the simulation\n",
    "**Step 1: Edit the *LAKEPARM.nc* file**\n",
    "\n",
    "NCO (NetCDF Operators, http://nco.sourceforge.net/) is a set of useful utilities to manipulate NetCDF files. We will use the NCO command `ncap2` to edit the WeirL variable."
   ]
  },
  {
   "cell_type": "code",
   "execution_count": null,
   "metadata": {
    "scrolled": false
   },
   "outputs": [],
   "source": [
    "%%bash\n",
    "ncap2 -s \"WeirL=667\" ~/wrf-hydro-training/output/lesson4/run_lakeparm_edit/DOMAIN/LAKEPARM.nc \\\n",
    "~/wrf-hydro-training/output/lesson4/run_lakeparm_edit/DOMAIN/LAKEPARM_WeirL_667.nc"
   ]
  },
  {
   "cell_type": "markdown",
   "metadata": {},
   "source": [
    "**Step 2: Verify that the change was made**\n",
    "\n",
    "We will check the value of the `WeirL` variable in our new *LAKEPARM_WeirL_667.nc* file against the original *LAKEPARM.nc* file.\n",
    "\n",
    "*LAKEPARM_WeirL_667.nc*"
   ]
  },
  {
   "cell_type": "code",
   "execution_count": null,
   "metadata": {},
   "outputs": [],
   "source": [
    "%%bash\n",
    "ncdump -v WeirL ~/wrf-hydro-training/output/lesson4/run_lakeparm_edit/DOMAIN/LAKEPARM_WeirL_667.nc"
   ]
  },
  {
   "cell_type": "markdown",
   "metadata": {},
   "source": [
    "*LAKEPARM.nc*"
   ]
  },
  {
   "cell_type": "code",
   "execution_count": null,
   "metadata": {
    "scrolled": true
   },
   "outputs": [],
   "source": [
    "%%bash\n",
    "ncdump -v WeirL ~/wrf-hydro-training/output/lesson4/run_lakeparm_edit/DOMAIN/LAKEPARM.nc"
   ]
  },
  {
   "cell_type": "markdown",
   "metadata": {},
   "source": [
    "**Step 3: Edit the *hydro.namelist* to use the new *LAKEPARM_WeirL_667.nc***\n",
    "We will change the `route_lake_f` option in the *hydro.namelist* to use the edited lakeparm file. \n",
    "\n",
    "```\n",
    "! Specify the lake parameter file (e.g.: \"LAKEPARM.nc\" for netcdf or \"LAKEPARM.TBL\" for text).\n",
    "! Note REQUIRED if lakes are on.\n",
    "route_lake_f = \"./DOMAIN/LAKEPARM_WeirL_667.nc\"\n",
    "```\n",
    "\n",
    "**Step 3: Run the simulation**"
   ]
  },
  {
   "cell_type": "code",
   "execution_count": null,
   "metadata": {},
   "outputs": [],
   "source": [
    "%%bash\n",
    "cd ~/wrf-hydro-training/output/lesson4/run_lakeparm_edit\n",
    "mpirun -np 2 ./wrf_hydro.exe >> run.log 2>&1"
   ]
  },
  {
   "cell_type": "markdown",
   "metadata": {},
   "source": [
    "### Results\n",
    "We will now look at the differences in streamflow between our baseline run with the original WeirL of 10m and our edited WeirL of 677m.\n",
    "\n",
    "We will use Python and the `xarray` library to load the data and plot hydrographs. For an intro to these tools, please see Lesson 3.\n",
    "\n",
    "**Load the xarray python package**"
   ]
  },
  {
   "cell_type": "code",
   "execution_count": null,
   "metadata": {},
   "outputs": [],
   "source": [
    "# Load the xarray package\n",
    "%matplotlib inline\n",
    "import xarray as xr\n",
    "import matplotlib.pyplot as plt\n",
    "import pandas as pd"
   ]
  },
  {
   "cell_type": "markdown",
   "metadata": {},
   "source": [
    "**Load the CHANOBS streamflow datasets**\n",
    "\n",
    "We are going to use the CHANOBS files because it will limit the number of grid cells to only those which we have specified have a gage."
   ]
  },
  {
   "cell_type": "code",
   "execution_count": null,
   "metadata": {},
   "outputs": [],
   "source": [
    "chanobs_baseline = xr.open_mfdataset('/home/docker/wrf-hydro-training/output/lesson4/run_gridded_baseline/*CHANOBS*',\n",
    "                            concat_dim='time')\n",
    "chanobs_lakeparm_edit = xr.open_mfdataset('/home/docker/wrf-hydro-training/output/lesson4/run_lakeparm_edit/*CHANOBS*',\n",
    "                            concat_dim='time')\n",
    "obs = pd.read_csv('/home/docker/wrf-hydro-training/example_case/USGS_obs.csv',dtype=str)\n",
    "obs['dateTime'] = pd.to_datetime(obs['dateTime'])\n",
    "obs['streamflow_cms'] = pd.to_numeric(obs['streamflow_cms'])"
   ]
  },
  {
   "cell_type": "markdown",
   "metadata": {},
   "source": [
    "**Plot the hydrographs**"
   ]
  },
  {
   "cell_type": "code",
   "execution_count": null,
   "metadata": {
    "scrolled": false
   },
   "outputs": [],
   "source": [
    "fig, axes = plt.subplots(ncols=1,figsize=(12, 6))\n",
    "plt.suptitle('Hydrographs ...',fontsize=24)\n",
    "chanobs_lakeparm_edit.sel(feature_id = 3).streamflow.plot(label='Weir length = 667m',\n",
    "                                                        color='blue',\n",
    "                                                        linestyle='-')\n",
    "chanobs_baseline.sel(feature_id = 3).streamflow.plot(label='Weir length = 10m',\n",
    "                                                        color='black',\n",
    "                                                        linestyle='--')\n",
    "obs[obs['site_no'] == '0137462010'].plot(x='dateTime',\n",
    "                                       y='streamflow_cms',\n",
    "                                       ax=axes,\n",
    "                                       label='Observed',\n",
    "                                       color='grey')\n",
    "plt.legend()\n",
    "plt.show()"
   ]
  },
  {
   "cell_type": "markdown",
   "metadata": {},
   "source": [
    "### Discussion\n",
    "We can see that extending the weir length via the `WeirL` parameter has increased streamflow downstream of the lake. "
   ]
  },
  {
   "cell_type": "markdown",
   "metadata": {},
   "source": [
    "# Next up - Exploring the NWM configuration\n",
    "This concludes lesson 4. In the next lesson, we will explore the differences between the NWM and Gridded configurations.\n",
    "\n",
    "**IT IS BEST TO EITHER SHUTDOWN THIS LESSON OR CLOSE IT BEFORE PROCEEDING TO THE NEXT LESSON TO AVOID POSSIBLY EXCEEDING ALLOCATED MEMORY. Shutdown the lesson be either closing the browser tab for the lesson or selecting `KERNAL->SHUTDOWN` in the jupyter notebook toolbar.**"
   ]
  }
 ],
 "metadata": {
  "kernelspec": {
   "display_name": "Python 3",
   "language": "python",
   "name": "python3"
  },
  "language_info": {
   "codemirror_mode": {
    "name": "ipython",
    "version": 3
   },
   "file_extension": ".py",
   "mimetype": "text/x-python",
   "name": "python",
   "nbconvert_exporter": "python",
   "pygments_lexer": "ipython3",
   "version": "3.6.5"
  },
  "toc": {
   "base_numbering": 1,
   "nav_menu": {},
   "number_sections": true,
   "sideBar": true,
   "skip_h1_title": true,
   "title_cell": "Table of Contents",
   "title_sidebar": "Contents",
   "toc_cell": true,
   "toc_position": {
    "height": "calc(100% - 180px)",
    "left": "10px",
    "top": "150px",
    "width": "414px"
   },
   "toc_section_display": true,
   "toc_window_display": true
  }
 },
 "nbformat": 4,
 "nbformat_minor": 2
}
