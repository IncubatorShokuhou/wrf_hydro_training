{
 "cells": [
  {
   "cell_type": "markdown",
   "metadata": {},
   "source": [
    "<img src='https://repository-images.githubusercontent.com/121802384/c355bb80-7d42-11e9-9e0e-4729609f9fbc' alt='WRF-Hydro Logo' width=\"15%\"/>\n",
    "\n",
    "# Lesson 5 - Land surface experiments"
   ]
  },
  {
   "cell_type": "markdown",
   "metadata": {},
   "source": [
    "## Overview\n",
    "In [Lesson 4](Lesson-4-run-options.ipynb) we experimented with different initial and boundary conditions (precipitation). \n",
    "\n",
    "In this lesson, we experiment with different terrain physics options as well as manipulate a few parameters to evaluate impacts on streamflow. [Click here](https://ral.ucar.edu/sites/default/files/public/TerraingRouting_GroundWater.pdf) for reference material on terrain routing and groundwater in WRF-Hydro. \n",
    "\n",
    "**NOTE: If you have not completed Lessons 1 through 4, please stop and do so now.**"
   ]
  },
  {
   "cell_type": "markdown",
   "metadata": {},
   "source": [
    "### Compiling WRF-Hydro\n",
    "Below are the commands to compile WRF-Hydro. We are doing a quick short-cut to edit the setEnvar.sh to make sure HYDRO_D and SPATIAL_SOIL are both active. See [Lesson 1](Lesson-1-compile.ipynb) if you have any questions on these settings.\n",
    "\n",
    "**NOTE: You only need to do these steps if you do not already have a compiled binary. If you do, you can skip the compile steps.**"
   ]
  },
  {
   "cell_type": "code",
   "execution_count": null,
   "metadata": {},
   "outputs": [],
   "source": [
    "%%bash\n",
    "# Change to the trunk/NDHMS directory and configure for gfort\n",
    "cd ~/wrf-hydro-training/wrf_hydro_nwm_public/trunk/NDHMS/\n",
    "./configure 2\n",
    "\n",
    "# Make a copy of the template environment variable file, setEnvars.sh\n",
    "cp ~/wrf-hydro-training/wrf_hydro_nwm_public/trunk/NDHMS/template/setEnvar.sh \\\n",
    "~/wrf-hydro-training/wrf_hydro_nwm_public/trunk/NDHMS/setEnvar.sh\n",
    "\n",
    "# Edit setEnvar.sh to turn on debug (HYDRO_D=1) and spatial soils (SPATIAL_SOIL=1)\n",
    "sed -i -e 's#export HYDRO_D=0#export HYDRO_D=1#g' ~/wrf-hydro-training/wrf_hydro_nwm_public/trunk/NDHMS/setEnvar.sh\n",
    "sed -i -e 's#export SPATIAL_SOIL=0#export SPATIAL_SOIL=1#g' ~/wrf-hydro-training/wrf_hydro_nwm_public/trunk/NDHMS/setEnvar.sh\n",
    "\n",
    "# Compile the code\n",
    "./compile_offline_NoahMP.sh setEnvar.sh >> compile.log 2>&1\n",
    "\n",
    "# Check to make sure it completed successfully and confirm the correct compile-time options were set.\n",
    "tail -13 ~/wrf-hydro-training/wrf_hydro_nwm_public/trunk/NDHMS/compile.log"
   ]
  },
  {
   "cell_type": "markdown",
   "metadata": {},
   "source": [
    "## Experiment with terrain routing options"
   ]
  },
  {
   "cell_type": "markdown",
   "metadata": {},
   "source": [
    "### Background\n",
    "In most global and regional land surface models, model cells are simulated as independent columns and \"runoff\" is interpreted as excess surface and subsurface water that is \"scraped\" from each cell after vertical infiltration and drainage processes complete. WRF-Hydro adds functionality to allow this excess water to instead move laterally around the land surface based on topographic and head gradients. WRF-Hydro can explicitly represent overland flow processes, where infiltration and saturation excess water propagates over the surface through a diffusive wave formulation. In addition, WRF-Hydro includes shallow subsurface flow, allowing saturated soil water to move from cell to cell through a Boussinesq approximation. For more detailed information refer to [WRF-Hydro V5 Technical Description](https://ral.ucar.edu/sites/default/files/public/WRF-HydroV5TechnicalDescription.pdf). "
   ]
  },
  {
   "cell_type": "markdown",
   "metadata": {},
   "source": [
    "### Objective\n",
    "Experiment with lateral flow physics options, then compare hydrographs with and without terrain routing processes active."
   ]
  },
  {
   "cell_type": "markdown",
   "metadata": {},
   "source": [
    "### Step 1: Create and run first baseline simulation\n",
    "As in Lesson 4, we will create a template directory to use for the terrain physics experiments.\n",
    "\n",
    "**Step 1a: Create a template run directory**"
   ]
  },
  {
   "cell_type": "code",
   "execution_count": 69,
   "metadata": {},
   "outputs": [],
   "source": [
    "%%bash\n",
    "# Make a new directory for our baseline simulation\n",
    "mkdir -p ~/wrf-hydro-training/output/lesson5/run_gridded_template\n",
    "\n",
    "# Copy our model files to the simulation directory\n",
    "cp ~/wrf-hydro-training/wrf_hydro_nwm_public/trunk/NDHMS/Run/*.TBL \\\n",
    "~/wrf-hydro-training/output/lesson5/run_gridded_template\n",
    "cp ~/wrf-hydro-training/wrf_hydro_nwm_public/trunk/NDHMS/Run/wrf_hydro.exe \\\n",
    "~/wrf-hydro-training/output/lesson5/run_gridded_template\n",
    "\n",
    "# Create symbolic links to large domain files\n",
    "cp -as $HOME/wrf-hydro-training/example_case/FORCING \\\n",
    "~/wrf-hydro-training/output/lesson5/run_gridded_template\n",
    "cp -as $HOME/wrf-hydro-training/example_case/Gridded_no_lakes/DOMAIN \\\n",
    "~/wrf-hydro-training/output/lesson5/run_gridded_template\n",
    "cp -as $HOME/wrf-hydro-training/example_case/Gridded_no_lakes/RESTART \\\n",
    "~/wrf-hydro-training/output/lesson5/run_gridded_template\n",
    "\n",
    "# Copy namelist files\n",
    "cp ~/wrf-hydro-training/example_case/Gridded_no_lakes/namelist.hrldas \\\n",
    "~/wrf-hydro-training/output/lesson5/run_gridded_template\n",
    "cp ~/wrf-hydro-training/example_case/Gridded_no_lakes/hydro.namelist \\\n",
    "~/wrf-hydro-training/output/lesson5/run_gridded_template"
   ]
  },
  {
   "cell_type": "markdown",
   "metadata": {},
   "source": [
    "**Step 1b: Now make a copy of the template directory and run the baseline simulation**\n",
    "\n",
    "First, we remind ourselves what we are running as a baseline. Note in particular that `OVRTSWCRT=1` and `SUBRTSWCRT=1`, meaning that both overland and subsurface flow routing options are active."
   ]
  },
  {
   "cell_type": "code",
   "execution_count": 70,
   "metadata": {
    "scrolled": true
   },
   "outputs": [
    {
     "name": "stdout",
     "output_type": "stream",
     "text": [
      "&HYDRO_nlist\n",
      "!!!! ---------------------- SYSTEM COUPLING ----------------------- !!!!\n",
      "\n",
      "! Specify what is being coupled:  1=HRLDAS (offline Noah-LSM), 2=WRF, 3=NASA/LIS, 4=CLM\n",
      "sys_cpl = 1\n",
      "\n",
      "!!!! ------------------- MODEL INPUT DATA FILES ------------------- !!!!\n",
      "\n",
      "! Specify land surface model gridded input data file (e.g.: \"geo_em.d01.nc\")\n",
      "GEO_STATIC_FLNM = \"./DOMAIN/geo_em.d01.nc\"\n",
      "\n",
      "! Specify the high-resolution routing terrain input data file (e.g.: \"Fulldom_hires.nc\")\n",
      "GEO_FINEGRID_FLNM = \"./DOMAIN/Fulldom_hires.nc\"\n",
      "\n",
      "! Specify the spatial hydro parameters file (e.g.: \"hydro2dtbl.nc\")\n",
      "! If you specify a filename and the file does not exist, it will be created for you.\n",
      "HYDROTBL_F = \"./DOMAIN/hydro2dtbl.nc\"\n",
      "\n",
      "! Specify spatial metadata file for land surface grid. (e.g.: \"GEOGRID_LDASOUT_Spatial_Metadata.nc\")\n",
      "LAND_SPATIAL_META_FLNM = \"./DOMAIN/GEOGRID_LDASOUT_Spatial_Metadata.nc\"\n",
      "\n",
      "! Specify the name of the restart file if starting from restart...comment out with '!' if not...\n",
      "RESTART_FILE  = 'RESTART/HYDRO_RST.2011-08-27_00:00_DOMAIN1'\n",
      "\n",
      "!!!! --------------------- MODEL SETUP OPTIONS -------------------- !!!!\n",
      "\n",
      "! Specify the domain or nest number identifier...(integer)\n",
      "IGRID = 1\n",
      "\n",
      "! Specify the restart file write frequency...(minutes)\n",
      "! A value of -99999 will output restarts on the first day of the month only.\n",
      "rst_dt = 1440\n",
      "\n",
      "! Reset the LSM soil states from the high-res routing restart file (1=overwrite, 0=no overwrite)\n",
      "! NOTE: Only turn this option on if overland or subsurface rotuing is active!\n",
      "rst_typ = 1\n",
      "\n",
      "! Restart file format control\n",
      "rst_bi_in = 0       !0: use netcdf input restart file (default)\n",
      "                    !1: use parallel io for reading multiple restart files, 1 per core\n",
      "rst_bi_out = 0      !0: use netcdf output restart file (default)\n",
      "                    !1: use parallel io for outputting multiple restart files, 1 per core\n",
      "\n",
      "! Restart switch to set restart accumulation variables to 0 (0=no reset, 1=yes reset to 0.0)\n",
      "RSTRT_SWC = 1\n",
      "\n",
      "! Specify baseflow/bucket model initialization...(0=cold start from table, 1=restart file)\n",
      "GW_RESTART = 1\n",
      "\n",
      "!!!! -------------------- MODEL OUTPUT CONTROL -------------------- !!!!\n",
      "\n",
      "! Specify the output file write frequency...(minutes)\n",
      "out_dt = 60\n",
      "\n",
      "! Specify the number of output times to be contained within each output history file...(integer)\n",
      "!   SET = 1 WHEN RUNNING CHANNEL ROUTING ONLY/CALIBRATION SIMS!!!\n",
      "!   SET = 1 WHEN RUNNING COUPLED TO WRF!!!\n",
      "SPLIT_OUTPUT_COUNT = 1\n",
      "\n",
      "! Specify the minimum stream order to output to netcdf point file...(integer)\n",
      "! Note: lower value of stream order produces more output.\n",
      "order_to_write = 1\n",
      "\n",
      "! Flag to turn on/off new I/O routines: 0 = deprecated output routines (use when running with Noah LSM),\n",
      "! 1 = with scale/offset/compression, ! 2 = with scale/offset/NO compression, \n",
      "! 3 = compression only, 4 = no scale/offset/compression (default)\n",
      "io_form_outputs = 4\n",
      "\n",
      "! Realtime run configuration option:\n",
      "! 0=all (default), 1=analysis, 2=short-range, 3=medium-range, 4=long-range, 5=retrospective,\n",
      "! 6=diagnostic (includes all of 1-4 outputs combined)\n",
      "io_config_outputs = 5\n",
      "\n",
      "! Option to write output files at time 0 (restart cold start time): 0=no, 1=yes (default)\n",
      "t0OutputFlag = 1\n",
      "\n",
      "! Options to output channel & bucket influxes. Only active for UDMP_OPT=1.\n",
      "! Nonzero choice requires that out_dt above matches NOAH_TIMESTEP in namelist.hrldas.\n",
      "! 0=None (default), 1=channel influxes (qSfcLatRunoff, qBucket)\n",
      "! 2=channel+bucket fluxes    (qSfcLatRunoff, qBucket, qBtmVertRunoff_toBucket)\n",
      "! 3=channel accumulations    (accSfcLatRunoff, accBucket) *** NOT TESTED ***\n",
      "output_channelBucket_influx = 0\n",
      "\n",
      "! Output netcdf file control\n",
      "CHRTOUT_DOMAIN = 0           ! Netcdf point timeseries output at all channel points (1d)\n",
      "                             !      0 = no output, 1 = output\n",
      "CHANOBS_DOMAIN = 1           ! Netcdf point timeseries at forecast points or gage points (defined in Routelink)\n",
      "                             !      0 = no output, 1 = output at forecast points or gage points.\n",
      "CHRTOUT_GRID = 0             ! Netcdf grid of channel streamflow values (2d)\n",
      "                             !      0 = no output, 1 = output\n",
      "                             !      NOTE: Not available with reach-based routing\n",
      "LSMOUT_DOMAIN = 0            ! Netcdf grid of variables passed between LSM and routing components (2d)\n",
      "                             !      0 = no output, 1 = output\n",
      "                             !      NOTE: No scale_factor/add_offset available\n",
      "RTOUT_DOMAIN = 0             ! Netcdf grid of terrain routing variables on routing grid (2d)\n",
      "                             !      0 = no output, 1 = output\n",
      "output_gw = 1                ! Netcdf GW output\n",
      "                             !      0 = no output, 1 = output\n",
      "outlake  = 0                 ! Netcdf grid of lake values (1d)\n",
      "                             !      0 = no output, 1 = output\n",
      "frxst_pts_out = 0            ! ASCII text file of forecast points or gage points (defined in Routelink)\n",
      "                             !      0 = no output, 1 = output\n",
      "\n",
      "!!!! ------------ PHYSICS OPTIONS AND RELATED SETTINGS ------------ !!!!\n",
      "\n",
      "! Specify the number of soil layers (integer) and the depth of the bottom of each layer... (meters)\n",
      "! Notes: In Version 1 of WRF-Hydro these must be the same as in the namelist.input file.\n",
      "!      Future versions will permit this to be different.\n",
      "NSOIL=4\n",
      "ZSOIL8(1) = -0.10\n",
      "ZSOIL8(2) = -0.40\n",
      "ZSOIL8(3) = -1.00\n",
      "ZSOIL8(4) = -2.00\n",
      "\n",
      "! Specify the grid spacing of the terrain routing grid...(meters)\n",
      "DXRT = 250.0\n",
      "\n",
      "! Specify the integer multiple between the land model grid and the terrain routing grid...(integer)\n",
      "AGGFACTRT = 4\n",
      "\n",
      "! Specify the channel routing model timestep...(seconds)\n",
      "DTRT_CH = 10\n",
      "\n",
      "! Specify the terrain routing model timestep...(seconds)\n",
      "DTRT_TER = 10\n",
      "\n",
      "! Switch to activate subsurface routing...(0=no, 1=yes)\n",
      "SUBRTSWCRT = 1\n",
      "\n",
      "! Switch to activate surface overland flow routing...(0=no, 1=yes)\n",
      "OVRTSWCRT = 1\n",
      "\n",
      "! Specify overland flow routing option: 1=Seepest Descent (D8) 2=CASC2D (not active)\n",
      "! NOTE: Currently subsurface flow is only steepest descent\n",
      "rt_option = 1\n",
      "\n",
      "! Switch to activate channel routing...(0=no, 1=yes)\n",
      "CHANRTSWCRT = 1\n",
      "\n",
      "! Specify channel routing option: 1=Muskingam-reach, 2=Musk.-Cunge-reach, 3=Diff.Wave-gridded\n",
      "channel_option = 3\n",
      "\n",
      "! Specify the reach file for reach-based routing options (e.g.: \"Route_Link.nc\")\n",
      "!route_link_f = \"\"\n",
      "\n",
      "! If using channel_option=2, activate the compound channel formulation? (Default=.FALSE.)\n",
      "! This option is only supported if using reach-based routing with UDMP=1.\n",
      "compound_channel = .FALSE.\n",
      "\n",
      "! Specify the lake parameter file (e.g.: \"LAKEPARM.nc\").\n",
      "! Note REQUIRED if lakes are on.\n",
      "!route_lake_f = \"\"\n",
      "\n",
      "! Switch to activate baseflow bucket model...(0=none, 1=exp. bucket, 2=pass-through)\n",
      "GWBASESWCRT = 1\n",
      "\n",
      "! Groundwater/baseflow 2d mask specified on land surface model grid (e.g.: \"GWBASINS.nc\")\n",
      "!Note: Only required if baseflow  model is active (1 or 2) and UDMP_OPT=0.\n",
      "gwbasmskfil = \"./DOMAIN/GWBASINS.nc\"\n",
      "\n",
      "! Groundwater bucket parameter file (e.g.: \"GWBUCKPARM.nc\")\n",
      "GWBUCKPARM_file = \"./DOMAIN/GWBUCKPARM.nc\"\n",
      "\n",
      "! User defined mapping, such NHDPlus: 0=no (default), 1=yes\n",
      "UDMP_OPT = 0\n",
      "\n",
      "! If on, specify the user-defined mapping file (e.g.: \"spatialweights.nc\")\n",
      "!udmap_file = \"\"\n",
      "\n",
      "/\n",
      "\n",
      "&NUDGING_nlist\n",
      "\n",
      "/\n"
     ]
    }
   ],
   "source": [
    "%%bash\n",
    "\n",
    "# Make a copy of the template directory for the baseline run\n",
    "cp -r ~/wrf-hydro-training/output/lesson5/run_gridded_template \\\n",
    "~/wrf-hydro-training/output/lesson5/run_gridded_baseline\n",
    "\n",
    "# View the hydro.namelist settings\n",
    "cat ~/wrf-hydro-training/output/lesson5/run_gridded_baseline/hydro.namelist"
   ]
  },
  {
   "cell_type": "markdown",
   "metadata": {},
   "source": [
    "Now run the baseline model simulation as-is."
   ]
  },
  {
   "cell_type": "code",
   "execution_count": 71,
   "metadata": {},
   "outputs": [],
   "source": [
    "%%bash\n",
    "\n",
    "# Run the simulation\n",
    "cd ~/wrf-hydro-training/output/lesson5/run_gridded_baseline\n",
    "mpirun -np 2 ./wrf_hydro.exe >> run.log 2>&1"
   ]
  },
  {
   "cell_type": "markdown",
   "metadata": {},
   "source": [
    "Check that the simulation finished successfully"
   ]
  },
  {
   "cell_type": "code",
   "execution_count": 72,
   "metadata": {},
   "outputs": [
    {
     "name": "stdout",
     "output_type": "stream",
     "text": [
      " The model finished successfully.......\n"
     ]
    }
   ],
   "source": [
    "%%bash\n",
    "\n",
    "tail -1 ~/wrf-hydro-training/output/lesson5/run_gridded_baseline/diag_hydro.00000"
   ]
  },
  {
   "cell_type": "markdown",
   "metadata": {},
   "source": [
    "### Step 2: Create and run the \"overland routing off\" simulation\n",
    "We will run the same experiment as the above baseline run, but with the overland routing module turned off.\n",
    "\n",
    "**Step 2a: Create a new run directory**\n",
    "\n",
    "We first create a `run_overland_routing_off` directory from the template."
   ]
  },
  {
   "cell_type": "code",
   "execution_count": 73,
   "metadata": {},
   "outputs": [],
   "source": [
    "%%bash\n",
    "\n",
    "cp -r ~/wrf-hydro-training/output/lesson5/run_gridded_template \\\n",
    "~/wrf-hydro-training/output/lesson5/run_overland_routing_off"
   ]
  },
  {
   "cell_type": "markdown",
   "metadata": {},
   "source": [
    "We will make one modification to `hydro.namelist` to turn off the overland routing modules. \n",
    "\n",
    "**Step 2b: Edit the `hydro.namelist` file**\n",
    "\n",
    "For this experiment, we will set the *OVRTSWCRT* physics option to 0 in the [hydro.namelist](../output/lesson5/run_overland_routing_off/hydro.namelist), which deactivates overland terrain routing modules. \n",
    "\n",
    "```\n",
    "! Switch to activate surface overland flow routing...(0=no, 1=yes)\n",
    "OVRTSWCRT = 0\n",
    "```\n",
    "\n",
    "**Step 2c: Run the simulation and make sure it finishes successfully**"
   ]
  },
  {
   "cell_type": "code",
   "execution_count": 74,
   "metadata": {},
   "outputs": [],
   "source": [
    "%%bash\n",
    "\n",
    "cd ~/wrf-hydro-training/output/lesson5/run_overland_routing_off\n",
    "mpirun -np 2 ./wrf_hydro.exe >> run.log 2>&1"
   ]
  },
  {
   "cell_type": "markdown",
   "metadata": {},
   "source": [
    "Check that the simulation finished successfully"
   ]
  },
  {
   "cell_type": "code",
   "execution_count": null,
   "metadata": {},
   "outputs": [],
   "source": [
    "%%bash\n",
    "\n",
    "tail -1 ~/wrf-hydro-training/output/lesson5/run_overland_routing_off/diag_hydro.00000"
   ]
  },
  {
   "cell_type": "markdown",
   "metadata": {},
   "source": [
    "### Step 3: Create and run the \"no terrain routing\" simulation\n",
    "Now we run an experiment with all terrain routing options turned off. This will approximate a standard column physics configuration.\n",
    "\n",
    "**Step 3a: Create a new run directory**\n",
    "\n",
    "We first create a `run_no_terrain_routing` directory from the template."
   ]
  },
  {
   "cell_type": "code",
   "execution_count": 77,
   "metadata": {},
   "outputs": [],
   "source": [
    "%%bash\n",
    "\n",
    "cp -r ~/wrf-hydro-training/output/lesson5/run_gridded_template \\\n",
    "~/wrf-hydro-training/output/lesson5/run_no_terrain_routing"
   ]
  },
  {
   "cell_type": "markdown",
   "metadata": {},
   "source": [
    "**Step3b: Edit the `hydro.namelist` file**\n",
    "\n",
    "We will make three modifications to [hydro.namelist](../output/lesson5/run_no_terrain_routing/hydro.namelist) to turn off all of the terrain routing modules. \n",
    "\n",
    "For this experiment, we will set the *OVRTSWCRT* and *SUBRTSWCRT* physics options to 0, which deactivates both overland and subsurface terrain routing modules. \n",
    "\n",
    "```\n",
    "! Switch to activate subsurface routing...(0=no, 1=yes)\n",
    "SUBRTSWCRT = 0\n",
    "```\n",
    "```\n",
    "! Switch to activate surface overland flow routing...(0=no, 1=yes)\n",
    "OVRTSWCRT = 0\n",
    "```\n",
    "\n",
    "Since we are deactivating all terrain routing physics, we also need to tell the model not to overwrite initial conditions with the routing grids using the *rst_typ* option. Deactivate this function by setting *rst_typ* to 0.\n",
    "\n",
    "```\n",
    "! Reset the LSM soil states from the high-res routing restart file (1=overwrite, 0=no overwrite)\n",
    "! NOTE: Only turn this option on if overland or subsurface rotuing is active!\n",
    "rst_typ = 0\n",
    "```\n",
    "\n",
    "**Step 3c: Run the simulation**"
   ]
  },
  {
   "cell_type": "code",
   "execution_count": 78,
   "metadata": {},
   "outputs": [],
   "source": [
    "%%bash\n",
    "cd ~/wrf-hydro-training/output/lesson5/run_no_terrain_routing\n",
    "mpirun -np 2 ./wrf_hydro.exe >> run.log 2>&1"
   ]
  },
  {
   "cell_type": "markdown",
   "metadata": {},
   "source": [
    "Check that the simulation finished successfully"
   ]
  },
  {
   "cell_type": "code",
   "execution_count": 79,
   "metadata": {},
   "outputs": [
    {
     "name": "stdout",
     "output_type": "stream",
     "text": [
      " The model finished successfully.......\n"
     ]
    }
   ],
   "source": [
    "%%bash\n",
    "tail -1 ~/wrf-hydro-training/output/lesson5/run_no_terrain_routing/diag_hydro.00000"
   ]
  },
  {
   "cell_type": "markdown",
   "metadata": {},
   "source": [
    "### Results\n",
    "We will now look at the differences in streamflow between our baseline run with all terrain routing options on and our experiments with different terrain routing options turned off.\n",
    "\n",
    "We will use Python and the `xarray` library to load the data and plot hydrographs. For an intro to these tools, please see [Lesson 3](Lesson-3-visualize.ipynb).\n",
    "\n",
    "**Load the xarray python package**"
   ]
  },
  {
   "cell_type": "code",
   "execution_count": 80,
   "metadata": {},
   "outputs": [],
   "source": [
    "# Load the required libraries\n",
    "import xarray as xr\n",
    "import matplotlib.pyplot as plt\n",
    "import pandas as pd\n",
    "\n",
    "xr.set_options(display_style=\"html\")\n",
    "from pandas.plotting import register_matplotlib_converters\n",
    "register_matplotlib_converters()"
   ]
  },
  {
   "cell_type": "markdown",
   "metadata": {},
   "source": [
    "**Load the CHANOBS streamflow datasets**\n",
    "\n",
    "We are going to use the CHANOBS files (vs. CHRTOUT files) because it will limit the number of reaches to only those which have a gage."
   ]
  },
  {
   "cell_type": "code",
   "execution_count": 81,
   "metadata": {},
   "outputs": [],
   "source": [
    "chanobs_control = xr.open_mfdataset('/home/docker/wrf-hydro-training/output/lesson5/run_gridded_baseline/*CHANOBS*',\n",
    "                            combine='by_coords')\n",
    "chanobs_ov_off = xr.open_mfdataset('/home/docker/wrf-hydro-training/output/lesson5/run_overland_routing_off/*CHANOBS*',\n",
    "                            combine='by_coords')\n",
    "chanobs_terrain_off = xr.open_mfdataset('/home/docker/wrf-hydro-training/output/lesson5/run_no_terrain_routing/*CHANOBS*',\n",
    "                            combine='by_coords')\n",
    "\n",
    "obs = pd.read_csv('/home/docker/wrf-hydro-training/example_case/USGS_obs.csv',dtype=str)\n",
    "obs['dateTime'] = pd.to_datetime(obs['dateTime'])\n",
    "obs['streamflow_cms'] = pd.to_numeric(obs['streamflow_cms'])"
   ]
  },
  {
   "cell_type": "markdown",
   "metadata": {},
   "source": [
    "**Plot the hydrographs**\n",
    "\n",
    "**Table 1. USGS Stream Gage IDs and associated WRF-Hydro feature_id indices.**\n",
    "\n",
    "|USGS Gage ID|WRF-Hydro gage feature_id|Gage Information|\n",
    "|------|:-:|---|\n",
    "| 01447680 | 1 |https://waterdata.usgs.gov/pa/nwis/uv/?site_no=01447680|\n",
    "| 01447720 | 2 |https://waterdata.usgs.gov/nwis/nwismap/?site_no=01447720|"
   ]
  },
  {
   "cell_type": "code",
   "execution_count": 82,
   "metadata": {},
   "outputs": [
    {
     "data": {
      "image/png": "[encoded data removed]",
      "text/plain": [
       "<Figure size 864x432 with 1 Axes>"
      ]
     },
     "metadata": {
      "needs_background": "light"
     },
     "output_type": "display_data"
    }
   ],
   "source": [
    "fig, axes = plt.subplots(ncols=1,figsize=(12, 6))\n",
    "plt.suptitle('Hydrographs for terrain routing physics options',fontsize=24)\n",
    "chanobs_control.sel(feature_id = 2).streamflow.plot(label='All Terrain Routing On',\n",
    "                                                        color='black',\n",
    "                                                        linestyle='--')\n",
    "chanobs_ov_off.sel(feature_id = 2).streamflow.plot(label='Overland Routing Off',\n",
    "                                                        color='blue',\n",
    "                                                        linestyle='-')\n",
    "chanobs_terrain_off.sel(feature_id = 2).streamflow.plot(label='No Terrain Routing',\n",
    "                                                        color='red',\n",
    "                                                        linestyle='-')\n",
    "\n",
    "obs[obs['site_no'] == '01447720'].plot(x='dateTime',\n",
    "                                       y='streamflow_cms',\n",
    "                                       ax=axes,\n",
    "                                       label='Observed',\n",
    "                                       color='grey')\n",
    "plt.ylim(0,50)\n",
    "plt.legend()\n",
    "plt.show()"
   ]
  },
  {
   "cell_type": "markdown",
   "metadata": {},
   "source": [
    "We see definite event differences between the streamflow responses with and without overland routing active (black dashed and blue solid lines). When overland routing is turned off, excess surface runoff from the land model is scraped off the cells and added to the stream directly, so we tend to see earlier and flashier responses to precipitation. The overland routing processes slowdown the runoff and allow water to re-infiltrate where soil storage space is available.\n",
    "\n",
    "When subsurface routing is also turned off (red solid line), the earlier/flashier peaks are also present, but we lose the secondary pulse and have lower flow after the event. Where is that water going?\n",
    "\n",
    "**Load the LDASOUT land model output files**\n",
    "\n",
    "In our simulations, we specified land surface model output (LDASOUT) files every hour. We will read those in using xarray."
   ]
  },
  {
   "cell_type": "code",
   "execution_count": 83,
   "metadata": {},
   "outputs": [],
   "source": [
    "ldasout_terrain_on = xr.open_mfdataset('/home/docker/wrf-hydro-training/output/lesson5/run_gridded_baseline/*.LDASOUT*',\n",
    "                            combine='by_coords')\n",
    "ldasout_terrain_off = xr.open_mfdataset('/home/docker/wrf-hydro-training/output/lesson5/run_no_terrain_routing/*.LDASOUT*',\n",
    "                            combine='by_coords')"
   ]
  },
  {
   "cell_type": "markdown",
   "metadata": {},
   "source": [
    "**Plot the soil moisture states**\n",
    "\n",
    "Among other variables, the LDASOUT files include soil moisture states (*SOIL_M*) in each of the 4 soil layers. We will select and plot soil moisture in the top soil layer from each simulation at 2011-08-29 00Z. For reference, we also plot the soil types from the model input geogrid file."
   ]
  },
  {
   "cell_type": "code",
   "execution_count": null,
   "metadata": {},
   "outputs": [],
   "source": [
    "# Select data for 2011-08-29 00Z at surface layer\n",
    "ldasout_terrain_on_time = ldasout_terrain_on.sel(time = '2011-08-29T00:00:00').sel(soil_layers_stag = 0)\n",
    "ldasout_terrain_off_time = ldasout_terrain_off.sel(time = '2011-08-29T00:00:00').sel(soil_layers_stag = 0)\n",
    "\n",
    "# Plot the top layer soil moisture states\n",
    "fig, axes = plt.subplots(ncols=2,figsize=(15, 6))\n",
    "plt.subplots_adjust(wspace=0.5)\n",
    "plt.suptitle('Surface soil moisture states for terrain routing on and off',fontsize=24)\n",
    "ldasout_terrain_on_time.SOIL_M.plot(ax=axes[0],vmin=0.30,vmax=0.45,cmap='viridis_r')\n",
    "axes[0].set_title('Terrain routing on')\n",
    "ldasout_terrain_off_time.SOIL_M.plot(ax=axes[1],vmin=0.30,vmax=0.45,cmap='viridis_r')\n",
    "axes[1].set_title('Terrain routing off')\n",
    "plt.show()"
   ]
  },
  {
   "cell_type": "code",
   "execution_count": 85,
   "metadata": {},
   "outputs": [],
   "source": [
    "# Load the geogrid dataset for reference\n",
    "geogrid = xr.open_dataset('~/wrf-hydro-training/output/lesson5/run_gridded_baseline/DOMAIN/geo_em.d01.nc')"
   ]
  },
  {
   "cell_type": "code",
   "execution_count": null,
   "metadata": {},
   "outputs": [],
   "source": [
    "# Plot the dominant soil type\n",
    "fig, axes = plt.subplots(figsize=(6, 6))\n",
    "geogrid.SCT_DOM.plot(levels=18, cmap='Dark2')\n",
    "axes.set_title('Soil Type')\n",
    "plt.show()"
   ]
  },
  {
   "cell_type": "markdown",
   "metadata": {},
   "source": [
    "The top-level soil moisture state shows significant differences with and without terrain routing active. Overall, we see much more heterogeneity in the \"terrain routing on\" run (above, left) due to lateral redistribution of water. In the \"terrain routing off\" run (above, right), soil moisture distribution is largely controlled by vertical soil properties (e.g., saturated hydraulic conductivity, porosity), and you distinctly see the soil type pattern in the soil moisture states."
   ]
  },
  {
   "cell_type": "markdown",
   "metadata": {},
   "source": [
    "**Plot the mean soil moisture time series**"
   ]
  },
  {
   "cell_type": "code",
   "execution_count": null,
   "metadata": {},
   "outputs": [],
   "source": [
    "# Calculate the mean bottom-layer soil moisture across the domain\n",
    "smois_terron_avg = ldasout_terrain_on.SOIL_M.sel(soil_layers_stag = 3).mean(dim=('y','x'))\n",
    "smois_terroff_avg = ldasout_terrain_off.SOIL_M.sel(soil_layers_stag = 3).mean(dim=('y','x')) \n",
    "\n",
    "# Plot the soil moisture time series\n",
    "fig, axes = plt.subplots(ncols=1,figsize=(12, 6))\n",
    "plt.suptitle('Average Soil Moisture: Bottom Layer',fontsize=24)\n",
    "smois_terron_avg.plot(label='Terrain Routing On', color='black', linestyle='-')\n",
    "smois_terroff_avg.plot(label='Terrain Routing Off', color='red', linestyle='-')\n",
    "plt.legend()\n",
    "plt.show()"
   ]
  },
  {
   "cell_type": "markdown",
   "metadata": {},
   "source": [
    "**Load the GWOUT groundwater bucket model output files**"
   ]
  },
  {
   "cell_type": "code",
   "execution_count": 88,
   "metadata": {},
   "outputs": [],
   "source": [
    "gwbucket_terrain_on = xr.open_mfdataset('/home/docker/wrf-hydro-training/output/lesson5/run_gridded_baseline/*GWOUT*',\n",
    "                            combine='by_coords')\n",
    "gwbucket_terrain_off = xr.open_mfdataset('/home/docker/wrf-hydro-training/output/lesson5/run_no_terrain_routing/*GWOUT*',\n",
    "                            combine='by_coords')\n",
    "gwbucket_ov_off = xr.open_mfdataset('/home/docker/wrf-hydro-training/output/lesson5/run_overland_routing_off/*GWOUT*',\n",
    "                            combine='by_coords')"
   ]
  },
  {
   "cell_type": "markdown",
   "metadata": {},
   "source": [
    "**Plot the mean groundwater bucket level time series**\n",
    "\n",
    "Note that groundwater bucket \"basins\" vary in size, so a simple mean is not a good way to track mass. We do it here for simplicity and to get a general sense of the bucket behavior across the domain."
   ]
  },
  {
   "cell_type": "code",
   "execution_count": null,
   "metadata": {},
   "outputs": [],
   "source": [
    "# Calculate the mean bucket level across the domain\n",
    "gwlevel_terron_avg = gwbucket_terrain_on.depth.mean(dim=('feature_id'))\n",
    "gwlevel_terroff_avg = gwbucket_terrain_off.depth.mean(dim=('feature_id')) \n",
    "\n",
    "# Plot the bucket level time series\n",
    "fig, axes = plt.subplots(ncols=1,figsize=(12, 6))\n",
    "plt.suptitle('Average Groundwater Bucket Level',fontsize=24)\n",
    "gwlevel_terron_avg.plot(label='Terrain Routing On', color='black', linestyle='-')\n",
    "gwlevel_terroff_avg.plot(label='Terrain Routing Off', color='red', linestyle='-')\n",
    "plt.legend()\n",
    "plt.show()"
   ]
  },
  {
   "cell_type": "markdown",
   "metadata": {},
   "source": [
    "In the simplified physics configuration without lateral routing processes, infiltrated water is not permitted to flow laterally. It has to make its way vertically through the 2-meter soil column, then through the deep groundwater \"buckets\" before it becomes streamflow. These are often much slower flowpaths than lateral flowpaths. Therefore, this water is first wetting up the soil column and the bucket stores, then will eventually make its way to the channel as baseflow.\n",
    "\n",
    "**IMPORTANT NOTE**: This particular test case has been calibrated to the full terrain routing physics options, so will obviously be sub-optimal for a different physics configuration. You should adjust your parameters to your particular model configuration. You should also re-spinup the model to give it time to adjust to the new physics. We have done neither of those steps in this short example."
   ]
  },
  {
   "cell_type": "markdown",
   "metadata": {},
   "source": [
    "## Experiment with Modified Parameters\n",
    "There are a number of key parameters that impact water partitioning, storage, and movement through the model system. We have pulled many of the most important model parameters into NetCDF files to ease parameter display and manipulation, as well as to allow the parameters to vary independently in space. Key terrain routing parameter files include:\n",
    "* soil_properties.nc - NoahMP soil and vegetation properties (LSM grid)\n",
    "* hydro2dtbl.nc - Lateral routing model soil and surface parameters (LSM grid)\n",
    "* Fulldom_hires.nc - Lateral routing model high-res parameters (routing grid)\n",
    "* GWBUCKPARM.nc - Groundwater baseflow bucket model parameters (groundwater basin objects)\n",
    "\n",
    "In this lesson, we will manipulate parameters in the `soil_properties.nc` (*refkdt*, *dksat*, *bexp*, *slope*) and `Fulldom_hires.nc` (*LKSATFAC*, *RETDEPRTFAC*) files."
   ]
  },
  {
   "cell_type": "markdown",
   "metadata": {},
   "source": [
    "### Step 1: Create a new template directory and and run default parameter test case\n",
    "As in the first section, we will make a new simulation directory and use this as a template for creating multiple new simulation directories.\n",
    "\n",
    "**Step 1a: Create a new template directory for the parameter experiments.**"
   ]
  },
  {
   "cell_type": "code",
   "execution_count": 90,
   "metadata": {},
   "outputs": [],
   "source": [
    "%%bash\n",
    "# Make a new directory for our default baseline simulation\n",
    "mkdir -p ~/wrf-hydro-training/output/lesson5/run_default_template\n",
    "\n",
    "# Copy our model files to the simulation directory\n",
    "cp ~/wrf-hydro-training/wrf_hydro_nwm_public/trunk/NDHMS/Run/*.TBL \\\n",
    "~/wrf-hydro-training/output/lesson5/run_default_template\n",
    "cp ~/wrf-hydro-training/wrf_hydro_nwm_public/trunk/NDHMS/Run/wrf_hydro.exe \\\n",
    "~/wrf-hydro-training/output/lesson5/run_default_template\n",
    "\n",
    "# Create symbolic links to large domain files\n",
    "cp -as $HOME/wrf-hydro-training/example_case/FORCING \\\n",
    "~/wrf-hydro-training/output/lesson5/run_default_template\n",
    "cp -as $HOME/wrf-hydro-training/example_case/Gridded_no_lakes/RESTART \\\n",
    "~/wrf-hydro-training/output/lesson5/run_default_template/RESTART\n",
    "\n",
    "# Copy the domain/parameter files so we can modify them\n",
    "cp -r $HOME/wrf-hydro-training/example_case/Gridded_no_lakes/DOMAIN \\\n",
    "~/wrf-hydro-training/output/lesson5/run_default_template/DOMAIN\n",
    "\n",
    "# Copy namelist files\n",
    "cp ~/wrf-hydro-training/example_case/Gridded_no_lakes/namelist.hrldas \\\n",
    "~/wrf-hydro-training/output/lesson5/run_default_template\n",
    "cp ~/wrf-hydro-training/example_case/Gridded_no_lakes/hydro.namelist \\\n",
    "~/wrf-hydro-training/output/lesson5/run_default_template"
   ]
  },
  {
   "cell_type": "markdown",
   "metadata": {},
   "source": [
    "**Step 1b: Setup and run the default parameter baseline experiment**\n",
    "\n",
    "We now make a new run directory to run the baseline simulation with default (uncalibrated) parameters."
   ]
  },
  {
   "cell_type": "code",
   "execution_count": 91,
   "metadata": {},
   "outputs": [],
   "source": [
    "%%bash\n",
    "cp -r ~/wrf-hydro-training/output/lesson5/run_default_template \\\n",
    "~/wrf-hydro-training/output/lesson5/run_parameter_baseline"
   ]
  },
  {
   "cell_type": "markdown",
   "metadata": {},
   "source": [
    "Launch the baseline run and make sure it completes successfully."
   ]
  },
  {
   "cell_type": "code",
   "execution_count": 92,
   "metadata": {},
   "outputs": [],
   "source": [
    "%%bash\n",
    "cd ~/wrf-hydro-training/output/lesson5/run_parameter_baseline\n",
    "mpirun -np 2 ./wrf_hydro.exe >> run.log 2>&1"
   ]
  },
  {
   "cell_type": "code",
   "execution_count": 93,
   "metadata": {},
   "outputs": [
    {
     "name": "stdout",
     "output_type": "stream",
     "text": [
      " The model finished successfully.......\n"
     ]
    }
   ],
   "source": [
    "%%bash\n",
    "tail -1 ~/wrf-hydro-training/output/lesson5/run_parameter_baseline/diag_hydro.00000"
   ]
  },
  {
   "cell_type": "markdown",
   "metadata": {},
   "source": [
    "**Step 1c: Plot the hydrograph for the baseline (default) run**\n",
    "\n",
    "We want to take a quick look at the hydrograph for the default parameter run so we see what behavior we might want to adjust."
   ]
  },
  {
   "cell_type": "code",
   "execution_count": null,
   "metadata": {},
   "outputs": [],
   "source": [
    "# Pull the channel output files into xarray objects \n",
    "chanobs_control = xr.open_mfdataset('/home/docker/wrf-hydro-training/output/lesson5/run_parameter_baseline/*CHANOBS*',\n",
    "                            combine='by_coords')\n",
    "obs = pd.read_csv('/home/docker/wrf-hydro-training/example_case/USGS_obs.csv',dtype=str)\n",
    "obs['dateTime'] = pd.to_datetime(obs['dateTime'])\n",
    "obs['streamflow_cms'] = pd.to_numeric(obs['streamflow_cms'])\n",
    "\n",
    "# Plot the baseline hydrograph\n",
    "fig, axes = plt.subplots(ncols=1,figsize=(12, 6))\n",
    "plt.suptitle('Hydrographs for parameter experiment',fontsize=24)\n",
    "chanobs_control.sel(feature_id = 2).streamflow.plot(label='Control',\n",
    "                                                        color='black',\n",
    "                                                        linestyle='--')\n",
    "obs[obs['site_no'] == '01447720'].plot(x='dateTime',\n",
    "                                       y='streamflow_cms',\n",
    "                                       ax=axes,\n",
    "                                       label='Observed',\n",
    "                                       color='grey')\n",
    "plt.ylim(0,25)\n",
    "plt.legend()\n",
    "plt.show()"
   ]
  },
  {
   "cell_type": "markdown",
   "metadata": {},
   "source": [
    "### Step 2: Modify NoahMP parameters using NCO tools\n",
    "\n",
    "We will create a new simulation directory for our parameter manipulation experiment. \n",
    "\n",
    "All of the parameter file edits will be done using NCO. NCO (NetCDF Operators, http://nco.sourceforge.net/) is a set of useful utilities to manipulate NetCDF files.\n",
    "\n",
    "**Step 2a: Setup the parameter experiment run directory**\n",
    "\n",
    "First make a new run directory where we can start modifying parameter files."
   ]
  },
  {
   "cell_type": "code",
   "execution_count": 97,
   "metadata": {},
   "outputs": [],
   "source": [
    "%%bash\n",
    "cp -r ~/wrf-hydro-training/output/lesson5/run_default_template \\\n",
    "~/wrf-hydro-training/output/lesson5/run_parameter_mods"
   ]
  },
  {
   "cell_type": "markdown",
   "metadata": {},
   "source": [
    "**Step 2b: Use the NCO command `ncap2` to modify the *slope* parameter values in the `soil_properties.nc` file.**\n",
    "\n",
    "**SLOPE**\n",
    "\n",
    "There are a number of Noah/NoahMP model parameters that affect water partitioning. One important parameter that we commonly adjust is *slope*. Originally estimated based on land surface topography (hence the name *slope*), the *slope* parameter actually controls how open or closed the bottom boundary of the soil column is. Values range from 0 to 1, where 0 is a completely closed bottom boundary and 1 is completely open. Lower *slope* values will keep more water in the soil column, while higher values will allow more water to drain to the channel or to deeper baseflow stores, depending on the selected baseflow physics options.\n",
    "\n",
    "Here we will use the NCO command `ncap2` to increase the *slope* value.\n",
    "\n",
    "First, we check the current parameter values using `ncdump`."
   ]
  },
  {
   "cell_type": "code",
   "execution_count": null,
   "metadata": {},
   "outputs": [],
   "source": [
    "%%bash\n",
    "\n",
    "ncdump -v slope ~/wrf-hydro-training/output/lesson5/run_parameter_mods/DOMAIN/soil_properties.nc \\\n",
    "| tail -n 10"
   ]
  },
  {
   "cell_type": "markdown",
   "metadata": {},
   "source": [
    "The default value for *slope* is a global 0.1. We modify the parameter values using `ncap2` to open up the bottom boundary (*slope=0.2*) and increase the deeper baseflow component. We will discuss the baseflow model more in Lesson 5b."
   ]
  },
  {
   "cell_type": "code",
   "execution_count": 99,
   "metadata": {},
   "outputs": [],
   "source": [
    "%%bash\n",
    "\n",
    "ncap2 -O -s \"slope=float(slope*0.0+0.2)\" \\\n",
    "~/wrf-hydro-training/output/lesson5/run_parameter_mods/DOMAIN/soil_properties.nc \\\n",
    "~/wrf-hydro-training/output/lesson5/run_parameter_mods/DOMAIN/soil_properties.nc"
   ]
  },
  {
   "cell_type": "markdown",
   "metadata": {},
   "source": [
    "We check to make sure the changes are as expected."
   ]
  },
  {
   "cell_type": "code",
   "execution_count": null,
   "metadata": {},
   "outputs": [],
   "source": [
    "%%bash\n",
    "\n",
    "ncdump -v slope ~/wrf-hydro-training/output/lesson5/run_parameter_mods/DOMAIN/soil_properties.nc \\\n",
    "| tail -n 10"
   ]
  },
  {
   "cell_type": "markdown",
   "metadata": {},
   "source": [
    "**Step 2c: Use the NCO command `ncap2` to modify the *refkdt* parameter values in the `soil_properties.nc` file.**\n",
    "\n",
    "**REFKDT**\n",
    "\n",
    "An important Noah/NoahMP parameter that we commonly adjust when activating terrain routing is *refkdt*. *Refkdt* controls how easily precipitation reaching the surface infiltrates into the soil column vs. stays on the surface where it can become surface runoff. Higher values of *refkdt* lead to more infiltration and less surface (fast) runoff. This tunable parameter can be set to a relatively high value (e.g., 3.0) suitable for running the column land surface model only. When activating terrain routing to explicitly model these processes, we often reduce this parameter. In addition, if you are calling the land surface model on a small timestep (e.g., seconds to minutes), you may want to reduce this parameter to compensate for the more frequent calls to the vertical infiltration scheme. \n",
    "\n",
    "Here we will use the NCO command `ncap2` to decrease the *refkdt* value.\n",
    "\n",
    "First, we check the current parameter values using `ncdump`."
   ]
  },
  {
   "cell_type": "code",
   "execution_count": null,
   "metadata": {},
   "outputs": [],
   "source": [
    "%%bash\n",
    "\n",
    "ncdump -v refkdt ~/wrf-hydro-training/output/lesson5/run_parameter_mods/DOMAIN/soil_properties.nc \\\n",
    "| tail -n 10"
   ]
  },
  {
   "cell_type": "markdown",
   "metadata": {},
   "source": [
    "The default value for *refkdt* is a global 3.0. We modify the parameter values using `ncap2` to a lower value (1.8)."
   ]
  },
  {
   "cell_type": "code",
   "execution_count": null,
   "metadata": {},
   "outputs": [],
   "source": [
    "%%bash\n",
    "\n",
    "ncap2 -O -s \"refkdt=float(refkdt*0.0+1.8)\" \\\n",
    "~/wrf-hydro-training/output/lesson5/run_parameter_mods/DOMAIN/soil_properties.nc \\\n",
    "~/wrf-hydro-training/output/lesson5/run_parameter_mods/DOMAIN/soil_properties.nc\n",
    "ncdump -v refkdt ~/wrf-hydro-training/output/lesson5/run_parameter_mods/DOMAIN/soil_properties.nc \\\n",
    "| tail -n 10"
   ]
  },
  {
   "cell_type": "markdown",
   "metadata": {},
   "source": [
    "**Step 2d: Use the NCO command `ncap2` to modify the *dksat* parameter values in the `soil_properties.nc` file.**\n",
    "\n",
    "**DKSAT and BEXP**\n",
    "\n",
    "As with most physically-based hydrological models, the soil saturated hydraulic conductivity (*dksat*) controls the speed at which water moves through the subsurface. This is a sensitive parameter in the model, and while easy to measure at the point scale, *dksat* is tricky to estimate at the scale of kilometers. Initial values are estimated based on soil texture class, but reported ranges have large (many orders of magnitude) variability. This is a common calibration parameter, along with the related *bexp* parameter that controls how actual conductivity is scaled from saturated conductivity based on soil water content.\n",
    "\n",
    "Here we will use the NCO command `ncap2` to increase the *dksat* value by a factor of 3 and *bexp* by a factor of 2.\n",
    "\n",
    "First, we check the current parameter values using `ncdump`."
   ]
  },
  {
   "cell_type": "code",
   "execution_count": null,
   "metadata": {},
   "outputs": [],
   "source": [
    "%%bash\n",
    "\n",
    "ncdump -v dksat ~/wrf-hydro-training/output/lesson5/run_parameter_mods/DOMAIN/soil_properties.nc \\\n",
    "| tail -n 10"
   ]
  },
  {
   "cell_type": "markdown",
   "metadata": {},
   "source": [
    "Note that this parameter's initial values vary in space based on soil texture class. We modify the parameter values using `ncap2` to increase by a factor of 3. This maintains the spatial distribution, but encourage faster soil water movement overall."
   ]
  },
  {
   "cell_type": "code",
   "execution_count": null,
   "metadata": {},
   "outputs": [],
   "source": [
    "%%bash\n",
    "\n",
    "ncap2 -O -s \"dksat=float(dksat*3.0)\" \\\n",
    "~/wrf-hydro-training/output/lesson5/run_parameter_mods/DOMAIN/soil_properties.nc \\\n",
    "~/wrf-hydro-training/output/lesson5/run_parameter_mods/DOMAIN/soil_properties.nc\n",
    "ncdump -v dksat ~/wrf-hydro-training/output/lesson5/run_parameter_mods/DOMAIN/soil_properties.nc \\\n",
    "| tail -n 10"
   ]
  },
  {
   "cell_type": "markdown",
   "metadata": {},
   "source": [
    "Use `ncdump` to check the starting values of *bexp*. Note that these also vary spatially by soil type. We will double these values."
   ]
  },
  {
   "cell_type": "code",
   "execution_count": null,
   "metadata": {},
   "outputs": [],
   "source": [
    "%%bash\n",
    "\n",
    "ncdump -v bexp ~/wrf-hydro-training/output/lesson5/run_parameter_mods/DOMAIN/soil_properties.nc \\\n",
    "| tail -n 10"
   ]
  },
  {
   "cell_type": "code",
   "execution_count": null,
   "metadata": {},
   "outputs": [],
   "source": [
    "%%bash\n",
    "\n",
    "ncap2 -O -s \"bexp=float(bexp*2.0)\" \\\n",
    "~/wrf-hydro-training/output/lesson5/run_parameter_mods/DOMAIN/soil_properties.nc \\\n",
    "~/wrf-hydro-training/output/lesson5/run_parameter_mods/DOMAIN/soil_properties.nc\n",
    "ncdump -v bexp ~/wrf-hydro-training/output/lesson5/run_parameter_mods/DOMAIN/soil_properties.nc \\\n",
    "| tail -n 10"
   ]
  },
  {
   "cell_type": "markdown",
   "metadata": {},
   "source": [
    "### Step 3: Modify terrain routing parameters using NCO tools\n",
    "\n",
    "Now we will turn our attention to the parameters that affect lateral routing behavior.\n",
    "\n",
    "**Step 3a: Use the NCO command `ncap2` to modify the *LKSATFAC* parameter values in the `Fulldom_hires.nc` file**\n",
    "\n",
    "**LKSATFAC**\n",
    "\n",
    "The Fulldom_hires.nc file contains two parameters that are also important for lateral flow processes. The *LKSATFAC* parameter is a multiplier on the prescribed lateral saturated hydraulic conductivity values specified in `hydro2dtbl.nc`. By default, lateral conductivity in `hydro2dtbl.nc` matches vertical conductivity specified in `soil_properties.nc`. However, in the real world we frequently see many orders of magnitude higher conductivities in the lateral direction vs. the vertical direction (due to soil stratigraphy, preferential flowpaths caused by roots and animals, etc.). *LKSATFAC* is an easy way to adjust this anisotropy, and by default it is set to 1,000.\n",
    "\n",
    "We will use the NCO command `ncap2` to increase the *LKSATFAC* value to 2000.\n",
    "\n",
    "First, we check the current parameter values."
   ]
  },
  {
   "cell_type": "code",
   "execution_count": null,
   "metadata": {},
   "outputs": [],
   "source": [
    "%%bash\n",
    "\n",
    "ncdump -v LKSATFAC ~/wrf-hydro-training/output/lesson5/run_parameter_mods/DOMAIN/Fulldom_hires.nc \\\n",
    "| tail -n 10"
   ]
  },
  {
   "cell_type": "markdown",
   "metadata": {},
   "source": [
    "Then, we modify the parameter values using `ncap2` and confirm our changes."
   ]
  },
  {
   "cell_type": "code",
   "execution_count": null,
   "metadata": {},
   "outputs": [],
   "source": [
    "%%bash\n",
    "\n",
    "ncap2 -O -s \"LKSATFAC=float(LKSATFAC*0.0+2000.0)\" \\\n",
    "~/wrf-hydro-training/output/lesson5/run_parameter_mods/DOMAIN/Fulldom_hires.nc \\\n",
    "~/wrf-hydro-training/output/lesson5/run_parameter_mods/DOMAIN/Fulldom_hires.nc\n",
    "ncdump -v LKSATFAC ~/wrf-hydro-training/output/lesson5/run_parameter_mods/DOMAIN/Fulldom_hires.nc \\\n",
    "| tail -n 10"
   ]
  },
  {
   "cell_type": "markdown",
   "metadata": {},
   "source": [
    "**RETDEPRTFAC**\n",
    "\n",
    "The *RETDEPRTFAC* parameter is a multiplier on the maximum retention depth. Ponded water on the surface above this retention depth threshold can be moved around the landscape via overland flow. The default value in the code is quite small (~0.001mm, though variable by terrain slope) to allow almost all ponded water to be available for routing. However, in many regions landscape features like wetlands, small detention ponds, and heavy vegetation litter/debris can trap water on the land surface. Increasing the *RETDEPRTFAC* multiplier will hold more ponded water on the surface before it becomes runoff.\n",
    "\n",
    "We will use the NCO command `ncap2` to increase the *RETDEPRTFAC* value to 10000 (max of 10mm).\n",
    "\n",
    "First, we check the current parameter values."
   ]
  },
  {
   "cell_type": "code",
   "execution_count": null,
   "metadata": {},
   "outputs": [],
   "source": [
    "%%bash\n",
    "\n",
    "ncdump -v RETDEPRTFAC ~/wrf-hydro-training/output/lesson5/run_parameter_mods/DOMAIN/Fulldom_hires.nc \\\n",
    "| tail -n 10"
   ]
  },
  {
   "cell_type": "markdown",
   "metadata": {},
   "source": [
    "Then, we modify the parameter values using `ncap2` and confirm our changes."
   ]
  },
  {
   "cell_type": "code",
   "execution_count": null,
   "metadata": {},
   "outputs": [],
   "source": [
    "%%bash\n",
    "\n",
    "ncap2 -O -s \"RETDEPRTFAC=float(RETDEPRTFAC*0.0+10000.0)\" \\\n",
    "~/wrf-hydro-training/output/lesson5/run_parameter_mods/DOMAIN/Fulldom_hires.nc \\\n",
    "~/wrf-hydro-training/output/lesson5/run_parameter_mods/DOMAIN/Fulldom_hires.nc\n",
    "ncdump -v RETDEPRTFAC ~/wrf-hydro-training/output/lesson5/run_parameter_mods/DOMAIN/Fulldom_hires.nc \\\n",
    "| tail -n 10"
   ]
  },
  {
   "cell_type": "markdown",
   "metadata": {},
   "source": [
    "**Step 3b: Run the simulation**\n",
    "\n",
    "Now we are ready to run a simulation with our new modified parameters."
   ]
  },
  {
   "cell_type": "code",
   "execution_count": null,
   "metadata": {},
   "outputs": [],
   "source": [
    "%%bash\n",
    "\n",
    "cd ~/wrf-hydro-training/output/lesson5/run_parameter_mods\n",
    "mpirun -np 2 ./wrf_hydro.exe >> run.log 2>&1"
   ]
  },
  {
   "cell_type": "markdown",
   "metadata": {},
   "source": [
    "Check to make sure your run completed successfully."
   ]
  },
  {
   "cell_type": "code",
   "execution_count": null,
   "metadata": {},
   "outputs": [],
   "source": [
    "%%bash\n",
    "\n",
    "tail -1 ~/wrf-hydro-training/output/lesson5/run_parameter_mods/diag_hydro.00000"
   ]
  },
  {
   "cell_type": "markdown",
   "metadata": {},
   "source": [
    "### Results\n",
    "We will now look at the differences in streamflow between our baseline run with default parmeters and the simulation using our new modified parameters.\n",
    "\n",
    "We will use Python and the `xarray` library to load the data and plot hydrographs. For an intro to these tools, please see [Lesson 3](Lesson-3-visualize.ipynb)."
   ]
  },
  {
   "cell_type": "markdown",
   "metadata": {},
   "source": [
    "**Load the CHANOBS streamflow datasets**\n",
    "\n",
    "We are going to use the CHANOBS files because it will limit the number of grid cells to only those which we have specified have a gage."
   ]
  },
  {
   "cell_type": "code",
   "execution_count": 113,
   "metadata": {},
   "outputs": [],
   "source": [
    "# Pull the channel output files into xarray objects \n",
    "chanobs_param_mods = xr.open_mfdataset('/home/docker/wrf-hydro-training/output/lesson5/run_parameter_mods/*CHANOBS*',\n",
    "                                       combine='by_coords')"
   ]
  },
  {
   "cell_type": "markdown",
   "metadata": {},
   "source": [
    "**Plot the hydrographs**"
   ]
  },
  {
   "cell_type": "code",
   "execution_count": null,
   "metadata": {},
   "outputs": [],
   "source": [
    "fig, axes = plt.subplots(ncols=1,figsize=(12, 6))\n",
    "plt.suptitle('Hydrographs for parameter experiment',fontsize=24)\n",
    "chanobs_control.sel(feature_id = 2).streamflow.plot(label='Control',\n",
    "                                                    color='black',\n",
    "                                                    linestyle='--')\n",
    "chanobs_param_mods.sel(feature_id = 2).streamflow.plot(label='Parameter Modifications',\n",
    "                                                       color='blue',\n",
    "                                                       linestyle='-')\n",
    "obs[obs['site_no'] == '01447720'].plot(x='dateTime',\n",
    "                                       y='streamflow_cms',\n",
    "                                       ax=axes,\n",
    "                                       label='Observed',\n",
    "                                       color='grey')\n",
    "plt.ylim(0,30)\n",
    "plt.legend()\n",
    "plt.show()"
   ]
  },
  {
   "cell_type": "markdown",
   "metadata": {},
   "source": [
    "### Discussion\n",
    "Our baseline simulation with default parameters had an initial peak that was a bit too early and flashy and a muted secondary peak. We increased *slope* to better blend the hydrograph peaks and modified *refkdt* to better match our activated terrain physics. We increased *dksat* and *bexp* (controlling the vertical drainage rate) and *LKSATFAC* (controlling the lateral drainage rate) to add more spread to the flow peak. We increased *RETDEPRTFAC* to hold more ponded water at the surface. Our modified parameter experiment results do better match the gage observations, though we have a delayed peak which might be addressed through additional parameter manipulation (e.g., groundwater parameters).\n",
    "\n",
    "**IMPORTANT NOTE**: We abbreviated this parameter calibration exercise to fit within a short lesson. In practice, you would want to give the model time to adjust to a new parameter set by running an extended \"spin-up\" period before the time period you are evaluating. You would also want to expose the model to a wider range of conditions than the short event demostrated here. Model parameters calibrated to a short event may not transfer well to other time periods. Good practice is to calibrate your model to a wide range of conditions to minimize the impacts of forcing, gage, or model physics/parameter uncertainties."
   ]
  },
  {
   "cell_type": "markdown",
   "metadata": {},
   "source": [
    "# Next up - Do it yourself!\n",
    "This concludes Lesson 5. Spend some time creating your own parameter and physics experiments.\n",
    "\n",
    "The next lesson is [Lesson 6](Lesson-6-lakes.ipynb).\n",
    "\n",
    "**IT IS BEST TO EITHER SHUTDOWN THIS LESSON OR CLOSE IT BEFORE PROCEEDING TO THE NEXT LESSON TO AVOID POSSIBLY EXCEEDING ALLOCATED MEMORY. Shutdown the lesson be either closing the browser tab for the lesson or selecting `Kernel -> Shut Down Kernel` in JupyterLab.**\n",
    "\n",
    "© UCAR 2020"
   ]
  }
 ],
 "metadata": {
  "kernelspec": {
   "display_name": "Python 3",
   "language": "python",
   "name": "python3"
  },
  "language_info": {
   "codemirror_mode": {
    "name": "ipython",
    "version": 3
   },
   "file_extension": ".py",
   "mimetype": "text/x-python",
   "name": "python",
   "nbconvert_exporter": "python",
   "pygments_lexer": "ipython3",
   "version": "3.8.8"
  },
  "toc": {
   "base_numbering": 1,
   "nav_menu": {},
   "number_sections": true,
   "sideBar": true,
   "skip_h1_title": true,
   "title_cell": "Table of Contents",
   "title_sidebar": "Contents",
   "toc_cell": true,
   "toc_position": {
    "height": "calc(100% - 180px)",
    "left": "10px",
    "top": "150px",
    "width": "414px"
   },
   "toc_section_display": true,
   "toc_window_display": true
  }
 },
 "nbformat": 4,
 "nbformat_minor": 4
}
