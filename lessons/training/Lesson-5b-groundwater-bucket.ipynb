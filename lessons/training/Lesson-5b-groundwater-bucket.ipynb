{
 "cells": [
  {
   "cell_type": "markdown",
   "metadata": {
    "toc": true
   },
   "source": [
    "<h1>Table of Contents<span class=\"tocSkip\"></span></h1>\n",
    "<div class=\"toc\"><ul class=\"toc-item\"><li><span><a href=\"#Overview\" data-toc-modified-id=\"Overview-1\"><span class=\"toc-item-num\">1&nbsp;&nbsp;</span>Overview</a></span><ul class=\"toc-item\"><li><span><a href=\"#Software-and-conventions\" data-toc-modified-id=\"Software-and-conventions-1.1\"><span class=\"toc-item-num\">1.1&nbsp;&nbsp;</span>Software and conventions</a></span></li></ul></li><li><span><a href=\"#Experiment-with-Deeper-Groundwater-Options\" data-toc-modified-id=\"Experiment-with-Deeper-Groundwater-Options-2\"><span class=\"toc-item-num\">2&nbsp;&nbsp;</span>Experiment with Deeper Groundwater Options</a></span><ul class=\"toc-item\"><li><span><a href=\"#Background\" data-toc-modified-id=\"Background-2.1\"><span class=\"toc-item-num\">2.1&nbsp;&nbsp;</span>Background</a></span></li><li><span><a href=\"#Objective\" data-toc-modified-id=\"Objective-2.2\"><span class=\"toc-item-num\">2.2&nbsp;&nbsp;</span>Objective</a></span></li><li><span><a href=\"#Step-1:-Create-a-new-template-directory-and-setup-baseline-parameters\" data-toc-modified-id=\"Step-1:-Create-a-new-template-directory-and-setup-baseline-parameters-2.3\"><span class=\"toc-item-num\">2.3&nbsp;&nbsp;</span>Step 1: Create a new template directory and setup baseline parameters</a></span><ul class=\"toc-item\"><li><span><a href=\"#SLOPE\" data-toc-modified-id=\"SLOPE-2.3.1\"><span class=\"toc-item-num\">2.3.1&nbsp;&nbsp;</span>SLOPE</a></span></li></ul></li><li><span><a href=\"#Step-2:-Create-and-run-the-&quot;exponential-bucket-model&quot;-simulation\" data-toc-modified-id=\"Step-2:-Create-and-run-the-&quot;exponential-bucket-model&quot;-simulation-2.4\"><span class=\"toc-item-num\">2.4&nbsp;&nbsp;</span>Step 2: Create and run the \"exponential bucket model\" simulation</a></span></li><li><span><a href=\"#Step-3:-Create-and-run-the-&quot;groundwater-pass-through&quot;-simulation\" data-toc-modified-id=\"Step-3:-Create-and-run-the-&quot;groundwater-pass-through&quot;-simulation-2.5\"><span class=\"toc-item-num\">2.5&nbsp;&nbsp;</span>Step 3: Create and run the \"groundwater pass-through\" simulation</a></span></li><li><span><a href=\"#Step-4:-Create-and-run-the-&quot;groundwater-off&quot;-simulation\" data-toc-modified-id=\"Step-4:-Create-and-run-the-&quot;groundwater-off&quot;-simulation-2.6\"><span class=\"toc-item-num\">2.6&nbsp;&nbsp;</span>Step 4: Create and run the \"groundwater off\" simulation</a></span></li><li><span><a href=\"#Results\" data-toc-modified-id=\"Results-2.7\"><span class=\"toc-item-num\">2.7&nbsp;&nbsp;</span>Results</a></span></li><li><span><a href=\"#Discussion\" data-toc-modified-id=\"Discussion-2.8\"><span class=\"toc-item-num\">2.8&nbsp;&nbsp;</span>Discussion</a></span></li></ul></li></ul></div>"
   ]
  },
  {
   "cell_type": "markdown",
   "metadata": {},
   "source": [
    "# Lesson 5b - Groundwater Baseflow Experiments\n",
    "## Overview\n",
    "In Lessons 5a we experimented with different terrain routing physics options as well as manipulated a few parameters to evaluate impacts on streamflow. In this lesson we will experiment with different deep groundwater representations in the model\n",
    "\n",
    "**NOTE: If you have not completed Lessons 1 through 5a, please stop and do so now.**\n",
    "\n",
    "### Software and conventions\n",
    "The easiest way to run these lessons is via the [wrfhydro/nwm-training](https://cloud.docker.com/u/wrfhydro/repository/docker/wrfhydro/nwm-training) Docker container, which has all software dependencies and data pre-installed.\n",
    "\n",
    "For a complete description of the software environment used for this training please see [Lesson 0 - Getting started](Lesson-0-start.ipynb).\n",
    "\n",
    "You may either execute commands by running each cell of this notebook. Alternatively, you may open a terminal in Jupyter Lab by selecting `New -> Terminal` in your `Home` tab of Jupyter Lab and input the commands manually if you prefer. You can also use your own terminal by logging into the container with the command `docker exec -it nwm-training bash`\n",
    "\n",
    "All paths used in this lesson assume that the lesson materials are located under your home directory in a folder named `nwm-training`. If your materials are located in another directory, you will not be able to run the commands in this notebook inside Jupyter and will need to type them manually in your terminal session. "
   ]
  },
  {
   "cell_type": "markdown",
   "metadata": {},
   "source": [
    "## Experiment with Deeper Groundwater Options\n",
    "### Background\n",
    "The current NWM has a uniform 2-meter soil column across the full domain. Obviously the 2-m soil column alone cannot fully represent deeper groundwater processes. For this reason, the code for the current NWM includes a few conceptual ways to very simply represent the slower storage and release processes of deeper groundwater. These include:\n",
    "\n",
    "0 = No Groundwater Baseflow Model\n",
    "\n",
    "1 = Exponential Bucket Model\n",
    "\n",
    "2 = Pass-Through Model\n",
    "\n",
    "### Objective\n",
    "Experiment with conceptual groundwater options, then compare hydrographs.\n",
    "\n",
    "### Step 1: Create a new template directory and setup baseline parameters\n",
    "We start with the baseline parameters but will modifiy a few to emphasize the deeper baseflow behavior.\n",
    "\n",
    "**Step 1a: Create a new template directory for the groundwater experiments.**"
   ]
  },
  {
   "cell_type": "code",
   "execution_count": 1,
   "metadata": {},
   "outputs": [],
   "source": [
    "%%bash\n",
    "# Make a new directory for our baseline simulation\n",
    "mkdir -p ~/nwm-training/output/lesson5/run_gw_template\n",
    "\n",
    "# Copy our model files to the simulation directory\n",
    "cp ~/nwm-training/wrf_hydro_nwm_public/trunk/NDHMS/Run/*.TBL \\\n",
    "~/nwm-training/output/lesson5/run_gw_template\n",
    "cp ~/nwm-training/wrf_hydro_nwm_public/trunk/NDHMS/Run/wrf_hydro.exe \\\n",
    "~/nwm-training/output/lesson5/run_gw_template\n",
    "\n",
    "# Create symbolic links to large domain files\n",
    "cp -as $HOME/nwm-training/example_case/FORCING \\\n",
    "~/nwm-training/output/lesson5/run_gw_template\n",
    "cp -as $HOME/nwm-training/example_case/NWM/RESTART \\\n",
    "~/nwm-training/output/lesson5/run_gw_template\n",
    "\n",
    "# Copy the domain/parameter files so we can modify them\n",
    "cp -r $HOME/nwm-training/example_case/NWM/DOMAIN \\\n",
    "~/nwm-training/output/lesson5/run_gw_template\n",
    "\n",
    "# Copy namelist files\n",
    "cp ~/nwm-training/example_case/NWM/namelist.hrldas \\\n",
    "~/nwm-training/output/lesson5/run_gw_template\n",
    "cp ~/nwm-training/example_case/NWM/hydro.namelist \\\n",
    "~/nwm-training/output/lesson5/run_gw_template"
   ]
  },
  {
   "cell_type": "markdown",
   "metadata": {},
   "source": [
    "**Step 1b: Use the NCO command `ncap2` to modify the *slope* parameter values in the `soil_properties.nc` file.**\n",
    "\n",
    "#### SLOPE\n",
    "In Lesson 5a we discussed a few Noah/NoahMP parameters that impact flow. We will refresh your memory on the *slope* parameter. Originally estimated based on land surface topography (hence the name *slope*), the *slope* parameter controls how open or closed the bottom boundary of the soil column is. Values range from 0 to 1, where 0 is a completely closed bottom boundary and 1 is completely open. Lower *slope* values will keep more water in the soil column, while higher values will allow more water to drain to the channel or to deeper baseflow stores, depending on the selected physics options.\n",
    "\n",
    "In order to really emphasize the impacts of the baseflow model experiments, we will completely open up the bottom boundary condition (i.e., free drainage).\n",
    "\n",
    "We will use NCO commands to manipulate the model parameter files. NCO (NetCDF Operators, http://nco.sourceforge.net/) is a set of useful utilities to manipulate NetCDF files. We will use the NCO command `ncap2` to increase the *slope* value to 1.0.\n",
    "\n",
    "First, we check the current parameter values using `ncdump` a command line utility included with the netCDF libraries."
   ]
  },
  {
   "cell_type": "code",
   "execution_count": 2,
   "metadata": {},
   "outputs": [
    {
     "name": "stdout",
     "output_type": "stream",
     "text": [
      "    0.1227628, 0.1227628, 0.1227628, 0.1227628,\n",
      "  0.06260714, 0.06260714, 0.06260714, 0.1227628, 0.1227628, 0.1227628, \n",
      "    0.1227628, 0.1227628, 0.1227628, 0.1227628, 0.1227628, 0.1227628, \n",
      "    0.1227628, 0.1227628, 0.1227628, 0.1227628, 0.1227628, 0.1227628, \n",
      "    0.1227628, 0.1227628, 0.1227628, 0.1227628,\n",
      "  0.06321169, 0.06260714, 0.06260714, 0.06260714, 0.06260714, 0.1227628, \n",
      "    0.1227628, 0.1227628, 0.1227628, 0.1227628, 0.1227628, 0.1227628, \n",
      "    0.1227628, 0.1227628, 0.1227628, 0.1227628, 0.1227628, 0.1227628, \n",
      "    0.06260714, 0.06260714, 0.06260714, 0.06260714 ;\n",
      "}\n"
     ]
    }
   ],
   "source": [
    "%%bash\n",
    "ncdump -v slope ~/nwm-training/output/lesson5/run_gw_template/DOMAIN/soil_properties.nc \\\n",
    "| tail -n 10"
   ]
  },
  {
   "cell_type": "markdown",
   "metadata": {},
   "source": [
    "Note that this parameter varies in space (values based on previous calibration/regionalization), but in general it is fairly low. We modify the parameter values using `ncap2` to completely open the bottom boundary (i.e., free drainage, *slope=1*) and confirm our changes."
   ]
  },
  {
   "cell_type": "code",
   "execution_count": 3,
   "metadata": {},
   "outputs": [
    {
     "name": "stdout",
     "output_type": "stream",
     "text": [
      "  1, 1, 1, 1, 1, 1, 1, 1, 1, 1, 1, 1, 1, 1, 1, 1, 1, 1, 1, 1, 1, 1,\n",
      "  1, 1, 1, 1, 1, 1, 1, 1, 1, 1, 1, 1, 1, 1, 1, 1, 1, 1, 1, 1, 1, 1,\n",
      "  1, 1, 1, 1, 1, 1, 1, 1, 1, 1, 1, 1, 1, 1, 1, 1, 1, 1, 1, 1, 1, 1,\n",
      "  1, 1, 1, 1, 1, 1, 1, 1, 1, 1, 1, 1, 1, 1, 1, 1, 1, 1, 1, 1, 1, 1,\n",
      "  1, 1, 1, 1, 1, 1, 1, 1, 1, 1, 1, 1, 1, 1, 1, 1, 1, 1, 1, 1, 1, 1,\n",
      "  1, 1, 1, 1, 1, 1, 1, 1, 1, 1, 1, 1, 1, 1, 1, 1, 1, 1, 1, 1, 1, 1,\n",
      "  1, 1, 1, 1, 1, 1, 1, 1, 1, 1, 1, 1, 1, 1, 1, 1, 1, 1, 1, 1, 1, 1,\n",
      "  1, 1, 1, 1, 1, 1, 1, 1, 1, 1, 1, 1, 1, 1, 1, 1, 1, 1, 1, 1, 1, 1,\n",
      "  1, 1, 1, 1, 1, 1, 1, 1, 1, 1, 1, 1, 1, 1, 1, 1, 1, 1, 1, 1, 1, 1 ;\n",
      "}\n"
     ]
    }
   ],
   "source": [
    "%%bash\n",
    "ncap2 -O -s \"slope=slope*0.0+1.0\" \\\n",
    "~/nwm-training/output/lesson5/run_gw_template/DOMAIN/soil_properties.nc \\\n",
    "~/nwm-training/output/lesson5/run_gw_template/DOMAIN/soil_properties.nc\n",
    "ncdump -v slope ~/nwm-training/output/lesson5/run_gw_template/DOMAIN/soil_properties.nc \\\n",
    "| tail -n 10"
   ]
  },
  {
   "cell_type": "markdown",
   "metadata": {},
   "source": [
    "### Step 2: Create and run the \"exponential bucket model\" simulation\n",
    "The NWM currently uses the \"Exponential Bucket Model\" option for groundwater, so we will run that option as our baseline.\n",
    "\n",
    "**Step 2a: Create a copy of the template directory to use for the first groundwater experiment.**"
   ]
  },
  {
   "cell_type": "code",
   "execution_count": 4,
   "metadata": {},
   "outputs": [],
   "source": [
    "%%bash\n",
    "cp -r ~/nwm-training/output/lesson5/run_gw_template \\\n",
    "~/nwm-training/output/lesson5/run_gw_expbucket"
   ]
  },
  {
   "cell_type": "markdown",
   "metadata": {},
   "source": [
    "**Step 2b: Confirm the groundwater module setting in the namelist is correct**\n",
    "\n",
    "Look for the `GWBASESWCRT` option and confirm it is set to 1 (exp. bucket)."
   ]
  },
  {
   "cell_type": "code",
   "execution_count": 5,
   "metadata": {},
   "outputs": [
    {
     "name": "stdout",
     "output_type": "stream",
     "text": [
      "&HYDRO_nlist\n",
      "!!!! ---------------------- SYSTEM COUPLING ----------------------- !!!!\n",
      "\n",
      "! Specify what is being coupled:  1=HRLDAS (offline Noah-LSM), 2=WRF, 3=NASA/LIS, 4=CLM\n",
      "sys_cpl = 1\n",
      "\n",
      "!!!! ------------------- MODEL INPUT DATA FILES ------------------- !!!!\n",
      "\n",
      "! Specify land surface model gridded input data file (e.g.: \"geo_em.d03.nc\")\n",
      "GEO_STATIC_FLNM = \"./DOMAIN/geo_em.d01.nc\"\n",
      "\n",
      "! Specify the high-resolution routing terrain input data file (e.g.: \"Fulldom_hires.nc\")\n",
      "GEO_FINEGRID_FLNM = \"./DOMAIN/Fulldom_hires.nc\"\n",
      "\n",
      "! Specify the spatial hydro parameters file (e.g.: \"hydro2dtbl.nc\")\n",
      "! If you specify a filename and the file does not exist, it will be created for you.\n",
      "HYDROTBL_F = \"./DOMAIN/hydro2dtbl.nc\"\n",
      "\n",
      "! Specify spatial metadata file for land surface grid. (e.g.: \"GEOGRID_LDASOUT_Spatial_Metadata.nc\")\n",
      "LAND_SPATIAL_META_FLNM = \"./DOMAIN/GEOGRID_LDASOUT_Spatial_Metadata.nc\"\n",
      "\n",
      "! Specify the name of the restart file if starting from restart...comment out with '!' if not...\n",
      "RESTART_FILE  = 'RESTART/HYDRO_RST.2011-08-27_00:00_DOMAIN1'\n",
      "\n",
      "!!!! --------------------- MODEL SETUP OPTIONS -------------------- !!!!\n",
      "\n",
      "! Specify the domain or nest number identifier...(integer)\n",
      "IGRID = 1\n",
      "\n",
      "! Specify the restart file write frequency...(minutes)\n",
      "! A value of -99999 will output restarts on the first day of the month only.\n",
      "rst_dt = 14400\n",
      "\n",
      "! Reset the LSM soil states from the high-res routing restart file (1=overwrite, 0=no overwrite)\n",
      "! NOTE: Only turn this option on if overland or subsurface rotuing is active!\n",
      "rst_typ = 1\n",
      "\n",
      "! Restart file format control\n",
      "rst_bi_in = 0       !0: use netcdf input restart file (default)\n",
      "                    !1: use parallel io for reading multiple restart files, 1 per core\n",
      "rst_bi_out = 0      !0: use netcdf output restart file (default)\n",
      "                    !1: use parallel io for outputting multiple restart files, 1 per core\n",
      "\n",
      "! Restart switch to set restart accumulation variables to 0 (0=no reset, 1=yes reset to 0.0)\n",
      "RSTRT_SWC = 1\n",
      "\n",
      "! Specify baseflow/bucket model initialization...(0=cold start from table, 1=restart file)\n",
      "GW_RESTART = 1\n",
      "\n",
      "!!!! -------------------- MODEL OUTPUT CONTROL -------------------- !!!!\n",
      "\n",
      "! Specify the output file write frequency...(minutes)\n",
      "out_dt = 60\n",
      "\n",
      "! Specify the number of output times to be contained within each output history file...(integer)\n",
      "!   SET = 1 WHEN RUNNING CHANNEL ROUTING ONLY/CALIBRATION SIMS!!!\n",
      "!   SET = 1 WHEN RUNNING COUPLED TO WRF!!!\n",
      "SPLIT_OUTPUT_COUNT = 1\n",
      "\n",
      "! Specify the minimum stream order to output to netcdf point file...(integer)\n",
      "! Note: lower value of stream order produces more output.\n",
      "order_to_write = 1\n",
      "\n",
      "! Flag to turn on/off new I/O routines: 0 = deprecated output routines (use when running with Noah LSM),\n",
      "! 1 = with scale/offset/compression, ! 2 = with scale/offset/NO compression, \n",
      "! 3 = compression only, 4 = no scale/offset/compression (default)\n",
      "io_form_outputs = 4\n",
      "\n",
      "! Realtime run configuration option:\n",
      "! 0=all (default), 1=analysis, 2=short-range, 3=medium-range, 4=long-range, 5=retrospective,\n",
      "! 6=diagnostic (includes all of 1-4 outputs combined)\n",
      "io_config_outputs = 1\n",
      "\n",
      "! Option to write output files at time 0 (restart cold start time): 0=no, 1=yes (default)\n",
      "t0OutputFlag = 1\n",
      "\n",
      "! Options to output channel & bucket influxes. Only active for UDMP_OPT=1.\n",
      "! Nonzero choice requires that out_dt above matches NOAH_TIMESTEP in namelist.hrldas.\n",
      "! 0=None (default), 1=channel influxes (qSfcLatRunoff, qBucket)\n",
      "! 2=channel+bucket fluxes    (qSfcLatRunoff, qBucket, qBtmVertRunoff_toBucket)\n",
      "! 3=channel accumulations    (accSfcLatRunoff, accBucket) *** NOT TESTED ***\n",
      "output_channelBucket_influx = 2\n",
      "\n",
      "! Output netcdf file control\n",
      "CHRTOUT_DOMAIN = 1           ! Netcdf point timeseries output at all channel points (1d)\n",
      "                             !      0 = no output, 1 = output\n",
      "CHANOBS_DOMAIN = 1           ! Netcdf point timeseries at forecast points or gage points (defined in Routelink)\n",
      "                             !      0 = no output, 1 = output at forecast points or gage points.\n",
      "CHRTOUT_GRID = 0             ! Netcdf grid of channel streamflow values (2d)\n",
      "                             !      0 = no output, 1 = output\n",
      "                             !      NOTE: Not available with reach-based routing\n",
      "LSMOUT_DOMAIN = 0            ! Netcdf grid of variables passed between LSM and routing components (2d)\n",
      "                             !      0 = no output, 1 = output\n",
      "                             !      NOTE: No scale_factor/add_offset available\n",
      "RTOUT_DOMAIN = 1             ! Netcdf grid of terrain routing variables on routing grid (2d)\n",
      "                             !      0 = no output, 1 = output\n",
      "output_gw = 1                ! Netcdf GW output\n",
      "                             !      0 = no output, 1 = output\n",
      "outlake  = 1                 ! Netcdf grid of lake values (1d)\n",
      "                             !      0 = no output, 1 = output\n",
      "frxst_pts_out = 0            ! ASCII text file of forecast points or gage points (defined in Routelink)\n",
      "                             !      0 = no output, 1 = output\n",
      "\n",
      "!!!! ------------ PHYSICS OPTIONS AND RELATED SETTINGS ------------ !!!!\n",
      "\n",
      "! Specify the number of soil layers (integer) and the depth of the bottom of each layer... (meters)\n",
      "! Notes: In Version 1 of WRF-Hydro these must be the same as in the namelist.input file.\n",
      "!      Future versions will permit this to be different.\n",
      "NSOIL=4\n",
      "ZSOIL8(1) = -0.10\n",
      "ZSOIL8(2) = -0.40\n",
      "ZSOIL8(3) = -1.00\n",
      "ZSOIL8(4) = -2.00\n",
      "\n",
      "! Specify the grid spacing of the terrain routing grid...(meters)\n",
      "DXRT = 250.0\n",
      "\n",
      "! Specify the integer multiple between the land model grid and the terrain routing grid...(integer)\n",
      "AGGFACTRT = 4\n",
      "\n",
      "! Specify the channel routing model timestep...(seconds)\n",
      "DTRT_CH = 300\n",
      "\n",
      "! Specify the terrain routing model timestep...(seconds)\n",
      "DTRT_TER = 10\n",
      "\n",
      "! Switch to activate subsurface routing...(0=no, 1=yes)\n",
      "SUBRTSWCRT = 1\n",
      "\n",
      "! Switch to activate surface overland flow routing...(0=no, 1=yes)\n",
      "OVRTSWCRT = 1\n",
      "\n",
      "! Specify overland flow routing option: 1=Seepest Descent (D8) 2=CASC2D (not active)\n",
      "! NOTE: Currently subsurface flow is only steepest descent\n",
      "rt_option = 1\n",
      "\n",
      "! Switch to activate channel routing...(0=no, 1=yes)\n",
      "CHANRTSWCRT = 1\n",
      "\n",
      "! Specify channel routing option: 1=Muskingam-reach, 2=Musk.-Cunge-reach, 3=Diff.Wave-gridded\n",
      "channel_option = 2\n",
      "\n",
      "! Specify the reach file for reach-based routing options (e.g.: 'Route_Link.nc')\n",
      "route_link_f = \"./DOMAIN/Route_Link.nc\"\n",
      "\n",
      "! If using channel_option=2, activate the compound channel formulation? (Default=.FALSE.)\n",
      "compound_channel = .TRUE.\n",
      "\n",
      "! Specify the lake parameter file (e.g.: 'LAKEPARM.nc').\n",
      "! Note REQUIRED if lakes are on.\n",
      "route_lake_f = \"./DOMAIN/LAKEPARM.nc\"\n",
      "\n",
      "! Switch to activate baseflow bucket model...(0=none, 1=exp. bucket, 2=pass-through)\n",
      "GWBASESWCRT = 1\n",
      "\n",
      "! Groundwater/baseflow 2d mask specified on land surface model grid (e.g.: 'GWBASINS.nc')\n",
      "!Note: Only required if baseflow  model is active (1 or 2) and UDMP_OPT=0.\n",
      "!gwbasmskfil = './DOMAIN/GWBASINS.nc'\n",
      "\n",
      "! Groundwater bucket parameter file (e.g.: 'GWBUCKPARM.nc')\n",
      "GWBUCKPARM_file = \"./DOMAIN/GWBUCKPARM.nc\"\n",
      "\n",
      "! User defined mapping, such NHDPlus: 0=no (default), 1=yes\n",
      "UDMP_OPT = 1\n",
      "\n",
      "! If on, specify the user-defined mapping file (e.g.: 'spatialweights.nc')\n",
      "udmap_file = \"./DOMAIN/spatialweights.nc\"\n",
      "\n",
      "/\n",
      "\n",
      "&NUDGING_nlist\n",
      "\n",
      "! Path to the 'timeslice' observation files.\n",
      "timeSlicePath = './nudgingTimeSliceObs/'\n",
      "\n",
      "nudgingParamFile = './DOMAIN/nudgingParams.nc'\n",
      "\n",
      "! Nudging restart file = 'nudgingLastObsFile'\n",
      "! nudgingLastObsFile defaults to '', which will look for nudgingLastObs.YYYY-mm-dd_HH:MM:SS.nc\n",
      "!   **AT THE INITALIZATION TIME OF THE RUN**. Set to a missing file to use no restart.\n",
      "nudgingLastObsFile = './RESTART/nudgingLastObs.2011-08-27_00:00:00.nc'\n",
      "\n",
      "!! Parallel input of nudging timeslice observation files?\n",
      "readTimesliceParallel = .TRUE.\n",
      "\n",
      "! temporalPersistence defaults to true, only runs if necessary params present.\n",
      "temporalPersistence = .TRUE.\n",
      "\n",
      "! The total number of last (obs, modeled) pairs to save in nudgingLastObs for \n",
      "! removal of bias. This is the maximum array length. (This option is active when persistBias=FALSE)\n",
      "! (Default=960=10days @15min obs resolution, if all the obs are present and longer if not.)\n",
      "nLastObs = 480\n",
      "\n",
      "! If using temporalPersistence the last observation persists by default. \n",
      "! This option instead persists the bias after the last observation. \n",
      "persistBias = .TRUE.\n",
      "\n",
      "! AnA (FALSE)  vs Forecast (TRUE) bias persistence.\n",
      "! If persistBias: Does the window for calculating the bias end at \n",
      "! model init time (=t0)?\n",
      "! FALSE = window ends at model time (moving), \n",
      "! TRUE = window ends at init=t0(fcst) time. \n",
      "! (If commented out, Default=FALSE)\n",
      "! Note: Perfect restart tests require this option to be .FALSE.\n",
      "biasWindowBeforeT0 = .FALSE.\n",
      "\n",
      "! If persistBias: Only use this many last (obs, modeled) pairs. (If Commented out, Default=-1*nLastObs)\n",
      "! > 0: apply an age-based filter, units=hours.\n",
      "! = 0: apply no additional filter, use all available/usable obs.\n",
      "! < 0: apply an count-based filter, units=count\n",
      "maxAgePairsBiasPersist = 3\n",
      "\n",
      "! If persistBias: The minimum number of last (obs, modeled) pairs, with age less than\n",
      "! maxAgePairsBiasPersist, required to apply a bias correction. (default=8)\n",
      "minNumPairsBiasPersist = 1\n",
      "\n",
      "! If persistBias: give more weight to observations closer in time? (default=FALSE)\n",
      "invDistTimeWeightBias = .TRUE.\n",
      "\n",
      "! If persistBias: 'No constructive interference in bias correction?', Reduce the bias adjustment\n",
      "! when the model and the bias adjustment have the same sign relative to the modeled flow at t0?\n",
      "! (default=FALSE)\n",
      "! Note: Perfect restart tests require this option to be .FALSE.\n",
      "noConstInterfBias = .TRUE.\n",
      "\n",
      "/\n"
     ]
    }
   ],
   "source": [
    "%%bash\n",
    "cat ~/nwm-training/output/lesson5/run_gw_expbucket/hydro.namelist"
   ]
  },
  {
   "cell_type": "markdown",
   "metadata": {},
   "source": [
    "**Step 2c: Run the simulation and check to make sure it completed successfully**"
   ]
  },
  {
   "cell_type": "code",
   "execution_count": 6,
   "metadata": {},
   "outputs": [],
   "source": [
    "%%bash\n",
    "cd ~/nwm-training/output/lesson5/run_gw_expbucket\n",
    "mpirun -np 1 ./wrf_hydro.exe >> run.log 2>&1"
   ]
  },
  {
   "cell_type": "markdown",
   "metadata": {},
   "source": [
    "Check that the simulation finished successfully"
   ]
  },
  {
   "cell_type": "code",
   "execution_count": 7,
   "metadata": {
    "scrolled": true
   },
   "outputs": [
    {
     "name": "stdout",
     "output_type": "stream",
     "text": [
      " The model finished successfully.......\n"
     ]
    }
   ],
   "source": [
    "%%bash\n",
    "tail -1 ~/nwm-training/output/lesson5/run_gw_expbucket/diag_hydro.00000"
   ]
  },
  {
   "cell_type": "markdown",
   "metadata": {},
   "source": [
    "### Step 3: Create and run the \"groundwater pass-through\" simulation\n",
    "Now we will see what happens when we simply allow groundwater to pass directly from the soil column to the channel with no storage/attenuation.\n",
    "\n",
    "**Step 3a: Create a copy of the Lesson 5 template directory to use for the second groundwater experiment.**"
   ]
  },
  {
   "cell_type": "code",
   "execution_count": 8,
   "metadata": {},
   "outputs": [],
   "source": [
    "%%bash\n",
    "cp -r ~/nwm-training/output/lesson5/run_gw_template \\\n",
    "~/nwm-training/output/lesson5/run_gw_passthru"
   ]
  },
  {
   "cell_type": "markdown",
   "metadata": {},
   "source": [
    "**Step 3b: Edit the `hydro.namelist` file**\n",
    "\n",
    "We will run the same experiment as the Lesson 5 baseline run, but with the deeper groundwater option changed from the exponential bucket model to a simple pass-through representation.\n",
    "\n",
    "We will make one modification to `hydro.namelist` to do this. For this experiment, we will set the *GWBASESWCRT* physics option to 2, which is the simple pass-through option. \n",
    "\n",
    "```\n",
    "! Switch to activate baseflow bucket model...(0=none, 1=exp. bucket, 2=pass-through)\n",
    "GWBASESWCRT = 2\n",
    "```\n",
    "\n",
    "**Step 3c: Run the simulation and check to make sure it completed successfully**"
   ]
  },
  {
   "cell_type": "code",
   "execution_count": 9,
   "metadata": {},
   "outputs": [],
   "source": [
    "%%bash\n",
    "cd ~/nwm-training/output/lesson5/run_gw_passthru\n",
    "mpirun -np 1 ./wrf_hydro.exe >> run.log 2>&1"
   ]
  },
  {
   "cell_type": "markdown",
   "metadata": {},
   "source": [
    "Check that the simulation finished successfully"
   ]
  },
  {
   "cell_type": "code",
   "execution_count": 10,
   "metadata": {
    "scrolled": true
   },
   "outputs": [
    {
     "name": "stdout",
     "output_type": "stream",
     "text": [
      " The model finished successfully.......\n"
     ]
    }
   ],
   "source": [
    "%%bash\n",
    "tail -1 ~/nwm-training/output/lesson5/run_gw_passthru/diag_hydro.00000"
   ]
  },
  {
   "cell_type": "markdown",
   "metadata": {},
   "source": [
    "### Step 4: Create and run the \"groundwater off\" simulation\n",
    "Now we will repeat the process, but with the deeper groundwater option changed from the exponential bucket model to the \"no groundwater\" option.\n",
    "\n",
    "**Step 4a: Create a copy of the Lesson 5 template directory to use for the second groundwater experiment.**"
   ]
  },
  {
   "cell_type": "code",
   "execution_count": 11,
   "metadata": {},
   "outputs": [],
   "source": [
    "%%bash\n",
    "cp -r ~/nwm-training/output/lesson5/run_gw_template \\\n",
    "~/nwm-training/output/lesson5/run_gw_off"
   ]
  },
  {
   "cell_type": "markdown",
   "metadata": {},
   "source": [
    "**Step 4b: Edit the `hydro.namelist` file**\n",
    "\n",
    "We will make two modifications to `hydro.namelist` to deactivate the groundwater module. For this experiment, we will set the *GWBASESWCRT* physics option to 0, which turns the deeper groundwater module off. \n",
    "\n",
    "```\n",
    "! Switch to activate baseflow bucket model...(0=none, 1=exp. bucket, 2=pass-through)\n",
    "GWBASESWCRT = 0\n",
    "```\n",
    "When the groundwater module is off, the supplemental channel output variables are not permitted. We can simply turn this supplemental output off by setting *output_channelBucket_influx* to 0.\n",
    "\n",
    "```\n",
    "! Options to output channel & bucket influxes. Only active for UDMP_OPT=1.\n",
    "! Nonzero choice requires that out_dt above matches NOAH_TIMESTEP in namelist.hrldas.\n",
    "! 0=None (default), 1=channel influxes (qSfcLatRunoff, qBucket)\n",
    "! 2=channel+bucket fluxes    (qSfcLatRunoff, qBucket, qBtmVertRunoff_toBucket)\n",
    "! 3=channel accumulations    (accSfcLatRunoff, accBucket) *** NOT TESTED ***\n",
    "output_channelBucket_influx = 0\n",
    "```\n",
    "\n",
    "**Step 4c: Run the simulation and check to make sure it completed**"
   ]
  },
  {
   "cell_type": "code",
   "execution_count": 12,
   "metadata": {},
   "outputs": [],
   "source": [
    "%%bash\n",
    "cd ~/nwm-training/output/lesson5/run_gw_off\n",
    "mpirun -np 1 ./wrf_hydro.exe >> run.log 2>&1"
   ]
  },
  {
   "cell_type": "markdown",
   "metadata": {},
   "source": [
    "Check that the simulation finished successfully"
   ]
  },
  {
   "cell_type": "code",
   "execution_count": 13,
   "metadata": {
    "scrolled": true
   },
   "outputs": [
    {
     "name": "stdout",
     "output_type": "stream",
     "text": [
      " The model finished successfully.......\n"
     ]
    }
   ],
   "source": [
    "%%bash\n",
    "tail -1 ~/nwm-training/output/lesson5/run_gw_off/diag_hydro.00000"
   ]
  },
  {
   "cell_type": "markdown",
   "metadata": {},
   "source": [
    "### Results\n",
    "We will now look at the differences in streamflow between our baseline run with the exponential groundwater bucket module active and our experiments with no groundwater and the simple pass-through module.\n",
    "\n",
    "We will use Python and the `xarray` library to load the data and plot hydrographs. For an intro to these tools, please see Lesson 3.\n",
    "\n",
    "**Load the xarray Python package**"
   ]
  },
  {
   "cell_type": "code",
   "execution_count": 14,
   "metadata": {},
   "outputs": [],
   "source": [
    "# Load the xarray package\n",
    "%matplotlib inline\n",
    "import xarray as xr\n",
    "import matplotlib.pyplot as plt\n",
    "import pandas as pd"
   ]
  },
  {
   "cell_type": "markdown",
   "metadata": {},
   "source": [
    "**Load the CHANOBS streamflow datasets**\n",
    "\n",
    "We are going to use the CHANOBS files (vs. CHRTOUT files) because it will limit the number of reaches to only those which have a gage."
   ]
  },
  {
   "cell_type": "code",
   "execution_count": 15,
   "metadata": {},
   "outputs": [],
   "source": [
    "chanobs_gw_exp = xr.open_mfdataset('/home/docker/nwm-training/output/lesson5/run_gw_expbucket/*CHANOBS*',\n",
    "                            concat_dim='time')\n",
    "chanobs_gw_thru = xr.open_mfdataset('/home/docker/nwm-training/output/lesson5/run_gw_passthru/*CHANOBS*',\n",
    "                            concat_dim='time')\n",
    "chanobs_gw_off = xr.open_mfdataset('/home/docker/nwm-training/output/lesson5/run_gw_off/*CHANOBS*',\n",
    "                            concat_dim='time')\n",
    "\n",
    "obs = pd.read_csv('/home/docker/nwm-training/example_case/USGS_obs.csv',dtype=str)\n",
    "obs['dateTime'] = pd.to_datetime(obs['dateTime'])\n",
    "obs['streamflow_cms'] = pd.to_numeric(obs['streamflow_cms'])"
   ]
  },
  {
   "cell_type": "markdown",
   "metadata": {},
   "source": [
    "**Plot the hydrographs**"
   ]
  },
  {
   "cell_type": "code",
   "execution_count": 16,
   "metadata": {},
   "outputs": [
    {
     "name": "stderr",
     "output_type": "stream",
     "text": [
      "/home/docker/miniconda3/lib/python3.7/site-packages/pandas/plotting/_converter.py:129: FutureWarning: Using an implicitly registered datetime converter for a matplotlib plotting method. The converter was registered by pandas on import. Future versions of pandas will require you to explicitly register matplotlib converters.\n",
      "\n",
      "To register the converters:\n",
      "\t>>> from pandas.plotting import register_matplotlib_converters\n",
      "\t>>> register_matplotlib_converters()\n",
      "  warnings.warn(msg, FutureWarning)\n"
     ]
    },
    {
     "data": {
      "image/png": "[encoded data removed]",
      "text/plain": [
       "<Figure size 864x432 with 1 Axes>"
      ]
     },
     "metadata": {
      "needs_background": "light"
     },
     "output_type": "display_data"
    }
   ],
   "source": [
    "fig, axes = plt.subplots(ncols=1,figsize=(12, 6))\n",
    "plt.suptitle('Hydrographs for deeper groundwater options',fontsize=24)\n",
    "chanobs_gw_exp.sel(feature_id = 4185779).streamflow.plot(label='Groundwater Exponential Bucket',\n",
    "                                                        color='black',\n",
    "                                                        linestyle='--')\n",
    "chanobs_gw_thru.sel(feature_id = 4185779).streamflow.plot(label='Groundwater Pass-Through',\n",
    "                                                        color='blue',\n",
    "                                                        linestyle='-')\n",
    "chanobs_gw_off.sel(feature_id = 4185779).streamflow.plot(label='Groundwater Off',\n",
    "                                                        color='red',\n",
    "                                                        linestyle='-')\n",
    "\n",
    "obs[obs['site_no'] == '01447720'].plot(x='dateTime',\n",
    "                                       y='streamflow_cms',\n",
    "                                       ax=axes,\n",
    "                                       label='Observed',\n",
    "                                       color='grey')\n",
    "plt.ylim(0,175)\n",
    "plt.legend()\n",
    "plt.show()"
   ]
  },
  {
   "cell_type": "markdown",
   "metadata": {},
   "source": [
    "### Discussion\n",
    "Since we opened up the bottom boundary of the 2-meter soil column (*slope=1.0*), we are allowing more water to enter into the groundwater module. As a result of this we see more baseflow (with the exception of the groundwater off simulation) and smaller peaks than our earlier simulations, where the *slope* parameter was much smaller (average=0.12) and water tended to stay in the soil column or move to direct runoff.\n",
    "\n",
    "When comparing the \"exponential bucket\" model behavior (`GWBASESWCRT=1`, black dashed line) versus \"direct pass-through\" (`GWBASESWCRT=2`, blue solid line), we see the bucket model tends to store water and slowly release it as baseflow in the lower-flow portions of the hydrograph. The pass-through model moves all that stored water directly to the channel, so the streamflow peaks are higher and the baseflow lower.\n",
    "\n",
    "When the groundwater baseflow module is deactivated (`GWBASESWCRT=0`), water that drains out of the bottom of the soil column becomes a sink and is not returned to the system. So the \"groundwater off\" simulation (red solid line) shows lower streamflow overall. Note that this option will not conserve mass, so use with caution."
   ]
  },
  {
   "cell_type": "markdown",
   "metadata": {},
   "source": [
    "# Next up - Do it yourself!\n",
    "This concludes Lesson 5b. Spend some time creating your own parameter and physics experiments.\n",
    "\n",
    "**IT IS BEST TO EITHER SHUTDOWN THIS LESSON OR CLOSE IT BEFORE PROCEEDING TO THE NEXT LESSON TO AVOID POSSIBLY EXCEEDING ALLOCATED MEMORY. Shutdown the lesson be either closing the browser tab for the lesson or selecting `KERNAL->SHUTDOWN` in the jupyter notebook toolbar.**"
   ]
  },
  {
   "cell_type": "code",
   "execution_count": null,
   "metadata": {},
   "outputs": [],
   "source": []
  }
 ],
 "metadata": {
  "kernelspec": {
   "display_name": "Python 3",
   "language": "python",
   "name": "python3"
  },
  "language_info": {
   "codemirror_mode": {
    "name": "ipython",
    "version": 3
   },
   "file_extension": ".py",
   "mimetype": "text/x-python",
   "name": "python",
   "nbconvert_exporter": "python",
   "pygments_lexer": "ipython3",
   "version": "3.6.8"
  },
  "toc": {
   "base_numbering": 1,
   "nav_menu": {},
   "number_sections": true,
   "sideBar": true,
   "skip_h1_title": true,
   "title_cell": "Table of Contents",
   "title_sidebar": "Contents",
   "toc_cell": true,
   "toc_position": {
    "height": "calc(100% - 180px)",
    "left": "10px",
    "top": "150px",
    "width": "414px"
   },
   "toc_section_display": true,
   "toc_window_display": true
  }
 },
 "nbformat": 4,
 "nbformat_minor": 2
}
