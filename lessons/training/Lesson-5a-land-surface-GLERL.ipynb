{
 "cells": [
  {
   "cell_type": "markdown",
   "metadata": {
    "toc": true
   },
   "source": [
    "<h1>Table of Contents<span class=\"tocSkip\"></span></h1>\n",
    "<div class=\"toc\"><ul class=\"toc-item\"><li><span><a href=\"#Overview\" data-toc-modified-id=\"Overview-1\"><span class=\"toc-item-num\">1&nbsp;&nbsp;</span>Overview</a></span><ul class=\"toc-item\"><li><span><a href=\"#Software-and-conventions\" data-toc-modified-id=\"Software-and-conventions-1.1\"><span class=\"toc-item-num\">1.1&nbsp;&nbsp;</span>Software and conventions</a></span></li></ul></li><li><span><a href=\"#Experiment-with-Terrain-Routing-Options\" data-toc-modified-id=\"Experiment-with-Terrain-Routing-Options-2\"><span class=\"toc-item-num\">2&nbsp;&nbsp;</span>Experiment with Terrain Routing Options</a></span><ul class=\"toc-item\"><li><span><a href=\"#Background\" data-toc-modified-id=\"Background-2.1\"><span class=\"toc-item-num\">2.1&nbsp;&nbsp;</span>Background</a></span></li><li><span><a href=\"#Objective\" data-toc-modified-id=\"Objective-2.2\"><span class=\"toc-item-num\">2.2&nbsp;&nbsp;</span>Objective</a></span></li><li><span><a href=\"#Step-1:-Create-and-run-first-baseline-simulation\" data-toc-modified-id=\"Step-1:-Create-and-run-first-baseline-simulation-2.3\"><span class=\"toc-item-num\">2.3&nbsp;&nbsp;</span>Step 1: Create and run first baseline simulation</a></span></li><li><span><a href=\"#Step-2:-Create-and-run-the-&quot;overland-routing-off&quot;-simulation\" data-toc-modified-id=\"Step-2:-Create-and-run-the-&quot;overland-routing-off&quot;-simulation-2.4\"><span class=\"toc-item-num\">2.4&nbsp;&nbsp;</span>Step 2: Create and run the \"overland routing off\" simulation</a></span></li><li><span><a href=\"#Step-3:-Create-and-run-the-&quot;no-terrain-routing&quot;-simulation\" data-toc-modified-id=\"Step-3:-Create-and-run-the-&quot;no-terrain-routing&quot;-simulation-2.5\"><span class=\"toc-item-num\">2.5&nbsp;&nbsp;</span>Step 3: Create and run the \"no terrain routing\" simulation</a></span></li><li><span><a href=\"#Results\" data-toc-modified-id=\"Results-2.6\"><span class=\"toc-item-num\">2.6&nbsp;&nbsp;</span>Results</a></span></li></ul></li><li><span><a href=\"#Experiment-with-Modified-Parameters\" data-toc-modified-id=\"Experiment-with-Modified-Parameters-3\"><span class=\"toc-item-num\">3&nbsp;&nbsp;</span>Experiment with Modified Parameters</a></span><ul class=\"toc-item\"><li><span><a href=\"#Step-1:-Create-a-new-template-directory-and-and-run-default-parameter-test-case\" data-toc-modified-id=\"Step-1:-Create-a-new-template-directory-and-and-run-default-parameter-test-case-3.1\"><span class=\"toc-item-num\">3.1&nbsp;&nbsp;</span>Step 1: Create a new template directory and and run default parameter test case</a></span></li><li><span><a href=\"#Step-2:-Modify-NoahMP-parameters-using-NCO-tools\" data-toc-modified-id=\"Step-2:-Modify-NoahMP-parameters-using-NCO-tools-3.2\"><span class=\"toc-item-num\">3.2&nbsp;&nbsp;</span>Step 2: Modify NoahMP parameters using NCO tools</a></span></li><li><span><a href=\"#Step-3:-Modify-terrain-routing-parameters-using-NCO-tools\" data-toc-modified-id=\"Step-3:-Modify-terrain-routing-parameters-using-NCO-tools-3.3\"><span class=\"toc-item-num\">3.3&nbsp;&nbsp;</span>Step 3: Modify terrain routing parameters using NCO tools</a></span></li><li><span><a href=\"#Results\" data-toc-modified-id=\"Results-3.4\"><span class=\"toc-item-num\">3.4&nbsp;&nbsp;</span>Results</a></span></li><li><span><a href=\"#Discussion\" data-toc-modified-id=\"Discussion-3.5\"><span class=\"toc-item-num\">3.5&nbsp;&nbsp;</span>Discussion</a></span></li></ul></li></ul></div>"
   ]
  },
  {
   "cell_type": "markdown",
   "metadata": {},
   "source": [
    "# Lesson 5a - Land Surface Experiments\n",
    "## Overview\n",
    "In Lessons 4 we experimented with different initial conditions. In this lesson, we will experiment with different terrain physics options as well as manipulate a few parameters to evaluate impacts on streamflow.\n",
    "\n",
    "**NOTE: If you have not completed Lessons 1 through 4, please stop and do so now.**\n"
   ]
  },
  {
   "cell_type": "markdown",
   "metadata": {},
   "source": [
    "## Experiment with Terrain Routing Options\n",
    "### Background\n",
    "In most global and regional land surface models, model cells are simulated as independent columns and \"runoff\" is interpreted as excess surface and subsurface water that is \"scraped\" from each cell after vertical infiltration and drainage processes complete. WRF-Hydro adds functionality to allow this excess water to instead move laterally around the land surface based on topographic and head gradients. WRF-Hydro can explicitly represent overland flow processes, where infiltration and saturation excess water propagates over the surface through a diffusive wave formulation. In addition, WRF-Hydro includes shallow subsurface flow, allowing saturated soil water to move from cell to cell through a Boussinesq approximation. For more detailed information refer to [WRF-Hydro V5 Technical Description](https://ral.ucar.edu/sites/default/files/public/WRF-HydroV5TechnicalDescription.pdf). \n",
    "\n",
    "### Objective\n",
    "Experiment with lateral flow physics options, then compare hydrographs with and without terrain routing processes active.\n",
    "\n",
    "### Step 1: Create and run first baseline simulation\n",
    "This lesson will use the compiled binary (`wrf_hydro.exe`) from Lesson 4. As in Lesson 4, we will create a template directory to use for the terrain physics experiments.\n",
    "\n",
    "**Step 1a: Create a template run directory**"
   ]
  },
  {
   "cell_type": "code",
   "execution_count": null,
   "metadata": {},
   "outputs": [],
   "source": [
    "%%bash\n",
    "# Make a new directory for our baseline simulation\n",
    "mkdir -p ~/GLERL_Training/run_NWM_template\n",
    "\n",
    "# Copy our model files to the simulation directory\n",
    "cp ~/GLERL_Training/wrf_hydro_nwm_public/trunk/NDHMS/Run/wrf_hydro.exe \\\n",
    "~/GLERL_Training/run_NWM_template\n",
    "\n",
    "# The namelist files have been provided. \n"
   ]
  },
  {
   "cell_type": "markdown",
   "metadata": {},
   "source": [
    "**Step 1b: Now make a copy of the template directory and run the baseline simulation**\n",
    "\n",
    "First, we remind ourselves what we are running as a baseline. Note in particular that `OVRTSWCRT=1` and `SUBRTSWCRT=1`, meaning that both overland and subsurface flow routing options are active. This is the configuration for all cycles of the NWM except the Long-Range cycles."
   ]
  },
  {
   "cell_type": "code",
   "execution_count": 42,
   "metadata": {
    "scrolled": true
   },
   "outputs": [
    {
     "name": "stdout",
     "output_type": "stream",
     "text": [
      "&HYDRO_nlist\n",
      "!!!! ---------------------- SYSTEM COUPLING ----------------------- !!!!\n",
      "\n",
      "! Specify what is being coupled:  1=HRLDAS (offline Noah-LSM), 2=WRF, 3=NASA/LIS, 4=CLM\n",
      "sys_cpl = 1\n",
      "\n",
      "!!!! ------------------- MODEL INPUT DATA FILES ------------------- !!!!\n",
      "\n",
      "! Specify land surface model gridded input data file (e.g.: \"geo_em.d01.nc\")\n",
      "GEO_STATIC_FLNM = \"./DOMAIN/geo_em.d01.nc\"\n",
      "\n",
      "! Specify the high-resolution routing terrain input data file (e.g.: \"Fulldom_hires.nc\")\n",
      "GEO_FINEGRID_FLNM = \"./DOMAIN/Fulldom_hires.nc\"\n",
      "\n",
      "! Specify the spatial hydro parameters file (e.g.: \"hydro2dtbl.nc\")\n",
      "! If you specify a filename and the file does not exist, it will be created for you.\n",
      "HYDROTBL_F = \"./DOMAIN/hydro2dtbl.nc\"\n",
      "\n",
      "! Specify spatial metadata file for land surface grid. (e.g.: \"GEOGRID_LDASOUT_Spatial_Metadata.nc\")\n",
      "LAND_SPATIAL_META_FLNM = \"./DOMAIN/GEOGRID_LDASOUT_Spatial_Metadata.nc\"\n",
      "\n",
      "! Specify the name of the restart file if starting from restart...comment out with '!' if not...\n",
      "RESTART_FILE  = 'RESTARTS/HYDRO_RST.2014-04-10_00:00_DOMAIN1'\n",
      "\n",
      "!!!! --------------------- MODEL SETUP OPTIONS -------------------- !!!!\n",
      "\n",
      "! Specify the domain or nest number identifier...(integer)\n",
      "IGRID = 1\n",
      "\n",
      "! Specify the restart file write frequency...(minutes)\n",
      "! A value of -99999 will output restarts on the first day of the month only.\n",
      "rst_dt = 1440\n",
      "\n",
      "! Reset the LSM soil states from the high-res routing restart file (1=overwrite, 0=no overwrite)\n",
      "! NOTE: Only turn this option on if overland or subsurface rotuing is active!\n",
      "rst_typ = 1\n",
      "\n",
      "! Restart file format control\n",
      "rst_bi_in = 0       !0: use netcdf input restart file (default)\n",
      "                    !1: use parallel io for reading multiple restart files, 1 per core\n",
      "rst_bi_out = 0      !0: use netcdf output restart file (default)\n",
      "                    !1: use parallel io for outputting multiple restart files, 1 per core\n",
      "\n",
      "! Restart switch to set restart accumulation variables to 0 (0=no reset, 1=yes reset to 0.0)\n",
      "RSTRT_SWC = 0\n",
      "\n",
      "! Specify baseflow/bucket model initialization...(0=cold start from table, 1=restart file)\n",
      "GW_RESTART = 1\n",
      "\n",
      "!!!! -------------------- MODEL OUTPUT CONTROL -------------------- !!!!\n",
      "\n",
      "! Specify the output file write frequency...(minutes)\n",
      "out_dt = 60\n",
      "\n",
      "! Specify the number of output times to be contained within each output history file...(integer)\n",
      "!   SET = 1 WHEN RUNNING CHANNEL ROUTING ONLY/CALIBRATION SIMS!!!\n",
      "!   SET = 1 WHEN RUNNING COUPLED TO WRF!!!\n",
      "SPLIT_OUTPUT_COUNT = 1\n",
      "\n",
      "! Specify the minimum stream order to output to netcdf point file...(integer)\n",
      "! Note: lower value of stream order produces more output.\n",
      "order_to_write = 1\n",
      "\n",
      "! Flag to turn on/off new I/O routines: 0 = deprecated output routines (use when running with Noah LSM),\n",
      "! 1 = with scale/offset/compression, ! 2 = with scale/offset/NO compression,\n",
      "! 3 = compression only, 4 = no scale/offset/compression (default)\n",
      "io_form_outputs = 4\n",
      "\n",
      "! Realtime run configuration option:\n",
      "! 0=all (default), 1=analysis, 2=short-range, 3=medium-range, 4=long-range, 5=retrospective,\n",
      "! 6=diagnostic (includes all of 1-4 outputs combined)\n",
      "io_config_outputs = 5\n",
      "\n",
      "! Option to write output files at time 0 (restart cold start time): 0=no, 1=yes (default)\n",
      "t0OutputFlag = 1\n",
      "\n",
      "! Options to output channel & bucket influxes. Only active for UDMP_OPT=1.\n",
      "! Nonzero choice requires that out_dt above matches NOAH_TIMESTEP in namelist.hrldas.\n",
      "! 0=None (default), 1=channel influxes (qSfcLatRunoff, qBucket)\n",
      "! 2=channel+bucket fluxes    (qSfcLatRunoff, qBucket, qBtmVertRunoff_toBucket)\n",
      "! 3=channel accumulations    (accSfcLatRunoff, accBucket) *** NOT TESTED ***\n",
      "output_channelBucket_influx = 0\n",
      "\n",
      "! Output netcdf file control\n",
      "CHRTOUT_DOMAIN = 0           ! Netcdf point timeseries output at all channel points (1d)\n",
      "                             !      0 = no output, 1 = output\n",
      "CHANOBS_DOMAIN = 1           ! Netcdf point timeseries at forecast points or gage points (defined in Routelink)\n",
      "                             !      0 = no output, 1 = output at forecast points or gage points.\n",
      "CHRTOUT_GRID = 0             ! Netcdf grid of channel streamflow values (2d)\n",
      "                             !      0 = no output, 1 = output\n",
      "                             !      NOTE: Not available with reach-based routing\n",
      "LSMOUT_DOMAIN = 0            ! Netcdf grid of variables passed between LSM and routing components (2d)\n",
      "                             !      0 = no output, 1 = output\n",
      "                             !      NOTE: No scale_factor/add_offset available\n",
      "RTOUT_DOMAIN = 0             ! Netcdf grid of terrain routing variables on routing grid (2d)\n",
      "                             !      0 = no output, 1 = output\n",
      "output_gw = 0                ! Netcdf GW output\n",
      "                             !      0 = no output, 1 = output\n",
      "outlake  = 1                 ! Netcdf grid of lake values (1d)\n",
      "                             !      0 = no output, 1 = output\n",
      "frxst_pts_out = 0            ! ASCII text file of forecast points or gage points (defined in Routelink)\n",
      "                             !      0 = no output, 1 = output\n",
      "\n",
      "!!!! ------------ PHYSICS OPTIONS AND RELATED SETTINGS ------------ !!!!\n",
      "\n",
      "! Specify the number of soil layers (integer) and the depth of the bottom of each layer... (meters)\n",
      "! Notes: In Version 1 of WRF-Hydro these must be the same as in the namelist.input file.\n",
      "!      Future versions will permit this to be different.\n",
      "NSOIL=4\n",
      "ZSOIL8(1) = -0.10\n",
      "ZSOIL8(2) = -0.40\n",
      "ZSOIL8(3) = -1.00\n",
      "ZSOIL8(4) = -2.00\n",
      "\n",
      "! Specify the grid spacing of the terrain routing grid...(meters)\n",
      "DXRT = 250.0\n",
      "\n",
      "! Specify the integer multiple between the land model grid and the terrain routing grid...(integer)\n",
      "AGGFACTRT = 4\n",
      "\n",
      "! Specify the channel routing model timestep...(seconds)\n",
      "DTRT_CH = 300\n",
      "\n",
      "! Specify the terrain routing model timestep...(seconds)\n",
      "DTRT_TER = 10\n",
      "\n",
      "! Switch to activate subsurface routing...(0=no, 1=yes)\n",
      "SUBRTSWCRT = 1\n",
      "\n",
      "! Switch to activate surface overland flow routing...(0=no, 1=yes)\n",
      "OVRTSWCRT = 1\n",
      "\n",
      "! Specify overland flow routing option: 1=Seepest Descent (D8) 2=CASC2D (not active)\n",
      "! NOTE: Currently subsurface flow is only steepest descent\n",
      "rt_option = 1\n",
      "\n",
      "! Switch to activate channel routing...(0=no, 1=yes)\n",
      "CHANRTSWCRT = 1\n",
      "\n",
      "! Specify channel routing option: 1=Muskingam-reach, 2=Musk.-Cunge-reach, 3=Diff.Wave-gridded\n",
      "channel_option = 2\n",
      "\n",
      "! Specify the reach file for reach-based routing options (e.g.: \"Route_Link.nc\")\n",
      "route_link_f = \"./DOMAIN/Route_Link.nc\"\n",
      "\n",
      "! If using channel_option=2, activate the compound channel formulation? (Default=.FALSE.)\n",
      "! This option is currently only supported if using reach-based routing with UDMP=1.\n",
      "compound_channel = .TRUE.\n",
      "\n",
      "! Specify the lake parameter file (e.g.: \"LAKEPARM.nc\").\n",
      "! Note REQUIRED if lakes are on.\n",
      "route_lake_f = \"./DOMAIN/LAKEPARM.nc\"\n",
      "\n",
      "! Switch to activate baseflow bucket model...(0=none, 1=exp. bucket, 2=pass-through)\n",
      "GWBASESWCRT = 1\n",
      "\n",
      "! Groundwater/baseflow 2d mask specified on land surface model grid (e.g.: \"GWBASINS.nc\")\n",
      "!Note: Only required if baseflow  model is active (1 or 2) and UDMP_OPT=0.\n",
      "!gwbasmskfil = \"./DOMAIN/GWBASINS.nc\"\n",
      "\n",
      "! Groundwater bucket parameter file (e.g.: \"GWBUCKPARM.nc\")\n",
      "GWBUCKPARM_file = \"./DOMAIN/GWBUCKPARM.nc\"\n",
      "\n",
      "! User defined mapping, such NHDPlus: 0=no (default), 1=yes\n",
      "UDMP_OPT = 1\n",
      "\n",
      "! If on, specify the user-defined mapping file (e.g.: \"spatialweights.nc\")\n",
      "udmap_file = \"./DOMAIN/spatialweights.nc\"\n",
      "\n",
      "/\n",
      "\n",
      "&NUDGING_nlist\n",
      "\n",
      "! Path to the \"timeslice\" observation files.\n",
      "timeSlicePath = \"./nudgingTimeSliceObs/\"\n",
      "\n",
      "nudgingParamFile = \"DOMAIN/nudgingParams.nc\"\n",
      "\n",
      "! Nudging restart file = \"nudgingLastObsFile\"\n",
      "! nudgingLastObsFile defaults to '', which will look for nudgingLastObs.YYYY-mm-dd_HH:MM:SS.nc\n",
      "!   **AT THE INITALIZATION TIME OF THE RUN**. Set to a missing file to use no restart.\n",
      "!nudgingLastObsFile = '/a/nonexistent/file/gives/nudging/cold/start'\n",
      "\n",
      "!! Parallel input of nudging timeslice observation files?\n",
      "readTimesliceParallel = .TRUE.\n",
      "\n",
      "! temporalPersistence defaults to true, only runs if necessary params present.\n",
      "temporalPersistence = .FALSE.\n",
      "\n",
      "! The total number of last (obs, modeled) pairs to save in nudgingLastObs for\n",
      "! removal of bias. This is the maximum array length. (This option is active when persistBias=FALSE)\n",
      "! (Default=960=10days @15min obs resolution, if all the obs are present and longer if not.)\n",
      "nLastObs = 960\n",
      "\n",
      "! If using temporalPersistence the last observation persists by default.\n",
      "! This option instead persists the bias after the last observation.\n",
      "persistBias = .FALSE.\n",
      "\n",
      "! AnA (FALSE)  vs Forecast (TRUE) bias persistence.\n",
      "! If persistBias: Does the window for calculating the bias end at\n",
      "! model init time (=t0)?\n",
      "! FALSE = window ends at model time (moving),\n",
      "! TRUE = window ends at init=t0(fcst) time.\n",
      "! (If commented out, Default=FALSE)\n",
      "! Note: Perfect restart tests require this option to be .FALSE.\n",
      "biasWindowBeforeT0 = .FALSE.\n",
      "\n",
      "! If persistBias: Only use this many last (obs, modeled) pairs. (If Commented out, Default=-1*nLastObs)\n",
      "! > 0: apply an age-based filter, units=hours.\n",
      "! = 0: apply no additional filter, use all available/usable obs.\n",
      "! < 0: apply an count-based filter, units=count\n",
      "maxAgePairsBiasPersist = -960\n",
      "\n",
      "! If persistBias: The minimum number of last (obs, modeled) pairs, with age less than\n",
      "! maxAgePairsBiasPersist, required to apply a bias correction. (default=8)\n",
      "minNumPairsBiasPersist = 8\n",
      "\n",
      "! If persistBias: give more weight to observations closer in time? (default=FALSE)\n",
      "invDistTimeWeightBias = .TRUE.\n",
      "\n",
      "! If persistBias: \"No constructive interference in bias correction?\", Reduce the bias adjustment\n",
      "! when the model and the bias adjustment have the same sign relative to the modeled flow at t0?\n",
      "! (default=FALSE)\n",
      "! Note: Perfect restart tests require this option to be .FALSE.\n",
      "noConstInterfBias = .FALSE.\n",
      "\n",
      "/\n"
     ]
    }
   ],
   "source": [
    "%%bash\n",
    "# Make a copy of the template directory for the baseline run\n",
    "cp -r ~/GLERL_Training/run_NWM_template \\\n",
    "~/GLERL_Training/run_NWM_baseline\n",
    "# View the hydro.namelist settings\n",
    "cat ~/GLERL_Training/run_NWM_baseline/hydro.namelist"
   ]
  },
  {
   "cell_type": "markdown",
   "metadata": {},
   "source": [
    "Now run the baseline model simulation as-is."
   ]
  },
  {
   "cell_type": "code",
   "execution_count": 43,
   "metadata": {},
   "outputs": [],
   "source": [
    "%%bash\n",
    "# Run the simulation\n",
    "cd ~/GLERL_Training/run_NWM_baseline\n",
    "mpirun -np 2 ./wrf_hydro.exe >> run.log 2>&1"
   ]
  },
  {
   "cell_type": "markdown",
   "metadata": {},
   "source": [
    "Check that the simulation finished successfully"
   ]
  },
  {
   "cell_type": "code",
   "execution_count": 44,
   "metadata": {
    "scrolled": true
   },
   "outputs": [
    {
     "name": "stdout",
     "output_type": "stream",
     "text": [
      " Timing: GwBaseflow  accumulated time--  2.2099970E-02\n",
      " *****yw******end drive_CHANNEL \n",
      " Timing: Channel Routing  accumulated time--  0.1097998    \n",
      " current time is 2014-04-24_00:00:00\n",
      " output hydrology at time : 2014-04-24_00:00:00\n",
      " yw check output restart at 2014-04-24_00:00\n",
      " yyywww using large netcdf file definition. \n",
      " before call output_chrt\n",
      " end calling output functions\n",
      " accumulated time (s):    12.0000000000000     \n"
     ]
    }
   ],
   "source": [
    "%%bash\n",
    "tail -10 ~/GLERL_Training/run_NWM_baseline/diag_hydro.00000"
   ]
  },
  {
   "cell_type": "markdown",
   "metadata": {},
   "source": [
    "**Plot the baseline hydrograph**"
   ]
  },
  {
   "cell_type": "code",
   "execution_count": 45,
   "metadata": {},
   "outputs": [],
   "source": [
    "# Load the xarray package\n",
    "%matplotlib inline\n",
    "import xarray as xr\n",
    "import matplotlib.pyplot as plt\n",
    "import pandas as pd"
   ]
  },
  {
   "cell_type": "code",
   "execution_count": 46,
   "metadata": {},
   "outputs": [],
   "source": [
    "chanobs_control = xr.open_mfdataset('/glade/u/home/lread/GLERL_Training/run_NWM_baseline/*CHANOBS*',\n",
    "                            concat_dim='time')"
   ]
  },
  {
   "cell_type": "code",
   "execution_count": 47,
   "metadata": {},
   "outputs": [],
   "source": [
    "obs = pd.read_csv('/glade/u/home/lread/GLERL_Training/run_NWM_baseline/USGS_obs.csv',dtype=str)\n",
    "obs['dateTime'] = pd.to_datetime(obs['dateTime'])\n",
    "obs['streamflow_cms'] = pd.to_numeric(obs['streamflow_cms'])"
   ]
  },
  {
   "cell_type": "code",
   "execution_count": 48,
   "metadata": {},
   "outputs": [
    {
     "data": {
      "image/png": "[encoded data removed]",
      "text/plain": [
       "<Figure size 864x432 with 1 Axes>"
      ]
     },
     "metadata": {
      "needs_background": "light"
     },
     "output_type": "display_data"
    }
   ],
   "source": [
    "fig, axes = plt.subplots(ncols=1,figsize=(12, 6))\n",
    "plt.suptitle('Hydrographs for terrain routing physics options',fontsize=24)\n",
    "chanobs_control.sel(feature_id = 12121188).streamflow.plot(label='NWM Default, Baseline',\n",
    "                                                        color='black',\n",
    "                                                        linestyle='--')\n",
    "obs[obs['site_no'] == '04124500'].plot(x='dateTime',\n",
    "                                       y='streamflow_cms',\n",
    "                                       ax=axes,\n",
    "                                       label='Observed',\n",
    "                                       color='grey')\n",
    "plt.ylim(0,30)\n",
    "plt.legend()\n",
    "plt.show()"
   ]
  },
  {
   "cell_type": "markdown",
   "metadata": {},
   "source": [
    "**We have some work to do: the peaks are not well defined and the baseflow, especially in the tail, is much too high.**\n"
   ]
  },
  {
   "cell_type": "markdown",
   "metadata": {},
   "source": [
    "**Plot the soil type**"
   ]
  },
  {
   "cell_type": "code",
   "execution_count": null,
   "metadata": {},
   "outputs": [],
   "source": [
    "# Load the geogrid dataset for reference\n",
    "geogrid = xr.open_dataset('~/GLERL_Training/run_NWM_baseline/DOMAIN/geo_em.d01.nc')"
   ]
  },
  {
   "cell_type": "code",
   "execution_count": null,
   "metadata": {},
   "outputs": [],
   "source": [
    "# Plot the dominant soil type\n",
    "fig, axes = plt.subplots(figsize=(6, 6))\n",
    "geogrid.SCT_DOM.plot(levels=17, cmap='Dark2')\n",
    "axes.set_title('Soil Type')\n",
    "plt.show()"
   ]
  },
  {
   "cell_type": "markdown",
   "metadata": {},
   "source": [
    "The top-level soil moisture state shows significant differences with and without terrain routing active. Overall, we see much more heterogeneity in the \"terrain routing on\" run (above, left) due to lateral redistribution of water. In the \"terrain routing off\" run (above, right), soil moisture distribution is largely controlled by vertical soil properties (e.g., saturated hydraulic conductivity, porosity), and you distinctly see the soil type pattern in the soil moisture states."
   ]
  },
  {
   "cell_type": "markdown",
   "metadata": {},
   "source": [
    "**Plot the mean soil moisture time series**"
   ]
  },
  {
   "cell_type": "code",
   "execution_count": 67,
   "metadata": {},
   "outputs": [],
   "source": [
    "ldasout_baseline = xr.open_mfdataset('/glade/u/home/lread/GLERL_Training/run_NWM_baseline/*.LDASOUT*',\n",
    "                            concat_dim='time')\n",
    "ldasout_mods = xr.open_mfdataset('/glade/u/home/lread/GLERL_Training/output/lesson5/run_parameter_mods/*.LDASOUT*',\n",
    "                            concat_dim='time')\n"
   ]
  },
  {
   "cell_type": "code",
   "execution_count": 68,
   "metadata": {
    "scrolled": false
   },
   "outputs": [
    {
     "data": {
      "image/png": "[encoded data removed]",
      "text/plain": [
       "<Figure size 864x432 with 1 Axes>"
      ]
     },
     "metadata": {
      "needs_background": "light"
     },
     "output_type": "display_data"
    }
   ],
   "source": [
    "# Calculate the mean bottom-layer soil moisture across the domain\n",
    "smois_basel_avg = ldasout_baseline.SOIL_M.sel(soil_layers_stag = 3).mean(dim=('y','x'))\n",
    "smois_mods_avg = ldasout_mods.SOIL_M.sel(soil_layers_stag = 3).mean(dim=('y','x'))\n",
    "\n",
    "# Plot the soil moisture time series\n",
    "fig, axes = plt.subplots(ncols=1,figsize=(12, 6))\n",
    "plt.suptitle('Average Soil Moisture: Bottom Layer',fontsize=24)\n",
    "smois_basel_avg.plot(label='Baseline', color='black', linestyle='--')\n",
    "smois_mods_avg.plot(label='Param Mods', color='blue', linestyle='--')\n",
    "\n",
    "plt.legend()\n",
    "plt.show()"
   ]
  },
  {
   "cell_type": "markdown",
   "metadata": {},
   "source": [
    "## Experiment with Modified Parameters\n",
    "There are a number of key parameters that impact water partitioning, storage, and movement through the model system. We have pulled many of the most important model parameters into NetCDF files to ease parameter display and manipulation, as well as to allow the parameters to vary independently in space. Key terrain routing parameter files include:\n",
    "* soil_properties.nc - NoahMP soil and vegetation properties (LSM grid)\n",
    "* hydro2dtbl.nc - Lateral routing model soil and surface parameters (LSM grid)\n",
    "* Fulldom_hires.nc - Lateral routing model high-res parameters (routing grid)\n",
    "* GWBUCKPARM.nc - Groundwater baseflow bucket model parameters (groundwater basin objects)\n",
    "\n",
    "In this lesson, we will manipulate parameters in the `soil_properties.nc` (*refkdt*, *dksat*, *slope*). \n",
    "\n",
    "### Step 1: Create a new template directory and and run default parameter test case\n",
    "As in the first section, we will make a new simulation directory and use this as a template for creating multiple new simulation directories. However, for these experiments to have a clean baseline unimpacted by calibration, we will use a set of domain and restart files built with default (uncalibrated) paramaters.\n",
    "\n",
    "**Step 1a: Create a new template directory for the parameter experiments.**"
   ]
  },
  {
   "cell_type": "code",
   "execution_count": null,
   "metadata": {},
   "outputs": [],
   "source": [
    "%%bash\n",
    "# Make a new directory for our default baseline simulation\n",
    "mkdir -p ~/GLERL_Training/output/lesson5/run_parameter_mods\n",
    "\n",
    "# Copy our model files to the simulation directory\n",
    "cp ~/GLERL_Training/run_NWM_template/*.TBL \\\n",
    "~/GLERL_Training/output/lesson5/run_parameter_mods\n",
    "cp ~/GLERL_Training/wrf_hydro_nwm_public/trunk/NDHMS/Run/wrf_hydro.exe \\\n",
    "~/GLERL_Training/output/lesson5/run_parameter_mods\n",
    "\n",
    "# Create symbolic links to large files\n",
    "cp -as $HOME/GLERL_Training/run_NWM_template/FORCING \\\n",
    "~/GLERL_Training/output/lesson5/run_parameter_mods\n",
    "cp -as $HOME/GLERL_Training/run_NWM_template/RESTARTS \\\n",
    "~/GLERL_Training/output/lesson5/run_parameter_mods/RESTARTS\n",
    "\n",
    "# Copy the domain/parameter files so we can modify them\n",
    "cp -r $HOME/GLERL_Training/run_NWM_template/DOMAIN \\\n",
    "~/GLERL_Training/output/lesson5/run_parameter_mods/DOMAIN\n",
    "\n",
    "# Copy namelist files\n",
    "cp ~/GLERL_Training/run_NWM_template/namelist.hrldas \\\n",
    "~/GLERL_Training/output/lesson5/run_parameter_mods\n",
    "cp ~/GLERL_Training/run_NWM_template/hydro.namelist \\\n",
    "~/GLERL_Training/output/lesson5/run_parameter_mods"
   ]
  },
  {
   "cell_type": "markdown",
   "metadata": {},
   "source": [
    "### Step 2: Modify NoahMP parameters using NCO tools\n",
    "\n",
    "We will create a new simulation directory for our parameter manipulation experiment. All of the parameter file edits will be done using NCO. NCO (NetCDF Operators, http://nco.sourceforge.net/) is a set of useful utilities to manipulate NetCDF files.\n",
    "\n",
    "**Step 2a: Setup the parameter experiment run directory**\n",
    "\n",
    "First make a new run directory where we can start modifying parameter files."
   ]
  },
  {
   "cell_type": "code",
   "execution_count": 50,
   "metadata": {},
   "outputs": [],
   "source": [
    "%%bash\n",
    "mkdir -p ~/GLERL_Training/output/lesson5/run_parameter_mods\n",
    "cp -r ~/GLERL_Training/run_NWM_template/* \\\n",
    "~/GLERL_Training/output/lesson5/run_parameter_mods/"
   ]
  },
  {
   "cell_type": "markdown",
   "metadata": {},
   "source": [
    "**Step 2b: Use the NCO command `ncap2` to modify the *refkdt* parameter values in the `soil_properties.nc` file.**\n",
    "\n",
    "**REFKDT**\n",
    "\n",
    "There are a number of model parameters that affect lateral terrain flow. One important Noah/NoahMP parameter that we commonly adjust when activating terrain routing is *refkdt*. *Refkdt* controls how easily precipitation reaching the surface infiltrates into the soil column vs. stays on the surface where it will be \"scraped\" off as surface runoff. Higher values of *refkdt* lead to more infiltration and less surface (fast) runoff. This tunable parameter can be set to a relatively high value (e.g., 3.0) suitable for running the column land surface model only. When activating terrain routing to explicitly model these processes, we often reduce this parameter. In addition, if you are calling the land surface model on a small timestep (e.g., seconds to minutes), you may want to reduce this parameter to compensate for the more frequent calls to the vertical infiltration scheme. \n",
    "\n",
    "Here we will use the NCO command `ncap2` to increase the *refkdt* value.\n",
    "\n",
    "First, we check the current parameter values using `ncdump`."
   ]
  },
  {
   "cell_type": "code",
   "execution_count": 51,
   "metadata": {},
   "outputs": [
    {
     "name": "stdout",
     "output_type": "stream",
     "text": [
      "  1, 1, 1, 1, 1, 1, 1, 1, 1, 1, 1, 1, 1, 1, 1, 1, 1, 1,\n",
      "  1, 1, 1, 1, 1, 1, 1, 1, 1, 1, 1, 1, 1, 1, 1, 1, 1, 1,\n",
      "  1, 1, 1, 1, 1, 1, 1, 1, 1, 1, 1, 1, 1, 1, 1, 1, 1, 1,\n",
      "  1, 1, 1, 1, 1, 1, 1, 1, 1, 1, 1, 1, 1, 1, 1, 1, 1, 1,\n",
      "  1, 1, 1, 1, 1, 1, 1, 1, 1, 1, 1, 1, 1, 1, 1, 1, 1, 1,\n",
      "  1, 1, 1, 1, 1, 1, 1, 1, 1, 1, 1, 1, 1, 1, 1, 1, 1, 1,\n",
      "  1, 1, 1, 1, 1, 1, 1, 1, 1, 1, 1, 1, 1, 1, 1, 1, 1, 1,\n",
      "  1, 1, 1, 1, 1, 1, 1, 1, 1, 1, 1, 1, 1, 1, 1, 1, 1, 1,\n",
      "  1, 1, 1, 1, 1, 1, 1, 1, 1, 1, 1, 1, 1, 1, 1, 1, 1, 1 ;\n",
      "}\n"
     ]
    }
   ],
   "source": [
    "%%bash\n",
    "ncdump -v refkdt ~/GLERL_Training/output/lesson5/run_parameter_mods/DOMAIN/soil_properties.nc \\\n",
    "| tail -n 10"
   ]
  },
  {
   "cell_type": "markdown",
   "metadata": {},
   "source": [
    "The default value for *refkdt* is a global 1.0. We modify the parameter values using `ncap2` to a lower value (0.5) to encourage more infiltration and slow the flow peaks."
   ]
  },
  {
   "cell_type": "code",
   "execution_count": 52,
   "metadata": {},
   "outputs": [],
   "source": [
    "%%bash\n",
    "ncap2 -O -s \"refkdt=refkdt*0.0+0.1\" \\\n",
    "~/GLERL_Training/output/lesson5/run_parameter_mods/DOMAIN/soil_properties.nc \\\n",
    "~/GLERL_Training/output/lesson5/run_parameter_mods/DOMAIN/soil_properties.nc"
   ]
  },
  {
   "cell_type": "markdown",
   "metadata": {},
   "source": [
    "We check to make sure the changes are as expected."
   ]
  },
  {
   "cell_type": "code",
   "execution_count": 53,
   "metadata": {},
   "outputs": [
    {
     "name": "stdout",
     "output_type": "stream",
     "text": [
      "    0.1, 0.1, 0.1,\n",
      "  0.1, 0.1, 0.1, 0.1, 0.1, 0.1, 0.1, 0.1, 0.1, 0.1, 0.1, 0.1, 0.1, 0.1, 0.1, \n",
      "    0.1, 0.1, 0.1,\n",
      "  0.1, 0.1, 0.1, 0.1, 0.1, 0.1, 0.1, 0.1, 0.1, 0.1, 0.1, 0.1, 0.1, 0.1, 0.1, \n",
      "    0.1, 0.1, 0.1,\n",
      "  0.1, 0.1, 0.1, 0.1, 0.1, 0.1, 0.1, 0.1, 0.1, 0.1, 0.1, 0.1, 0.1, 0.1, 0.1, \n",
      "    0.1, 0.1, 0.1,\n",
      "  0.1, 0.1, 0.1, 0.1, 0.1, 0.1, 0.1, 0.1, 0.1, 0.1, 0.1, 0.1, 0.1, 0.1, 0.1, \n",
      "    0.1, 0.1, 0.1 ;\n",
      "}\n"
     ]
    }
   ],
   "source": [
    "%%bash\n",
    "ncdump -v refkdt ~/GLERL_Training/output/lesson5/run_parameter_mods/DOMAIN/soil_properties.nc \\\n",
    "| tail -n 10"
   ]
  },
  {
   "cell_type": "markdown",
   "metadata": {},
   "source": [
    "**Step 2d: Use the NCO command `ncap2` to modify the *slope* parameter values in the `soil_properties.nc` file.**\n",
    "\n",
    "**SLOPE**\n",
    "\n",
    "Another important Noah/NoahMP parameter that we commonly adjust is *slope*. Originally estimated based on land surface topography (hence the name *slope*), the *slope* parameter actually controls how open or closed the bottom boundary of the soil column is. Values range from 0 to 1, where 0 is a completely closed bottom boundary and 1 is completely open. Lower *slope* values will keep more water in the soil column, while higher values will allow more water to drain to the channel or to deeper baseflow stores, depending on the selected baseflow physics options.\n",
    "\n",
    "As with *refkdt* and *dksat* above, we will use the NCO command `ncap2` to modify the *slope* value.\n",
    "\n",
    "First, we check the current parameter values using `ncdump`."
   ]
  },
  {
   "cell_type": "code",
   "execution_count": 54,
   "metadata": {
    "scrolled": true
   },
   "outputs": [
    {
     "name": "stdout",
     "output_type": "stream",
     "text": [
      "    0.3, 0.3, 0.3,\n",
      "  0.3, 0.3, 0.3, 0.3, 0.3, 0.3, 0.3, 0.3, 0.3, 0.3, 0.3, 0.3, 0.3, 0.3, 0.3, \n",
      "    0.3, 0.3, 0.3,\n",
      "  0.3, 0.3, 0.3, 0.3, 0.3, 0.3, 0.3, 0.3, 0.3, 0.3, 0.3, 0.3, 0.3, 0.3, 0.3, \n",
      "    0.3, 0.3, 0.3,\n",
      "  0.3, 0.3, 0.3, 0.3, 0.3, 0.3, 0.3, 0.3, 0.3, 0.3, 0.3, 0.3, 0.3, 0.3, 0.3, \n",
      "    0.3, 0.3, 0.3,\n",
      "  0.3, 0.3, 0.3, 0.3, 0.3, 0.3, 0.3, 0.3, 0.3, 0.3, 0.3, 0.3, 0.3, 0.3, 0.3, \n",
      "    0.3, 0.3, 0.3 ;\n",
      "}\n"
     ]
    }
   ],
   "source": [
    "%%bash\n",
    "ncdump -v slope ~/GLERL_Training/output/lesson5/run_parameter_mods/DOMAIN/soil_properties.nc \\\n",
    "| tail -n 10"
   ]
  },
  {
   "cell_type": "markdown",
   "metadata": {},
   "source": [
    "The default value for *slope* is a global 0.3. We modify the parameter values using `ncap2` to a lower value (0.1) to reduce the deeper baseflow component. "
   ]
  },
  {
   "cell_type": "code",
   "execution_count": 55,
   "metadata": {},
   "outputs": [
    {
     "name": "stdout",
     "output_type": "stream",
     "text": [
      "    0.1, 0.1, 0.1,\n",
      "  0.1, 0.1, 0.1, 0.1, 0.1, 0.1, 0.1, 0.1, 0.1, 0.1, 0.1, 0.1, 0.1, 0.1, 0.1, \n",
      "    0.1, 0.1, 0.1,\n",
      "  0.1, 0.1, 0.1, 0.1, 0.1, 0.1, 0.1, 0.1, 0.1, 0.1, 0.1, 0.1, 0.1, 0.1, 0.1, \n",
      "    0.1, 0.1, 0.1,\n",
      "  0.1, 0.1, 0.1, 0.1, 0.1, 0.1, 0.1, 0.1, 0.1, 0.1, 0.1, 0.1, 0.1, 0.1, 0.1, \n",
      "    0.1, 0.1, 0.1,\n",
      "  0.1, 0.1, 0.1, 0.1, 0.1, 0.1, 0.1, 0.1, 0.1, 0.1, 0.1, 0.1, 0.1, 0.1, 0.1, \n",
      "    0.1, 0.1, 0.1 ;\n",
      "}\n"
     ]
    }
   ],
   "source": [
    "%%bash\n",
    "ncap2 -O -s \"slope=slope*0+0.1\" \\\n",
    "~/GLERL_Training/output/lesson5/run_parameter_mods/DOMAIN/soil_properties.nc \\\n",
    "~/GLERL_Training/output/lesson5/run_parameter_mods/DOMAIN/soil_properties.nc\n",
    "ncdump -v slope ~/GLERL_Training/output/lesson5/run_parameter_mods/DOMAIN/soil_properties.nc \\\n",
    "| tail -n 10"
   ]
  },
  {
   "cell_type": "markdown",
   "metadata": {},
   "source": [
    "### Step 3: Modify terrain routing parameters using NCO tools\n",
    "\n",
    "Now we will turn our attention to the parameters that affect lateral routing behavior.\n",
    "\n",
    "**Step 3a: Use the NCO command `ncap2` to modify the *LKSATFAC* parameter values in the `Fulldom_hires.nc` file**\n",
    "\n",
    "**LKSATFAC**\n",
    "\n",
    "The Fulldom_hires.nc file contains two parameters that are also important for lateral flow processes. The *LKSATFAC* parameter is a multiplier on the prescribed lateral saturated hydraulic conductivity values specified in `hydro2dtbl.nc`. By default, lateral conductivity in `hydro2dtbl.nc` matches vertical conductivity specified in `soil_properties.nc`. However, in the real world we frequently see many orders of magnitude higher conductivities in the lateral direction vs. the vertical direction (due to soil stratigraphy, preferential flowpaths caused by roots and animals, etc.). *LKSATFAC* is an easy way to adjust this anisotropy, and by default it is set to 1,000.\n",
    "\n",
    "We will use the NCO command `ncap2` to increase the *LKSATFAC* value by a factor of 15.\n",
    "\n",
    "First, we check the current parameter values."
   ]
  },
  {
   "cell_type": "code",
   "execution_count": 56,
   "metadata": {},
   "outputs": [
    {
     "name": "stdout",
     "output_type": "stream",
     "text": [
      "    1000, 1000, 1000, 1000, 1000, 1000, 1000, 1000, 1000, 1000, 1000, 1000, \n",
      "    1000, 1000, 1000, 1000, 1000, 1000, 1000, 1000, 1000, 1000, 1000, 1000, \n",
      "    1000, 1000, 1000, 1000, 1000, 1000, 1000, 1000, 1000, 1000, 1000, 1000,\n",
      "  1000, 1000, 1000, 1000, 1000, 1000, 1000, 1000, 1000, 1000, 1000, 1000, \n",
      "    1000, 1000, 1000, 1000, 1000, 1000, 1000, 1000, 1000, 1000, 1000, 1000, \n",
      "    1000, 1000, 1000, 1000, 1000, 1000, 1000, 1000, 1000, 1000, 1000, 1000, \n",
      "    1000, 1000, 1000, 1000, 1000, 1000, 1000, 1000, 1000, 1000, 1000, 1000, \n",
      "    1000, 1000, 1000, 1000, 1000, 1000, 1000, 1000, 1000, 1000, 1000, 1000, \n",
      "    1000, 1000, 1000, 1000, 1000, 1000, 1000, 1000, 1000, 1000, 1000, 1000 ;\n",
      "}\n"
     ]
    }
   ],
   "source": [
    "%%bash\n",
    "ncdump -v LKSATFAC ~/GLERL_Training/output/lesson5/run_parameter_mods/DOMAIN/Fulldom_hires.nc \\\n",
    "| tail -n 10"
   ]
  },
  {
   "cell_type": "code",
   "execution_count": 57,
   "metadata": {},
   "outputs": [
    {
     "name": "stdout",
     "output_type": "stream",
     "text": [
      "    10000, 10000,\n",
      "  10000, 10000, 10000, 10000, 10000, 10000, 10000, 10000, 10000, 10000, \n",
      "    10000, 10000, 10000, 10000, 10000, 10000, 10000, 10000, 10000, 10000, \n",
      "    10000, 10000, 10000, 10000, 10000, 10000, 10000, 10000, 10000, 10000, \n",
      "    10000, 10000, 10000, 10000, 10000, 10000, 10000, 10000, 10000, 10000, \n",
      "    10000, 10000, 10000, 10000, 10000, 10000, 10000, 10000, 10000, 10000, \n",
      "    10000, 10000, 10000, 10000, 10000, 10000, 10000, 10000, 10000, 10000, \n",
      "    10000, 10000, 10000, 10000, 10000, 10000, 10000, 10000, 10000, 10000, \n",
      "    10000, 10000 ;\n",
      "}\n"
     ]
    }
   ],
   "source": [
    "%%bash\n",
    "ncap2 -O -s \"LKSATFAC=LKSATFAC*10\" \\\n",
    "~/GLERL_Training/output/lesson5/run_parameter_mods/DOMAIN/Fulldom_hires.nc \\\n",
    "~/GLERL_Training/output/lesson5/run_parameter_mods/DOMAIN/Fulldom_hires.nc\n",
    "ncdump -v LKSATFAC ~/GLERL_Training/output/lesson5/run_parameter_mods/DOMAIN/Fulldom_hires.nc \\\n",
    "| tail -n 10"
   ]
  },
  {
   "cell_type": "markdown",
   "metadata": {},
   "source": [
    "**Step 2c: Use the NCO command `ncap2` to modify the *dksat* parameter values in the `soil_properties.nc` file.**\n",
    "\n",
    "**DKSAT**\n",
    "\n",
    "As with most physically-based hydrological models, the soil saturated hydraulic conductivity (*dksat*) controls the speed at which water moves through the subsurface. This is a sensitive parameter in the model, and while easy to measure at the point scale, *dksat* is tricky to estimate at the scale of kilometers. In the NWM, initial values are estimated based on soil texture class, but reported ranges have large (many orders of magnitude) variability. This is a common calibration parameter, along with the related *bexp* parameter that controls how actual conductivity is scaled from saturated conductivity based on soil water content.\n",
    "\n",
    "Here we will use the NCO command `ncap2` to deccrease the *dksat* value by a factor, 0.7.\n",
    "\n",
    "We check the current parameter values using `ncdump`, then modify it."
   ]
  },
  {
   "cell_type": "code",
   "execution_count": null,
   "metadata": {},
   "outputs": [],
   "source": [
    "%%bash \n",
    "ncdump -v dksat ~/GLERL_Training/output/lesson5/run_parameter_mods/DOMAIN/soil_properties.nc \\\n",
    "| tail -n 10"
   ]
  },
  {
   "cell_type": "code",
   "execution_count": 58,
   "metadata": {},
   "outputs": [
    {
     "name": "stdout",
     "output_type": "stream",
     "text": [
      "    7.32200023776386e-06, 7.32200023776386e-06, 7.32200023776386e-06, \n",
      "    7.32200023776386e-06, 6.52399976388551e-05, 6.52399976388551e-05, \n",
      "    6.52399976388551e-05, 6.52399976388551e-05, 6.52399976388551e-05,\n",
      "  4.73199993393791e-06, 4.73199993393791e-06, 6.52399976388551e-05, \n",
      "    6.52399976388551e-05, 6.52399976388551e-05, 6.52399976388551e-05, \n",
      "    7.32200023776386e-06, 7.32200023776386e-06, 7.32200023776386e-06, \n",
      "    7.32200023776386e-06, 7.32200023776386e-06, 7.32200023776386e-06, \n",
      "    7.32200023776386e-06, 7.32200023776386e-06, 7.32200023776386e-06, \n",
      "    7.32200023776386e-06, 7.32200023776386e-06, 7.32200023776386e-06 ;\n",
      "}\n"
     ]
    }
   ],
   "source": [
    "%%bash\n",
    "ncap2 -O -s \"dksat=dksat*0.7\" \\\n",
    "~/GLERL_Training/output/lesson5/run_parameter_mods/DOMAIN/soil_properties.nc \\\n",
    "~/GLERL_Training/output/lesson5/run_parameter_mods/DOMAIN/soil_properties.nc\n",
    "ncdump -v dksat ~/GLERL_Training/output/lesson5/run_parameter_mods/DOMAIN/soil_properties.nc \\\n",
    "| tail -n 10"
   ]
  },
  {
   "cell_type": "markdown",
   "metadata": {},
   "source": [
    "**Step 3b: Run the simulation**\n",
    "\n",
    "Now we are ready to run a simulation with our new modified parameters."
   ]
  },
  {
   "cell_type": "code",
   "execution_count": 59,
   "metadata": {},
   "outputs": [],
   "source": [
    "%%bash\n",
    "cd ~/GLERL_Training/output/lesson5/run_parameter_mods\n",
    "mpirun -np 2 ./wrf_hydro.exe >> run.log 2>&1"
   ]
  },
  {
   "cell_type": "markdown",
   "metadata": {},
   "source": [
    "Check to make sure your run completed successfully."
   ]
  },
  {
   "cell_type": "code",
   "execution_count": 60,
   "metadata": {
    "scrolled": true
   },
   "outputs": [
    {
     "name": "stdout",
     "output_type": "stream",
     "text": [
      " accumulated time (s):    14.0000000000000     \n"
     ]
    }
   ],
   "source": [
    "%%bash\n",
    "tail -1 ~/GLERL_Training/output/lesson5/run_parameter_mods/diag_hydro.00000"
   ]
  },
  {
   "cell_type": "markdown",
   "metadata": {},
   "source": [
    "### Results\n",
    "We will now look at the differences in streamflow between our baseline run with default parmeters and the simulation using our new modified parameters.\n",
    "\n",
    "We will use Python and the `xarray` library to load the data and plot hydrographs. For an intro to these tools, please see Lesson 3."
   ]
  },
  {
   "cell_type": "markdown",
   "metadata": {},
   "source": [
    "**Load the CHANOBS streamflow datasets**\n",
    "\n",
    "We are going to use the CHANOBS files because it will limit the number of reaches to only those which we have specified have a gage."
   ]
  },
  {
   "cell_type": "code",
   "execution_count": 61,
   "metadata": {},
   "outputs": [],
   "source": [
    "# Load the xarray package\n",
    "%matplotlib inline\n",
    "import xarray as xr\n",
    "import matplotlib.pyplot as plt\n",
    "import pandas as pd\n",
    "chanobs_control = xr.open_mfdataset('/glade/u/home/lread/GLERL_Training/run_NWM_baseline/*CHANOBS*',\n",
    "                            concat_dim='time')"
   ]
  },
  {
   "cell_type": "code",
   "execution_count": 62,
   "metadata": {},
   "outputs": [],
   "source": [
    "# Pull the channel output files into xarray objects \n",
    "chanobs_mod_params = xr.open_mfdataset('/glade/u/home/lread/GLERL_Training/output/lesson5/run_parameter_mods/*CHANOBS*',\n",
    "                            concat_dim='time')"
   ]
  },
  {
   "cell_type": "code",
   "execution_count": 63,
   "metadata": {},
   "outputs": [],
   "source": [
    "obs = pd.read_csv('~/GLERL_Training/run_NWM_template/USGS_obs.csv',dtype=str)\n",
    "obs['dateTime'] = pd.to_datetime(obs['dateTime'])\n",
    "obs['streamflow_cms'] = pd.to_numeric(obs['streamflow_cms'])"
   ]
  },
  {
   "cell_type": "markdown",
   "metadata": {},
   "source": [
    "**Plot the hydrographs**"
   ]
  },
  {
   "cell_type": "code",
   "execution_count": 65,
   "metadata": {},
   "outputs": [
    {
     "data": {
      "image/png": "[encoded data removed]",
      "text/plain": [
       "<Figure size 864x432 with 1 Axes>"
      ]
     },
     "metadata": {
      "needs_background": "light"
     },
     "output_type": "display_data"
    }
   ],
   "source": [
    "fig, axes = plt.subplots(ncols=1,figsize=(12, 6))\n",
    "plt.suptitle('Hydrographs for parameter experiment',fontsize=24)\n",
    "chanobs_control.sel(feature_id = 12121188).streamflow.plot(label='Control',\n",
    "                                                        color='black',\n",
    "                                                        linestyle='--')\n",
    "chanobs_mod_params.sel(feature_id = 12121188).streamflow.plot(label='Parameter Modifications\\n(refkdt=0.1, slope=0.1,LKSATFAC*10,dksat*0.7)',\n",
    "                                                        color='blue',\n",
    "                                                        linestyle='-')\n",
    "obs[obs['site_no'] == '04124500'].plot(x='dateTime',\n",
    "                                       y='streamflow_cms',\n",
    "                                       ax=axes,\n",
    "                                       label='Observed',\n",
    "                                       color='grey')\n",
    "plt.ylim(0,40)\n",
    "plt.legend()\n",
    "plt.show()"
   ]
  },
  {
   "cell_type": "markdown",
   "metadata": {},
   "source": [
    "### Discussion\n",
    "We abbreviated this parameter calibration exercise to fit within a short lesson. In practice, you would want to give the model time to adjust to a new parameter set by running an extended \"spin-up\" period before the time period you are evaluating. You would also want to expose the model to a wider range of conditions than the short event demostrated here. Model parameters calibrated to a short event may not transfer well to other time periods. Good practice is to calibrate your model to a wide range of conditions to minimize the impacts of forcing, gage, or model physics/parameter uncertainties."
   ]
  },
  {
   "cell_type": "markdown",
   "metadata": {},
   "source": [
    "# Next up - Do it yourself!\n",
    "This concludes Lesson 5a. Spend some time creating your own parameter and physics experiments.\n",
    "\n",
    "**IT IS BEST TO EITHER SHUTDOWN THIS LESSON OR CLOSE IT BEFORE PROCEEDING TO THE NEXT LESSON TO AVOID POSSIBLY EXCEEDING ALLOCATED MEMORY. Shutdown the lesson be either closing the browser tab for the lesson or selecting `KERNAL->SHUTDOWN` in the jupyter notebook toolbar.**"
   ]
  }
 ],
 "metadata": {
  "kernelspec": {
   "display_name": "Python 3",
   "language": "python",
   "name": "python3"
  },
  "language_info": {
   "codemirror_mode": {
    "name": "ipython",
    "version": 3
   },
   "file_extension": ".py",
   "mimetype": "text/x-python",
   "name": "python",
   "nbconvert_exporter": "python",
   "pygments_lexer": "ipython3",
   "version": "3.6.8"
  },
  "toc": {
   "base_numbering": 1,
   "nav_menu": {},
   "number_sections": true,
   "sideBar": true,
   "skip_h1_title": true,
   "title_cell": "Table of Contents",
   "title_sidebar": "Contents",
   "toc_cell": true,
   "toc_position": {
    "height": "calc(100% - 180px)",
    "left": "10px",
    "top": "150px",
    "width": "414px"
   },
   "toc_section_display": true,
   "toc_window_display": true
  }
 },
 "nbformat": 4,
 "nbformat_minor": 2
}
