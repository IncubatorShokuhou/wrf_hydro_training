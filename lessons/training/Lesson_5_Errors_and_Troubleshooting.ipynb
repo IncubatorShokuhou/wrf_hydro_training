{
 "cells": [
  {
   "cell_type": "markdown",
   "metadata": {},
   "source": [
    "# Lesson 5 - Errors and Troubleshooting STATUS-- NOT STARTED"
   ]
  },
  {
   "cell_type": "markdown",
   "metadata": {},
   "source": [
    "## Introduction"
   ]
  },
  {
   "cell_type": "markdown",
   "metadata": {},
   "source": [
    "In this lesson we would try to provide a list of possible errors that you might run into and provide information on how to address those issues as they arise. Also note that some warnings might seem like an error but are actually warnings or system glitches. We break down the errors to 4 sections, depending on the procedure that they might occur. \n",
    "* Initialization \n",
    "* SpinUP\n",
    "* Calibration \n",
    "* Validation "
   ]
  },
  {
   "cell_type": "markdown",
   "metadata": {},
   "source": [
    "## Initialization "
   ]
  },
  {
   "cell_type": "code",
   "execution_count": null,
   "metadata": {},
   "outputs": [],
   "source": []
  },
  {
   "cell_type": "code",
   "execution_count": null,
   "metadata": {},
   "outputs": [],
   "source": []
  },
  {
   "cell_type": "code",
   "execution_count": 1,
   "metadata": {},
   "outputs": [],
   "source": [
    "#_______DEV ARCHIVE_________\n"
   ]
  },
  {
   "cell_type": "markdown",
   "metadata": {},
   "source": [
    "## Introduction \n",
    "\n",
    "In this lesson we would try to provide a list of possible erorrs that you might run into and provide information on how to address those issues if you faced it. Also some warning that might seem like an error but they are not errors in fact, and are warnings or system glitches. We break down the errors to 4 sections, depending on the procedure that they might occure. \n",
    "* Initialization \n",
    "* SpinUP\n",
    "* Calibration \n",
    "* Validation \n",
    "\n",
    "## Initialization \n",
    "\n",
    "There are few things that could cause error in the initialization steps (covered in Lesson 2), few of them were mentioned in Lesson 2 and we will review them here also. \n",
    "\n",
    "# PATRICK: I am going to number the issues and leave you title ... Please try to explain it or recreate the error if possible, \n",
    "# For the ones that have editing, let s not count on opening vi, and just use the ptyhon/bash commands to edit the file. If you need example, there should be in the old training lessons, where we changed namelist options. If you do not know how, ask me and I will look for it. \n",
    "\n",
    "Issue 1: (Hands on) What if the database exists? --- hands on, Patrick add a cell where you call the initDB and try to create a database that already exist (from Lesson 2)\n",
    "\n",
    "For 2 and 3, lets create a copy of the domainMeta.csv and make the edits in there to avoid losing the right file. \n",
    "Issue 2: (Hands on) What if the doaminMeta does not have a column name right, for example change the name of the column gageId and see what happens. \n",
    "\n",
    "Issue 3; (Hands on) What if the domainMeta is missing an required values, for example the value for gageId is missing or another attribute. \n",
    "\n",
    "\n",
    "For the following issues, if it ivolves editing the setup.parm file, let s make a copy of the file and edit that. \n",
    "Issue 4: What if the run directory specified in the setup file does not exist? (smaple: *ERROR: Failure to create directory: /glade/scratch/arezoo/RFC_Training2/01447680*) \n",
    "\n",
    "Issue 5: What if the run directory was created in in a previous trial (Sample: ERROR: Top level directory: /glade/u/home/arezoo/scratch/NWM_V30_CALIB_SOIL/NC_Soil_Regular already exists\n",
    ") \n",
    "\n",
    "Issue 6: (HAnds on), what if one of the options in the setup.parm file does not exist? Let s for example comment out the line for enableMask = 0, and see what happens. \n",
    "\n",
    "Issue 7: (NOT PRIORITY: Hands on), what if there are more options than reqried, lets add something to the setup file. I am not sure if this throws any erro though... \n",
    "\n",
    "Issue 8: (Hands on) What if the path to one of the necessary files does not exist like the wrfHydroexe file or any of the TBL files. Even if they are not required, they should be there execpt from the urbn and veg ones that I edited the code right now to handle that condition. \n",
    "\n",
    "Issue 9:(Hands on) What if we try to enter job IDs in the database (same numbers)? (sample; ERROR: Information for this job has already been entered as job ID: 100\n",
    ")\n",
    "\n",
    "#### Subheader:\n",
    "Text\n"
   ]
  },
  {
   "cell_type": "markdown",
   "metadata": {},
   "source": [
    "\n",
    "# SPINUP\n",
    "\n",
    "There are few things that could cause error in the SPINUP (covered in Lesson 3). Usually there are two types of errors that could happen at this stage, 1- The WRF-Hydro model crashes, 2- The calibration workflow (r parts of it) crashes. Depending on which one crashes, a LOCK file will be created. If the model crashes, the file will be called `RUN.LOCK` and it will be placed under the `RUN.SPINIP` directory. If the calibration workflow crashes, then a LOCK file called `CALIB.LOCK` will be created and is placed under the `RUN.SPINUP` directory. The workflow will be running in the background but since there is LOCK file, it will not do anything and will hold still till you fix the issue and remove the LOCK file. After removing the LOCK file, the procedure will restart and pick up from it was left. \n",
    "\n",
    "\n",
    "Issue 1: What if a R library is missed? Patrick: you ran into this issue, so fix it based on our conversation before. \n",
    "\n",
    "Issue 2: What if the model run failes? (Sample error : ERROR: SIMULATION FOR GAGE: 01548500 HAS FAILED A SECOND TIME. PLEASE FIX ISSUE AND MANUALLY REMOVE LOCK FILE: /glade/scratch/arezoo/NWM_V30_CALIB/RUN_4_big/01548500/RUN.SPINUP/RUN.LOCK)\n",
    "* where to find the error file, and what could be causes?\n",
    "\n",
    "\n",
    "Issue 3: What if the calib code fails? -- Not sure how to do it. (sample: \n",
    "(calib) [arezoo@cheyenne5 OUTPUT]$  cat WH_CALIB_112_17.err\n",
    "Loading required package: zoo\n",
    "Attaching package: 'zoo'\n",
    "The following objects are masked from 'package:base':\n",
    "   as.Date, as.Date.numeric\n",
    "Loading required package: fitdistrplus\n",
    "Loading required package: MASS\n",
    "Loading required package: survival\n",
    "Error in approx(x = fobj$par$modq[, 1], y = fobj$par$fitq[, 1], xout = x[wet],  :\n",
    " need at least two non-NA values to interpolate\n",
    "Calls: CalcSmCDF -> doQmapQUANT -> doQmapQUANT.default -> approx\n",
    "In addition: There were 50 or more warnings (use warnings() to see the first 50)\n",
    "Execution halted\n",
    "\n",
    "\n",
    "Grid ID is hard-coded to 1 in the calibration workflow - need to make sure wrfinput grid_id (global attribute) is set to 1 so both are consistent\n",
    "\n",
    "Both RESTART and HYDRO_RST files needs to exist with GRID ID of 1 \n",
    "\n",
    "Infinite Loop problem: Model fails when start/end is not at beginning of month (gets stuck in endless loop)\n",
    "\n",
    "\n"
   ]
  },
  {
   "cell_type": "markdown",
   "metadata": {},
   "source": [
    "\n",
    "# Calibration \n",
    "ERROR: SIMULATION FOR GAGE: 01548500 HAS FAILED A SECOND TIME. PLEASE FIX ISSUE AND MANUALLY REMOVE LOCK FILE: /glade/scratch/arezoo/NWM_V30_CALIB/RUN_4_big/01548500/RUN.CALIB/RUN.LOCK\n",
    "\n",
    "ERROR: Calibration Scripts failed a second time for gage: 01490000 Iteration: 0 Failed. Please remove LOCKFILE: /glade/u/home/arezoo/scratch/NWM_V30_CALIB_SOIL/NC_Soil_Regular/01490000/RUN.CALIB/CALIB.LOCK\n",
    "\n",
    "What is the calib_workflow fails?  CALIB.LOCK \n",
    "What if the model fails .. where is the RUN.LOCK file \n",
    "How to run cakib_workflow to diagnose?!!\n",
    "How to change the obs files after setup is complete?\n",
    "load(\"proj_data.Rdata\")\n",
    "library(data.table)\n",
    "obsStreamData <- as.data.table(get(load(paste0(runDir, \"/OBS/obsStrData.Rdata\"))))\n",
    "save.image(\"proj_data.Rdata\")\n",
    "\n",
    "\n"
   ]
  },
  {
   "cell_type": "markdown",
   "metadata": {},
   "source": [
    "# validation \n",
    "\n",
    "What is the valid_workflow fails?  CALIB.LOCK \n",
    "What if the model fails .. where is the RUN.LOCK file \n",
    "How to run valid_workflow to diagnose?\n"
   ]
  },
  {
   "cell_type": "markdown",
   "metadata": {},
   "source": [
    "# Random Warnings: \n",
    "\n",
    "Unable to remove old run script file: /glade/scratch/arezoo/RFC_Training2/run_group_0_CTRL.sh\n",
    "\n",
    "ERROR: Unable to create symbolic link to urban parameter table.\n",
    "ERROR: Unable to update calibration status for job ID: 4 domainID: 28 Iteration: 430\n",
    "ERROR: Failure to enter value for parameter: bexp jobID: 4 domainID: 40 iteration: 451\n",
    "ERROR: Unable to query domain meta table for gages metadata.\n",
    "ERROR: Expected calibration table: /glade/scratch/arezoo/NWM_V30_CALIB/RUN_2_small/03140000/RUN.CALIB/params_stats.txt not found.\n",
    "\n"
   ]
  },
  {
   "cell_type": "markdown",
   "metadata": {},
   "source": [
    "# What are the type of erros that the worflow does not get. "
   ]
  },
  {
   "cell_type": "markdown",
   "metadata": {},
   "source": [
    "# what are the bugs that will be addressed ....\n",
    "The Final_Parameters is not from the best iteration, it is actually from the best_iteration + 1, the copy happens one iteration after …. This was also happening in our R/shell version but I could not figure out the reasoning then. "
   ]
  },
  {
   "cell_type": "markdown",
   "metadata": {},
   "source": [
    "## Conclusion:\n",
    "\n",
    "Once all Input and Setup files are prepared, and verified, we can begin the process of setting up a calibration. Proceed to *Lesson 1 - Calibration Overview*"
   ]
  },
  {
   "cell_type": "code",
   "execution_count": null,
   "metadata": {},
   "outputs": [],
   "source": [
    "### DEV_ END"
   ]
  },
  {
   "cell_type": "code",
   "execution_count": null,
   "metadata": {},
   "outputs": [],
   "source": [
    "# table template"
   ]
  },
  {
   "cell_type": "markdown",
   "metadata": {},
   "source": [
    "| Filename | Description | Source | Required for NWM V2.0 |\n",
    "| ------------- | ------------- | ------------- | ------------- |"
   ]
  },
  {
   "cell_type": "code",
   "execution_count": null,
   "metadata": {},
   "outputs": [],
   "source": []
  }
 ],
 "metadata": {
  "kernelspec": {
   "display_name": "Python 3 (ipykernel)",
   "language": "python",
   "name": "python3"
  },
  "language_info": {
   "codemirror_mode": {
    "name": "ipython",
    "version": 3
   },
   "file_extension": ".py",
   "mimetype": "text/x-python",
   "name": "python",
   "nbconvert_exporter": "python",
   "pygments_lexer": "ipython3",
   "version": "3.8.10"
  },
  "toc": {
   "base_numbering": 1,
   "nav_menu": {},
   "number_sections": true,
   "sideBar": true,
   "skip_h1_title": true,
   "title_cell": "Table of Contents",
   "title_sidebar": "Contents",
   "toc_cell": true,
   "toc_position": {},
   "toc_section_display": true,
   "toc_window_display": false
  }
 },
 "nbformat": 4,
 "nbformat_minor": 4
}
