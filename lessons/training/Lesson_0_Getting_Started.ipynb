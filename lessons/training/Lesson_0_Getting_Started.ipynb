{
 "cells": [
  {
   "cell_type": "markdown",
   "source": [
    "# Lesson 0 - Getting Started"
   ],
   "metadata": {}
  },
  {
   "cell_type": "markdown",
   "source": [
    "## Overview\n",
    "\n",
    "In this training, we aim to walk you through a hands-on calibration experiment with the Poconos watershed. Specifically, we will be calibrating the basin using observed and modeled streamflow at two USGS locations over a few months in 2011 and validate ove the remaining period in 2011. This is just for demonstration purposes and not the common practice on NWM calibration. In fact, the calibration of the NWM is done using a 5-year period in order to cover different climate regimes in the calibration period. Details of domains, calibration experiments for this exercise will be provided in this and the upcoming lessons. \n",
    "\n",
    "The calibration procedure relies on a python library named PyWrfHydroCalib, which explicitly handles the setup, model tuning, and provides diagnostics supporting the calibration process. This lesson is intended to provide an overview of few key definitions, system requirements, and orienting you through the calibration material provided to you. We will describe the calibration procedure and steps fundementals in Lesson 1 and follow up with hands-on experiment in Lesson 3 and 4 where we will setup, calibrate and validate a small domain."
   ],
   "metadata": {}
  },
  {
   "cell_type": "markdown",
   "source": [
    "## What Is It? Defining Key Terms:\n",
    "### WRF-Hydro: \n",
    "An open-source community model, is used for a range of projects, including flash flood prediction, regional hydroclimate impacts assessment, seasonal forecasting of water resources, and land-atmosphere coupling studies. \n",
    "\n",
    "### The National Water Model (NWM):\n",
    "A joint development effort between the National Center for Atmospheric Research (NCAR) and the National Weather Service (NWS) Office of Water Prediction (OWP). The NWM is a set of operational analysis and forecast configurations of the WRF-Hydro modeling system (Gochis et al., 2013) which runs over the entire continental United States (https://water.noaa.gov/about/nwm) as well as Hawaii and Puerto Rico. Alaska will also become operational in NWMv30. \n",
    "\n",
    "### PyWrfHydroCalib:\n",
    "A robust workflow for calibrating parameters over individual basins with a focus on automating the process for hundreds of forecast points in the NWM domain. Here, we describe the various steps involved in setting up a WRF-Hydro calibration experiment, along with how to execute the calibration workflow and access the various results from it. This version of the calibration workflow is the RnD branch of the NWMv30 calibration and it not yet finalized and official. There are still developments and code improvement underway and it will be finalized before our official NWMV30 onborading, which is scheduled for Jan 2022. "
   ],
   "metadata": {}
  },
  {
   "cell_type": "markdown",
   "source": [
    "## PyWrfHydroCalib System Requirements\n",
    "Calibration goes beyond setting up the NWM or WRF-Hydro for a model simulation. Some understanding of the preparation of datasets, hydrologic parameters, and their associated impact on model states is needed. You will decide which parameters to calibrate, along with the proper ranges, and the length of the calibration simulation/evaluation period. It is highly encouraged that you run sensitivity analysis for the modeling domain to explore which parameters have significant impact on the modeled states being calibrated. \n",
    "\n",
    "\n",
    "### Software and conventions\n",
    "#### Python Packages:\n",
    "To run the calibration workflow, there are multiple software requirements and pre-processing steps that need to take place prior to actual calibration. Currently, the calibration workflow relies on a set of Python and R libraries to execute various functions and plotting capabilities. This is in addition to existing requirements to compile and run WRF-Hydro/NWM. As of early 2019, the calibration workflow code has been migrated from Python 2 to Python 3. The following Python libraries are used by the workflow:\n",
    "\n",
    "1.) numpy\n",
    "2.) NetCDF4 (for Python)\n",
    "3.) pandas\n",
    "4.) psutil\n",
    "5.) psycopg2\n",
    "6.) xarray\n"
   ],
   "metadata": {}
  },
  {
   "cell_type": "code",
   "execution_count": null,
   "source": [
    "# Optional: Verify Python Libraries\n",
    "import numpy\n",
    "import netCDF4\n",
    "import pandas\n",
    "import psutil\n",
    "import psycopg2\n",
    "import xarray\n",
    "print('all python packages accounted for')"
   ],
   "outputs": [],
   "metadata": {}
  },
  {
   "cell_type": "markdown",
   "source": [
    "#### R Libraries\n",
    "For R, there are several additional libraries required for proper analysis and plotting to take place. The following R libraries are needed for proper execution:\n",
    "\n",
    "1.) data.table\n",
    "2.) ggplot2\n",
    "3.) ncdf4\n",
    "4.) plyr\n",
    "5.) boot\n",
    "6.) sensitivity\n",
    "7.) randtoolbox\n",
    "8.) gridExtra\n",
    "9.) hydroGOF\n",
    "10.) qmap \n",
    "11.) zoo  \n",
    "12.) raster "
   ],
   "metadata": {}
  },
  {
   "cell_type": "code",
   "execution_count": 5,
   "source": [
    "# Verify R libraries (for Jupyter notebook on Cheyenne, switch to R kernel for now, will be updated for docker notebook)\n",
    "library(data.table)\n",
    "library(ggplot2)\n",
    "library(ncdf4)\n",
    "library(plyr)\n",
    "library(gridExtra)\n",
    "library(hydroGOF)\n",
    "library(qmap)\n",
    "library(zoo)\n",
    "library(raster)\n",
    "library(boot)        # used for the sensitivity analysis \n",
    "library(sensitivity) # used for the sensitivity analysis \n",
    "library(randtoolbox) # used for the sensitivity analysis "
   ],
   "outputs": [
    {
     "output_type": "error",
     "ename": "ERROR",
     "evalue": "Error in library(data.table): there is no package called ‘data.table’\n",
     "traceback": [
      "Error in library(data.table): there is no package called ‘data.table’\nTraceback:\n",
      "1. library(data.table)",
      "2. stop(txt, domain = NA)"
     ]
    }
   ],
   "metadata": {}
  },
  {
   "cell_type": "markdown",
   "source": [
    "### Prerequisites:\n",
    "1. Installation of the WRF-Hydro/NWM modeling system (use a version that is pointed out in the release notes of the package) See the 'WRF-Hydro Technical Description and User Guide' available from the WRF-Hydro Modeling System website for details: https://ral.ucar.edu/projects/wrf_hydro. \n",
    "\n",
    "1.  Preparation of a modeling domain. \n",
    "\n",
    "1.  Preparation of associated forcing files necessary to run the model simulations. \n",
    "\n",
    "1.  Preparation of input observation files that will be used in the calibration workflow. Further detail regarding required input files can be found in the PyWrfHydroCalib can be found in the User Manual. \n",
    "\n",
    "**--> All of these files are provided for you in this training. We have provided the WRF-Hydro code that has already compiled. There is also a supllemental lesson (Lesson-S1-wrf_hydro_compile.ipynb) that walk you through the model compilation if you wish to do so.**\n",
    "\n",
    "### Which files will be updated during calibration\n",
    "\n",
    "During the calibration process we will be updating that parameters that exist in one of the followign files. \n",
    "\n",
    "*soil_properties.nc* :\n",
    "A 2D property file that contains values impacting sub-surface hydrologic response.\n",
    "\n",
    "*HYDRO_TBL_2D.nc* :\n",
    "The 2D NetCDF of surface hydrologic parameters impacting hydrologic response for overland flow routing.\n",
    "\n",
    "*Fulldom.nc* :\n",
    "The 2D geospatial fabric utilized for the high-resolution routing.\n",
    "\n",
    "*GWBUCKPARM.nc* : \n",
    "Groundwater bucket parameter file.\n",
    "\n",
    "These files are located in the domain directory that are prepared for you, and will be discussed in details later. \n",
    "\n",
    "\n",
    "## Orientation to training material\n",
    "\n",
    "All the required codes and domain files are being prepared for you in advance. Let s take a look at the content of the materials. \n"
   ],
   "metadata": {}
  },
  {
   "cell_type": "code",
   "execution_count": 5,
   "source": [
    "%%bash\n",
    "cd /home/docker\n",
    "ls"
   ],
   "outputs": [
    {
     "output_type": "stream",
     "name": "stdout",
     "text": [
      "example_case\n",
      "lessons\n",
      "miniconda3\n",
      "PyWrfHydroCalib\n",
      "wrf_hydro_nwm_public\n"
     ]
    }
   ],
   "metadata": {}
  },
  {
   "cell_type": "markdown",
   "source": [
    "**wrf_hydro_nwm_public**: this directory has the WRF_Hydro code that is already compiled for you. Refer to supplemntal lesson (Lesson-S1-wrf_hydro_compile.ipynb) for details on how to compile the model. Lets take a look at the content of the `Run` folder that is created after model compilations and contains the model exectuable as well as namelists and table files that are compatiable with the compiled version of the code. *Note* that we will use the TBL files from this `Run` directory, however, the namelists will be generated by the python workflow (PyWrfHydroCalib). "
   ],
   "metadata": {}
  },
  {
   "cell_type": "code",
   "execution_count": null,
   "source": [
    "%%bash\n",
    "ls /home/docker/example_case/wrf_hydro_nwm_public/trunk/NDHMS/Run"
   ],
   "outputs": [],
   "metadata": {}
  },
  {
   "cell_type": "code",
   "execution_count": 4,
   "source": [
    "%%bash\n",
    "ls /home/docker/example_case/Calibration/Input_Files/01447720/"
   ],
   "outputs": [
    {
     "output_type": "stream",
     "name": "stdout",
     "text": [
      "FORCING\n",
      "Fulldom.nc\n",
      "geo_em.nc\n",
      "GEOGRID_LDASOUT_Spatial_Metadata.nc\n",
      "GWBUCKPARM.nc\n",
      "HYDRO_TBL_2D.nc\n",
      "LAKEPARM.nc\n",
      "OBS\n",
      "params.txt\n",
      "RouteLink.nc\n",
      "RouteLink.reExpFrom.Rdb\n",
      "RouteLink.reExp.nc\n",
      "RouteLink.reExpTo.Rdb\n",
      "RouteLink.reInd.Rdb\n",
      "script_forcing_subset.txt\n",
      "script_forcing_subset.txt_NWM_REALTIME\n",
      "soil_properties.nc\n",
      "spatialweights.nc\n",
      "wrfinput.nc\n"
     ]
    }
   ],
   "metadata": {}
  },
  {
   "cell_type": "markdown",
   "source": [
    "### Navigating the Example File Structure:\n",
    "\n",
    "Within the main Directory, there are 3 subdirectories:"
   ],
   "metadata": {}
  },
  {
   "cell_type": "markdown",
   "source": [
    "example_case -- contains all domain and input files:\n"
   ],
   "metadata": {}
  },
  {
   "cell_type": "code",
   "execution_count": 6,
   "source": [
    "%%bash\n",
    "cd /home/docker/example_case/Calibration/Input_Files/01447720/\n",
    "ls"
   ],
   "outputs": [
    {
     "output_type": "stream",
     "name": "stdout",
     "text": [
      "FORCING\n",
      "Fulldom.nc\n",
      "geo_em.nc\n",
      "GEOGRID_LDASOUT_Spatial_Metadata.nc\n",
      "GWBUCKPARM.nc\n",
      "HYDRO_TBL_2D.nc\n",
      "LAKEPARM.nc\n",
      "OBS\n",
      "params.txt\n",
      "RouteLink.nc\n",
      "RouteLink.reExpFrom.Rdb\n",
      "RouteLink.reExp.nc\n",
      "RouteLink.reExpTo.Rdb\n",
      "RouteLink.reInd.Rdb\n",
      "script_forcing_subset.txt\n",
      "script_forcing_subset.txt_NWM_REALTIME\n",
      "soil_properties.nc\n",
      "spatialweights.nc\n",
      "wrfinput.nc\n"
     ]
    }
   ],
   "metadata": {}
  },
  {
   "cell_type": "markdown",
   "source": [
    "PyWrfHydroCalib  -- contains calibration scripts, and user setup files"
   ],
   "metadata": {}
  },
  {
   "cell_type": "code",
   "execution_count": 7,
   "source": [
    "%%bash\n",
    "cd /home/docker/PyWrfHydroCalib/\n",
    "ls"
   ],
   "outputs": [
    {
     "output_type": "stream",
     "name": "stdout",
     "text": [
      "calibOrchestrator.py\n",
      "calib.py\n",
      "core\n",
      "initDB.py\n",
      "inputDomainMeta.py\n",
      "jobInit.py\n",
      "LICENSE.md\n",
      "PyWrfHydroCalib_User_Guide.pdf\n",
      "README.md\n",
      "runValidOrchestrator.py\n",
      "sensitivity.py\n",
      "setup_files\n",
      "spinOrchestrator.py\n",
      "spinup.py\n",
      "util\n",
      "validation.py\n",
      "validOrchestrator.py\n"
     ]
    }
   ],
   "metadata": {}
  },
  {
   "cell_type": "code",
   "execution_count": 8,
   "source": [
    "%%bash\n",
    "cd /home/docker/PyWrfHydroCalib/setup_files/\n",
    "ls"
   ],
   "outputs": [
    {
     "output_type": "stream",
     "name": "stdout",
     "text": [
      "calib_params.tbl\n",
      "domainMetaTemplate.csv\n",
      "gage_list_template.csv\n",
      "sens_params.tbl\n",
      "_setup.parm\n",
      "setup.parm\n",
      "untitled.txt\n"
     ]
    }
   ],
   "metadata": {}
  },
  {
   "cell_type": "markdown",
   "source": [
    "## Conclusion:\n",
    "\n",
    "Once all Input and Setup files are prepared, and verified, we can begin the process of setting up a calibration. Proceed to *Lesson 1 - Calibration Overview*"
   ],
   "metadata": {}
  }
 ],
 "metadata": {
  "kernelspec": {
   "display_name": "Python 3",
   "language": "python",
   "name": "python3"
  },
  "language_info": {
   "codemirror_mode": {
    "name": "ipython",
    "version": 3
   },
   "file_extension": ".py",
   "mimetype": "text/x-python",
   "name": "python",
   "nbconvert_exporter": "python",
   "pygments_lexer": "ipython3",
   "version": "3.8.5"
  },
  "toc": {
   "base_numbering": 1,
   "nav_menu": {},
   "number_sections": true,
   "sideBar": true,
   "skip_h1_title": true,
   "title_cell": "Table of Contents",
   "title_sidebar": "Contents",
   "toc_cell": true,
   "toc_position": {},
   "toc_section_display": true,
   "toc_window_display": false
  }
 },
 "nbformat": 4,
 "nbformat_minor": 4
}