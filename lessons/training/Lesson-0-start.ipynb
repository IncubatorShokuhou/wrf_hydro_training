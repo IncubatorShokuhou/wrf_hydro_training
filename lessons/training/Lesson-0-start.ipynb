{
 "cells": [
  {
   "cell_type": "markdown",
   "metadata": {},
   "source": [
    "<img src='https://repository-images.githubusercontent.com/121802384/c355bb80-7d42-11e9-9e0e-4729609f9fbc' alt='WRF-Hydro Logo' width=\"15%\"/>\n",
    "\n",
    "# 第0课 - 开始"
   ]
  },
  {
   "cell_type": "markdown",
   "metadata": {},
   "source": [
    "## 概述\n",
    "在本课中，我们将介绍 WRF-Hydro 培训环境的入门基础知识，以及如何使用相同的容器化环境在您自己的机器上运行它。"
   ]
  },
  {
   "cell_type": "markdown",
   "metadata": {},
   "source": [
    "### 需求\n",
    "在我们的云托管培训之外运行这些课程的最简单和推荐的方法是通过 [wrfhydro/training](https://hub.docker.com/r/wrfhydro/training) Docker 容器, 它预先安装了所有软件依赖项和数据。\n",
    "\n",
    "* Docker >= v.17.12\n",
    "* 网络浏览器（推荐谷歌Chrome浏览器）"
   ]
  },
  {
   "cell_type": "markdown",
   "metadata": {},
   "source": [
    "### 在哪里获得帮助和/或发布问题\n",
    "如果您有关于 Docker 的一般性问题，https://docs.docker.com 上有大量的在线资源，包括优秀的 Docker 文档。\n",
    "\n",
    "就这些课程提出问题或发布问题的最佳位置是通过 GitHub 存储库的问题页面 https://github.com/NCAR/wrf_hydro_training/issues。"
   ]
  },
  {
   "cell_type": "markdown",
   "metadata": {},
   "source": [
    "## 如何运行\n",
    "要从您自己的机器上运行（而不是云托管培训），请按照以下步骤操作。\n",
    "\n",
    "确保您已安装 Docker 并且它可以访问您的本地主机端口。 大多数接受所有默认值的开箱即用 Docker 安装都将具有此配置。\n",
    "\n",
    "**步骤 1：打开终端或 PowerShell 会话**\n",
    "\n",
    "**步骤 2：拉取所需代码版本的 wrfhydro/training Docker 容器**\n",
    "\n",
    "每个训练容器都特定于 WRF-Hydro 源代码的发布版本，可在 https://github.com/NCAR/wrf_hydro_nwm_public/releases 找到\n",
    "\n",
    "***注意：不支持对前沿的未发布代码进行培训***\n",
    "\n",
    "在您的终端中发出以下命令以提取与您的代码发布版本相对应的特定培训版本：\n",
    "\n",
    "`docker pull wrfhydro/training:v5.2.0-rc1`\n",
    "\n",
    "**步骤 3: 启动训练容器**\n",
    "在终端会话中输入以下命令以启动训练 Docker 容器：\n",
    "\n",
    "`docker run --name wrf-hydro-training -p 8888:8888 -it wrfhydro/training:v5.2.0-rc1`\n",
    "\n",
    "容器将在开始训练之前启动并执行一些操作。\n",
    "\n",
    "**注意：如果您已经开始训练过一次，则需要使用命令删除以前的容器\n",
    "\n",
    "`docker rm wrf-hydro-training`\n",
    "\n",
    "**步骤 4: 使用浏览器连接到 JupyterLab 服务器**\n",
    "\n",
    "在容器启动过程结束时，地址和密码将打印到终端。 地址和密码用于连接 JupyterLab。 此容器中的所有培训课笔记本都在 `/home/docker/wrf-hydro-training/lessons` 目录下，可以在 JupyterLab 环境中打开。\n",
    "\n",
    "**步骤 5: 运行课程**\n",
    "\n",
    "要运行课程，您可以通过运行笔记本的每个单元来执行命令（推荐）。 或者，您可以通过在 JupyterLab 中选择`文件`->`新建`->`终端`在 JupyterLab 中打开一个终端，并根据需要手动输入命令。 您还可以使用自己的终端，通过命令 `docker exec -it wrf-hydro-training bash` 登录到容器。\n",
    "\n",
    "所有课程都假定课程材料位于您的主目录下名为 *wrf-hydro-training* 的文件夹中。 如果您的材料位于另一个目录中，您将无法在 Jupyter 中运行此笔记本中的命令，并且需要在终端会话中手动键入它们。"
   ]
  },
  {
   "cell_type": "markdown",
   "metadata": {},
   "source": [
    "## 包括什么\n",
    "\n",
    "* 指定版本对应的型号代码\n",
    "* 与模型代码发布兼容的示例测试用例\n",
    "* WPS geogrid 程序\n",
    "* Jupyter Notebooks格式的 WRF-Hydro 培训课程\n",
    "* JupyterLab 服务器\n",
    "\n",
    "**注意：端口转发是使用 `-p 8888:8888` 参数设置的，它将您的 localhost 端口映射到容器端口。 如果您已经在本地主机上的端口 8888 上运行了一些东西，您将需要更改此数字**\n",
    "\n",
    "© UCAR 2020"
   ]
  },
  {
   "cell_type": "code",
   "execution_count": null,
   "metadata": {},
   "outputs": [],
   "source": []
  }
 ],
 "metadata": {
  "kernelspec": {
   "display_name": "Python 3",
   "language": "python",
   "name": "python3"
  },
  "language_info": {
   "codemirror_mode": {
    "name": "ipython",
    "version": 3
   },
   "file_extension": ".py",
   "mimetype": "text/x-python",
   "name": "python",
   "nbconvert_exporter": "python",
   "pygments_lexer": "ipython3",
   "version": "3.8.3"
  },
  "toc": {
   "base_numbering": 1,
   "nav_menu": {},
   "number_sections": true,
   "sideBar": true,
   "skip_h1_title": true,
   "title_cell": "Table of Contents",
   "title_sidebar": "Contents",
   "toc_cell": false,
   "toc_position": {},
   "toc_section_display": true,
   "toc_window_display": true
  }
 },
 "nbformat": 4,
 "nbformat_minor": 4
}
