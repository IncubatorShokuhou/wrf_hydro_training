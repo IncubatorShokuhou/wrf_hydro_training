{
 "cells": [
  {
   "cell_type": "markdown",
   "metadata": {
    "toc": true
   },
   "source": [
    "<h1>Table of Contents<span class=\"tocSkip\"></span></h1>\n",
    "<div class=\"toc\"><ul class=\"toc-item\"><li><ul class=\"toc-item\"><li><span><a href=\"#Compiling-WRF-Hydro/NWM\" data-toc-modified-id=\"Compiling-WRF-Hydro/NWM-0.1\"><span class=\"toc-item-num\">0.1&nbsp;&nbsp;</span>Compiling WRF-Hydro/NWM</a></span></li><li><span><a href=\"#Creating-the-simulation-directory-and-running-a-baseline-WRF-Hydro/NWM-simulation\" data-toc-modified-id=\"Creating-the-simulation-directory-and-running-a-baseline-WRF-Hydro/NWM-simulation-0.2\"><span class=\"toc-item-num\">0.2&nbsp;&nbsp;</span>Creating the simulation directory and running a baseline WRF-Hydro/NWM simulation</a></span></li></ul></li><li><span><a href=\"#Experiment-1---Warm-vs-Cold-start\" data-toc-modified-id=\"Experiment-1---Warm-vs-Cold-start-1\"><span class=\"toc-item-num\">1&nbsp;&nbsp;</span>Experiment 1 - Warm vs Cold start</a></span><ul class=\"toc-item\"><li><span><a href=\"#Background\" data-toc-modified-id=\"Background-1.1\"><span class=\"toc-item-num\">1.1&nbsp;&nbsp;</span>Background</a></span></li><li><span><a href=\"#Objective\" data-toc-modified-id=\"Objective-1.2\"><span class=\"toc-item-num\">1.2&nbsp;&nbsp;</span>Objective</a></span></li><li><span><a href=\"#Create-experiment-simulation-directory\" data-toc-modified-id=\"Create-experiment-simulation-directory-1.3\"><span class=\"toc-item-num\">1.3&nbsp;&nbsp;</span>Create experiment simulation directory</a></span></li><li><span><a href=\"#Edit-the-namelists-and-run-the-simulation\" data-toc-modified-id=\"Edit-the-namelists-and-run-the-simulation-1.4\"><span class=\"toc-item-num\">1.4&nbsp;&nbsp;</span>Edit the namelists and run the simulation</a></span></li><li><span><a href=\"#Results\" data-toc-modified-id=\"Results-1.5\"><span class=\"toc-item-num\">1.5&nbsp;&nbsp;</span>Results</a></span><ul class=\"toc-item\"><li><span><a href=\"#Hydrographs\" data-toc-modified-id=\"Hydrographs-1.5.1\"><span class=\"toc-item-num\">1.5.1&nbsp;&nbsp;</span>Hydrographs</a></span></li><li><span><a href=\"#Soil-moisture-at-start-of-simulation\" data-toc-modified-id=\"Soil-moisture-at-start-of-simulation-1.5.2\"><span class=\"toc-item-num\">1.5.2&nbsp;&nbsp;</span>Soil moisture at start of simulation</a></span></li></ul></li><li><span><a href=\"#Discussion\" data-toc-modified-id=\"Discussion-1.6\"><span class=\"toc-item-num\">1.6&nbsp;&nbsp;</span>Discussion</a></span></li></ul></li></ul></div>"
   ]
  },
  {
   "cell_type": "markdown",
   "metadata": {},
   "source": [
    "# Lesson 4 - Initial Conditions \n",
    "\n",
    "### Compiling WRF-Hydro/NWM\n",
    "Below are the commands to compile WRF-Hydro/NWM."
   ]
  },
  {
   "cell_type": "code",
   "execution_count": null,
   "metadata": {
    "scrolled": true
   },
   "outputs": [],
   "source": [
    "%%bash\n",
    "\n",
    "# Let s create a direcoty for this training lesson \n",
    "mkdir ~/GLERL_Training \n",
    "\n",
    "# Let s copy/symlink the source code that Laura has sent to you\n",
    "#ln -s PATH/TO/wrf_hydro_nwm_public ~/GLERL_Training/wrf_hydro_nwm_public\n",
    "\n",
    "# Change to the trunk/NDHMS directory and configure for gfort by 2, \n",
    "# I am using intel therefore the configure option is 3\n",
    "cd ~/GLERL_Training/wrf_hydro_nwm_public/trunk/NDHMS/; ./configure 3\n",
    "\n",
    "# Make a copy of the template environment variable file, setEnvars.sh\n",
    "cp ~/GLERL_Training/wrf_hydro_nwm_public/trunk/NDHMS/template/setEnvar.sh \\\n",
    "~/GLERL_Training/wrf_hydro_nwm_public/trunk/NDHMS/configureEnvars.sh"
   ]
  },
  {
   "cell_type": "markdown",
   "metadata": {},
   "source": [
    "# **Set compile-time options**\n",
    "\n",
    "Edit the `configureEnvars.sh` script to set environment variables required by the compile script. Your `configureEnvars.sh` should look like the bash script below when you are finished. NOTE: We are compiling with spatial soils active for this exercise.\n",
    "\n",
    "---\n",
    "\n",
    "```bash\n",
    "#!/bin/bash\n",
    "# WRF-Hydro compile time options\n",
    "\n",
    "# This is a WRF environment variable. Always set to 1=On for compiling WRF-Hydro.\n",
    "export WRF_HYDRO=1\n",
    "\n",
    "# Enhanced diagnostic output for debugging: 0=Off, 1=On.\n",
    "export HYDRO_D=1\n",
    "\n",
    "# Spatially distributed parameters for NoahMP: 0=Off, 1=On.\n",
    "export SPATIAL_SOIL=1  \n",
    "\n",
    "# RAPID model: 0=Off, 1=On.\n",
    "export WRF_HYDRO_RAPID=0\n",
    "\n",
    "# Large netcdf file support: 0=Off, 1=On.\n",
    "export WRFIO_NCD_LARGE_FILE_SUPPORT=1\n",
    "\n",
    "# WCOSS file units: 0=Off, 1=On. \n",
    "export NCEP_WCOSS=0\n",
    "\n",
    "# Streamflow nudging: 0=Off, 1=On.\n",
    "export WRF_HYDRO_NUDGING=0\n",
    "```\n",
    "\n",
    "---\n"
   ]
  },
  {
   "cell_type": "markdown",
   "metadata": {},
   "source": [
    "**Compile WRF-Hydro in standalone mode**"
   ]
  },
  {
   "cell_type": "code",
   "execution_count": null,
   "metadata": {},
   "outputs": [],
   "source": [
    "%%bash\n",
    "cd ~/GLERL_Training/wrf_hydro_nwm_public/trunk/NDHMS/; \\\n",
    "./compile_offline_NoahMP.sh configureEnvars.sh >> compile.log 2>&1\n",
    "\n",
    "tail -13 ~/GLERL_Training/wrf_hydro_nwm_public/trunk/NDHMS/compile.log"
   ]
  },
  {
   "cell_type": "markdown",
   "metadata": {},
   "source": [
    "**We have successfully compiled WRF-Hydro and we will use this binary and *.TBL files for the remaining simulations in this lesson**"
   ]
  },
  {
   "cell_type": "markdown",
   "metadata": {},
   "source": [
    "### Creating the simulation directory and running a baseline WRF-Hydro/NWM simulation\n",
    "Below are the commands from Lesson 2 to create the simulation directory and run a WRF-Hydro/NWM simulation. This simulation will be run exactly as was done in Lesson 2 and will serve as our baseline simulation. We will modify run-time options in subsequent simulations in the lesson and compare the outputs."
   ]
  },
  {
   "cell_type": "code",
   "execution_count": null,
   "metadata": {},
   "outputs": [],
   "source": [
    "%%bash\n",
    "# Make a new directory for our baseline simulation\n",
    "mkdir -p ~/GLERL_Training/output/lesson1/run_NWM_baseline\n",
    "\n",
    "# Copy our model files to the simulation directory\n",
    "cp ~/GLERL_Training/wrf_hydro_nwm_public/trunk/NDHMS/Run/*.TBL \\\n",
    "~/GLERL_Training/output/lesson1/run_NWM_baseline\n",
    "cp ~/GLERL_Training/wrf_hydro_nwm_public/trunk/NDHMS/Run/wrf_hydro.exe \\\n",
    "~/GLERL_Training/output/lesson1/run_NWM_baseline\n",
    "\n",
    "# Create symbolic links to large domain files\n",
    "cp -as $HOME/GLERL_Training/run_NWM_template/DOMAIN/ \\\n",
    "~/GLERL_Training/output/lesson1/run_NWM_baseline\n",
    "cp -as $HOME/GLERL_Training/run_NWM_template/FORCING/ \\\n",
    "~/GLERL_Training/output/lesson1/run_NWM_baseline\n",
    "cp -as $HOME/GLERL_Training/run_NWM_template/RESTARTS \\\n",
    "~/GLERL_Training/output/lesson1/run_NWM_baseline\n",
    "\n",
    "# Copy namelist files\n",
    "cp ~/GLERL_Training/run_NWM_template/namelist.hrldas \\\n",
    "~/GLERL_Training/output/lesson1/run_NWM_baseline\n",
    "cp ~/GLERL_Training/run_NWM_template/hydro.namelist \\\n",
    "~/GLERL_Training/output/lesson1/run_NWM_baseline\n",
    "\n",
    "# Run the simulation\n",
    "cd ~/GLERL_Training/output/lesson1/run_NWM_baseline\n",
    "\n",
    "# this part is specific to cheyenne ... \n",
    "export MPI_USE_ARRAY=false #cheyene specific needs to be removed\n",
    "mpirun `hostname` -np 2 ./wrf_hydro.exe >> run.log 2>&1\n",
    "\n",
    "# if you are not on cheyenne probabaly this one \n",
    "#mpirun -np 2 ./wrf_hydro.exe >> run.log 2>&1"
   ]
  },
  {
   "cell_type": "code",
   "execution_count": null,
   "metadata": {
    "scrolled": true
   },
   "outputs": [],
   "source": [
    "%%bash\n",
    "# Check that it finished successfully\n",
    "tail -1 ~/GLERL_Training/output/lesson1/run_NWM_baseline/run.log"
   ]
  },
  {
   "cell_type": "markdown",
   "metadata": {},
   "source": [
    "## Experiment 1 - Warm vs Cold start\n",
    "### Background\n",
    "A model 'cold start' is when you start your simulation with default initial conditions. In this case, model states are initialized from the `wrfinput.nc` file (land surface states) and `GWBUCKPARM.nc` (groundwater bucket states, if active). Often these initial values are guesses at global, physically plausible starting values (e.g., global volumetric soil moisture content of 0.3). However, model states like soil moisture, groundwater levels, and stream levels need time to adjust to local climate and environment. So in most cases, we first 'spinup' the model to reach an equilibrium state before launching a model experiment and evaluating output. Model states at the end of this 'spinup' period can be used to 'warm start' a simulation. A ‘warm start’ is when the model simulation begins with the simulated values from a previous run. How long you need to 'spinup' your model varies based on the local climate (e.g., drier climates generally take longer than wetter climates), the variables you are interested in (e.g., a fast stabilizing state like shallow soil moisture vs. a slower evolving state like deep groundwater), and local topography and soil types (e.g., sands have shorter memory than clays). \n",
    "\n",
    "### Objective\n",
    "The goal of this experiment is to demonstrate the effect of starting a simulation from a 'cold stat' vs. a 'warm start'. The NWM baseline run was started from a 'warm start', so all we need to do is construct a simulation directory and edit the namelists to start from a cold start.\n",
    "\n",
    "### Create experiment simulation directory"
   ]
  },
  {
   "cell_type": "code",
   "execution_count": null,
   "metadata": {},
   "outputs": [],
   "source": [
    "%%bash\n",
    "# Make a new directory for our baseline simulation\n",
    "mkdir -p ~/GLERL_Training/output/lesson1/run_cold_start\n",
    "\n",
    "# Copy our model files to the simulation directory\n",
    "cp ~/GLERL_Training/wrf_hydro_nwm_public/trunk/NDHMS/Run/*.TBL \\\n",
    "~/GLERL_Training/output/lesson1/run_cold_start\n",
    "cp ~/GLERL_Training/wrf_hydro_nwm_public/trunk/NDHMS/Run/wrf_hydro.exe \\\n",
    "~/GLERL_Training/output/lesson1/run_cold_start\n",
    "\n",
    "# Create symbolic links to large domain files\n",
    "cp -as $HOME/GLERL_Training/run_NWM_template/DOMAIN/ \\\n",
    "~/GLERL_Training/output/lesson1/run_cold_start\n",
    "cp -as $HOME/GLERL_Training/run_NWM_template/FORCING/ \\\n",
    "~/GLERL_Training/output/lesson1/run_cold_start\n",
    "cp -as $HOME/GLERL_Training/run_NWM_template/RESTARTS \\\n",
    "~/GLERL_Training/output/lesson1/run_cold_start\n",
    "\n",
    "# Copy namelist files\n",
    "cp ~/GLERL_Training/run_NWM_template/namelist.hrldas \\\n",
    "~/GLERL_Training/output/lesson1/run_cold_start\n",
    "cp ~/GLERL_Training/run_NWM_template/hydro.namelist \\\n",
    "~/GLERL_Training/output/lesson1/run_cold_start"
   ]
  },
  {
   "cell_type": "markdown",
   "metadata": {},
   "source": [
    "### Edit the namelists and run the simulation\n",
    "If restart files are not provided in the *namelist.hrldas* and *hydro.namelist* files then the simulation will start from a cold start. \n",
    "\n",
    "**Step 1: Edit the *namelist.hrldas* file**\n",
    "Comment out this line `RESTART_FILENAME_REQUESTED = \"RESTART/RESTART.2011082700_DOMAIN1\"` in the *namelist.hrldas* by adding `!` to the start of the line. \n",
    "\n",
    "```\n",
    "!RESTART_FILENAME_REQUESTED = \"RESTART/RESTART.2011082700_DOMAIN1\"\n",
    "```\n",
    "\n",
    "**Step 2: Edit the *hydro.namelist* file**\n",
    "Comment out this line `RESTART_FILE  = 'RESTART/HYDRO_RST.2011-08-27_00_00_DOMAIN1'` in the *hydro.namelist* by adding `!` to the start of the line. \n",
    "\n",
    "```\n",
    "! Specify the name of the restart file if starting from restart...comment out with '!' if not...\n",
    "!RESTART_FILE  = 'RESTART/HYDRO_RST.2011-08-27_00_00_DOMAIN1'\n",
    "```\n",
    "Tell the code to use GWBUCKPARM.nc initialization values vs. the restart file starting states by editing the `GW_RESTART` option in the *hydro.namelist*. \n",
    "\n",
    "```\n",
    "! Specify baseflow/bucket model initialization...(0=cold start from table, 1=restart file)\n",
    "GW_RESTART = 0\n",
    "```\n",
    "\n",
    "**Step 3: Run the simulation**"
   ]
  },
  {
   "cell_type": "code",
   "execution_count": null,
   "metadata": {},
   "outputs": [],
   "source": [
    "%%bash\n",
    "# Run the simulation\n",
    "cd ~/GLERL_Training/output/lesson1/run_cold_start\n",
    "\n",
    "# this part is specific to cheyenne ... \n",
    "export MPI_USE_ARRAY=false #cheyene specific needs to be removed\n",
    "mpirun `hostname` -np 2 ./wrf_hydro.exe >> run.log 2>&1\n",
    "\n",
    "# if you are not on cheyenne probabaly this one \n",
    "#mpirun -np 2 ./wrf_hydro.exe >> run.log 2>&1"
   ]
  },
  {
   "cell_type": "markdown",
   "metadata": {},
   "source": [
    "**Step 4: Check that the simulation finished successfully**"
   ]
  },
  {
   "cell_type": "code",
   "execution_count": null,
   "metadata": {
    "scrolled": true
   },
   "outputs": [],
   "source": [
    "%%bash\n",
    "tail -1 ~/GLERL_Training/output/lesson1/run_cold_start/run.log"
   ]
  },
  {
   "cell_type": "markdown",
   "metadata": {},
   "source": [
    "### Results\n",
    "We will now look at the differences in streamflow between our warm start simulation represented by the *run_NWM_baseline* simulation and our cold start simulation that we ran during this experiment.\n",
    "\n",
    "We will use Python and the `xarray` library to create hydrographs and 2d plots of soil moisture. \n",
    "\n",
    "**Load the xarray python package**"
   ]
  },
  {
   "cell_type": "code",
   "execution_count": null,
   "metadata": {},
   "outputs": [],
   "source": [
    "# Load the xarray package\n",
    "%matplotlib inline\n",
    "import xarray as xr\n",
    "import matplotlib.pyplot as plt\n",
    "import pandas as pd"
   ]
  },
  {
   "cell_type": "markdown",
   "metadata": {},
   "source": [
    "#### Hydrographs\n",
    "**Load the CHANOBS streamflow datasets**\n",
    "\n",
    "We are going to use the CHANOBS output files to extract the streamflow time series. CHANOBS output files contain information for only the grid cells where we have specified a gage is located."
   ]
  },
  {
   "cell_type": "code",
   "execution_count": null,
   "metadata": {},
   "outputs": [],
   "source": [
    "chanobs_baseline = xr.open_mfdataset('/glade/u/home/arezoo/GLERL_Training/output/lesson1/run_NWM_baseline/*CHANOBS*',\n",
    "                            concat_dim='time')\n",
    "chanobs_cold = xr.open_mfdataset('//glade/u/home/arezoo/GLERL_Training/output/lesson1/run_cold_start/*CHANOBS*',\n",
    "                            concat_dim='time')\n",
    "obs = pd.read_csv('/glade/u/home/arezoo/GLERL_Training/run_NWM_template/USGS_obs.csv',dtype=str)\n",
    "obs['dateTime'] = pd.to_datetime(obs['dateTime'])\n",
    "obs['streamflow_cms'] = pd.to_numeric(obs['streamflow_cms'])"
   ]
  },
  {
   "cell_type": "markdown",
   "metadata": {},
   "source": [
    "**Plot the hydrographs**"
   ]
  },
  {
   "cell_type": "code",
   "execution_count": null,
   "metadata": {},
   "outputs": [],
   "source": [
    "fig, axes = plt.subplots(ncols=1,figsize=(12, 6))\n",
    "plt.suptitle('Hydrographs for warm and cold starts',fontsize=24)\n",
    "chanobs_baseline.sel(feature_id = 12121188).streamflow.plot(label='Warm start',\n",
    "                                                     color='black',\n",
    "                                                     linestyle='--')\n",
    "chanobs_cold.sel(feature_id = 12121188).streamflow.plot(label='Cold start',\n",
    "                                                        color='blue',\n",
    "                                                        linestyle='-')\n",
    "obs[obs['site_no'] == '04124500'].plot(x='dateTime',\n",
    "                                       y='streamflow_cms',\n",
    "                                       ax=axes,\n",
    "                                       label='Observed',\n",
    "                                       color='grey')\n",
    "plt.legend()\n",
    "plt.show()"
   ]
  },
  {
   "cell_type": "markdown",
   "metadata": {},
   "source": [
    "#### Soil moisture at start of simulation\n",
    "The option `t0OutputFlag` in the *hydro.namelist* can be used to output model states at the start of the simulation.\n",
    "\n",
    "```\n",
    "! Option to write output files at time 0 (restart cold start time): 0=no, 1=yes (default)\n",
    "t0OutputFlag = 1\n",
    "```\n",
    "We had this option set to 1 for both of our simulations so that we have outputs at the first timestep. \n",
    "\n",
    "**Load the LDASOUT datasets from the land surface model**"
   ]
  },
  {
   "cell_type": "code",
   "execution_count": null,
   "metadata": {},
   "outputs": [],
   "source": [
    "ldasout_baseline = xr.open_mfdataset('/glade/u/home/arezoo/GLERL_Training/output/lesson1/run_NWM_baseline/201404100000.LDASOUT_DOMAIN1',\n",
    "                            concat_dim='time')\n",
    "ldasout_cold = xr.open_mfdataset('/glade/u/home/arezoo/GLERL_Training/output/lesson1/run_cold_start/201404100000.LDASOUT_DOMAIN1',\n",
    "                            concat_dim='time')"
   ]
  },
  {
   "cell_type": "markdown",
   "metadata": {},
   "source": [
    "**Plot soil moisture at start of simulation**"
   ]
  },
  {
   "cell_type": "code",
   "execution_count": null,
   "metadata": {},
   "outputs": [],
   "source": [
    "# Select data for t=0 at surface layer\n",
    "ldasout_baseline_t0 = ldasout_baseline.sel(time = '2014-04-10T00:00:00').sel(soil_layers_stag = 0)\n",
    "ldasout_cold_t0 = ldasout_cold.sel(time = '2014-04-10T00:00:00').sel(soil_layers_stag = 0)\n",
    "\n",
    "fig, axes = plt.subplots(ncols=2,figsize=(12, 6))\n",
    "plt.suptitle('Surface soil moisture states at t=0 for warm and cold starts',fontsize=24)\n",
    "ldasout_baseline_t0.SOIL_M.plot(ax=axes[0],vmin=0.1,vmax=0.5)\n",
    "axes[0].set_title('Warm start')\n",
    "ldasout_cold_t0.SOIL_M.plot(ax=axes[1],vmin=0.1,vmax=0.5)\n",
    "axes[1].set_title('Cold start')\n",
    "plt.show()"
   ]
  }
 ],
 "metadata": {
  "kernelspec": {
   "display_name": "Python 3",
   "language": "python",
   "name": "python3"
  },
  "language_info": {
   "codemirror_mode": {
    "name": "ipython",
    "version": 3
   },
   "file_extension": ".py",
   "mimetype": "text/x-python",
   "name": "python",
   "nbconvert_exporter": "python",
   "pygments_lexer": "ipython3",
   "version": "3.6.4"
  },
  "toc": {
   "base_numbering": 1,
   "nav_menu": {},
   "number_sections": true,
   "sideBar": true,
   "skip_h1_title": true,
   "title_cell": "Table of Contents",
   "title_sidebar": "Contents",
   "toc_cell": true,
   "toc_position": {
    "height": "calc(100% - 180px)",
    "left": "10px",
    "top": "150px",
    "width": "165px"
   },
   "toc_section_display": true,
   "toc_window_display": true
  }
 },
 "nbformat": 4,
 "nbformat_minor": 2
}
