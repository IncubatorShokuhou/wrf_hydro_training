{
 "cells": [
  {
   "cell_type": "markdown",
   "metadata": {},
   "source": [
    "<img src='https://repository-images.githubusercontent.com/121802384/c355bb80-7d42-11e9-9e0e-4729609f9fbc' alt='WRF-Hydro Logo' width=\"15%\"/>\n",
    "\n",
    "# Lesson 7 - Exploring gridded and NWM configurations"
   ]
  },
  {
   "cell_type": "markdown",
   "metadata": {},
   "source": [
    "## Overview\n",
    "In this lesson we compare the differences between a gridded channel routing simulation and a cutout from the National Water Model (NWM) which uses a different channel routing method and has some differences in model physics and parameters.  "
   ]
  },
  {
   "cell_type": "markdown",
   "metadata": {},
   "source": [
    "### Creating the simulation directory and running a baseline WRF-Hydro simulation\n",
    "Below are the commands from lesson 2 to create the simulation direcory and run a WRF-Hydro simulation. This simulation will be run exactly as was done in Lesson 2 and will serve as our baseline simulation. We will modify run-time options in subsequent simulations in the lesson and compare the outputs.  \n",
    "\n",
    "**Note that we are skipping the compile step here, and using the binary from lesson 2.**"
   ]
  },
  {
   "cell_type": "code",
   "execution_count": 14,
   "metadata": {},
   "outputs": [],
   "source": [
    "%%bash\n",
    "\n",
    "# Make a new directory for our baseline simulation\n",
    "mkdir -p ~/wrf-hydro-training/output/lesson7/run_gridded_baseline\n",
    "\n",
    "# Copy our model files to the simulation directory from lesson 2\n",
    "cp ~/wrf-hydro-training/output/lesson2/run_gridded_default/*.TBL \\\n",
    "~/wrf-hydro-training/output/lesson7/run_gridded_baseline\n",
    "cp ~/wrf-hydro-training/output/lesson2/run_gridded_default/wrf_hydro.exe \\\n",
    "~/wrf-hydro-training/output/lesson7/run_gridded_baseline\n",
    "\n",
    "# Create symbolic links to large domain files\n",
    "cp -as $HOME/wrf-hydro-training/example_case/FORCING \\\n",
    "~/wrf-hydro-training/output/lesson7/run_gridded_baseline\n",
    "cp -as $HOME/wrf-hydro-training/example_case/Gridded/DOMAIN \\\n",
    "~/wrf-hydro-training/output/lesson7/run_gridded_baseline\n",
    "cp -as $HOME/wrf-hydro-training/example_case/Gridded/RESTART \\\n",
    "~/wrf-hydro-training/output/lesson7/run_gridded_baseline\n",
    "\n",
    "# Copy namelist files\n",
    "cp ~/wrf-hydro-training/example_case/Gridded/namelist.hrldas \\\n",
    "~/wrf-hydro-training/output/lesson7/run_gridded_baseline\n",
    "cp ~/wrf-hydro-training/example_case/Gridded/hydro.namelist \\\n",
    "~/wrf-hydro-training/output/lesson7/run_gridded_baseline\n"
   ]
  },
  {
   "cell_type": "markdown",
   "metadata": {},
   "source": [
    "## National Water Model configuration (NWM)\n",
    "In this section we will discuss the differences between the National Water Model (NWM) configuration and the baseline Gridded configuration. Afterwards, we will run a NWM simulation and visualize some of the differences. \n",
    "\n",
    "### Create a NWM simulation directory"
   ]
  },
  {
   "cell_type": "code",
   "execution_count": 2,
   "metadata": {},
   "outputs": [],
   "source": [
    "%%bash\n",
    "\n",
    "# Make a new directory for our baseline simulation\n",
    "mkdir -p ~/wrf-hydro-training/output/lesson7/run_nwm\n",
    "\n",
    "# Copy our model files to the simulation directory from lesson 2\n",
    "cp ~/wrf-hydro-training/output/lesson2/run_gridded_default/*.TBL \\\n",
    "~/wrf-hydro-training/output/lesson7/run_nwm\n",
    "cp ~/wrf-hydro-training/output/lesson2/run_gridded_default/wrf_hydro.exe \\\n",
    "~/wrf-hydro-training/output/lesson7/run_nwm\n",
    "\n",
    "# Create symbolic links to large domain files\n",
    "cp -as $HOME/wrf-hydro-training/example_case/FORCING \\\n",
    "~/wrf-hydro-training/output/lesson7/run_nwm\n",
    "cp -as $HOME/wrf-hydro-training/example_case/NWM/DOMAIN \\\n",
    "~/wrf-hydro-training/output/lesson7/run_nwm\n",
    "cp -as $HOME/wrf-hydro-training/example_case/NWM/RESTART \\\n",
    "~/wrf-hydro-training/output/lesson7/run_nwm\n",
    "\n",
    "# Copy namelist files\n",
    "cp ~/wrf-hydro-training/example_case/NWM/namelist.hrldas \\\n",
    "~/wrf-hydro-training/output/lesson7/run_nwm\n",
    "cp ~/wrf-hydro-training/example_case/NWM/hydro.namelist \\\n",
    "~/wrf-hydro-training/output/lesson7/run_nwm"
   ]
  },
  {
   "cell_type": "markdown",
   "metadata": {},
   "source": [
    "### Compare the contents of the NWM simulation directory to the Gridded simulation directory\n",
    "In this section we will compare the files in the NWM simulation directory to those in the Gridded simulation directory.\n",
    "\n",
    "**View the contents of the NWM simulation directory**"
   ]
  },
  {
   "cell_type": "code",
   "execution_count": 3,
   "metadata": {
    "scrolled": true
   },
   "outputs": [
    {
     "name": "stdout",
     "output_type": "stream",
     "text": [
      "CHANPARM.TBL\n",
      "DOMAIN\n",
      "FORCING\n",
      "GENPARM.TBL\n",
      "hydro.namelist\n",
      "HYDRO.TBL\n",
      "MPTABLE.TBL\n",
      "namelist.hrldas\n",
      "RESTART\n",
      "SOILPARM.TBL\n",
      "wrf_hydro.exe\n"
     ]
    }
   ],
   "source": [
    "%%bash\n",
    "ls ~/wrf-hydro-training/output/lesson7/run_nwm"
   ]
  },
  {
   "cell_type": "markdown",
   "metadata": {},
   "source": [
    "**View the contents of the Gridded simulation directory**"
   ]
  },
  {
   "cell_type": "code",
   "execution_count": 4,
   "metadata": {
    "scrolled": true
   },
   "outputs": [
    {
     "name": "stdout",
     "output_type": "stream",
     "text": [
      "CHANPARM.TBL\n",
      "DOMAIN\n",
      "FORCING\n",
      "GENPARM.TBL\n",
      "hydro.namelist\n",
      "HYDRO.TBL\n",
      "MPTABLE.TBL\n",
      "namelist.hrldas\n",
      "RESTART\n",
      "SOILPARM.TBL\n",
      "wrf_hydro.exe\n"
     ]
    }
   ],
   "source": [
    "%%bash\n",
    "ls ~/wrf-hydro-training/output/lesson7/run_gridded_baseline"
   ]
  },
  {
   "cell_type": "markdown",
   "metadata": {},
   "source": [
    "Here we can see that at the top level the directories contents look the same. However, there are differences in the *DOMAIN* and *RESTART* directories."
   ]
  },
  {
   "cell_type": "markdown",
   "metadata": {},
   "source": [
    "**View the contents of the *NWM/DOMAIN* directory**"
   ]
  },
  {
   "cell_type": "code",
   "execution_count": 5,
   "metadata": {},
   "outputs": [
    {
     "name": "stdout",
     "output_type": "stream",
     "text": [
      "Fulldom_hires.nc\n",
      "geo_em.d01.nc\n",
      "GEOGRID_LDASOUT_Spatial_Metadata.nc\n",
      "GWBUCKPARM.nc\n",
      "hydro2dtbl.nc\n",
      "LAKEPARM.nc\n",
      "Route_Link.nc\n",
      "soil_properties.nc\n",
      "spatialweights.nc\n",
      "wrfinput_d01.nc\n"
     ]
    }
   ],
   "source": [
    "%%bash\n",
    "ls ~/wrf-hydro-training/output/lesson7/run_nwm/DOMAIN"
   ]
  },
  {
   "cell_type": "markdown",
   "metadata": {},
   "source": [
    "**View the contents of the *Gridded/DOMAIN* directory**"
   ]
  },
  {
   "cell_type": "code",
   "execution_count": 6,
   "metadata": {},
   "outputs": [
    {
     "name": "stdout",
     "output_type": "stream",
     "text": [
      "Fulldom_hires.nc\n",
      "geo_em.d01.nc\n",
      "GEOGRID_LDASOUT_Spatial_Metadata.nc\n",
      "GWBASINS.nc\n",
      "GWBUCKPARM.nc\n",
      "hydro2dtbl.nc\n",
      "LAKEPARM.nc\n",
      "lake_shapes\n",
      "soil_properties.nc\n",
      "wrfinput_d01.nc\n"
     ]
    }
   ],
   "source": [
    "%%bash\n",
    "ls ~/wrf-hydro-training/output/lesson7/run_gridded_baseline/DOMAIN"
   ]
  },
  {
   "cell_type": "markdown",
   "metadata": {},
   "source": [
    "**Explore the differences**\n",
    "\n",
    "Note the file differences in the *NWM* directory compared to the *Gridded* directory. Below is a table of these files and descriptions.\n",
    "\n",
    "| Filename | Description | Source | Required |\n",
    "| ------------- | ------------- | ------------- | ------------- |\n",
    "| GWBASINS.nc | 2D file defining the locations of groundwater basins | pre-processing| Required for gridded when the baseflow bucket model is turned on and user defined mapping is off |\n",
    "|Route_Link.nc | Channel reach parameters (contains ComID,gage ID & channel params) | pre-processing | Required if reach based routing is used (including user defined mapping) |\n",
    "|nudgingParams.nc| Parameters used for data assimilation streamflow nudging | user defined | No, and not available for gridded |\n",
    "| spatialweights.nc | Spatial weight file used to map fluxes to catchment objects | distributed with NWM domain files | When using user defined mapping |\n"
   ]
  },
  {
   "cell_type": "markdown",
   "metadata": {},
   "source": [
    "**NOTE: We can ignore the *Gridded/lake_shapes* directory, it simply contains geospatial data used for creating the domain**"
   ]
  },
  {
   "cell_type": "markdown",
   "metadata": {},
   "source": [
    "### Explore the namelist differences between the NWM and Gridded configurations\n",
    "In this section we will explore the namelists differences between the NWM and Gridded configurations"
   ]
  },
  {
   "cell_type": "markdown",
   "metadata": {},
   "source": [
    "**View the difference between *NWM* namelist.hrldas and *Gridded* namelist.hrldas**"
   ]
  },
  {
   "cell_type": "code",
   "execution_count": 7,
   "metadata": {
    "scrolled": true
   },
   "outputs": [
    {
     "name": "stdout",
     "output_type": "stream",
     "text": [
      "29c29\n",
      "< SNOW_ALBEDO_OPTION                = 1\n",
      "---\n",
      "> SNOW_ALBEDO_OPTION                = 2\n"
     ]
    }
   ],
   "source": [
    "%%bash\n",
    "diff ~/wrf-hydro-training/output/lesson7/run_nwm/namelist.hrldas ~/wrf-hydro-training/output/lesson7/run_gridded_baseline/namelist.hrldas || true"
   ]
  },
  {
   "cell_type": "markdown",
   "metadata": {},
   "source": [
    "**View the difference between *NWM* hydro.namelist and *Gridded* hydro.namelist**"
   ]
  },
  {
   "cell_type": "code",
   "execution_count": 8,
   "metadata": {
    "scrolled": true
   },
   "outputs": [
    {
     "name": "stdout",
     "output_type": "stream",
     "text": [
      "65c65\n",
      "< ! 1 = with scale/offset/compression, ! 2 = with scale/offset/NO compression,\n",
      "---\n",
      "> ! 1 = with scale/offset/compression, ! 2 = with scale/offset/NO compression, \n",
      "82c82\n",
      "< output_channelBucket_influx = 2\n",
      "---\n",
      "> output_channelBucket_influx = 0\n",
      "122c122\n",
      "< DTRT_CH = 300\n",
      "---\n",
      "> DTRT_CH = 10\n",
      "141c141\n",
      "< channel_option = 2\n",
      "---\n",
      "> channel_option = 3\n",
      "144c144\n",
      "< route_link_f = \"./DOMAIN/Route_Link.nc\"\n",
      "---\n",
      "> !route_link_f = \"\"\n",
      "148c148\n",
      "< compound_channel = .TRUE.\n",
      "---\n",
      "> compound_channel = .FALSE.\n",
      "155c155\n",
      "< GWBASESWCRT = 4\n",
      "---\n",
      "> GWBASESWCRT = 1\n",
      "159c159\n",
      "< !gwbasmskfil = \"./DOMAIN/GWBASINS.nc\"\n",
      "---\n",
      "> gwbasmskfil = \"./DOMAIN/GWBASINS.nc\"\n",
      "165c165\n",
      "< UDMP_OPT = 1\n",
      "---\n",
      "> UDMP_OPT = 0\n",
      "168c168,172\n",
      "< udmap_file = \"./DOMAIN/spatialweights.nc\"\n",
      "---\n",
      "> !udmap_file = \"\"\n",
      "> \n",
      "> /\n",
      "> \n",
      "> &NUDGING_nlist\n"
     ]
    }
   ],
   "source": [
    "%%bash\n",
    "diff ~/wrf-hydro-training/output/lesson7/run_nwm/hydro.namelist ~/wrf-hydro-training/output/lesson7/run_gridded_baseline/hydro.namelist || true"
   ]
  },
  {
   "cell_type": "markdown",
   "metadata": {},
   "source": [
    "### Run the default Gridded and NWM simulations\n",
    "In this section we will run default simulations for the NWM and Gridded configurations using our prepared simulation directories. "
   ]
  },
  {
   "cell_type": "markdown",
   "metadata": {},
   "source": [
    "**Step 1: Run the NWM simulation**"
   ]
  },
  {
   "cell_type": "code",
   "execution_count": 12,
   "metadata": {},
   "outputs": [],
   "source": [
    "%%bash\n",
    "# Run the simulation\n",
    "cd ~/wrf-hydro-training/output/lesson7/run_nwm\n",
    "mpirun -np 2 ./wrf_hydro.exe >> run.log 2>&1"
   ]
  },
  {
   "cell_type": "code",
   "execution_count": 10,
   "metadata": {},
   "outputs": [
    {
     "name": "stdout",
     "output_type": "stream",
     "text": [
      " The model finished successfully.......\n"
     ]
    }
   ],
   "source": [
    "%%bash\n",
    "# Check that it finished successfully\n",
    "tail -1 ~/wrf-hydro-training/output/lesson7/run_nwm/diag_hydro.00000"
   ]
  },
  {
   "cell_type": "markdown",
   "metadata": {},
   "source": [
    "**Step 2: Run the gridded simulation**"
   ]
  },
  {
   "cell_type": "code",
   "execution_count": 15,
   "metadata": {},
   "outputs": [],
   "source": [
    "%%bash\n",
    "# Run the simulation\n",
    "cd ~/wrf-hydro-training/output/lesson7/run_gridded_baseline\n",
    "mpirun -np 2 ./wrf_hydro.exe >> run.log 2>&1"
   ]
  },
  {
   "cell_type": "code",
   "execution_count": 16,
   "metadata": {},
   "outputs": [
    {
     "name": "stdout",
     "output_type": "stream",
     "text": [
      " The model finished successfully.......\n"
     ]
    }
   ],
   "source": [
    "%%bash\n",
    "# Check that it finished successfully\n",
    "tail -1 ~/wrf-hydro-training/output/lesson7/run_gridded_baseline/diag_hydro.00000"
   ]
  },
  {
   "cell_type": "markdown",
   "metadata": {},
   "source": [
    "### View the hydrographs\n",
    "**Load the xarray python package**"
   ]
  },
  {
   "cell_type": "code",
   "execution_count": 17,
   "metadata": {},
   "outputs": [],
   "source": [
    "# Load the xarray package\n",
    "import xarray as xr\n",
    "import matplotlib.pyplot as plt\n",
    "import pandas as pd\n",
    "\n",
    "xr.set_options(display_style=\"html\")\n",
    "from pandas.plotting import register_matplotlib_converters\n",
    "register_matplotlib_converters()"
   ]
  },
  {
   "cell_type": "markdown",
   "metadata": {},
   "source": [
    "**Load the CHANOBS streamflow datasets**\n",
    "\n",
    "We are going to use the CHANOBS files because it will limit the number of grid cells to only those which we have specified have a gage."
   ]
  },
  {
   "cell_type": "code",
   "execution_count": 19,
   "metadata": {},
   "outputs": [],
   "source": [
    "chanobs_gridded = xr.open_mfdataset('/home/docker/wrf-hydro-training/output/lesson7/run_gridded_baseline/*CHANOBS*',\n",
    "                            combine='by_coords')\n",
    "chanobs_nwm = xr.open_mfdataset('/home/docker/wrf-hydro-training/output/lesson7/run_nwm/*CHANOBS*',\n",
    "                            combine='by_coords')\n",
    "obs = pd.read_csv('/home/docker/wrf-hydro-training/example_case/USGS_obs.csv',dtype=str)\n",
    "obs['dateTime'] = pd.to_datetime(obs['dateTime'])\n",
    "obs['streamflow_cms'] = pd.to_numeric(obs['streamflow_cms'])"
   ]
  },
  {
   "cell_type": "markdown",
   "metadata": {},
   "source": [
    "**Plot the hydrographs**\n",
    "\n",
    "**Table 1. USGS Stream Gage IDs and associated WRF-Hydro feature_id indices.**\n",
    "\n",
    "|USGS Gage ID|WRF-Hydro gage feature_id|NWM ComID|Gage Information|\n",
    "|------|:-:|---|---|\n",
    "| 01447680 | 1 |4185837|https://waterdata.usgs.gov/pa/nwis/uv/?site_no=01447680|\n",
    "| 01447720 | 2 |4185779|https://waterdata.usgs.gov/nwis/nwismap/?site_no=01447720|"
   ]
  },
  {
   "cell_type": "code",
   "execution_count": 20,
   "metadata": {},
   "outputs": [
    {
     "data": {
      "image/png": "[encoded data removed]",
      "text/plain": [
       "<Figure size 864x432 with 1 Axes>"
      ]
     },
     "metadata": {
      "needs_background": "light"
     },
     "output_type": "display_data"
    }
   ],
   "source": [
    "fig, axes = plt.subplots(ncols=1,figsize=(12, 6))\n",
    "plt.suptitle('Hydrographs for NWM and gridded configurations',fontsize=24)\n",
    "chanobs_gridded.sel(feature_id = 2).streamflow.plot(label='Gridded',\n",
    "                                                     color='black',\n",
    "                                                     linestyle='--')\n",
    "chanobs_nwm.sel(feature_id = 4185779).streamflow.plot(label='NWM',\n",
    "                                                        color='blue',\n",
    "                                                        linestyle='-')\n",
    "obs[obs['site_no'] == '01447720'].plot(x='dateTime',\n",
    "                                       y='streamflow_cms',\n",
    "                                       ax=axes,\n",
    "                                       label='Observed',\n",
    "                                       color='grey')\n",
    "plt.legend()\n",
    "plt.show()"
   ]
  },
  {
   "cell_type": "markdown",
   "metadata": {},
   "source": [
    "## Summary\n",
    "The gridded default simulation more closely resembles the observations for the Irene event in the upstream catchment than the NWM default simulation.  The differences are wrapped up in several aspects: \n",
    "1. The geogrids for NWM and gridded are different, resulting in differences in some default geogrid parameters\n",
    "2. Fundamental differences in channel physics\n",
    "3. NWM undergoes a mapping process to transfer fluxes between the grids to the vector network (the spatial weights), whereas the gridded configuration has a 1:1 mapping. "
   ]
  },
  {
   "cell_type": "markdown",
   "metadata": {},
   "source": [
    "### If time permits...\n",
    "View the *CHANNELGRID* variable from each `Fulldom_hires.nc` file for the NWM and Gridded domains using xarray.\n",
    "\n",
    "Note the differences and be ready to discuss."
   ]
  },
  {
   "cell_type": "markdown",
   "metadata": {},
   "source": [
    "# Congratulations!\n",
    "This concludes lesson 7, our last hands on experiment.  \n",
    "\n",
    "© UCAR 2020"
   ]
  }
 ],
 "metadata": {
  "kernelspec": {
   "display_name": "Python 3",
   "language": "python",
   "name": "python3"
  },
  "language_info": {
   "codemirror_mode": {
    "name": "ipython",
    "version": 3
   },
   "file_extension": ".py",
   "mimetype": "text/x-python",
   "name": "python",
   "nbconvert_exporter": "python",
   "pygments_lexer": "ipython3",
   "version": "3.8.3"
  },
  "toc": {
   "base_numbering": 1,
   "nav_menu": {},
   "number_sections": true,
   "sideBar": true,
   "skip_h1_title": true,
   "title_cell": "Table of Contents",
   "title_sidebar": "Contents",
   "toc_cell": true,
   "toc_position": {
    "height": "calc(100% - 180px)",
    "left": "10px",
    "top": "150px",
    "width": "414px"
   },
   "toc_section_display": true,
   "toc_window_display": true
  }
 },
 "nbformat": 4,
 "nbformat_minor": 4
}
